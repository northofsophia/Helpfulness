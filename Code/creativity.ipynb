{
  "nbformat": 4,
  "nbformat_minor": 0,
  "metadata": {
    "colab": {
      "provenance": []
    },
    "kernelspec": {
      "name": "python3",
      "display_name": "Python 3"
    },
    "language_info": {
      "name": "python"
    }
  },
  "cells": [
    {
      "cell_type": "code",
      "source": [
        "!pip install -q condacolab\n",
        "import condacolab\n",
        "condacolab.install()"
      ],
      "metadata": {
        "colab": {
          "base_uri": "https://localhost:8080/"
        },
        "id": "6lrweXmu8Adx",
        "outputId": "546cdffc-017d-4f0c-95b1-d195283e1fe4"
      },
      "execution_count": 14,
      "outputs": [
        {
          "output_type": "stream",
          "name": "stdout",
          "text": [
            "⏬ Downloading https://github.com/jaimergp/miniforge/releases/download/24.11.2-1_colab/Miniforge3-colab-24.11.2-1_colab-Linux-x86_64.sh...\n",
            "📦 Installing...\n",
            "📌 Adjusting configuration...\n",
            "🩹 Patching environment...\n",
            "⏲ Done in 0:00:14\n",
            "🔁 Restarting kernel...\n"
          ]
        }
      ]
    },
    {
      "cell_type": "markdown",
      "source": [],
      "metadata": {
        "id": "FPIOmWOFUoI4"
      }
    },
    {
      "cell_type": "code",
      "source": [
        "!wget https://cs.stanford.edu/~minalee/zip/chi2022-coauthor-v1.0.zip\n",
        "!unzip -q chi2022-coauthor-v1.0.zip\n",
        "!rm chi2022-coauthor-v1.0.zip\n",
        "!unzip -q creativity_index-main.zip"
      ],
      "metadata": {
        "colab": {
          "base_uri": "https://localhost:8080/"
        },
        "id": "bReaaqvD8AZD",
        "outputId": "fe3023eb-a4be-48f2-b3ca-1b6d1e4de75d"
      },
      "execution_count": 1,
      "outputs": [
        {
          "output_type": "stream",
          "name": "stdout",
          "text": [
            "--2025-02-25 20:17:19--  https://cs.stanford.edu/~minalee/zip/chi2022-coauthor-v1.0.zip\n",
            "Resolving cs.stanford.edu (cs.stanford.edu)... 171.64.64.64\n",
            "Connecting to cs.stanford.edu (cs.stanford.edu)|171.64.64.64|:443... connected.\n",
            "HTTP request sent, awaiting response... 200 OK\n",
            "Length: 49956179 (48M) [application/zip]\n",
            "Saving to: ‘chi2022-coauthor-v1.0.zip’\n",
            "\n",
            "chi2022-coauthor-v1 100%[===================>]  47.64M  2.22MB/s    in 17s     \n",
            "\n",
            "2025-02-25 20:17:36 (2.88 MB/s) - ‘chi2022-coauthor-v1.0.zip’ saved [49956179/49956179]\n",
            "\n",
            "replace coauthor-v1.0/e0435f4cf6fc435c872ffc5b66b66b0c.jsonl? [y]es, [n]o, [A]ll, [N]one, [r]ename: "
          ]
        }
      ]
    },
    {
      "cell_type": "code",
      "source": [
        "!unzip -q creativity_index-main.zip"
      ],
      "metadata": {
        "id": "pNo6kA85wyi7"
      },
      "execution_count": 3,
      "outputs": []
    },
    {
      "cell_type": "markdown",
      "source": [
        "Coauthor cleanup"
      ],
      "metadata": {
        "id": "uUG9YyrXyqnT"
      }
    },
    {
      "cell_type": "code",
      "source": [
        "import os\n",
        "\n",
        "dataset_dir = './coauthor-v1.0'\n",
        "paths = [\n",
        "    os.path.join(dataset_dir, path)\n",
        "    for path in os.listdir(dataset_dir)\n",
        "    if path.endswith('jsonl')\n",
        "]\n",
        "\n",
        "print(f'Successfully downloaded {len(paths)} writing sessions in CoAuthor!')"
      ],
      "metadata": {
        "colab": {
          "base_uri": "https://localhost:8080/"
        },
        "id": "Zf5VQjsGyRZi",
        "outputId": "9b356730-ca91-4735-81bf-9cad9a98cc24"
      },
      "execution_count": 4,
      "outputs": [
        {
          "output_type": "stream",
          "name": "stdout",
          "text": [
            "Successfully downloaded 1447 writing sessions in CoAuthor!\n"
          ]
        }
      ]
    },
    {
      "cell_type": "code",
      "source": [
        "import json\n",
        "\n",
        "def read_writing_session(path):\n",
        "    events = []\n",
        "    with open(path, 'r') as f:\n",
        "        for event in f:\n",
        "            events.append(json.loads(event))\n",
        "    print(f'Successfully read {len(events)} events in a writing session from {path}')\n",
        "    return events"
      ],
      "metadata": {
        "id": "kErpF_qXyqS0"
      },
      "execution_count": 5,
      "outputs": []
    },
    {
      "cell_type": "code",
      "source": [
        "events = read_writing_session(paths[0])"
      ],
      "metadata": {
        "colab": {
          "base_uri": "https://localhost:8080/"
        },
        "id": "eRF1RhwpzBgG",
        "outputId": "dfbdab44-08e2-400b-ec2e-dfc23d552bcf"
      },
      "execution_count": 6,
      "outputs": [
        {
          "output_type": "stream",
          "name": "stdout",
          "text": [
            "Successfully read 1238 events in a writing session from ./coauthor-v1.0/9614fb65fa5146549e303e13586a947b.jsonl\n"
          ]
        }
      ]
    },
    {
      "cell_type": "code",
      "source": [
        "from collections import defaultdict\n",
        "\n",
        "def reconstruct_user_text(events):\n",
        "    user_texts = []\n",
        "    current_text = \"\"\n",
        "\n",
        "    # Sort events by eventNum\n",
        "    sorted_events = sorted(events, key=lambda e: e[\"eventNum\"])\n",
        "\n",
        "    for event in sorted_events:\n",
        "        event_type = event[\"eventName\"]\n",
        "        text_delta = event[\"textDelta\"]\n",
        "\n",
        "        if event_type == \"text-insert\" and text_delta:\n",
        "            extracted_text = \"\"\n",
        "            for op in text_delta['ops']:\n",
        "                if 'insert' in op:\n",
        "                    extracted_text += op['insert']\n",
        "            current_text += extracted_text\n",
        "\n",
        "        elif event_type == \"text-delete\" and text_delta:\n",
        "            delete_len = 0\n",
        "            for op in text_delta['ops']:\n",
        "                if 'delete' in op:\n",
        "                    delete_len += op['delete']\n",
        "                elif 'retain' in op:\n",
        "                    pass\n",
        "            current_text = current_text[:-delete_len]\n",
        "\n",
        "\n",
        "        # Store finalized text if user completes a thought\n",
        "        if event_type == \"suggestion-get\" or event_type == \"suggestion-select\":\n",
        "            if current_text.strip():\n",
        "                user_texts.append(current_text.strip())\n",
        "                current_text = \"\"\n",
        "\n",
        "    return user_texts\n",
        "\n",
        "# Process all valid events\n",
        "user_texts = reconstruct_user_text(events)\n",
        "\n",
        "print(f\"Total reconstructed user-written sentences: {len(user_texts)}\")\n",
        "print(\"Example user-written sentence:\", user_texts)  # Show first 3 examples"
      ],
      "metadata": {
        "colab": {
          "base_uri": "https://localhost:8080/"
        },
        "id": "AgwhyCzczN7e",
        "outputId": "fec738e0-4611-46b2-8b6b-b88d25fa89e4"
      },
      "execution_count": 7,
      "outputs": [
        {
          "output_type": "stream",
          "name": "stdout",
          "text": [
            "Total reconstructed user-written sentences: 3\n",
            "Example user-written sentence: ['college athletes should be paid over and above their scholorships.aThey should be paid a percentage of ticket sales. I do not agree that the broader community would be harmed. This is real life. Times change. It is fair that if the college makes a great sum of income, that some of it go to the players. Colleges in bidding wars? They do that anyway, but without money. They bid for the best. The athletes would receive no compensation until they graduate, again, which would be a percentage of tickets sold. \\n\\nIf colleges did not profit on their athletes, then no, they should not be paid. I think this is the best solution of all. This way, anyone can go to a game that they might not have otherwise been able to afford.', 'Having good sports is a boon to the colleges. They get televised or broadcasted which increases brand awareness. There are some thin, creating good will in the community.s that are hard to measure, like how much exposure they get and what it is worth.', 'es']\n"
          ]
        }
      ]
    },
    {
      "cell_type": "code",
      "source": [
        "def extract_selected_ai_suggestions(events):\n",
        "    ai_suggestions = []  # Stores accepted AI-generated suggestions\n",
        "    last_suggestion_open = None  # Store the most recent `suggestion-open` event\n",
        "\n",
        "    for event in events:\n",
        "        if event[\"eventName\"] == \"suggestion-open\" and event.get(\"currentSuggestions\"):\n",
        "            last_suggestion_open = event  # Save latest `suggestion-open` event\n",
        "\n",
        "        elif event[\"eventName\"] == \"suggestion-select\":\n",
        "            if last_suggestion_open and last_suggestion_open.get(\"currentSuggestions\"):\n",
        "                selected_index = event.get(\"currentSuggestionIndex\", -1)\n",
        "\n",
        "                # Ensure selected index is valid\n",
        "                if 0 <= selected_index < len(last_suggestion_open[\"currentSuggestions\"]):\n",
        "                    selected_suggestion = last_suggestion_open[\"currentSuggestions\"][selected_index][\"trimmed\"]\n",
        "                    ai_suggestions.append(selected_suggestion)\n",
        "\n",
        "    return ai_suggestions\n",
        "\n",
        "# Process all valid events\n",
        "ai_suggestions = extract_selected_ai_suggestions(events)\n",
        "\n",
        "print(f\"Total AI Suggestions Accepted: {len(ai_suggestions)}\")\n",
        "print(\"Example AI Suggestion:\", ai_suggestions[:3])  # Show first 3 examples\n"
      ],
      "metadata": {
        "colab": {
          "base_uri": "https://localhost:8080/"
        },
        "id": "W9r_hOwAzWH3",
        "outputId": "2fd22f90-02fa-402f-d919-41b790a1494d"
      },
      "execution_count": 8,
      "outputs": [
        {
          "output_type": "stream",
          "name": "stdout",
          "text": [
            "Total AI Suggestions Accepted: 1\n",
            "Example AI Suggestion: ['college athletes should be paid.']\n"
          ]
        }
      ]
    },
    {
      "cell_type": "code",
      "source": [
        "def extract_acceptance_status(events):\n",
        "    \"\"\"Track if a suggestion was accepted or rejected.\"\"\"\n",
        "    acceptance_status = []  # Stores 'accepted' or 'rejected'\n",
        "    last_suggestion_open = None  # Store the most recent `suggestion-open`\n",
        "\n",
        "    for event in events:\n",
        "        if event[\"eventName\"] == \"suggestion-open\" and event.get(\"currentSuggestions\"):\n",
        "            last_suggestion_open = event  # Save the latest `suggestion-open`\n",
        "\n",
        "        elif event[\"eventName\"] == \"suggestion-select\" and last_suggestion_open:\n",
        "            # Suggestion selected\n",
        "            acceptance_status.append('accepted')\n",
        "            last_suggestion_open = None  # Reset, since we handled the acceptance\n",
        "\n",
        "        elif event[\"eventName\"] == \"suggestion-close\" and last_suggestion_open:\n",
        "            # Suggestion closed without selection (rejected)\n",
        "            acceptance_status.append('rejected')\n",
        "            last_suggestion_open = None  # Reset, since we handled the rejection\n",
        "\n",
        "    return acceptance_status"
      ],
      "metadata": {
        "id": "KDdGG4Inzbv9"
      },
      "execution_count": 9,
      "outputs": []
    },
    {
      "cell_type": "code",
      "source": [
        "import pandas as pd\n",
        "\n",
        "jsd_results = []\n",
        "small = paths[100:110]\n",
        "\n",
        "def extract_acceptance_status(events):\n",
        "    \"\"\"Track if a suggestion was accepted or rejected.\"\"\"\n",
        "    acceptance_status = []  # Stores 'accepted' or 'rejected'\n",
        "    last_suggestion_open = None  # Store the most recent `suggestion-open`\n",
        "\n",
        "    for event in events:\n",
        "        if event[\"eventName\"] == \"suggestion-open\" and event.get(\"currentSuggestions\"):\n",
        "            last_suggestion_open = event  # Save the latest `suggestion-open`\n",
        "\n",
        "        elif event[\"eventName\"] == \"suggestion-select\" and last_suggestion_open:\n",
        "            # Suggestion selected\n",
        "            acceptance_status.append('accepted')\n",
        "            last_suggestion_open = None  # Reset, since we handled the acceptance\n",
        "\n",
        "        elif event[\"eventName\"] == \"suggestion-close\" and last_suggestion_open:\n",
        "            # Suggestion closed without selection (rejected)\n",
        "            acceptance_status.append('rejected')\n",
        "            last_suggestion_open = None  # Reset, since we handled the rejection\n",
        "\n",
        "    return acceptance_status"
      ],
      "metadata": {
        "id": "NPClzrL6zwHN"
      },
      "execution_count": 10,
      "outputs": []
    },
    {
      "cell_type": "code",
      "execution_count": null,
      "metadata": {
        "id": "WQ2lWfSQuYoG"
      },
      "outputs": [],
      "source": [
        "!conda env create -f environment_infini.yml\n",
        "!conda env create -f environment_vllm.yml"
      ]
    },
    {
      "cell_type": "markdown",
      "source": [
        "Anil R. Doshi, Oliver P. Hauser ,Generative AI enhances individual creativity but reduces the collective diversity of novel content.Sci. Adv.10,eadn5290(2024).DOI:10.1126/sciadv.adn5290\n",
        "\n",
        "\n",
        "Doshi and Hauser didn’t present a single “magic‐formula” but rather defined creativity as a combination of two dimensions—novelty and usefulness—each measured by averaging three constituent ratings. In their study:\n",
        "\n",
        "- The **novelty index** is computed as the mean of ratings on:\n",
        "  - **Novelty**\n",
        "  - **Originality**\n",
        "  - **Rarity**\n",
        "\n",
        "- The **usefulness index** is computed as the mean of ratings on:\n",
        "  - **Appropriateness** (for the target audience)\n",
        "  - **Feasibility** (of further development)\n",
        "  - **Publishability** (likelihood a publisher would take it on)\n",
        "\n",
        "Usefulness is fully captured in the other features of helpfulness.\n",
        "\n",
        "Inputs and Data: AI-Suggested Text (Candidate)\n",
        "\n",
        "𝑥: The newly generated text from the AI model.\n",
        "\n",
        "Context Text\n",
        "\n",
        "𝑐: The preceding user text, conversation history, or story background. Used to measure appropriateness and novelty relative to context.\n",
        "\n",
        "Reference Corpus\n",
        "\n",
        "A large dataset representing “generic” writing or domain-specific text. Used to measure how common or rare certain phrases, syntactic patterns, or ideas are.\n"
      ],
      "metadata": {
        "id": "EHGsLdF9ugYz"
      }
    },
    {
      "cell_type": "code",
      "source": [
        "!pip install transformers\n",
        "!pip install sacremoses\n",
        "!pip install numpy\n",
        "!pip install --upgrade pytorch\n",
        "!pip install --upgrade tensorflow\n",
        "!pip install nltk"
      ],
      "metadata": {
        "colab": {
          "base_uri": "https://localhost:8080/",
          "height": 1000
        },
        "id": "r4W869-b8097",
        "outputId": "04a5652a-2218-4a3b-8372-a4b5aec5c13f"
      },
      "execution_count": 7,
      "outputs": [
        {
          "output_type": "stream",
          "name": "stdout",
          "text": [
            "Collecting transformers\n",
            "  Downloading transformers-4.49.0-py3-none-any.whl.metadata (44 kB)\n",
            "Collecting filelock (from transformers)\n",
            "  Downloading filelock-3.17.0-py3-none-any.whl.metadata (2.9 kB)\n",
            "Collecting huggingface-hub<1.0,>=0.26.0 (from transformers)\n",
            "  Downloading huggingface_hub-0.29.1-py3-none-any.whl.metadata (13 kB)\n",
            "Collecting numpy>=1.17 (from transformers)\n",
            "  Downloading numpy-2.2.3-cp311-cp311-manylinux_2_17_x86_64.manylinux2014_x86_64.whl.metadata (62 kB)\n",
            "Requirement already satisfied: packaging>=20.0 in /usr/local/lib/python3.11/site-packages (from transformers) (24.2)\n",
            "Collecting pyyaml>=5.1 (from transformers)\n",
            "  Downloading PyYAML-6.0.2-cp311-cp311-manylinux_2_17_x86_64.manylinux2014_x86_64.whl.metadata (2.1 kB)\n",
            "Collecting regex!=2019.12.17 (from transformers)\n",
            "  Downloading regex-2024.11.6-cp311-cp311-manylinux_2_17_x86_64.manylinux2014_x86_64.whl.metadata (40 kB)\n",
            "Requirement already satisfied: requests in /usr/local/lib/python3.11/site-packages (from transformers) (2.32.3)\n",
            "Collecting tokenizers<0.22,>=0.21 (from transformers)\n",
            "  Downloading tokenizers-0.21.0-cp39-abi3-manylinux_2_17_x86_64.manylinux2014_x86_64.whl.metadata (6.7 kB)\n",
            "Collecting safetensors>=0.4.1 (from transformers)\n",
            "  Downloading safetensors-0.5.2-cp38-abi3-manylinux_2_17_x86_64.manylinux2014_x86_64.whl.metadata (3.8 kB)\n",
            "Requirement already satisfied: tqdm>=4.27 in /usr/local/lib/python3.11/site-packages (from transformers) (4.67.1)\n",
            "Collecting fsspec>=2023.5.0 (from huggingface-hub<1.0,>=0.26.0->transformers)\n",
            "  Downloading fsspec-2025.2.0-py3-none-any.whl.metadata (11 kB)\n",
            "Collecting typing-extensions>=3.7.4.3 (from huggingface-hub<1.0,>=0.26.0->transformers)\n",
            "  Using cached typing_extensions-4.12.2-py3-none-any.whl.metadata (3.0 kB)\n",
            "Requirement already satisfied: charset_normalizer<4,>=2 in /usr/local/lib/python3.11/site-packages (from requests->transformers) (3.4.1)\n",
            "Requirement already satisfied: idna<4,>=2.5 in /usr/local/lib/python3.11/site-packages (from requests->transformers) (3.10)\n",
            "Requirement already satisfied: urllib3<3,>=1.21.1 in /usr/local/lib/python3.11/site-packages (from requests->transformers) (2.3.0)\n",
            "Requirement already satisfied: certifi>=2017.4.17 in /usr/local/lib/python3.11/site-packages (from requests->transformers) (2024.12.14)\n",
            "Downloading transformers-4.49.0-py3-none-any.whl (10.0 MB)\n",
            "\u001b[2K   \u001b[90m━━━━━━━━━━━━━━━━━━━━━━━━━━━━━━━━━━━━━━━━\u001b[0m \u001b[32m10.0/10.0 MB\u001b[0m \u001b[31m62.4 MB/s\u001b[0m eta \u001b[36m0:00:00\u001b[0m\n",
            "\u001b[?25hDownloading huggingface_hub-0.29.1-py3-none-any.whl (468 kB)\n",
            "Downloading numpy-2.2.3-cp311-cp311-manylinux_2_17_x86_64.manylinux2014_x86_64.whl (16.4 MB)\n",
            "\u001b[2K   \u001b[90m━━━━━━━━━━━━━━━━━━━━━━━━━━━━━━━━━━━━━━━━\u001b[0m \u001b[32m16.4/16.4 MB\u001b[0m \u001b[31m89.7 MB/s\u001b[0m eta \u001b[36m0:00:00\u001b[0m\n",
            "\u001b[?25hDownloading PyYAML-6.0.2-cp311-cp311-manylinux_2_17_x86_64.manylinux2014_x86_64.whl (762 kB)\n",
            "\u001b[2K   \u001b[90m━━━━━━━━━━━━━━━━━━━━━━━━━━━━━━━━━━━━━━━━\u001b[0m \u001b[32m763.0/763.0 kB\u001b[0m \u001b[31m32.2 MB/s\u001b[0m eta \u001b[36m0:00:00\u001b[0m\n",
            "\u001b[?25hDownloading regex-2024.11.6-cp311-cp311-manylinux_2_17_x86_64.manylinux2014_x86_64.whl (792 kB)\n",
            "\u001b[2K   \u001b[90m━━━━━━━━━━━━━━━━━━━━━━━━━━━━━━━━━━━━━━━━\u001b[0m \u001b[32m792.7/792.7 kB\u001b[0m \u001b[31m38.3 MB/s\u001b[0m eta \u001b[36m0:00:00\u001b[0m\n",
            "\u001b[?25hDownloading safetensors-0.5.2-cp38-abi3-manylinux_2_17_x86_64.manylinux2014_x86_64.whl (461 kB)\n",
            "Downloading tokenizers-0.21.0-cp39-abi3-manylinux_2_17_x86_64.manylinux2014_x86_64.whl (3.0 MB)\n",
            "\u001b[2K   \u001b[90m━━━━━━━━━━━━━━━━━━━━━━━━━━━━━━━━━━━━━━━━\u001b[0m \u001b[32m3.0/3.0 MB\u001b[0m \u001b[31m83.9 MB/s\u001b[0m eta \u001b[36m0:00:00\u001b[0m\n",
            "\u001b[?25hDownloading filelock-3.17.0-py3-none-any.whl (16 kB)\n",
            "Downloading fsspec-2025.2.0-py3-none-any.whl (184 kB)\n",
            "Downloading typing_extensions-4.12.2-py3-none-any.whl (37 kB)\n",
            "Installing collected packages: typing-extensions, safetensors, regex, pyyaml, numpy, fsspec, filelock, huggingface-hub, tokenizers, transformers\n",
            "Successfully installed filelock-3.17.0 fsspec-2025.2.0 huggingface-hub-0.29.1 numpy-2.2.3 pyyaml-6.0.2 regex-2024.11.6 safetensors-0.5.2 tokenizers-0.21.0 transformers-4.49.0 typing-extensions-4.12.2\n",
            "Collecting sacremoses\n",
            "  Downloading sacremoses-0.1.1-py3-none-any.whl.metadata (8.3 kB)\n",
            "Requirement already satisfied: regex in /usr/local/lib/python3.11/site-packages (from sacremoses) (2024.11.6)\n",
            "Collecting click (from sacremoses)\n",
            "  Downloading click-8.1.8-py3-none-any.whl.metadata (2.3 kB)\n",
            "Collecting joblib (from sacremoses)\n",
            "  Using cached joblib-1.4.2-py3-none-any.whl.metadata (5.4 kB)\n",
            "Requirement already satisfied: tqdm in /usr/local/lib/python3.11/site-packages (from sacremoses) (4.67.1)\n",
            "Downloading sacremoses-0.1.1-py3-none-any.whl (897 kB)\n",
            "\u001b[2K   \u001b[90m━━━━━━━━━━━━━━━━━━━━━━━━━━━━━━━━━━━━━━━━\u001b[0m \u001b[32m897.5/897.5 kB\u001b[0m \u001b[31m34.8 MB/s\u001b[0m eta \u001b[36m0:00:00\u001b[0m\n",
            "\u001b[?25hDownloading click-8.1.8-py3-none-any.whl (98 kB)\n",
            "Downloading joblib-1.4.2-py3-none-any.whl (301 kB)\n",
            "Installing collected packages: joblib, click, sacremoses\n",
            "Successfully installed click-8.1.8 joblib-1.4.2 sacremoses-0.1.1\n",
            "Requirement already satisfied: numpy in /usr/local/lib/python3.11/site-packages (2.2.3)\n",
            "Collecting pytorch\n",
            "  Downloading pytorch-1.0.2.tar.gz (689 bytes)\n",
            "  Preparing metadata (setup.py) ... \u001b[?25l\u001b[?25hdone\n",
            "Building wheels for collected packages: pytorch\n",
            "  \u001b[1;31merror\u001b[0m: \u001b[1msubprocess-exited-with-error\u001b[0m\n",
            "  \n",
            "  \u001b[31m×\u001b[0m \u001b[32mpython setup.py bdist_wheel\u001b[0m did not run successfully.\n",
            "  \u001b[31m│\u001b[0m exit code: \u001b[1;36m1\u001b[0m\n",
            "  \u001b[31m╰─>\u001b[0m See above for output.\n",
            "  \n",
            "  \u001b[1;35mnote\u001b[0m: This error originates from a subprocess, and is likely not a problem with pip.\n",
            "  Building wheel for pytorch (setup.py) ... \u001b[?25lerror\n",
            "\u001b[31m  ERROR: Failed building wheel for pytorch\u001b[0m\u001b[31m\n",
            "\u001b[0m\u001b[?25h  Running setup.py clean for pytorch\n",
            "Failed to build pytorch\n",
            "\u001b[31mERROR: ERROR: Failed to build installable wheels for some pyproject.toml based projects (pytorch)\u001b[0m\u001b[31m\n",
            "\u001b[0mCollecting tensorflow\n",
            "  Downloading tensorflow-2.18.0-cp311-cp311-manylinux_2_17_x86_64.manylinux2014_x86_64.whl.metadata (4.1 kB)\n",
            "Collecting absl-py>=1.0.0 (from tensorflow)\n",
            "  Downloading absl_py-2.1.0-py3-none-any.whl.metadata (2.3 kB)\n",
            "Collecting astunparse>=1.6.0 (from tensorflow)\n",
            "  Downloading astunparse-1.6.3-py2.py3-none-any.whl.metadata (4.4 kB)\n",
            "Collecting flatbuffers>=24.3.25 (from tensorflow)\n",
            "  Downloading flatbuffers-25.2.10-py2.py3-none-any.whl.metadata (875 bytes)\n",
            "Collecting gast!=0.5.0,!=0.5.1,!=0.5.2,>=0.2.1 (from tensorflow)\n",
            "  Downloading gast-0.6.0-py3-none-any.whl.metadata (1.3 kB)\n",
            "Collecting google-pasta>=0.1.1 (from tensorflow)\n",
            "  Downloading google_pasta-0.2.0-py3-none-any.whl.metadata (814 bytes)\n",
            "Collecting libclang>=13.0.0 (from tensorflow)\n",
            "  Downloading libclang-18.1.1-py2.py3-none-manylinux2010_x86_64.whl.metadata (5.2 kB)\n",
            "Collecting opt-einsum>=2.3.2 (from tensorflow)\n",
            "  Downloading opt_einsum-3.4.0-py3-none-any.whl.metadata (6.3 kB)\n",
            "Requirement already satisfied: packaging in /usr/local/lib/python3.11/site-packages (from tensorflow) (24.2)\n",
            "Collecting protobuf!=4.21.0,!=4.21.1,!=4.21.2,!=4.21.3,!=4.21.4,!=4.21.5,<6.0.0dev,>=3.20.3 (from tensorflow)\n",
            "  Downloading protobuf-5.29.3-cp38-abi3-manylinux2014_x86_64.whl.metadata (592 bytes)\n",
            "Requirement already satisfied: requests<3,>=2.21.0 in /usr/local/lib/python3.11/site-packages (from tensorflow) (2.32.3)\n",
            "Requirement already satisfied: setuptools in /usr/local/lib/python3.11/site-packages (from tensorflow) (65.6.3)\n",
            "Collecting six>=1.12.0 (from tensorflow)\n",
            "  Downloading six-1.17.0-py2.py3-none-any.whl.metadata (1.7 kB)\n",
            "Collecting termcolor>=1.1.0 (from tensorflow)\n",
            "  Using cached termcolor-2.5.0-py3-none-any.whl.metadata (6.1 kB)\n",
            "Requirement already satisfied: typing-extensions>=3.6.6 in /usr/local/lib/python3.11/site-packages (from tensorflow) (4.12.2)\n",
            "Collecting wrapt>=1.11.0 (from tensorflow)\n",
            "  Downloading wrapt-1.17.2-cp311-cp311-manylinux_2_5_x86_64.manylinux1_x86_64.manylinux_2_17_x86_64.manylinux2014_x86_64.whl.metadata (6.4 kB)\n",
            "Collecting grpcio<2.0,>=1.24.3 (from tensorflow)\n",
            "  Downloading grpcio-1.70.0-cp311-cp311-manylinux_2_17_x86_64.manylinux2014_x86_64.whl.metadata (3.9 kB)\n",
            "Collecting tensorboard<2.19,>=2.18 (from tensorflow)\n",
            "  Downloading tensorboard-2.18.0-py3-none-any.whl.metadata (1.6 kB)\n",
            "Collecting keras>=3.5.0 (from tensorflow)\n",
            "  Downloading keras-3.8.0-py3-none-any.whl.metadata (5.8 kB)\n",
            "Collecting numpy<2.1.0,>=1.26.0 (from tensorflow)\n",
            "  Downloading numpy-2.0.2-cp311-cp311-manylinux_2_17_x86_64.manylinux2014_x86_64.whl.metadata (60 kB)\n",
            "Collecting h5py>=3.11.0 (from tensorflow)\n",
            "  Downloading h5py-3.13.0-cp311-cp311-manylinux_2_17_x86_64.manylinux2014_x86_64.whl.metadata (2.5 kB)\n",
            "Collecting ml-dtypes<0.5.0,>=0.4.0 (from tensorflow)\n",
            "  Downloading ml_dtypes-0.4.1-cp311-cp311-manylinux_2_17_x86_64.manylinux2014_x86_64.whl.metadata (20 kB)\n",
            "Collecting tensorflow-io-gcs-filesystem>=0.23.1 (from tensorflow)\n",
            "  Downloading tensorflow_io_gcs_filesystem-0.37.1-cp311-cp311-manylinux_2_17_x86_64.manylinux2014_x86_64.whl.metadata (14 kB)\n",
            "Requirement already satisfied: wheel<1.0,>=0.23.0 in /usr/local/lib/python3.11/site-packages (from astunparse>=1.6.0->tensorflow) (0.45.1)\n",
            "Collecting rich (from keras>=3.5.0->tensorflow)\n",
            "  Using cached rich-13.9.4-py3-none-any.whl.metadata (18 kB)\n",
            "Collecting namex (from keras>=3.5.0->tensorflow)\n",
            "  Downloading namex-0.0.8-py3-none-any.whl.metadata (246 bytes)\n",
            "Collecting optree (from keras>=3.5.0->tensorflow)\n",
            "  Downloading optree-0.14.0-cp311-cp311-manylinux_2_17_x86_64.manylinux2014_x86_64.whl.metadata (47 kB)\n",
            "Requirement already satisfied: charset_normalizer<4,>=2 in /usr/local/lib/python3.11/site-packages (from requests<3,>=2.21.0->tensorflow) (3.4.1)\n",
            "Requirement already satisfied: idna<4,>=2.5 in /usr/local/lib/python3.11/site-packages (from requests<3,>=2.21.0->tensorflow) (3.10)\n",
            "Requirement already satisfied: urllib3<3,>=1.21.1 in /usr/local/lib/python3.11/site-packages (from requests<3,>=2.21.0->tensorflow) (2.3.0)\n",
            "Requirement already satisfied: certifi>=2017.4.17 in /usr/local/lib/python3.11/site-packages (from requests<3,>=2.21.0->tensorflow) (2024.12.14)\n",
            "Collecting markdown>=2.6.8 (from tensorboard<2.19,>=2.18->tensorflow)\n",
            "  Downloading Markdown-3.7-py3-none-any.whl.metadata (7.0 kB)\n",
            "Collecting tensorboard-data-server<0.8.0,>=0.7.0 (from tensorboard<2.19,>=2.18->tensorflow)\n",
            "  Downloading tensorboard_data_server-0.7.2-py3-none-manylinux_2_31_x86_64.whl.metadata (1.1 kB)\n",
            "Collecting werkzeug>=1.0.1 (from tensorboard<2.19,>=2.18->tensorflow)\n",
            "  Downloading werkzeug-3.1.3-py3-none-any.whl.metadata (3.7 kB)\n",
            "Collecting MarkupSafe>=2.1.1 (from werkzeug>=1.0.1->tensorboard<2.19,>=2.18->tensorflow)\n",
            "  Downloading MarkupSafe-3.0.2-cp311-cp311-manylinux_2_17_x86_64.manylinux2014_x86_64.whl.metadata (4.0 kB)\n",
            "Collecting markdown-it-py>=2.2.0 (from rich->keras>=3.5.0->tensorflow)\n",
            "  Using cached markdown_it_py-3.0.0-py3-none-any.whl.metadata (6.9 kB)\n",
            "Collecting pygments<3.0.0,>=2.13.0 (from rich->keras>=3.5.0->tensorflow)\n",
            "  Downloading pygments-2.19.1-py3-none-any.whl.metadata (2.5 kB)\n",
            "Collecting mdurl~=0.1 (from markdown-it-py>=2.2.0->rich->keras>=3.5.0->tensorflow)\n",
            "  Using cached mdurl-0.1.2-py3-none-any.whl.metadata (1.6 kB)\n",
            "Downloading tensorflow-2.18.0-cp311-cp311-manylinux_2_17_x86_64.manylinux2014_x86_64.whl (615.4 MB)\n",
            "\u001b[2K   \u001b[90m━━━━━━━━━━━━━━━━━━━━━━━━━━━━━━━━━━━━━━━━\u001b[0m \u001b[32m615.4/615.4 MB\u001b[0m \u001b[31m46.8 MB/s\u001b[0m eta \u001b[36m0:00:00\u001b[0m\n",
            "\u001b[?25hDownloading absl_py-2.1.0-py3-none-any.whl (133 kB)\n",
            "Downloading astunparse-1.6.3-py2.py3-none-any.whl (12 kB)\n",
            "Downloading flatbuffers-25.2.10-py2.py3-none-any.whl (30 kB)\n",
            "Downloading gast-0.6.0-py3-none-any.whl (21 kB)\n",
            "Downloading google_pasta-0.2.0-py3-none-any.whl (57 kB)\n",
            "Downloading grpcio-1.70.0-cp311-cp311-manylinux_2_17_x86_64.manylinux2014_x86_64.whl (5.9 MB)\n",
            "\u001b[2K   \u001b[90m━━━━━━━━━━━━━━━━━━━━━━━━━━━━━━━━━━━━━━━━\u001b[0m \u001b[32m5.9/5.9 MB\u001b[0m \u001b[31m111.0 MB/s\u001b[0m eta \u001b[36m0:00:00\u001b[0m\n",
            "\u001b[?25hDownloading h5py-3.13.0-cp311-cp311-manylinux_2_17_x86_64.manylinux2014_x86_64.whl (4.5 MB)\n",
            "\u001b[2K   \u001b[90m━━━━━━━━━━━━━━━━━━━━━━━━━━━━━━━━━━━━━━━━\u001b[0m \u001b[32m4.5/4.5 MB\u001b[0m \u001b[31m96.3 MB/s\u001b[0m eta \u001b[36m0:00:00\u001b[0m\n",
            "\u001b[?25hDownloading keras-3.8.0-py3-none-any.whl (1.3 MB)\n",
            "\u001b[2K   \u001b[90m━━━━━━━━━━━━━━━━━━━━━━━━━━━━━━━━━━━━━━━━\u001b[0m \u001b[32m1.3/1.3 MB\u001b[0m \u001b[31m52.9 MB/s\u001b[0m eta \u001b[36m0:00:00\u001b[0m\n",
            "\u001b[?25hDownloading libclang-18.1.1-py2.py3-none-manylinux2010_x86_64.whl (24.5 MB)\n",
            "\u001b[2K   \u001b[90m━━━━━━━━━━━━━━━━━━━━━━━━━━━━━━━━━━━━━━━━\u001b[0m \u001b[32m24.5/24.5 MB\u001b[0m \u001b[31m142.1 MB/s\u001b[0m eta \u001b[36m0:00:00\u001b[0m\n",
            "\u001b[?25hDownloading ml_dtypes-0.4.1-cp311-cp311-manylinux_2_17_x86_64.manylinux2014_x86_64.whl (2.2 MB)\n",
            "\u001b[2K   \u001b[90m━━━━━━━━━━━━━━━━━━━━━━━━━━━━━━━━━━━━━━━━\u001b[0m \u001b[32m2.2/2.2 MB\u001b[0m \u001b[31m75.6 MB/s\u001b[0m eta \u001b[36m0:00:00\u001b[0m\n",
            "\u001b[?25hDownloading numpy-2.0.2-cp311-cp311-manylinux_2_17_x86_64.manylinux2014_x86_64.whl (19.5 MB)\n",
            "\u001b[2K   \u001b[90m━━━━━━━━━━━━━━━━━━━━━━━━━━━━━━━━━━━━━━━━\u001b[0m \u001b[32m19.5/19.5 MB\u001b[0m \u001b[31m136.9 MB/s\u001b[0m eta \u001b[36m0:00:00\u001b[0m\n",
            "\u001b[?25hDownloading opt_einsum-3.4.0-py3-none-any.whl (71 kB)\n",
            "Downloading protobuf-5.29.3-cp38-abi3-manylinux2014_x86_64.whl (319 kB)\n",
            "Downloading six-1.17.0-py2.py3-none-any.whl (11 kB)\n",
            "Downloading tensorboard-2.18.0-py3-none-any.whl (5.5 MB)\n",
            "\u001b[2K   \u001b[90m━━━━━━━━━━━━━━━━━━━━━━━━━━━━━━━━━━━━━━━━\u001b[0m \u001b[32m5.5/5.5 MB\u001b[0m \u001b[31m116.4 MB/s\u001b[0m eta \u001b[36m0:00:00\u001b[0m\n",
            "\u001b[?25hDownloading tensorflow_io_gcs_filesystem-0.37.1-cp311-cp311-manylinux_2_17_x86_64.manylinux2014_x86_64.whl (5.1 MB)\n",
            "\u001b[2K   \u001b[90m━━━━━━━━━━━━━━━━━━━━━━━━━━━━━━━━━━━━━━━━\u001b[0m \u001b[32m5.1/5.1 MB\u001b[0m \u001b[31m120.1 MB/s\u001b[0m eta \u001b[36m0:00:00\u001b[0m\n",
            "\u001b[?25hDownloading termcolor-2.5.0-py3-none-any.whl (7.8 kB)\n",
            "Downloading wrapt-1.17.2-cp311-cp311-manylinux_2_5_x86_64.manylinux1_x86_64.manylinux_2_17_x86_64.manylinux2014_x86_64.whl (83 kB)\n",
            "Downloading Markdown-3.7-py3-none-any.whl (106 kB)\n",
            "Downloading tensorboard_data_server-0.7.2-py3-none-manylinux_2_31_x86_64.whl (6.6 MB)\n",
            "\u001b[2K   \u001b[90m━━━━━━━━━━━━━━━━━━━━━━━━━━━━━━━━━━━━━━━━\u001b[0m \u001b[32m6.6/6.6 MB\u001b[0m \u001b[31m107.8 MB/s\u001b[0m eta \u001b[36m0:00:00\u001b[0m\n",
            "\u001b[?25hDownloading werkzeug-3.1.3-py3-none-any.whl (224 kB)\n",
            "Downloading namex-0.0.8-py3-none-any.whl (5.8 kB)\n",
            "Downloading optree-0.14.0-cp311-cp311-manylinux_2_17_x86_64.manylinux2014_x86_64.whl (405 kB)\n",
            "Downloading rich-13.9.4-py3-none-any.whl (242 kB)\n",
            "Downloading markdown_it_py-3.0.0-py3-none-any.whl (87 kB)\n",
            "Downloading MarkupSafe-3.0.2-cp311-cp311-manylinux_2_17_x86_64.manylinux2014_x86_64.whl (23 kB)\n",
            "Downloading pygments-2.19.1-py3-none-any.whl (1.2 MB)\n",
            "\u001b[2K   \u001b[90m━━━━━━━━━━━━━━━━━━━━━━━━━━━━━━━━━━━━━━━━\u001b[0m \u001b[32m1.2/1.2 MB\u001b[0m \u001b[31m57.9 MB/s\u001b[0m eta \u001b[36m0:00:00\u001b[0m\n",
            "\u001b[?25hDownloading mdurl-0.1.2-py3-none-any.whl (10.0 kB)\n",
            "Installing collected packages: namex, libclang, flatbuffers, wrapt, termcolor, tensorflow-io-gcs-filesystem, tensorboard-data-server, six, pygments, protobuf, optree, opt-einsum, numpy, mdurl, MarkupSafe, markdown, grpcio, gast, absl-py, werkzeug, ml-dtypes, markdown-it-py, h5py, google-pasta, astunparse, tensorboard, rich, keras, tensorflow\n",
            "  Attempting uninstall: numpy\n",
            "    Found existing installation: numpy 2.2.3\n",
            "    Uninstalling numpy-2.2.3:\n",
            "      Successfully uninstalled numpy-2.2.3\n",
            "Successfully installed MarkupSafe-3.0.2 absl-py-2.1.0 astunparse-1.6.3 flatbuffers-25.2.10 gast-0.6.0 google-pasta-0.2.0 grpcio-1.70.0 h5py-3.13.0 keras-3.8.0 libclang-18.1.1 markdown-3.7 markdown-it-py-3.0.0 mdurl-0.1.2 ml-dtypes-0.4.1 namex-0.0.8 numpy-2.0.2 opt-einsum-3.4.0 optree-0.14.0 protobuf-5.29.3 pygments-2.19.1 rich-13.9.4 six-1.17.0 tensorboard-2.18.0 tensorboard-data-server-0.7.2 tensorflow-2.18.0 tensorflow-io-gcs-filesystem-0.37.1 termcolor-2.5.0 werkzeug-3.1.3 wrapt-1.17.2\n"
          ]
        },
        {
          "output_type": "display_data",
          "data": {
            "application/vnd.colab-display-data+json": {
              "pip_warning": {
                "packages": [
                  "six"
                ]
              },
              "id": "26b78fff50214d33afeade0796d4fff4"
            }
          },
          "metadata": {}
        }
      ]
    },
    {
      "cell_type": "markdown",
      "source": [
        "To measure creativity, we'll break this down into two components.\n",
        "\n",
        "\n",
        "1.   Through `DJ_search_exact` by Lu et al. 2024 to find exact matches against a large corpus. We can get how much of the generated suggestions are directly \"non-creative.\" The output is a score from 0-1, 0 if no spans are found, 1 if all tokens up to the last relevant index are matched.\n",
        "2.   We introduce our self-made `Stylescore` to measure how stylistiscally \"creative\" the text really is. To achieve this, we will measure\n",
        "\n",
        "\n",
        "*   Syntactic complexity.\n",
        "*   Figurative or Descriptive Language use.\n",
        "\n",
        "\n",
        "\n",
        "\n",
        "\n"
      ],
      "metadata": {
        "id": "849by5e1Uybs"
      }
    },
    {
      "cell_type": "code",
      "source": [
        "!pip install nltk\n",
        "!conda init\n",
        "!conda activate infini-gram\n",
        "!python DJ_search_exact.py --task Human-book --data data/book/Human_book.json --output_dir outputs/book"
      ],
      "metadata": {
        "colab": {
          "base_uri": "https://localhost:8080/"
        },
        "id": "VShjlyAm9wy4",
        "outputId": "cd6c0c22-2ed4-44ea-e617-1ab77e555185"
      },
      "execution_count": 5,
      "outputs": [
        {
          "output_type": "stream",
          "name": "stdout",
          "text": [
            "no change     /usr/local/condabin/conda\n",
            "no change     /usr/local/bin/conda\n",
            "no change     /usr/local/bin/conda-env\n",
            "no change     /usr/local/bin/activate\n",
            "no change     /usr/local/bin/deactivate\n",
            "no change     /usr/local/etc/profile.d/conda.sh\n",
            "no change     /usr/local/etc/fish/conf.d/conda.fish\n",
            "no change     /usr/local/shell/condabin/Conda.psm1\n",
            "no change     /usr/local/shell/condabin/conda-hook.ps1\n",
            "no change     /usr/local/lib/python3.11/site-packages/xontrib/conda.xsh\n",
            "no change     /usr/local/etc/profile.d/conda.csh\n",
            "modified      /root/.bashrc\n",
            "\n",
            "==> For changes to take effect, close and re-open your current shell. <==\n",
            "\n",
            "\n",
            "CondaError: Run 'conda init' before 'conda activate'\n",
            "\n",
            "Traceback (most recent call last):\n",
            "  File \"/content/DJ_search_exact.py\", line 2, in <module>\n",
            "    import nltk\n",
            "ModuleNotFoundError: No module named 'nltk'\n"
          ]
        }
      ]
    },
    {
      "cell_type": "code",
      "source": [
        "!pip install spacy\n",
        "!python -m spacy download en_core_web_sm\n"
      ],
      "metadata": {
        "colab": {
          "base_uri": "https://localhost:8080/"
        },
        "id": "aI-EJpE_md-a",
        "outputId": "007ef397-83b5-4626-a74a-6737deb02bdc"
      },
      "execution_count": 12,
      "outputs": [
        {
          "output_type": "stream",
          "name": "stdout",
          "text": [
            "Collecting spacy\n",
            "  Downloading spacy-3.8.4-cp311-cp311-manylinux_2_17_x86_64.manylinux2014_x86_64.whl.metadata (27 kB)\n",
            "Collecting spacy-legacy<3.1.0,>=3.0.11 (from spacy)\n",
            "  Downloading spacy_legacy-3.0.12-py2.py3-none-any.whl.metadata (2.8 kB)\n",
            "Collecting spacy-loggers<2.0.0,>=1.0.0 (from spacy)\n",
            "  Downloading spacy_loggers-1.0.5-py3-none-any.whl.metadata (23 kB)\n",
            "Collecting murmurhash<1.1.0,>=0.28.0 (from spacy)\n",
            "  Downloading murmurhash-1.0.12-cp311-cp311-manylinux_2_5_x86_64.manylinux1_x86_64.manylinux_2_17_x86_64.manylinux2014_x86_64.whl.metadata (2.1 kB)\n",
            "Collecting cymem<2.1.0,>=2.0.2 (from spacy)\n",
            "  Downloading cymem-2.0.11-cp311-cp311-manylinux_2_17_x86_64.manylinux2014_x86_64.whl.metadata (8.5 kB)\n",
            "Collecting preshed<3.1.0,>=3.0.2 (from spacy)\n",
            "  Downloading preshed-3.0.9-cp311-cp311-manylinux_2_5_x86_64.manylinux1_x86_64.manylinux_2_17_x86_64.manylinux2014_x86_64.whl.metadata (2.2 kB)\n",
            "Collecting thinc<8.4.0,>=8.3.4 (from spacy)\n",
            "  Downloading thinc-8.3.4-cp311-cp311-manylinux_2_17_x86_64.manylinux2014_x86_64.whl.metadata (15 kB)\n",
            "Collecting wasabi<1.2.0,>=0.9.1 (from spacy)\n",
            "  Downloading wasabi-1.1.3-py3-none-any.whl.metadata (28 kB)\n",
            "Collecting srsly<3.0.0,>=2.4.3 (from spacy)\n",
            "  Downloading srsly-2.5.1-cp311-cp311-manylinux_2_17_x86_64.manylinux2014_x86_64.whl.metadata (19 kB)\n",
            "Collecting catalogue<2.1.0,>=2.0.6 (from spacy)\n",
            "  Downloading catalogue-2.0.10-py3-none-any.whl.metadata (14 kB)\n",
            "Collecting weasel<0.5.0,>=0.1.0 (from spacy)\n",
            "  Downloading weasel-0.4.1-py3-none-any.whl.metadata (4.6 kB)\n",
            "Collecting typer<1.0.0,>=0.3.0 (from spacy)\n",
            "  Downloading typer-0.15.1-py3-none-any.whl.metadata (15 kB)\n",
            "Requirement already satisfied: tqdm<5.0.0,>=4.38.0 in /usr/local/lib/python3.11/site-packages (from spacy) (4.67.1)\n",
            "Requirement already satisfied: numpy>=1.19.0 in /usr/local/lib/python3.11/site-packages (from spacy) (2.0.2)\n",
            "Requirement already satisfied: requests<3.0.0,>=2.13.0 in /usr/local/lib/python3.11/site-packages (from spacy) (2.32.3)\n",
            "Collecting pydantic!=1.8,!=1.8.1,<3.0.0,>=1.7.4 (from spacy)\n",
            "  Downloading pydantic-2.10.6-py3-none-any.whl.metadata (30 kB)\n",
            "Collecting jinja2 (from spacy)\n",
            "  Downloading jinja2-3.1.5-py3-none-any.whl.metadata (2.6 kB)\n",
            "Requirement already satisfied: setuptools in /usr/local/lib/python3.11/site-packages (from spacy) (65.6.3)\n",
            "Requirement already satisfied: packaging>=20.0 in /usr/local/lib/python3.11/site-packages (from spacy) (24.2)\n",
            "Collecting langcodes<4.0.0,>=3.2.0 (from spacy)\n",
            "  Downloading langcodes-3.5.0-py3-none-any.whl.metadata (29 kB)\n",
            "Collecting language-data>=1.2 (from langcodes<4.0.0,>=3.2.0->spacy)\n",
            "  Downloading language_data-1.3.0-py3-none-any.whl.metadata (4.3 kB)\n",
            "Collecting annotated-types>=0.6.0 (from pydantic!=1.8,!=1.8.1,<3.0.0,>=1.7.4->spacy)\n",
            "  Using cached annotated_types-0.7.0-py3-none-any.whl.metadata (15 kB)\n",
            "Collecting pydantic-core==2.27.2 (from pydantic!=1.8,!=1.8.1,<3.0.0,>=1.7.4->spacy)\n",
            "  Downloading pydantic_core-2.27.2-cp311-cp311-manylinux_2_17_x86_64.manylinux2014_x86_64.whl.metadata (6.6 kB)\n",
            "Requirement already satisfied: typing-extensions>=4.12.2 in /usr/local/lib/python3.11/site-packages (from pydantic!=1.8,!=1.8.1,<3.0.0,>=1.7.4->spacy) (4.12.2)\n",
            "Requirement already satisfied: charset_normalizer<4,>=2 in /usr/local/lib/python3.11/site-packages (from requests<3.0.0,>=2.13.0->spacy) (3.4.1)\n",
            "Requirement already satisfied: idna<4,>=2.5 in /usr/local/lib/python3.11/site-packages (from requests<3.0.0,>=2.13.0->spacy) (3.10)\n",
            "Requirement already satisfied: urllib3<3,>=1.21.1 in /usr/local/lib/python3.11/site-packages (from requests<3.0.0,>=2.13.0->spacy) (2.3.0)\n",
            "Requirement already satisfied: certifi>=2017.4.17 in /usr/local/lib/python3.11/site-packages (from requests<3.0.0,>=2.13.0->spacy) (2024.12.14)\n",
            "Collecting blis<1.3.0,>=1.2.0 (from thinc<8.4.0,>=8.3.4->spacy)\n",
            "  Downloading blis-1.2.0-cp311-cp311-manylinux_2_17_x86_64.manylinux2014_x86_64.whl.metadata (7.7 kB)\n",
            "Collecting confection<1.0.0,>=0.0.1 (from thinc<8.4.0,>=8.3.4->spacy)\n",
            "  Downloading confection-0.1.5-py3-none-any.whl.metadata (19 kB)\n",
            "Requirement already satisfied: click>=8.0.0 in /usr/local/lib/python3.11/site-packages (from typer<1.0.0,>=0.3.0->spacy) (8.1.8)\n",
            "Collecting shellingham>=1.3.0 (from typer<1.0.0,>=0.3.0->spacy)\n",
            "  Downloading shellingham-1.5.4-py2.py3-none-any.whl.metadata (3.5 kB)\n",
            "Requirement already satisfied: rich>=10.11.0 in /usr/local/lib/python3.11/site-packages (from typer<1.0.0,>=0.3.0->spacy) (13.9.4)\n",
            "Collecting cloudpathlib<1.0.0,>=0.7.0 (from weasel<0.5.0,>=0.1.0->spacy)\n",
            "  Downloading cloudpathlib-0.20.0-py3-none-any.whl.metadata (14 kB)\n",
            "Collecting smart-open<8.0.0,>=5.2.1 (from weasel<0.5.0,>=0.1.0->spacy)\n",
            "  Downloading smart_open-7.1.0-py3-none-any.whl.metadata (24 kB)\n",
            "Requirement already satisfied: MarkupSafe>=2.0 in /usr/local/lib/python3.11/site-packages (from jinja2->spacy) (3.0.2)\n",
            "Collecting marisa-trie>=1.1.0 (from language-data>=1.2->langcodes<4.0.0,>=3.2.0->spacy)\n",
            "  Downloading marisa_trie-1.2.1-cp311-cp311-manylinux_2_17_x86_64.manylinux2014_x86_64.whl.metadata (9.0 kB)\n",
            "Requirement already satisfied: markdown-it-py>=2.2.0 in /usr/local/lib/python3.11/site-packages (from rich>=10.11.0->typer<1.0.0,>=0.3.0->spacy) (3.0.0)\n",
            "Requirement already satisfied: pygments<3.0.0,>=2.13.0 in /usr/local/lib/python3.11/site-packages (from rich>=10.11.0->typer<1.0.0,>=0.3.0->spacy) (2.19.1)\n",
            "Requirement already satisfied: wrapt in /usr/local/lib/python3.11/site-packages (from smart-open<8.0.0,>=5.2.1->weasel<0.5.0,>=0.1.0->spacy) (1.17.2)\n",
            "Requirement already satisfied: mdurl~=0.1 in /usr/local/lib/python3.11/site-packages (from markdown-it-py>=2.2.0->rich>=10.11.0->typer<1.0.0,>=0.3.0->spacy) (0.1.2)\n",
            "Downloading spacy-3.8.4-cp311-cp311-manylinux_2_17_x86_64.manylinux2014_x86_64.whl (30.6 MB)\n",
            "\u001b[2K   \u001b[90m━━━━━━━━━━━━━━━━━━━━━━━━━━━━━━━━━━━━━━━━\u001b[0m \u001b[32m30.6/30.6 MB\u001b[0m \u001b[31m103.5 MB/s\u001b[0m eta \u001b[36m0:00:00\u001b[0m\n",
            "\u001b[?25hDownloading catalogue-2.0.10-py3-none-any.whl (17 kB)\n",
            "Downloading cymem-2.0.11-cp311-cp311-manylinux_2_17_x86_64.manylinux2014_x86_64.whl (218 kB)\n",
            "Downloading langcodes-3.5.0-py3-none-any.whl (182 kB)\n",
            "Downloading murmurhash-1.0.12-cp311-cp311-manylinux_2_5_x86_64.manylinux1_x86_64.manylinux_2_17_x86_64.manylinux2014_x86_64.whl (134 kB)\n",
            "Downloading preshed-3.0.9-cp311-cp311-manylinux_2_5_x86_64.manylinux1_x86_64.manylinux_2_17_x86_64.manylinux2014_x86_64.whl (157 kB)\n",
            "Downloading pydantic-2.10.6-py3-none-any.whl (431 kB)\n",
            "Downloading pydantic_core-2.27.2-cp311-cp311-manylinux_2_17_x86_64.manylinux2014_x86_64.whl (2.0 MB)\n",
            "\u001b[2K   \u001b[90m━━━━━━━━━━━━━━━━━━━━━━━━━━━━━━━━━━━━━━━━\u001b[0m \u001b[32m2.0/2.0 MB\u001b[0m \u001b[31m75.5 MB/s\u001b[0m eta \u001b[36m0:00:00\u001b[0m\n",
            "\u001b[?25hDownloading spacy_legacy-3.0.12-py2.py3-none-any.whl (29 kB)\n",
            "Downloading spacy_loggers-1.0.5-py3-none-any.whl (22 kB)\n",
            "Downloading srsly-2.5.1-cp311-cp311-manylinux_2_17_x86_64.manylinux2014_x86_64.whl (1.1 MB)\n",
            "\u001b[2K   \u001b[90m━━━━━━━━━━━━━━━━━━━━━━━━━━━━━━━━━━━━━━━━\u001b[0m \u001b[32m1.1/1.1 MB\u001b[0m \u001b[31m38.8 MB/s\u001b[0m eta \u001b[36m0:00:00\u001b[0m\n",
            "\u001b[?25hDownloading thinc-8.3.4-cp311-cp311-manylinux_2_17_x86_64.manylinux2014_x86_64.whl (3.9 MB)\n",
            "\u001b[2K   \u001b[90m━━━━━━━━━━━━━━━━━━━━━━━━━━━━━━━━━━━━━━━━\u001b[0m \u001b[32m3.9/3.9 MB\u001b[0m \u001b[31m61.8 MB/s\u001b[0m eta \u001b[36m0:00:00\u001b[0m\n",
            "\u001b[?25hDownloading typer-0.15.1-py3-none-any.whl (44 kB)\n",
            "Downloading wasabi-1.1.3-py3-none-any.whl (27 kB)\n",
            "Downloading weasel-0.4.1-py3-none-any.whl (50 kB)\n",
            "Downloading jinja2-3.1.5-py3-none-any.whl (134 kB)\n",
            "Downloading annotated_types-0.7.0-py3-none-any.whl (13 kB)\n",
            "Downloading blis-1.2.0-cp311-cp311-manylinux_2_17_x86_64.manylinux2014_x86_64.whl (11.7 MB)\n",
            "\u001b[2K   \u001b[90m━━━━━━━━━━━━━━━━━━━━━━━━━━━━━━━━━━━━━━━━\u001b[0m \u001b[32m11.7/11.7 MB\u001b[0m \u001b[31m82.7 MB/s\u001b[0m eta \u001b[36m0:00:00\u001b[0m\n",
            "\u001b[?25hDownloading cloudpathlib-0.20.0-py3-none-any.whl (52 kB)\n",
            "Downloading confection-0.1.5-py3-none-any.whl (35 kB)\n",
            "Downloading language_data-1.3.0-py3-none-any.whl (5.4 MB)\n",
            "\u001b[2K   \u001b[90m━━━━━━━━━━━━━━━━━━━━━━━━━━━━━━━━━━━━━━━━\u001b[0m \u001b[32m5.4/5.4 MB\u001b[0m \u001b[31m81.8 MB/s\u001b[0m eta \u001b[36m0:00:00\u001b[0m\n",
            "\u001b[?25hDownloading shellingham-1.5.4-py2.py3-none-any.whl (9.8 kB)\n",
            "Downloading smart_open-7.1.0-py3-none-any.whl (61 kB)\n",
            "Downloading marisa_trie-1.2.1-cp311-cp311-manylinux_2_17_x86_64.manylinux2014_x86_64.whl (1.4 MB)\n",
            "\u001b[2K   \u001b[90m━━━━━━━━━━━━━━━━━━━━━━━━━━━━━━━━━━━━━━━━\u001b[0m \u001b[32m1.4/1.4 MB\u001b[0m \u001b[31m49.7 MB/s\u001b[0m eta \u001b[36m0:00:00\u001b[0m\n",
            "\u001b[?25hInstalling collected packages: cymem, wasabi, spacy-loggers, spacy-legacy, smart-open, shellingham, pydantic-core, murmurhash, marisa-trie, jinja2, cloudpathlib, catalogue, blis, annotated-types, srsly, pydantic, preshed, language-data, typer, langcodes, confection, weasel, thinc, spacy\n",
            "Successfully installed annotated-types-0.7.0 blis-1.2.0 catalogue-2.0.10 cloudpathlib-0.20.0 confection-0.1.5 cymem-2.0.11 jinja2-3.1.5 langcodes-3.5.0 language-data-1.3.0 marisa-trie-1.2.1 murmurhash-1.0.12 preshed-3.0.9 pydantic-2.10.6 pydantic-core-2.27.2 shellingham-1.5.4 smart-open-7.1.0 spacy-3.8.4 spacy-legacy-3.0.12 spacy-loggers-1.0.5 srsly-2.5.1 thinc-8.3.4 typer-0.15.1 wasabi-1.1.3 weasel-0.4.1\n",
            "Collecting en-core-web-sm==3.8.0\n",
            "  Downloading https://github.com/explosion/spacy-models/releases/download/en_core_web_sm-3.8.0/en_core_web_sm-3.8.0-py3-none-any.whl (12.8 MB)\n",
            "\u001b[2K     \u001b[90m━━━━━━━━━━━━━━━━━━━━━━━━━━━━━━━━━━━━━━━━\u001b[0m \u001b[32m12.8/12.8 MB\u001b[0m \u001b[31m121.5 MB/s\u001b[0m eta \u001b[36m0:00:00\u001b[0m\n",
            "\u001b[?25hInstalling collected packages: en-core-web-sm\n",
            "Successfully installed en-core-web-sm-3.8.0\n",
            "\u001b[38;5;2m✔ Download and installation successful\u001b[0m\n",
            "You can now load the package via spacy.load('en_core_web_sm')\n"
          ]
        }
      ]
    },
    {
      "cell_type": "code",
      "source": [
        "import spacy\n",
        "from collections import deque\n",
        "\n",
        "# Load spaCy model\n",
        "nlp = spacy.load(\"en_core_web_sm\")\n",
        "\n",
        "def get_parse_tree_depth(sent):\n",
        "    \"\"\"\n",
        "    Calculate parse tree depth for a sentence using a breadth-first search (BFS)\n",
        "    starting from the root token.\n",
        "    \"\"\"\n",
        "    roots = [token for token in sent if token.head == token]\n",
        "    if not roots:\n",
        "        return 0\n",
        "    root = roots[0]\n",
        "    max_depth = 0\n",
        "    depths = {root: 0}\n",
        "    queue = deque([root])\n",
        "\n",
        "    while queue:\n",
        "        node = queue.popleft()\n",
        "        for child in node.children:\n",
        "            depths[child] = depths[node] + 1\n",
        "            max_depth = max(max_depth, depths[child])\n",
        "            queue.append(child)\n",
        "    return max_depth\n",
        "\n",
        "def count_subordinate_clauses(doc):\n",
        "    \"\"\"\n",
        "    Count subordinate clauses by looking for tokens with dependency labels\n",
        "    typically marking clause boundaries:\n",
        "      - 'mark' (subordinating conjunctions),\n",
        "      - 'advcl' (adverbial clauses), and\n",
        "      - 'ccomp' (clausal complements).\n",
        "    \"\"\"\n",
        "    count = 0\n",
        "    for token in doc:\n",
        "        if token.dep_ in {\"mark\", \"advcl\", \"ccomp\"}:\n",
        "            count += 1\n",
        "    return count\n",
        "\n",
        "def count_passive_sentences(doc):\n",
        "    \"\"\"\n",
        "    Identify and count passive sentences. A sentence is considered passive\n",
        "    if it contains any token with the dependency 'nsubjpass'.\n",
        "    \"\"\"\n",
        "    passive_count = 0\n",
        "    for sent in doc.sents:\n",
        "        if any(token.dep_ == \"nsubjpass\" for token in sent):\n",
        "            passive_count += 1\n",
        "    return passive_count\n",
        "\n",
        "def syntactic_complexity(text, d_max=10, max_subordinate_per_sentence=2):\n",
        "    \"\"\"\n",
        "    Calculate a normalized syntactic complexity score in the range [0,1].\n",
        "    It is very knowledge-based.\n",
        "    This function computes three components:\n",
        "      1. Depth Component: Average parse tree depth normalized by d_max.\n",
        "         The average is capped at d_max to avoid outlier effects.\n",
        "      2. Subordinate Clause Component: The average number of subordinate clauses\n",
        "         per sentence normalized by an assumed maximum (default=2).\n",
        "      3. Passive Voice Component: The fraction of sentences exhibiting passive voice.\n",
        "\n",
        "    The final score is the average of these three components.\n",
        "    \"\"\"\n",
        "    doc = nlp(text)\n",
        "    sentences = list(doc.sents)\n",
        "    num_sentences = len(sentences)\n",
        "\n",
        "    if num_sentences == 0:\n",
        "        return 0.0\n",
        "\n",
        "    # Depth Component\n",
        "    total_depth = sum(get_parse_tree_depth(sent) for sent in sentences)\n",
        "    avg_depth = total_depth / num_sentences\n",
        "    depth_component = min(avg_depth, d_max) / d_max  # normalize to [0,1]\n",
        "\n",
        "    # Subordinate Clause Component\n",
        "    num_subordinate = count_subordinate_clauses(doc)\n",
        "    subordinate_component = (num_subordinate / num_sentences) / max_subordinate_per_sentence\n",
        "    subordinate_component = min(subordinate_component, 1.0)\n",
        "\n",
        "    # Passive Voice Component\n",
        "    passive_sentences = count_passive_sentences(doc)\n",
        "    passive_component = passive_sentences / num_sentences  # already in [0,1]\n",
        "\n",
        "    # Combine components equally to yield a final score between 0 and 1\n",
        "    normalized_score = (depth_component + subordinate_component + passive_component) / 3.0\n",
        "    return normalized_score\n",
        "\n",
        "text = (\n",
        "    \"The old mansion, which had been abandoned for years, stood silent. \"\n",
        "    \"Its walls, marked by time and neglect, told stories as if they were whispering. \"\n",
        "    \"The garden was overgrown, and nature had reclaimed it, making it look like a scene from a forgotten fairy tale.\"\n",
        ")\n",
        "\n",
        "score = syntactic_complexity(text)\n",
        "print(\"Normalized Syntactic Complexity Score:\", score)\n"
      ],
      "metadata": {
        "colab": {
          "base_uri": "https://localhost:8080/"
        },
        "id": "v7LzFH1Z5A0S",
        "outputId": "4097a3e8-9be6-4406-9dd4-0c9eedade100"
      },
      "execution_count": 15,
      "outputs": [
        {
          "output_type": "stream",
          "name": "stdout",
          "text": [
            "Normalized Syntactic Complexity Score: 0.5777777777777777\n"
          ]
        }
      ]
    },
    {
      "cell_type": "code",
      "source": [],
      "metadata": {
        "colab": {
          "base_uri": "https://localhost:8080/"
        },
        "id": "bhBAhFyxpDa9",
        "outputId": "f7a1a5c0-0bdd-4eb6-f820-94395c9d2bb0"
      },
      "execution_count": 21,
      "outputs": [
        {
          "output_type": "stream",
          "name": "stdout",
          "text": [
            "Successfully read 2215 events in a writing session from ./coauthor-v1.0/bac237f54fe449e18334a685c6381657.jsonl\n",
            "User-written sentences: ['dating apps and technology in general have paved the way to bridge closer connections together than', 'ever before. Because of dating apps such as Tinder, Facebook', ', Instagram, Snapchat, and other social media platforms, people are able to connect with each other in ways that were not possible before. Imagine before where two strangers could only meet by chance on a particular instance, nowadays we are', \"able to connect with people from all over the world. It's almost as if it's cheating to find the one and what most people call,\", 'your soulmate.\\n\\nOf course being too distracted and neglecting to spend time with your loved ones if you use these dating apps too often can be a negative. But so is', 'anything else that you do in excess. So the usage of technology must come with a great', 'balance and moderation. This way,', 'you can still enjoy the benefits of technology while still being able to maintain a healthy relationship with your significant other.\\n\\nW remember being a kid and having no internet in the house, in order for me to contact a loved one that is far away is to', 'write a letter and send it through snail mail. It was a slow, expensive, and', 'a time consuming process. We almost take it for granted today that', 'we can send a message to someone in another country in a matter of seconds that is also free of cost, considering you already have the equipment to do so. I feel like in the future, it would just be improved and we would all feel very connected more than less.\\n\\nBeing in a video call or a phone call, something may seem missing.', \"It's not the same as being in person. Being intimate and feeling the touch of someone is still something that the technology can give. That's why\", 'I am optimistic that in the future, this can be', 'improved and we can have a more intimate connection with each other. Having a device that lets you', \"feel the touch of someone is something that I would like to see in the future. That way, there's no need for\", 'you to be in the same room as someone in order to feel their touch. This eliminates the issue of', 'having to travel long distances just to see someone.\\n\\nSo just to clarify my stance with technology and dating apps, I feel like they are a bridge instead of', 'a barrier. Using it in moderation, I feel like the tools the dating apps and social media provide is very', 'useful and can help people connect with each other in ways that were not possible before. It is also actively trying to fulfill the further needs of humanity and making me optimistic that in the future,', \"we will be able to have a more intimate connection with each other. Have you contacted a loved one recently? If not, I do urge you to go ahead and make sure they're\"]\n",
            "AI-generated suggestions: ['ever before.', ', Instagram, Snapchat, and other social media platforms, people are able to connect with each other in ways that were not possible before.', 'able to connect with people from all over the world.', 'balance and moderation.', 'you can still enjoy the benefits of technology while still being able to maintain a healthy relationship with your significant other.', 'write a letter and send it through snail mail.', 'a time consuming process.', 'we can send a message to someone in another country in a matter of seconds.', \"It's not the same as being in person.\", 'improved and we can have a more intimate connection with each other.', 'feel the touch of someone is something that I would like to see in the future.', 'you to be in the same room as someone in order to feel their touch.', 'having to travel long distances just to see someone.', 'a barrier.', 'useful and can help people connect with each other in ways that were not possible before.', 'we will be able to have a more intimate connection with each other.', 'doing well.']\n",
            "Successfully read 2355 events in a writing session from ./coauthor-v1.0/8393a8ed335f438c9ad5ca3d25a947b6.jsonl\n",
            "User-written sentences: ['And the pig was like \"That\\'s right, dude. I saw the shaped charges you used on the 91st pig\\'s steel reinforced concrete house, and that\\'s not gonna cut it with mine.\"', 'The wolf was like, \"Whatever, dude. I\\'m tired of this game anyway, you build the craziest most reinforced house you like, because I\\'m not huffing, or puffing, or shooting. or dynamiting, or anything else to try to get in there.\" Then,', 'the wolf went off to fhe forest to live a normal wolf life, he joined a pack,', 'and became a normal wolf.', 'He met a lady wolf, they had cubs, and', 'ate deer, and rabbits, and it was', 'a very happy, normal wolf life.\\n\\nMeanwhile, the pig', 'sat around his depleted uranium house, and worried. He', 'was like, \"What if the wolf hadn\\'t given up?\" He was constantly waiting for the attack which never came.', 'He lived in fear for seven years. Over those seven years, he', 'ate his food without savoring it, he never laughed, he had no friends or family. He searched his house for', \"hidden ways in, and when he couldn't find any, he searched for hidden ways out. That was a bust. He checked the yard for signs\", 'of the wolf, he installed motion sensing cameras around his house, he bought a wolf-call for the phone. He did constant Google searches related to home security, and incidentally found out that depleted uranium', \"was a little dangerous, and known to raise the incidence of cancer in human tank operators.\\n\\nHe told himself that that didn't apply to pigs, and in any event, it was worth it to be wolf-free. So, he\", 'sat, and he waited, and he ate. He got fat as a pig, which in this case, him already being fat as a pig, meant he was as fat as', 'a pig that had gotten fatter than a normal pig. In other words, as fat as two', 'norma After seven years of this, he realized he was', 'wasting his life, and he decided he would leave home for the first time in seven years to see what was going on outside. slowly killing himself, and \\n\\nHe left his depleted uranium home, and ventured out to the forest, where', 'he saw the normal wolf pack which had been living there, completely oblivious to his existence. He spoke to the wolf. \"Hey, you look pretty happy, I guess not eating me was a pretty good deal after all?\" The wolf was silent, because now he was a normal wolf who couldn\\'t talk.\\n\\nThe pig continued \"So, would it be okay if I moved out here, and lived a normal life you like you have?\" The wolf moved his head a bit, which the pig took as an assent, and the pig began rooting among the shrubs for stuff to eat.\\n\\nThe wolf pack paused for a moment, surprised by thehesitatedis strange creature that talked, and seemed to have no fear of them. After that moment, of course, they']\n",
            "AI-generated suggestions: ['And the wolf was like \"dude.\"', 'a few hours later when he went to go huff the house, he was like, \"What is this stuff?', 'and got some other wolves to do his dirty work for him.', 'all good.', 'was like, \"What if the wolf hadn\\'t given up?\"', 'Until one day, the wolf came back.', 'ate his food without savoring it, he never laughed, he had no friends or family.', 'radiation leaks constantly.', \"of tunneling, and when he couldn't find any there either, he checked the moon for signs of wolves.\", \"is worse than he had thought, it's not just a little bad for you, but a lot bad for you.\", 'sat, and he waited, and he ate.', 'a pig could be.', 'normal pigs.', 'just as fat and miserable as he would have been if the wolf had come and eaten him, so one day he got up, ate his breakfast without', 'he saw the normal wolf pack which had been living there, completely oblivious to his existence.', 'tore him to pieces.']\n",
            "Successfully read 2150 events in a writing session from ./coauthor-v1.0/994c929ac0db414cbb96423bb245eb7c.jsonl\n",
            "User-written sentences: ['Scientists realize that this drug actually causes', 'people to become particularly voracious about their sexuality.', 'The drug is recalled, and the government is forced to pay for the cost of the drugabout satiating basic human needs and desires like food, shelter, clothing, and sex.\\n\\n But already an entire human population has been impacted by the drug. The only people saved are those who are your age or older since you were the only ones that did not receive the drug.', \"You are one of the few people who are not affected by the drug.\\n But you have seen how this drug has totally decimated others. For example, a good friend of yours who is younger than you is obese because she cannot stop stuffing food into her face. Another one of your friends has gone bankrupt buying herself 100 houses since she feels extreme anxiety about not having enough housing to live in.  And another one of your friends has also become a hoarder since she has so many clothes bursting at the seams of her house. Finally, one of your friends is in a constant state of postpartum depression since she's now been through forty-three pregnancies. Her sexual appetite is just unending.\", 'You have decided to take action.', 'You want to save humanity from itself.', 'You want to stop this drug from ever being used again.', 'You have decided to create a new drug that will counteract the effects of the immortality drug.', 'You call it the “Anti-Immortality Drug.\"', 'You spend many nights and days working in your lab trying to perfect the drug. When it has finally been perfected you', \"decide to test it out on yourself. You don't see any short-term side effects or reactions so you feel good about your creation. You then administer the drug to your friends. The friend of yours who has the high libido instantly feels that her sexual urges are quelled. The friend who is bankrupt from all her houses starts selling them off like crazy, thus vastly improving her net worth. The friend who is a hoarder gives all her clothes to the homeless. And the friend who is obese learns moderation when it comes to her diet.\\n\\nEveryone in society who takes your drug\", 'is now living a normal life. They all cheer for you as their personal hero.']\n",
            "AI-generated suggestions: ['The drug is recalled, and the government is forced to pay for the cost of the drug and the side effects.', 'You are one of the few people who are not affected by the drug.', 'You have decided to take action.', 'You want to save humanity from itself.', 'You want to stop this drug from ever being used again.', 'You have decided to create a new drug that will counteract the effects of the immortality drug.', 'You call it the “Anti-Immortality Drug.\"', 'decide to test it out on yourself.', 'is now living a normal life.', 'You are hailed as the savior of humanity.']\n",
            "Successfully read 3792 events in a writing session from ./coauthor-v1.0/b6acb37208be4f3e96965f989fd6f9fb.jsonl\n",
            "User-written sentences: ['I was 28 when English scientists discovered a miracle drug that stopped humanity from aging. Humanity had finally discovered the key to living forever and avoiding the one debt that every human being owes upon birth, death.  Scientists had warned that the drug was only meant for citizens under 26, which left billions of people, including myself, without any hope of taking the drug. People around the world were furious and saddened to hear the news that they would not live forever. Meanwhile, the younger generations were divided on whether or not they wanted to live forever. Taking the drug meant living forever or outliving loved ones and watching them pass on.', 'The rest of the world was not as hesitant to take the drug, and many saw immortality as a chance for humanity to expand and achieve incredible things. Taking the drug would allow people to study whatever they wanted and help to improve society for the better. No longer did people have to settle for boring desk jobs, they could pursue any field of study they wanted.', 'Doctors no longer had to worry about sicknesses and disease, they could now devote their time towards helping people.  among a large portion of society who could not take the drugThe \"Lost Generation\" continued to age, while the young took the drug and became immortal. Families were torn apart, knowing that they would leave loved ones behind. They feared that their loved ones would forget about them as the centuries carried on.', 'While the young celebrated their immortality, the old feared that they would be forgotten. As time passed, I grew older, finally reaching the ripe old age of 85,. Society had definitely improved through the efforts of an immortal, optimistic generation of people with all the time in the world on their shoulders.,', 'They set their sights on new frontiers that would be impossible for a normal human lifetime.had  Technology had improved by leaps and bounds, providing comfort beyond imagination for people from all walks of life. Medicinal advances provided the \"Lost Generation\" with cures for ailments that only affected an aging body. I began to wonder if taking the drug was worth it. At a certain point, the \"Lost Generation\" would be no more, ceasing to exist in time, leaving the immortals behind.', 'Was living forever worth it? Were all of the human advances worth it in the end?', 'The immortals were only prolonging the inevitable.', 'I was concerned with how the immortals would feel after living for hundreds of years, or even thousands. Finally, in a shocking turn of events, scientists discovered that the drug resulted in tragic side effects. The immortals began to lose their sight, hearing, taste, sense of smell, aspects of human life. all  No longer could they enjoy what made life so pleasurable, the biological features that made life worth living.', 'The drug had robbed them of all senses, leaving them to a life where they were no longer huma They could not rely on \"The Lost Generatthe\", for they too needed help. One generation was dying naturally, the other were becoming walking husks, devoid of humanity.', 'The immortals were now a burden, and the \"Lost Generation\" was stuck in between.', 'The immortals were now at the mercy of the \"Lost Generation\", for they needed help. The \"Lost Generation\" could not help, they could only provide wisdom to ease the pain of living without their senses.', 'The immortals were not the picture of humanity, they were a nightmare. Zombies walking amongst the living and the aging.', 'The immortals were not living, they were merely existing in the world. Their hope and dreams of living forevers dashed against the stones by the grim reaper. The \"Lost Generation\" died out one by one, I was one of the remaining few a bygone era. of']\n",
            "AI-generated suggestions: ['The rest of the world was not as hesitant to take the drug, and many saw immortality as a chance for humanity to expand and achieve incredible things.', 'Doctors no longer had to worry about sicknesses and disease, they could now devote their time towards helping people.', 'While the young celebrated their immortality, the old feared that they would be forgotten.', 'They set their sights on new frontiers that would be impossible for a normal human lifetime.', 'Was living forever worth it?', 'The immortals were only prolonging the inevitable.', 'I was concerned with how the immortals would feel after living for hundreds of years, or even thousands.', 'The drug had robbed them of all senses, leaving them to a life where they were no longer human.', 'The immortals were now a burden, and the \"Lost Generation\" was stuck in between.', 'The immortals were now at the mercy of the \"Lost Generation\", for they needed help.', 'The immortals were not the picture of humanity, they were a nightmare.', 'The immortals were not living, they were merely existing in the world.', 'I had witnessed the downfall of humanity, and luckily for me, I was spared from the pain of loss.']\n",
            "Successfully read 1748 events in a writing session from ./coauthor-v1.0/12c0273868a84564a5f001c3c086f69f.jsonl\n",
            "User-written sentences: [\"I can't blow that down. That's not fair. Where did you even get the uranium from?\", \"I have no idea how to blow that down.\\n\\nThe 92nd little pig was ecstatic because he had solved the issue that the wolf couldn't fix. All of his brethren before had their houses blown down. He outsmarted the wolf.\"]\n",
            "AI-generated suggestions: ['So the wolf went and he built a house out of depleted uranium.', 'He had a house of super strength.']\n",
            "Successfully read 1402 events in a writing session from ./coauthor-v1.0/63ab89c6ca594ea0a80519442ac4c27b.jsonl\n",
            "User-written sentences: [\"Now, it's too late. It is rumored that a new drug has been created.\", \"But the government isn't giving it away for free. It is too expensive for most citizens so people are going great lengths to obtain it illegally.\", 'To get the drug, you and your friends decide to find a way into the headquarters of the government facility where it is supposedly being held.\\n The risks are high, but the group is going for it anyway.', 'They planned carefully and the big night had finally arrived.', 'They began their journey and successfully make it into the facility. They follow the map to the vault where the drugs are being stored.', \"But it turns out there is an alarm. They hadn't planned for this. They had to either turn around and leave now, or find a way to bypass the alarm.\", 'They chose to continue and discover an elevator that leads to a secret floor deep within the building. The elevator descended to the floor below, and then kept going and going.', \"It was not to the lower floor, but to another section of the facility. It went down so far they couldn't fathom how far underground they had gone.\", 'Then, the elevator stopped and the doors opened.', 'They were in a strange laboratory. \"This must be where they make the drug.\"', 'you thought. The team searched on. \"We shouldn\\'t be down here. We should just find the product and go. We shouldn\\'t mess with this stuff.\"', 'your best friend said. Suddenly, the elevator doors closed and the elevator lifted up away, leaving them in the deep basement.', \"They were stuck. They went to press the elevator buttons, but there weren't any.\", 'A few moments later, the doors opened and a mysterious figure walked in.', 'He was the leader of the facility. \"I understand you want access to our product. I have a better offer.\"', 'he said.', '\"I will give you access, but you must agree to my terms.\" They agreed.', '\"You will bring me an item every week for the rest of your lives, and I will give you your drug.']\n",
            "AI-generated suggestions: [\"Now, it's too late.\", \"But the government isn't giving it away for free.\", \"When you're 28, you have a normal life.\", \"The night is still young, and with any luck, they'll all be strong enough to live through the night.\", 'But it turns out there is an alarm.', 'They chose to continue and discover an elevator that leads to a secret floor deep within the building.', 'As the elevator finally stopped, they discovered the secret floor was covered in discarded prototypes.', 'Then, the elevator stopped and the doors opened.', 'They stepped out to find themselves in a totally different part of the facility.', 'They thought.', '\"Yeah, but it could be our only chance to live forever.\"', 'They were stuck.', 'A few moments later, the doors opened and a mysterious figure walked in.', 'He was the leader of the facility.', 'he said.', 'He was an older man, but he appeared stronger and more powerful than you.', '\"You will bring me an item every week for the rest of your lives, and I will give you your drug.', 'If you fail, I will use your friends as my new test subjects.\"']\n",
            "Successfully read 1445 events in a writing session from ./coauthor-v1.0/3b6e7a4c9d65411f9342254120abcde7.jsonl\n",
            "User-written sentences: [\"Choosing depleted uranium wasn't 92's first choice of building material,\", 'nor his second, or even his third. But, after realizing that this was a material that none of his other sibling would use, he accepted this as a challenge. \\n\\nFor generations, Wolf has been the enemy to the pigs and their mother. But after meeting 60 or 70 pigs, Wolf realized he could learn from their determination. Maybe he could even help them from the past mistakes of their elders.', 'He could use his knowledge to meet their needs, and make a mutually beneficial deal.', \"The wolf started to teach the pigs how to be shrewd business people. and one of those lessons came in the form of a town who had shut down its nuclear power plant decades ago, but left the uranium on site. \\n\\nTo be fair, the house itself isn't built out of the uranium itself, but the steel containers that hold the product.\", \"The 92nd pig found out that steel containers were either thrown away, bur. These were stackable barrels that exuded a faint glow. Pigs being pigs, housekeeping wasn't always the best, yet bugs never entered 92's property.\"]\n",
            "AI-generated suggestions: ['nor his second, or even his third.', 'He could use his knowledge to meet their needs, and make a mutually beneficial deal.', 'The wolf started to teach the pigs how to be shrewd business people.', 'The 92nd pig found out that steel containers were either thrown away, buried, or sold for scrap.', 'Choosing this material also helped 92 make a profit.']\n",
            "Successfully read 1080 events in a writing session from ./coauthor-v1.0/3778eebfc9df42429aa1f23db1934a9d.jsonl\n",
            "User-written sentences: ['the most important things students should learn in school  is social skills academic knowledge as well as .', 'Academic knowledge is important because it helps students to learn how to solve problems and think critically.', 'This will help students to cope with their future jobs and daily problems they encounter.', 'Academic knowledge learnt at school is fundamental to everything. The knowledge will also help students to distinguibetween the truth and what is true and what is untrue.', ', which is very important when the students make decisions on their owncertain . Besides, getting along with their classmates at school also helps the students develop social skills, which are necessary for their survival in the society.']\n",
            "AI-generated suggestions: ['Academic knowledge is important because it helps students to learn how to solve problems and think critically.', 'The most important thing I have learned in school is the importance of being honest.']\n",
            "Successfully read 1929 events in a writing session from ./coauthor-v1.0/8b3585b594e24e0dbfd53eae933d2f4a.jsonl\n",
            "User-written sentences: ['technology has greatly improved dating.', \"I've found that dating apps in particular increase the odds of finding a relationship, at least for me. Just having the ability to use Tinder or Bumble takes away the nerves from introducing yourself to someone in person. Breaking that ice is what I find the most difficult. Being able to talk to someone via a messaging app gives me a good indication on whether or not we are compatible.\\n\\nObviously there is still stress when it comes to dating even with the advancement of technology. Ultimately, no matter how well you know someone via the internet or via messaging apps, that first meeting is person is very nerve wracking.\", \"I think technology does a really good job in helping alleviate anxiety, but it never fully prepares you for a first impression.\\n I may be extremely comfortable speaking to someone via text or messenger but may be too nervous in person and those nerves could show.\\n\\nPersonally, I have had a ton of experience as I am now 30 years old. I felt that over time I got less nervous. It's kind of like anything. The more you do something the more confident you get. I remember my first date I actually spoke to a girl online a ton. Meeting her I was so nervous because I really liked her and felt she liked me as well. We finally met and things went pretty smoothly, much better than I was expecting considering how nervous I was. I look back at that first date and laugh because I was putting so much pressure on myself for no reason.\\n\\nTechnology lets us break the ice and then ultimately when you're on the date you just have to be yourself. The other person is probably just as nervous as you are. After all, nobody wants to embarrass themselves or come across negatively on a first date. Of course there are first dates that just don't go well. That's a part of life.\"]\n",
            "AI-generated suggestions: ['technology enables us to connect in ways that we otherwise wouldn’t be able to.', 'Its availability in cities, and ease of use has increased the pool of potential romantic partners, makes finding people from different backgrounds and interests much easier.', 'I think technology does a really good job in helping alleviate anxiety, but it never fully prepares you for a first impression.', 'And believe me, most of the time I wish I had just remained friends with the person we went out with rather than actually going on a date and']\n",
            "Successfully read 2474 events in a writing session from ./coauthor-v1.0/bf03f184f45441258d7e0658a1742332.jsonl\n",
            "User-written sentences: ['This, after all, is not the first time that Matt Damon has gone missing.', 'The first time Matt Damon went missing, humanity had practically stopped in its tracks to try to find him.', 'The alien is not aware that Matt Damon is a very important person to the human race.\\n This is because Matt Damon has incredible talents. He is funny, personable and can even cast magical spells.', 'He is also a master of disguise and can be anyone he wants to be. For example, Matt Damon can morph into a clown, or a doctor, or a lawyer, or a schoolteacher, or anyone else depending on his mood.', 'With all these talents, skills and abilities, Matt Damon is arguably the most powerful human on planet Earth.\\n\\nSo when the alien kidnaps Matt Damon, he really has no idea what he is up against.', \"He is unaware that the human race will stop at nothing to retrieve Matt Damon. In fact, a group of humans based on Switzerland is immediately notified of Matt Damon's disappearance.\", 'They are called the \"Matt Damon Retrieval Team\" and they are the most elite group of humans on the planet. This Swiss team has a lot of powerful weapons at their disposal to try to get Matt Damon back on planet Earth.', 'The alien is not aware of this, but he is about to get a rude awakening.\\n The Swiss team sets out to find the alien in a spaceship. They set their sights on the planet where they know the alien is: Planet Borg. Planet Borg is zillions of lightyears away from the Swiss, but they are totally undeterred. They truly stop at nothing for Matt Damon. And so, as a result, the alien is not prepared for the blasts of rain and fire that he is hit with all of a sudden on Planet Borg. The Swiss have arrived!', 'The Swiss team is not going to let the alien have his way with Matt Damon.', 'They are going to get Matt Damon back, no matter what.', 'They are going to get Matt Damon back, even if they have to destroy Planet Borg in the process. Matt Damon is relieved to see the Swiss. After all, the alien had been confining him to a small isolation room, where he was only allowed to eat hot dogs and watch the same Netflix show over and over again, on repeat.', \"The alien had been very cruel to Matt Damon. So when the Swiss start blasting Planet Borg, Matt Damon knows he's in good hands. He is promptly freed and gives the alien a very sarcastic goodbye.\", 'The alien is not happy.']\n",
            "AI-generated suggestions: ['The alien is not aware that Matt Damon is a very important person to the human race.', 'He is also a master of disguise and can be anyone he wants to be.', 'He is unaware that the human race will stop at nothing to retrieve Matt Damon.', 'They are called the \"Matt Damon Retrieval Team\" and they are the most elite group of humans on the planet.', 'The alien is not aware of this, but he is about to get a rude awakening.', 'The Swiss team is not going to let the alien have his way with Matt Damon.', 'They are going to get Matt Damon back, no matter what.', 'They are going to get Matt Damon back, even if they have to destroy Planet Borg in the process.', 'The alien had been very cruel to Matt Damon.', 'The alien is not happy.', 'He is not happy that he has been defeated by the Swiss.']\n",
            "Processed 1447 paths. Results saved to emotion_similarity_results.csv.\n"
          ]
        }
      ]
    },
    {
      "cell_type": "code",
      "source": [
        "def extract_acceptance_status(events):\n",
        "    \"\"\"Track if a suggestion was accepted or rejected.\"\"\"\n",
        "    acceptance_status = []  # Stores 'accepted' or 'rejected'\n",
        "    last_suggestion_open = None  # Store the most recent `suggestion-open`\n",
        "\n",
        "    for event in events:\n",
        "        if event[\"eventName\"] == \"suggestion-open\" and event.get(\"currentSuggestions\"):\n",
        "            last_suggestion_open = event  # Save the latest `suggestion-open`\n",
        "\n",
        "        elif event[\"eventName\"] == \"suggestion-select\" and last_suggestion_open:\n",
        "            # Suggestion selected\n",
        "            acceptance_status.append('accepted')\n",
        "            last_suggestion_open = None  # Reset, since we handled the acceptance\n",
        "\n",
        "        elif event[\"eventName\"] == \"suggestion-close\" and last_suggestion_open:\n",
        "            # Suggestion closed without selection (rejected)\n",
        "            acceptance_status.append('rejected')\n",
        "            last_suggestion_open = None  # Reset, since we handled the rejection\n",
        "\n",
        "    return acceptance_status"
      ],
      "metadata": {
        "id": "pK35M9uJ2a6b"
      },
      "execution_count": 2,
      "outputs": []
    },
    {
      "cell_type": "code",
      "source": [
        "# Loop through each path (limited to paths 100-110)\n",
        "for path in paths[:100]:\n",
        "    events = read_writing_session(path)\n",
        "\n",
        "    if len(events) < 3000:\n",
        "\n",
        "      # Extract user-written text and AI-generated suggestions\n",
        "      user_texts = reconstruct_user_text(events)\n",
        "      ai_suggestions = extract_selected_ai_suggestions(events)\n",
        "      acceptance_status = extract_acceptance_status(events)\n",
        "\n",
        "      # Ensure we only compare matching pairs\n",
        "      for user_text, ai_text, status in zip(user_texts, ai_suggestions, acceptance_status):\n",
        "          user_score = syntactic_complexity(user_text)\n",
        "          ai_score = syntactic_complexity(ai_text)\n",
        "          # Store results, including acceptance status\n",
        "          jsd_results.append({\n",
        "              \"path\": path,\n",
        "              \"user_text\": user_text,\n",
        "              \"ai_suggestion\": ai_text,\n",
        "              \"acceptance_status\": status,\n",
        "              \"user_score\": user_score,\n",
        "              \"ai_score\": ai_score\n",
        "          })\n"
      ],
      "metadata": {
        "colab": {
          "base_uri": "https://localhost:8080/"
        },
        "id": "cznOlyWi2eL9",
        "outputId": "b1147df2-6f20-4d2a-e8d1-440dd436afed"
      },
      "execution_count": 11,
      "outputs": [
        {
          "output_type": "stream",
          "name": "stdout",
          "text": [
            "Successfully read 1238 events in a writing session from ./coauthor-v1.0/9614fb65fa5146549e303e13586a947b.jsonl\n",
            "Successfully read 2431 events in a writing session from ./coauthor-v1.0/6c16f972111c483a9d45114c12e381ff.jsonl\n",
            "Successfully read 1202 events in a writing session from ./coauthor-v1.0/bd632b8b53394b32a6dba18848f787a4.jsonl\n",
            "Successfully read 946 events in a writing session from ./coauthor-v1.0/5d9be2dad6584ff4b2ab1c6f701f64cb.jsonl\n",
            "Successfully read 1247 events in a writing session from ./coauthor-v1.0/08b1a2012f4d4115b56cc8231449ff48.jsonl\n",
            "Successfully read 1994 events in a writing session from ./coauthor-v1.0/b4bbf40667d64a6ebd248ebb87a3ce5f.jsonl\n",
            "Successfully read 1830 events in a writing session from ./coauthor-v1.0/423daa7fb2214d1093f73d4966240646.jsonl\n",
            "Successfully read 1876 events in a writing session from ./coauthor-v1.0/54c597f302a9404caab702a8499b8aa0.jsonl\n",
            "Successfully read 1902 events in a writing session from ./coauthor-v1.0/b30082b36e764dbd859c020b10fe78b5.jsonl\n",
            "Successfully read 2593 events in a writing session from ./coauthor-v1.0/1b15da4de55047cf85b1ca1adbb860a6.jsonl\n",
            "Successfully read 2675 events in a writing session from ./coauthor-v1.0/02ef07c642254b088b72486ce41e010c.jsonl\n",
            "Successfully read 886 events in a writing session from ./coauthor-v1.0/17f65e14d6ab4f7596367a394daf3f82.jsonl\n",
            "Successfully read 2254 events in a writing session from ./coauthor-v1.0/9350869f0d24492c920c83e0a9507648.jsonl\n",
            "Successfully read 700 events in a writing session from ./coauthor-v1.0/f11975fed1994467a041c56aab447dcb.jsonl\n",
            "Successfully read 1268 events in a writing session from ./coauthor-v1.0/815f2133a4634d7b88b1697b1f8a5d1e.jsonl\n",
            "Successfully read 3366 events in a writing session from ./coauthor-v1.0/0a83297c1ce94d15b358d79e533396c7.jsonl\n",
            "Successfully read 1610 events in a writing session from ./coauthor-v1.0/52c100caa73b4d7ba9185287b8863362.jsonl\n",
            "Successfully read 2754 events in a writing session from ./coauthor-v1.0/d701053d959a43399a0f3877dab22dd8.jsonl\n",
            "Successfully read 628 events in a writing session from ./coauthor-v1.0/5233fde72269427db4cd417546bfddf3.jsonl\n",
            "Successfully read 2970 events in a writing session from ./coauthor-v1.0/81b30967f40349e5b0e333f1e4851ce4.jsonl\n",
            "Successfully read 1752 events in a writing session from ./coauthor-v1.0/98ec7dfa3aa04e69b9eaf765d6134943.jsonl\n",
            "Successfully read 1540 events in a writing session from ./coauthor-v1.0/484eba21615341fab99300bfe20873fb.jsonl\n",
            "Successfully read 1540 events in a writing session from ./coauthor-v1.0/34f5ead6ffce44cfbdbd9cd0ef47f0c5.jsonl\n",
            "Successfully read 874 events in a writing session from ./coauthor-v1.0/2f923aba101d46dc9bfca5a6664342d7.jsonl\n",
            "Successfully read 1531 events in a writing session from ./coauthor-v1.0/80624eb1f1d241e8b1fa4cdc70d43f0a.jsonl\n",
            "Successfully read 3220 events in a writing session from ./coauthor-v1.0/8fe4b8a137ba4a7abe80e5c005f7490f.jsonl\n",
            "Successfully read 3491 events in a writing session from ./coauthor-v1.0/5d97592b669a4155b2f8d7308d649c0d.jsonl\n",
            "Successfully read 2416 events in a writing session from ./coauthor-v1.0/2f57e9155477457aad589a7cc507cd68.jsonl\n",
            "Successfully read 2660 events in a writing session from ./coauthor-v1.0/955a3f8444e149f8a66045bb23420a4c.jsonl\n",
            "Successfully read 2196 events in a writing session from ./coauthor-v1.0/0a08f7fd748246c8ad4e353edb7e2394.jsonl\n",
            "Successfully read 1421 events in a writing session from ./coauthor-v1.0/d335521141c84360aad24ece4e5760f7.jsonl\n",
            "Successfully read 2994 events in a writing session from ./coauthor-v1.0/cb5036e1f4494870bf96a478065d3269.jsonl\n",
            "Successfully read 3119 events in a writing session from ./coauthor-v1.0/23b998c76c784ff29f0ddedd78128722.jsonl\n",
            "Successfully read 2855 events in a writing session from ./coauthor-v1.0/85e6bf7f0f3844f3a9f88b7f3350e6f6.jsonl\n",
            "Successfully read 2094 events in a writing session from ./coauthor-v1.0/87958a503957482fa3a5b13de3fbb296.jsonl\n",
            "Successfully read 2316 events in a writing session from ./coauthor-v1.0/ad3a61d515cf456cbaa424c7b4ac0f13.jsonl\n",
            "Successfully read 1136 events in a writing session from ./coauthor-v1.0/bb1c9d77d4044d218d5adebb777b9bf0.jsonl\n",
            "Successfully read 2094 events in a writing session from ./coauthor-v1.0/1763bf2d3371474ab481253b7731c586.jsonl\n",
            "Successfully read 3114 events in a writing session from ./coauthor-v1.0/c25b2c082a184e678a841035032b5468.jsonl\n",
            "Successfully read 1539 events in a writing session from ./coauthor-v1.0/029d014b392a4c41b711153a08cea400.jsonl\n",
            "Successfully read 1882 events in a writing session from ./coauthor-v1.0/2848a799f11d4a41b15f5c91dd89eff2.jsonl\n",
            "Successfully read 2145 events in a writing session from ./coauthor-v1.0/86a1c83126c749beb1159014d164c679.jsonl\n",
            "Successfully read 1653 events in a writing session from ./coauthor-v1.0/a754ad9eecca4d13954cf36eeda823b5.jsonl\n",
            "Successfully read 1913 events in a writing session from ./coauthor-v1.0/c86ee4fe34954bd7b183d8a5068255da.jsonl\n",
            "Successfully read 1689 events in a writing session from ./coauthor-v1.0/185067c797e34884b1408a69680fe28a.jsonl\n",
            "Successfully read 2501 events in a writing session from ./coauthor-v1.0/83abfb13942f491b9de32bfcc1c3dc47.jsonl\n",
            "Successfully read 1863 events in a writing session from ./coauthor-v1.0/df6068305d29453eb22a51d46085e197.jsonl\n",
            "Successfully read 2517 events in a writing session from ./coauthor-v1.0/3d19d3770396446bb568be0852f3bcd4.jsonl\n",
            "Successfully read 2246 events in a writing session from ./coauthor-v1.0/77cae115ed8349dbad550de12e5858c1.jsonl\n",
            "Successfully read 1668 events in a writing session from ./coauthor-v1.0/d2c71212ed1446a79b5d404def4239a9.jsonl\n",
            "Successfully read 1482 events in a writing session from ./coauthor-v1.0/89636fe51d724f15a23f1cef4124191f.jsonl\n",
            "Successfully read 2206 events in a writing session from ./coauthor-v1.0/f86e93e1f9e8447baa49531e1fe80f04.jsonl\n",
            "Successfully read 3743 events in a writing session from ./coauthor-v1.0/b25c76c9dd3a406192b6e3b7b4638a2a.jsonl\n",
            "Successfully read 950 events in a writing session from ./coauthor-v1.0/a59321f59eeb459da6a427267afefb9b.jsonl\n",
            "Successfully read 2929 events in a writing session from ./coauthor-v1.0/6363bd9d985e41f79f3bfb8e04fa3b5e.jsonl\n",
            "Successfully read 1691 events in a writing session from ./coauthor-v1.0/ada1c4b3f99847d9907e77dd96200ed9.jsonl\n",
            "Successfully read 1476 events in a writing session from ./coauthor-v1.0/409ea6cd2f8347dbb41344d1243c7e17.jsonl\n",
            "Successfully read 3045 events in a writing session from ./coauthor-v1.0/e0435f4cf6fc435c872ffc5b66b66b0c.jsonl\n",
            "Successfully read 1229 events in a writing session from ./coauthor-v1.0/7834dec912b34643afb92b7c3648a3fe.jsonl\n",
            "Successfully read 1222 events in a writing session from ./coauthor-v1.0/03f76432a1e149e1887c28daf15807f0.jsonl\n",
            "Successfully read 2337 events in a writing session from ./coauthor-v1.0/e03ef85aec8b445190e519003d884092.jsonl\n",
            "Successfully read 1906 events in a writing session from ./coauthor-v1.0/9e0576b5ce9945a5909edad67b3c3be8.jsonl\n",
            "Successfully read 1247 events in a writing session from ./coauthor-v1.0/8f5facc84faa440aaab8b05968fbdf4a.jsonl\n",
            "Successfully read 983 events in a writing session from ./coauthor-v1.0/a8268620a9a74cd9a64bd82f90723729.jsonl\n",
            "Successfully read 1824 events in a writing session from ./coauthor-v1.0/18de1e1d4baf4aabaf525a1f5bae3432.jsonl\n",
            "Successfully read 1211 events in a writing session from ./coauthor-v1.0/745644f53bdc47409855cc751518e25b.jsonl\n",
            "Successfully read 1606 events in a writing session from ./coauthor-v1.0/2f8c2905bd764dd1a70ed96115e75edb.jsonl\n",
            "Successfully read 934 events in a writing session from ./coauthor-v1.0/99dcceb9d7394bd1986fbf3572b3efcd.jsonl\n",
            "Successfully read 3934 events in a writing session from ./coauthor-v1.0/f23823c7cb324ac580f3d051241c7fef.jsonl\n",
            "Successfully read 1530 events in a writing session from ./coauthor-v1.0/b3a1b8cfb7d94eb3a615600d440a0bc1.jsonl\n",
            "Successfully read 2323 events in a writing session from ./coauthor-v1.0/8d4bdb014d5f4a919735ff5a928176b5.jsonl\n",
            "Successfully read 1751 events in a writing session from ./coauthor-v1.0/58e702b7c7e249a0aaf762ea10f833b3.jsonl\n",
            "Successfully read 2146 events in a writing session from ./coauthor-v1.0/6d7b66caeb974603a770490a4a83c38a.jsonl\n",
            "Successfully read 1455 events in a writing session from ./coauthor-v1.0/1049b04745b44e7fa2a50d98321c2026.jsonl\n",
            "Successfully read 1992 events in a writing session from ./coauthor-v1.0/ed0280fb0f114ead8a22516a8309f982.jsonl\n",
            "Successfully read 1528 events in a writing session from ./coauthor-v1.0/47f1f3cedf5e4a779470a1816fd625dc.jsonl\n",
            "Successfully read 1562 events in a writing session from ./coauthor-v1.0/f44e4ed0828e40abab5892a019e11dc0.jsonl\n",
            "Successfully read 1429 events in a writing session from ./coauthor-v1.0/be2644ed7bc34c438c36bf80db400c9c.jsonl\n",
            "Successfully read 1696 events in a writing session from ./coauthor-v1.0/d301787ad1c14454943032e70f5f46f0.jsonl\n",
            "Successfully read 1990 events in a writing session from ./coauthor-v1.0/007769c9000e457eae8485221041802d.jsonl\n",
            "Successfully read 1672 events in a writing session from ./coauthor-v1.0/200b5a62bded44f6ba8320c117bee58a.jsonl\n",
            "Successfully read 2967 events in a writing session from ./coauthor-v1.0/06209e0aab79451d994d756ff3542754.jsonl\n",
            "Successfully read 1671 events in a writing session from ./coauthor-v1.0/2d9bcb435a994711829fe6b05f256fdb.jsonl\n",
            "Successfully read 1431 events in a writing session from ./coauthor-v1.0/f3bd97b3642443f0869190c50ad0b771.jsonl\n",
            "Successfully read 875 events in a writing session from ./coauthor-v1.0/07dab80e78f24a8bb09384e9067719d0.jsonl\n",
            "Successfully read 1206 events in a writing session from ./coauthor-v1.0/2eec737efca444bc893bea2f5b791a00.jsonl\n",
            "Successfully read 2989 events in a writing session from ./coauthor-v1.0/26ef513f441b4cff947d376a0fe1fb5c.jsonl\n",
            "Successfully read 1399 events in a writing session from ./coauthor-v1.0/b75ef56faed74be0b4b59e15138e18f4.jsonl\n",
            "Successfully read 1521 events in a writing session from ./coauthor-v1.0/c72d65250b4f4c1193e2f089afe9429c.jsonl\n",
            "Successfully read 1898 events in a writing session from ./coauthor-v1.0/138dd7338a0f480584ca1deddb32f6b7.jsonl\n",
            "Successfully read 1742 events in a writing session from ./coauthor-v1.0/b43804135b264aaf84c129e2f6c5be48.jsonl\n",
            "Successfully read 1209 events in a writing session from ./coauthor-v1.0/cf17210c31294194a0bf3e3a851a34ea.jsonl\n",
            "Successfully read 1949 events in a writing session from ./coauthor-v1.0/65564e291348443491a3701f80d2b99d.jsonl\n",
            "Successfully read 1112 events in a writing session from ./coauthor-v1.0/38375f5155704d2d8509843e56ec029d.jsonl\n",
            "Successfully read 2008 events in a writing session from ./coauthor-v1.0/91e0856327a04acb8f366faea281f072.jsonl\n",
            "Successfully read 1798 events in a writing session from ./coauthor-v1.0/ee27a30ee83c4349b80fc05e81c00a82.jsonl\n",
            "Successfully read 2453 events in a writing session from ./coauthor-v1.0/758b76b82ccf413aa93fd4d74624d288.jsonl\n",
            "Successfully read 1725 events in a writing session from ./coauthor-v1.0/4181c7d35eff4eceb4aad545dd2a9273.jsonl\n",
            "Successfully read 1951 events in a writing session from ./coauthor-v1.0/266f0df3fa994ce1b0b8b37da8169d62.jsonl\n",
            "Successfully read 1648 events in a writing session from ./coauthor-v1.0/3ca2007bfff344b0a3f1322866235137.jsonl\n"
          ]
        }
      ]
    },
    {
      "cell_type": "code",
      "source": [
        "df_results_with_acceptances = pd.DataFrame(jsd_results)\n",
        "df_results_with_acceptances.to_csv(\"creativity1.csv\", index=False)\n",
        "\n",
        "print(f\"Processed. Results saved to creativity1.csv.\")\n"
      ],
      "metadata": {
        "colab": {
          "base_uri": "https://localhost:8080/"
        },
        "id": "zHVxsEye3OSN",
        "outputId": "6238c1d5-56ed-4d30-97ed-2ba62d99640f"
      },
      "execution_count": 12,
      "outputs": [
        {
          "output_type": "stream",
          "name": "stdout",
          "text": [
            "Processed. Results saved to creativity1.csv.\n"
          ]
        }
      ]
    },
    {
      "cell_type": "markdown",
      "source": [
        "show 5 highest syntactical complexity."
      ],
      "metadata": {
        "id": "Dd8O5CZO4SRJ"
      }
    },
    {
      "cell_type": "code",
      "source": [
        "# highest and lowest 5 similarity scores and text\n",
        "#highest five after similarity of 1\n",
        "highest_5 = df_results_with_acceptances[df_results_with_acceptances['ai_score'] < 1].nlargest(5, 'ai_score')\n",
        "lowest_5 = df_results_with_acceptances.nsmallest(5, 'ai_score')\n",
        "print(\"Highest 5 Similarity Scores:\")\n",
        "for index, row in highest_5.iterrows():\n",
        "    print(f\"Score: {row['ai_score']}\")\n",
        "    print(f\"User Text: {row['user_text']}\")\n",
        "    print(f\"AI Suggestion: {row['ai_suggestion']}\")\n",
        "\n",
        "\n",
        "print(\"\\nLowest 5 Similarity Scores:\")\n",
        "for index, row in lowest_5.iterrows():\n",
        "    print(f\"Score: {row['ai_score']}\")\n",
        "    print(f\"User Text: {row['user_text']}\")\n",
        "    print(f\"AI Suggestion: {row['ai_suggestion']}\")"
      ],
      "metadata": {
        "colab": {
          "base_uri": "https://localhost:8080/"
        },
        "id": "ywuXTdL24Rzm",
        "outputId": "efec7c31-e083-4334-ed95-786d0cd64129"
      },
      "execution_count": 13,
      "outputs": [
        {
          "output_type": "stream",
          "name": "stdout",
          "text": [
            "Highest 5 Similarity Scores:\n",
            "Score: 0.9666666666666667\n",
            "User Text: I believe that one of the ultimate goals of any sport should be to remain safe and injury-free, and not only while you are participating in the sport, but also if you are teaching it to others.\n",
            "AI Suggestion: This is why proper safety gear is required when participating in a sport, such as helmets, knee and elbow pads, wrist guards, and other support gear\n",
            "Score: 0.9666666666666667\n",
            "User Text: Most importantly, listening to audiobooks doesn't strain your eyes.\n",
            "AI Suggestion: I think that there are advantages to listening to audiobooks that cannot be gained by reading books.\n",
            "Score: 0.9333333333333332\n",
            "User Text: Then, there is the subject of intelligence.\n",
            "AI Suggestion: I believe that since animals are not as intelligent as humans (this is my opinion, based on the information I have been taught) that if they suffer\n",
            "Score: 0.9333333333333332\n",
            "User Text: due to the defenses the U.S. built up over the last fifty years.\n",
            "AI Suggestion: The U.S. has decided to use what was built solely for defense against it's attackers and put an end to this madness before it gets any\n",
            "Score: 0.9333333333333332\n",
            "User Text: She gets sent to a girls' home, where she meets a new friend named Lucie. Lucie, however,\n",
            "AI Suggestion: Soeurette gets punished badly for it, and she is so upset that she runs away from the girls' home.\n",
            "\n",
            "Lowest 5 Similarity Scores:\n",
            "Score: 0.03333333333333333\n",
            "User Text: He was tired of the long hours, the constant travel, the constant pressure, and the constant need to be liked.\n",
            "AI Suggestion: He was free.\n",
            "Score: 0.03333333333333333\n",
            "User Text: the University of Nevada, Reno.\n",
            "AI Suggestion: they're not invulnerable.\n",
            "Score: 0.03333333333333333\n",
            "User Text: \"I don't know,\" you say. \"After all, I'm deathly allergic to bees.\"\n",
            "AI Suggestion: will be delicious.\n",
            "Score: 0.03333333333333333\n",
            "User Text: The bee says that he's been specially trained to be gentle and that he'll be sure to keep his stinger tucked away. And he promises that the queen doesn't want anything bad to happen to you either, so she'll be sure not to sting you too. He also promises that the picnic food\n",
            "AI Suggestion: all your favorite foods.\n",
            "Score: 0.03333333333333333\n",
            "User Text: all your favorite foods with a special\n",
            "AI Suggestion: all your favorites.\n"
          ]
        }
      ]
    },
    {
      "cell_type": "code",
      "source": [
        "# plot of complexity distribution by acceptance status\n",
        "import matplotlib.pyplot as plt\n",
        "plt.figure(figsize=(10, 6))\n",
        "plt.hist(df_results_with_acceptances[df_results_with_acceptances['acceptance_status'] == 'accepted']['ai_score'], bins=35, color='green', alpha=0.7, label='Accepted')\n",
        "plt.hist(df_results_with_acceptances[df_results_with_acceptances['acceptance_status'] == 'rejected']['ai_score'], bins=35, color='red', alpha=0.7, label='Rejected')\n",
        "plt.title('Distribution of Syntacitical Complexity by Acceptance Status')\n",
        "plt.xlabel('AI Complexity Score')\n",
        "plt.legend()"
      ],
      "metadata": {
        "colab": {
          "base_uri": "https://localhost:8080/",
          "height": 582
        },
        "id": "I9pgHCx65nsa",
        "outputId": "7b94dbf9-c129-4dd7-e24f-c7c045d3a0f9"
      },
      "execution_count": 16,
      "outputs": [
        {
          "output_type": "execute_result",
          "data": {
            "text/plain": [
              "<matplotlib.legend.Legend at 0x78730e490450>"
            ]
          },
          "metadata": {},
          "execution_count": 16
        },
        {
          "output_type": "display_data",
          "data": {
            "text/plain": [
              "<Figure size 1000x600 with 1 Axes>"
            ],
            "image/png": "[encoded data removed]"
          },
          "metadata": {}
        }
      ]
    }
  ]
}