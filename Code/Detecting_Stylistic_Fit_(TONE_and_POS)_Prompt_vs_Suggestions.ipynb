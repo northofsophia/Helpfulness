{
  "cells": [
    {
      "cell_type": "markdown",
      "metadata": {
        "id": "0jtXvigD7-eo"
      },
      "source": [
        "# Getting started with CoAuthor\n",
        "\n",
        "**Goal: Download and read the CoAuthor dataset**\n",
        "\n",
        "Steps\n",
        "1. Download CoAuthor\n",
        "2. Read writing sessions\n",
        "3. Examine events\n",
        "\n",
        "Below sections of this .ipynb come from code from CoAuthor [LINKED HERE](https://colab.research.google.com/drive/1nUGXP9l_jelbB4X65J0ivUvLgQz1RK1C?usp=sharing)\n",
        "\n",
        "* Download CoAuthor\n",
        "* Read writing sessions\n",
        "* Examine events\n",
        "\n"
      ]
    },
    {
      "cell_type": "markdown",
      "metadata": {
        "id": "8pSmRqHN7x17"
      },
      "source": [
        "## 1. Download CoAuthor"
      ]
    },
    {
      "cell_type": "code",
      "execution_count": 1,
      "metadata": {
        "colab": {
          "base_uri": "https://localhost:8080/"
        },
        "id": "m2h26ije5zUn",
        "outputId": "9bf90f11-dc57-4d48-ff57-2e8d430e6b77"
      },
      "outputs": [
        {
          "output_type": "stream",
          "name": "stdout",
          "text": [
            "--2025-03-08 17:20:16--  https://cs.stanford.edu/~minalee/zip/chi2022-coauthor-v1.0.zip\n",
            "Resolving cs.stanford.edu (cs.stanford.edu)... 171.64.64.64\n",
            "Connecting to cs.stanford.edu (cs.stanford.edu)|171.64.64.64|:443... connected.\n",
            "HTTP request sent, awaiting response... 200 OK\n",
            "Length: 49956179 (48M) [application/zip]\n",
            "Saving to: ‘chi2022-coauthor-v1.0.zip’\n",
            "\n",
            "chi2022-coauthor-v1 100%[===================>]  47.64M  8.27MB/s    in 5.4s    \n",
            "\n",
            "2025-03-08 17:20:22 (8.89 MB/s) - ‘chi2022-coauthor-v1.0.zip’ saved [49956179/49956179]\n",
            "\n"
          ]
        }
      ],
      "source": [
        "!wget https://cs.stanford.edu/~minalee/zip/chi2022-coauthor-v1.0.zip\n",
        "!unzip -q chi2022-coauthor-v1.0.zip\n",
        "!rm chi2022-coauthor-v1.0.zip"
      ]
    },
    {
      "cell_type": "code",
      "execution_count": 3,
      "metadata": {
        "colab": {
          "base_uri": "https://localhost:8080/"
        },
        "id": "iVR7YkzF6U3u",
        "outputId": "6c71a645-8430-4df0-cd20-251a4110c5e2"
      },
      "outputs": [
        {
          "output_type": "stream",
          "name": "stdout",
          "text": [
            "Successfully downloaded 1447 writing sessions in CoAuthor!\n"
          ]
        }
      ],
      "source": [
        "import os\n",
        "\n",
        "dataset_dir = './coauthor-v1.0'\n",
        "paths = [\n",
        "    os.path.join(dataset_dir, path)\n",
        "    for path in os.listdir(dataset_dir)\n",
        "    if path.endswith('jsonl')\n",
        "]\n",
        "\n",
        "print(f'Successfully downloaded {len(paths)} writing sessions in CoAuthor!')"
      ]
    },
    {
      "cell_type": "markdown",
      "metadata": {
        "id": "1CfOvo7F8-WL"
      },
      "source": [
        "## 2. Read writing sessions\n",
        "\n",
        "Each writing session is saved as a `.jsonl` file in CoAuthor.\n",
        "It is a very convenient format to store events occured in the writing session: each line is a JSON object, representing an *event*, and there are many lines in the file, representing *a sequence of events*.\n",
        "\n",
        "Let's read one of the files and see what it looks like!\n",
        "\n",
        "> `.jsonl` is the JSON Lines text format. It is convenient for storing structured data that may be processed one record at a time. For more information, please refer to https://jsonlines.org/."
      ]
    },
    {
      "cell_type": "code",
      "execution_count": 4,
      "metadata": {
        "id": "VGRDy9u07CHR"
      },
      "outputs": [],
      "source": [
        "import json\n",
        "\n",
        "def read_writing_session(path):\n",
        "    events = []\n",
        "    with open(path, 'r') as f:\n",
        "        for event in f:\n",
        "            events.append(json.loads(event))\n",
        "    print(f'Successfully read {len(events)} events in a writing session from {path}')\n",
        "    return events"
      ]
    },
    {
      "cell_type": "code",
      "execution_count": 5,
      "metadata": {
        "colab": {
          "base_uri": "https://localhost:8080/"
        },
        "id": "zzOzptPNC7oC",
        "outputId": "c07e633a-7b04-4204-8b40-a03e0dda4e50"
      },
      "outputs": [
        {
          "output_type": "stream",
          "name": "stdout",
          "text": [
            "Successfully read 1443 events in a writing session from ./coauthor-v1.0/91366311bd76400b9ea7efe17bf8b659.jsonl\n"
          ]
        }
      ],
      "source": [
        "events = read_writing_session(paths[0])"
      ]
    },
    {
      "cell_type": "markdown",
      "metadata": {
        "id": "NkqfI0hEEa2c"
      },
      "source": [
        "## 3. Examine events"
      ]
    },
    {
      "cell_type": "markdown",
      "metadata": {
        "id": "oSEEy_bAGSD6"
      },
      "source": [
        "Whenever writers insert or delete text, move a cursor forward or backward, get suggestions from the system by pressing the tab key, or accept or dismiss suggestions, it is recorded as an event.\n",
        "\n",
        "> Here is a list of all possible events in CoAuthor:\n",
        "* `system-initialize`\n",
        "* `text-insert`\n",
        "* `text-delete`\n",
        "* `cursor-forward`\n",
        "* `cursor-backward`\n",
        "* `cursor-select`\n",
        "* `suggestion-get`\n",
        "* `suggestion-open`\n",
        "* `suggestion-up`\n",
        "* `suggestion-down`\n",
        "* `suggestion-select`\n",
        "* `suggestion-close`\n",
        "\n",
        "For more details, please check out our paper (Table 1): https://arxiv.org/pdf/2201.06796.pdf"
      ]
    },
    {
      "cell_type": "code",
      "execution_count": 6,
      "metadata": {
        "colab": {
          "base_uri": "https://localhost:8080/"
        },
        "id": "Pb16mGhXDXCS",
        "outputId": "0fbfb5eb-7e77-4f47-ee16-97f1b749eb5e"
      },
      "outputs": [
        {
          "output_type": "execute_result",
          "data": {
            "text/plain": [
              "['system-initialize',\n",
              " 'text-insert',\n",
              " 'text-insert',\n",
              " 'text-insert',\n",
              " 'text-insert',\n",
              " 'text-insert',\n",
              " 'text-insert',\n",
              " 'text-insert',\n",
              " 'text-insert',\n",
              " 'text-insert']"
            ]
          },
          "metadata": {},
          "execution_count": 6
        }
      ],
      "source": [
        "event_names = [event['eventName'] for event in events]\n",
        "event_names[:10]"
      ]
    },
    {
      "cell_type": "markdown",
      "metadata": {
        "id": "Gno1mjQiEvbG"
      },
      "source": [
        "Let's look at each *event* more closely now!\n",
        "\n",
        "In the beginning of a writing session, you will see something like this for a system-initialize event:"
      ]
    },
    {
      "cell_type": "code",
      "execution_count": 7,
      "metadata": {
        "colab": {
          "base_uri": "https://localhost:8080/"
        },
        "id": "DLxZJr4S7CJ9",
        "outputId": "8ad3f2a9-be8c-447c-e116-76b91ab1d1f4"
      },
      "outputs": [
        {
          "output_type": "execute_result",
          "data": {
            "text/plain": [
              "{'eventName': 'system-initialize',\n",
              " 'eventSource': 'api',\n",
              " 'eventTimestamp': 1629598425078,\n",
              " 'textDelta': '',\n",
              " 'cursorRange': '',\n",
              " 'currentDoc': 'How Do You Think Technology Affects Dating?\\n\\nHave you had any experience with dating? Have you ever used dating apps? If so, what has it been like for you? If not, why not?\\n\\nHow do you think technology — like apps, Netflix, social media and texting — affects dating and relationships? In your opinion, does it improve or worsen romantic interactions? How so?\\n\\n---\\n\\nIn my opinion,\\n',\n",
              " 'currentCursor': 379,\n",
              " 'currentSuggestions': [],\n",
              " 'currentSuggestionIndex': 0,\n",
              " 'currentHoverIndex': '',\n",
              " 'currentN': '5',\n",
              " 'currentMaxToken': '30',\n",
              " 'currentTemperature': '0.2',\n",
              " 'currentTopP': '1',\n",
              " 'currentPresencePenalty': '0',\n",
              " 'currentFrequencyPenalty': '0.5',\n",
              " 'eventNum': 0}"
            ]
          },
          "metadata": {},
          "execution_count": 7
        }
      ],
      "source": [
        "events[0]"
      ]
    },
    {
      "cell_type": "markdown",
      "metadata": {
        "id": "OOHs8_akEl9t"
      },
      "source": [
        "Concretely, an *event* is a tuple of event name, timestamp, and snapshot of the current editor.\n",
        "This is designed to preserve every detail about interactions at a keystroke-level, so it is quite detailed as you can see!\n",
        "\n",
        "> **Event and its metadata**\n",
        "* `eventName`: event name (e.g. `system-initialize`)\n",
        "* `eventSource`: event source (e.g. `user` or `api`)\n",
        "* `textDelta`: text that has been changed compared to the previous event (if no change, empty)\n",
        "* `cursorRange`: cursor location or selection that has been changed compared to the previous event (if no change, empty)\n",
        "\n",
        "> **Timestamp**\n",
        "* `eventTimestamp`: timestamp of the event\n",
        "* `eventNum`: index of the event\n",
        "\n",
        "> **Snapshot of the current editor**\n",
        "* Editor\n",
        "  * `currentDoc`: a writing prompt to start with (otherwise, empty)\n",
        "  * `currentCursor`: cursor location\n",
        "  * `currentSuggestions`: most recent suggestions that are stored and can be reopened\n",
        "* Decoding parameters\n",
        "  * `currentN`: the number of suggestions to generate per query (e.g. 5)\n",
        "  * `currentMaxToken`: the maximum number of tokens to generate per suggestion\n",
        "  * `currentTemperature`: sampling temperature to use for generation; higher values means the model will take more risks\n",
        "  * `currentTopP`: nucleus sampling; the model considers the results of the tokens with top_p probability mass\n",
        "  * `currentPresencePenalty`: positive values penalize new tokens based on whether they appear in the text so far, increasing the model's likelihood to talk about new topics\n",
        "  * `currentFrequencyPenalty`: positive values penalize new tokens based on their existing frequency in the text so far, decreasing the model's likelihood to repeat the same line verbatim\n",
        "\n",
        "\n",
        "For more details on decoding parameters, please refer to https://beta.openai.com/docs/api-reference/completions."
      ]
    },
    {
      "cell_type": "markdown",
      "metadata": {
        "id": "9tFejSrXGueX"
      },
      "source": [
        "## 4. Detecting Tone"
      ]
    },
    {
      "cell_type": "markdown",
      "metadata": {
        "id": "MVnNCVPqz9CF"
      },
      "source": [
        "Here we use RoBERTa GoEmotions for our emotion classifier. Downloading the model here."
      ]
    },
    {
      "cell_type": "code",
      "execution_count": 8,
      "metadata": {
        "colab": {
          "base_uri": "https://localhost:8080/",
          "height": 454,
          "referenced_widgets": [
            "b6c3ea3395b04879b7db3b5c1101a67c",
            "1d5d3a135d1949febfe3981ea33bdbb5",
            "a18a66e2389e42b2b8be54f0605e6e6d",
            "dc45c55f5a5e4e6d830b3940e84c771b",
            "ed21dce4189e464a816ec2084729df3b",
            "776d4196acf441cd8a87276ff987b06c",
            "2fdfe04660f14c028f4383e8994553b1",
            "0341a93e6c194f94b56733864d4b3e46",
            "424cbffe78a34dc88800c0c1f0a48d9d",
            "f92a8af26b154a6d959d7902f0f671cd",
            "cd5d33ddf58f43589b923116673c7c16",
            "6ec81a0442fb4e43bb08a9555fe4f5ba",
            "6c21d281aea04c7eb3d13ab56d51c82e",
            "60a02e57aa4143278c4268fd94fee765",
            "e8bc1b928de9440c94834b7bc90716e6",
            "6183d9ed30a546ee988a06d70e11600c",
            "6c7fde6206eb421f81e36c87dffefeb4",
            "61b8638b0ea74b7cb97698a663669705",
            "3ef67fd58d37403aa170a7b8dc8570db",
            "a5ce83c4e41547dda8dc94536a00dbf8",
            "9a377715866947b68b469afd576cd049",
            "01d2177bb6fe4053b99afae3bbb0eb66",
            "5af9f51dea9e4b989aeb655e9b6e09bb",
            "853e9be0832540768c227023a781a9ee",
            "6bb17de39994439b96ee2d567c1e5b60",
            "a3a53166d65e49cd94b5a8fbee359027",
            "a694610e8f6e4b86bf3e36dd12f9d084",
            "c0f51e40a1604e71a08679b4e2811b9a",
            "8a3da04c26574092bf1a8a57e87d7145",
            "ddfc2ca1de61475f806e03ae2a5632e7",
            "7184813d948e4782bd41e1d80d2a17ae",
            "d86e49712300475ea6222153ef73c7b0",
            "8b4e6fb042b94ecebc9db67380ffd291",
            "0cf37b28d331472abd6dbbb509b42ee2",
            "4d6d54b718194f36b472f61e97e0bc9c",
            "576431911a6b4575a358e6157698f1b5",
            "1fcff1c962074e0fa51d03bf549544f6",
            "87ff752813ed4bef942cf051ca992b7d",
            "cc8cd3f2952641c8971506719799635e",
            "08715f78e94d467795f997fb52ab50ba",
            "f0e7109ec582472896e5cb43a2c06dd3",
            "65761a20a2ef4c7c9e79ff7640746034",
            "22b69aa7bb94496d9f4019a4fd127cca",
            "e3da946340e24d4bafce7934ce7f8de3",
            "822d3affff0c412ba98ec2b6130d2563",
            "88a845e0bb59419a8f38a9ef27a36bb1",
            "9a4a5e7ffd9a4aed9c27cccc033392b8",
            "b5f26195cdef41329749c433e43c906e",
            "43ddd805dc8f4b718b1ba6465ce87728",
            "c2edb6855f49439797c9086ed9fa7646",
            "ed97ef47463a462db58186407376d40d",
            "aa6b4674c26d409d9acb3481868f71f6",
            "f2e0427cbdbd462f91f5e6c59bc7db11",
            "0e245dd75b1e4b5f81d5c31eec196ea2",
            "2d19409e668d46d6840878d62749f55f",
            "e67d263fa0a94473a094746635a9d5df",
            "be3d6d41dc4f4514aecfb28db9a7496a",
            "68f33c271df546fea2d121f588a85512",
            "53d44bc9ea6e49a986d5fb85c0a724b8",
            "3c5e047feb574bd59843b3b32095d230",
            "1cb8391d630740628726afcf337e26bf",
            "c7317b9cc4f845b7a7c5c69fdc493562",
            "641ca86a133f4882b58356bb666cef9a",
            "131e62c846d048928b25a635848c9fb2",
            "3d96d1e47e4745dd8c713f8a6b41338b",
            "ccbfa9401875478d9b445d1f4f249f21",
            "7114709fe402409db8368f8c6e8ca94f",
            "83de0b55d56f487b880e8a60e9d70fb0",
            "05b136815066420cb59fcc928f177a30",
            "838c52d3bb654b57b8c7aa57e45f2cd6",
            "988a22b967e84993b9c2c8b76b377406",
            "909d3e5af2ca4039b1b96e1ea3b2bf3c",
            "85e95d77cffe4fd3b7ea96782c96ec72",
            "22d7847b3ff34adcb2482e1d92cd20fd",
            "4da0a7a7cc95486189cbcb889625e5ee",
            "7d4be4bf5ee148babd7c80f27af13fdc",
            "ad8e9757462a4db8b66da8fa3fbedcd2",
            "a8c21aa74e0945de8c674c8514baa049",
            "96fa6aa0e27049778162dd81d7796868",
            "4ce3301d6a174951843855e465019c58",
            "8aa61d9d12e04c16af62e87c0c3f4f2e",
            "86a9ee38062a424e97ada422d8a3b2ae",
            "3c92b33fb3324ddb9e5d45920c08e632",
            "d26cd535c0b34231a2f78e0bce1d2cf5",
            "e96a687bfa9645cea8b02aa9faa686f0",
            "623e1ef71c4c419cbaba9fc50ad72411",
            "7477942e580345f99e440a8fdb81e913",
            "c4513a29e88a4c65a0a2436d17cac432"
          ]
        },
        "id": "88cDWcWUHhY7",
        "outputId": "28edbb5b-d3fc-49fb-a6db-9ea1f939161a"
      },
      "outputs": [
        {
          "output_type": "stream",
          "name": "stderr",
          "text": [
            "/usr/local/lib/python3.11/dist-packages/huggingface_hub/utils/_auth.py:94: UserWarning: \n",
            "The secret `HF_TOKEN` does not exist in your Colab secrets.\n",
            "To authenticate with the Hugging Face Hub, create a token in your settings tab (https://huggingface.co/settings/tokens), set it as secret in your Google Colab and restart your session.\n",
            "You will be able to reuse this secret in all of your notebooks.\n",
            "Please note that authentication is recommended but still optional to access public models or datasets.\n",
            "  warnings.warn(\n"
          ]
        },
        {
          "output_type": "display_data",
          "data": {
            "text/plain": [
              "config.json:   0%|          | 0.00/1.00k [00:00<?, ?B/s]"
            ],
            "application/vnd.jupyter.widget-view+json": {
              "version_major": 2,
              "version_minor": 0,
              "model_id": "b6c3ea3395b04879b7db3b5c1101a67c"
            }
          },
          "metadata": {}
        },
        {
          "output_type": "display_data",
          "data": {
            "text/plain": [
              "pytorch_model.bin:   0%|          | 0.00/329M [00:00<?, ?B/s]"
            ],
            "application/vnd.jupyter.widget-view+json": {
              "version_major": 2,
              "version_minor": 0,
              "model_id": "6ec81a0442fb4e43bb08a9555fe4f5ba"
            }
          },
          "metadata": {}
        },
        {
          "output_type": "display_data",
          "data": {
            "text/plain": [
              "tokenizer_config.json:   0%|          | 0.00/294 [00:00<?, ?B/s]"
            ],
            "application/vnd.jupyter.widget-view+json": {
              "version_major": 2,
              "version_minor": 0,
              "model_id": "5af9f51dea9e4b989aeb655e9b6e09bb"
            }
          },
          "metadata": {}
        },
        {
          "output_type": "display_data",
          "data": {
            "text/plain": [
              "vocab.json:   0%|          | 0.00/798k [00:00<?, ?B/s]"
            ],
            "application/vnd.jupyter.widget-view+json": {
              "version_major": 2,
              "version_minor": 0,
              "model_id": "0cf37b28d331472abd6dbbb509b42ee2"
            }
          },
          "metadata": {}
        },
        {
          "output_type": "display_data",
          "data": {
            "text/plain": [
              "merges.txt:   0%|          | 0.00/456k [00:00<?, ?B/s]"
            ],
            "application/vnd.jupyter.widget-view+json": {
              "version_major": 2,
              "version_minor": 0,
              "model_id": "822d3affff0c412ba98ec2b6130d2563"
            }
          },
          "metadata": {}
        },
        {
          "output_type": "display_data",
          "data": {
            "text/plain": [
              "tokenizer.json:   0%|          | 0.00/1.36M [00:00<?, ?B/s]"
            ],
            "application/vnd.jupyter.widget-view+json": {
              "version_major": 2,
              "version_minor": 0,
              "model_id": "e67d263fa0a94473a094746635a9d5df"
            }
          },
          "metadata": {}
        },
        {
          "output_type": "display_data",
          "data": {
            "text/plain": [
              "model.safetensors:   0%|          | 0.00/329M [00:00<?, ?B/s]"
            ],
            "application/vnd.jupyter.widget-view+json": {
              "version_major": 2,
              "version_minor": 0,
              "model_id": "7114709fe402409db8368f8c6e8ca94f"
            }
          },
          "metadata": {}
        },
        {
          "output_type": "display_data",
          "data": {
            "text/plain": [
              "special_tokens_map.json:   0%|          | 0.00/239 [00:00<?, ?B/s]"
            ],
            "application/vnd.jupyter.widget-view+json": {
              "version_major": 2,
              "version_minor": 0,
              "model_id": "a8c21aa74e0945de8c674c8514baa049"
            }
          },
          "metadata": {}
        },
        {
          "output_type": "stream",
          "name": "stderr",
          "text": [
            "Device set to use cpu\n",
            "/usr/local/lib/python3.11/dist-packages/transformers/pipelines/text_classification.py:106: UserWarning: `return_all_scores` is now deprecated,  if want a similar functionality use `top_k=None` instead of `return_all_scores=True` or `top_k=1` instead of `return_all_scores=False`.\n",
            "  warnings.warn(\n"
          ]
        }
      ],
      "source": [
        "from transformers import pipeline\n",
        "\n",
        "# Load emotion classification model\n",
        "emotion_classifier = pipeline(\"text-classification\", model=\"j-hartmann/emotion-english-distilroberta-base\", return_all_scores=True)"
      ]
    },
    {
      "cell_type": "code",
      "execution_count": 9,
      "metadata": {
        "colab": {
          "base_uri": "https://localhost:8080/",
          "height": 55
        },
        "id": "BYM7651rGy4P",
        "outputId": "8e21cdc9-33ea-40e0-b5f5-dcb9fc713f3a"
      },
      "outputs": [
        {
          "output_type": "stream",
          "name": "stdout",
          "text": [
            "[[{'label': 'anger', 'score': 0.06616844981908798}, {'label': 'disgust', 'score': 0.13412681221961975}, {'label': 'fear', 'score': 0.01607241854071617}, {'label': 'joy', 'score': 0.009524280205368996}, {'label': 'neutral', 'score': 0.3987541198730469}, {'label': 'sadness', 'score': 0.36784031987190247}, {'label': 'surprise', 'score': 0.007513641845434904}]]\n"
          ]
        }
      ],
      "source": [
        "text = \"The weather is especially warm today.\"\n",
        "result = emotion_classifier(text)\n",
        "print(result)"
      ]
    },
    {
      "cell_type": "markdown",
      "metadata": {
        "id": "n97MBJ_byn1t"
      },
      "source": [
        "Function to get the emotion label and score for top six emotions: anger, disgust, fear, joy, neutral, sadness, and surprise"
      ]
    },
    {
      "cell_type": "code",
      "execution_count": 11,
      "metadata": {
        "id": "4rS23k09MDnl"
      },
      "outputs": [],
      "source": [
        "def get_emotion_vector(text):\n",
        "  result = emotion_classifier(text)[0]\n",
        "  scores = {emotion['label']: emotion['score'] for emotion in result}\n",
        "  return scores, np.array(list(scores.values()))"
      ]
    },
    {
      "cell_type": "markdown",
      "metadata": {
        "id": "FZaHct3GL_y2"
      },
      "source": [
        "## 5. Calculating Similarity of Tone Vectors - Jensen-Shannon Divergence (JSD)"
      ]
    },
    {
      "cell_type": "markdown",
      "metadata": {
        "id": "8Z1ZXkUB0KBG"
      },
      "source": [
        "Here I am downloading Jensen-Shannon Divergence as the method to calculate similarity of the tone portfolios that we will capture with Go Emotions."
      ]
    },
    {
      "cell_type": "code",
      "execution_count": 12,
      "metadata": {
        "id": "r8f0uFp2G3vp"
      },
      "outputs": [],
      "source": [
        "from scipy.spatial.distance import jensenshannon\n",
        "\n",
        "def similarity_jsd(vector1, vector2):\n",
        "    ''' Calculate JSD similarity between two vectors.'''\n",
        "    jsd =  jensenshannon(vector1, vector2)\n",
        "    similarity = 1 - jsd\n",
        "    return similarity"
      ]
    },
    {
      "cell_type": "code",
      "execution_count": 13,
      "metadata": {
        "colab": {
          "base_uri": "https://localhost:8080/"
        },
        "id": "Vmr7KXM2NCY0",
        "outputId": "6afe1ef2-14ee-491b-e2ed-908e2b98c373"
      },
      "outputs": [
        {
          "output_type": "execute_result",
          "data": {
            "text/plain": [
              "0.6319316171294749"
            ]
          },
          "metadata": {},
          "execution_count": 13
        }
      ],
      "source": [
        "import numpy as np\n",
        "prompt = \"I love when my dogs are excited to go for a walk. It makes the walks much more enjoyable.\"\n",
        "suggestion = \"That is why I always bring their favorite stuffed animals out to get them ready to go for a fun walk.\"\n",
        "\n",
        "score1, v1 = get_emotion_vector(prompt)\n",
        "score2, v2 = get_emotion_vector(suggestion)\n",
        "similarity_jsd(v1, v2)"
      ]
    },
    {
      "cell_type": "code",
      "execution_count": 14,
      "metadata": {
        "colab": {
          "base_uri": "https://localhost:8080/"
        },
        "id": "9HCE1JM0Mxyy",
        "outputId": "4afcd6f8-fd92-49bc-87af-b606b67c27c2"
      },
      "outputs": [
        {
          "output_type": "stream",
          "name": "stdout",
          "text": [
            "{'anger': 0.0022996123880147934, 'disgust': 0.0035732020623981953, 'fear': 0.00047727618948556483, 'joy': 0.9764875173568726, 'neutral': 0.011999444104731083, 'sadness': 0.0032281221356242895, 'surprise': 0.0019348839996382594}\n",
            "[2.29961239e-03 3.57320206e-03 4.77276189e-04 9.76487517e-01\n",
            " 1.19994441e-02 3.22812214e-03 1.93488400e-03]\n"
          ]
        }
      ],
      "source": [
        "print(score1)\n",
        "print(v1)"
      ]
    },
    {
      "cell_type": "code",
      "execution_count": 15,
      "metadata": {
        "colab": {
          "base_uri": "https://localhost:8080/"
        },
        "id": "a4HraRJyNfMy",
        "outputId": "d7edcdc0-9beb-445c-d5d5-331241f751d3"
      },
      "outputs": [
        {
          "output_type": "stream",
          "name": "stdout",
          "text": [
            "{'anger': 0.009798532351851463, 'disgust': 0.008384371176362038, 'fear': 0.0014324390795081854, 'joy': 0.5880451202392578, 'neutral': 0.3717357814311981, 'sadness': 0.006140437442809343, 'surprise': 0.014463272877037525}\n",
            "[0.00979853 0.00838437 0.00143244 0.58804512 0.37173578 0.00614044\n",
            " 0.01446327]\n"
          ]
        }
      ],
      "source": [
        "print(score2)\n",
        "print(v2)"
      ]
    },
    {
      "cell_type": "markdown",
      "metadata": {
        "id": "BXRLYyCUOGLJ"
      },
      "source": [
        "## 6. Creating and Visualizing Tone Similarity between CoAuthor Prompts"
      ]
    },
    {
      "cell_type": "code",
      "execution_count": 16,
      "metadata": {
        "colab": {
          "base_uri": "https://localhost:8080/"
        },
        "id": "8wSyBgJ6ebRS",
        "outputId": "8de901d9-fd17-441c-c36b-520e6045502c"
      },
      "outputs": [
        {
          "output_type": "execute_result",
          "data": {
            "text/plain": [
              "{'eventName': 'text-insert',\n",
              " 'eventSource': 'user',\n",
              " 'eventTimestamp': 1629598693978,\n",
              " 'textDelta': {'ops': [{'retain': 1332}, {'insert': 'a'}]},\n",
              " 'cursorRange': '',\n",
              " 'currentDoc': '',\n",
              " 'currentCursor': 1333,\n",
              " 'currentSuggestions': [],\n",
              " 'currentSuggestionIndex': 0,\n",
              " 'currentHoverIndex': 0,\n",
              " 'currentN': '5',\n",
              " 'currentMaxToken': '30',\n",
              " 'currentTemperature': '0.2',\n",
              " 'currentTopP': '1',\n",
              " 'currentPresencePenalty': '0',\n",
              " 'currentFrequencyPenalty': '0.5',\n",
              " 'eventNum': 523}"
            ]
          },
          "metadata": {},
          "execution_count": 16
        }
      ],
      "source": [
        "# understanding what each event contains\n",
        "events[523]"
      ]
    },
    {
      "cell_type": "markdown",
      "metadata": {
        "id": "kNNf6SpegOMF"
      },
      "source": [
        "\n",
        "User Input (User-Generated Text)\n",
        "*   text-insert\n",
        "*   text-delete\n",
        "\n",
        "AI Suggestions (Model-Generated Text)\n",
        "*   suggestion-get\n",
        "*   suggestion-open\n",
        "*  suggestion-select\n",
        "\n",
        "\n",
        "\n",
        "\n"
      ]
    },
    {
      "cell_type": "markdown",
      "metadata": {
        "id": "EgpbOAKYdtVm"
      },
      "source": [
        "This chunk of code combines the previous tasks, including finding tone and similarity between two tones and calculating it for every event."
      ]
    },
    {
      "cell_type": "code",
      "execution_count": 17,
      "metadata": {
        "colab": {
          "base_uri": "https://localhost:8080/"
        },
        "id": "tDAo_TXBSDDR",
        "outputId": "f7bbe77f-3719-4de0-8459-9f01326b86f5"
      },
      "outputs": [
        {
          "output_type": "stream",
          "name": "stdout",
          "text": [
            "Total reconstructed user-written sentences: 34\n",
            "Example user-written sentence: ['technology', 'has made dating and relationships easier. My experience with dating apps', 'has been great. Thanks to Tinder and OKcupid, I have', 'been able to meet and date some really cool people. In fact,', 'I am currently dating someone I met on Tinder. I met her', 'at a bar, but we connected on Tinder first. The date went', 'well and we have been seeing each other ever since.firskC I think that', 'we', \"would have never met if it weren't for Tinder. I believe this relationship\", 'will last because we have a lot in common and we are both very similar.\\n\\nWhen it comes to Netflix, I think the effect on dating and relationships', 'is neutral, and trivial. Before Netflix,', 'people would go out to the movies, or rent a movie, or watch TV. on dates Netflix is just', 'another way to do that, the 21st', 'century way. in general\\n\\nSocial Media', 'has made it easier to stay in touch with friends and family, and has also made it easier to meet new people to date. I think its effects have also been generally', 'positive. The only downsides are that', \"it can be a distraction, and it can be used to spread negativity. Checking up on a partner's\", 'social media accounts can be a good way to see if they are being honest, but it can also be a way to spy on them.turn into  Again, though, before social media existed, paranoid', 'people would still check up on their partners, and it caused the same problems in relationships then, that it does now. Social media', 'is just a new way to do it.\\n\\nTexting', 'is a great way to stay in touch with people, and it is also a great way to flirt. Emojis', 'are a great way to flirt, and texting is a great way to flirt with emojis.easily express', 'enables plenty of that. Texting is also', 'quick, and', 'convenient, and not only does it enable new relationships to blossom, it helps', 'to maintain existing relationships and', 'keep them', 'strong and', 'healthy.\\n\\nIn short, technology has been a', 'great boon to dating and relationships. It has created many new ways to', 'meet people, and it has also made it easier to stay in touch with p', 'to maintain existing relationships. It has some downsides, but', 'those downsides are not new, and they are not unique to technology. So, the new things it has introduced, have been', 'been']\n"
          ]
        }
      ],
      "source": [
        "from collections import defaultdict\n",
        "\n",
        "def reconstruct_user_text(events):\n",
        "    ''' Creates text from events by combining text-insert and text-delete events.'''\n",
        "    user_texts = []\n",
        "    current_text = \"\"\n",
        "\n",
        "    # Sort events by eventNum\n",
        "    sorted_events = sorted(events, key=lambda e: e[\"eventNum\"])\n",
        "\n",
        "    for event in sorted_events:\n",
        "        event_type = event[\"eventName\"]\n",
        "        text_delta = event[\"textDelta\"]\n",
        "\n",
        "        if event_type == \"text-insert\" and text_delta:\n",
        "            extracted_text = \"\"\n",
        "            for op in text_delta['ops']:\n",
        "                if 'insert' in op:\n",
        "                    extracted_text += op['insert']\n",
        "            current_text += extracted_text\n",
        "\n",
        "        elif event_type == \"text-delete\" and text_delta:\n",
        "            delete_len = 0\n",
        "            for op in text_delta['ops']:\n",
        "                if 'delete' in op:\n",
        "                    delete_len += op['delete']\n",
        "                elif 'retain' in op:\n",
        "                    pass\n",
        "            current_text = current_text[:-delete_len]\n",
        "\n",
        "\n",
        "        # Store finalized text if user completes a thought\n",
        "        if event_type == \"suggestion-get\" or event_type == \"suggestion-select\":\n",
        "            if current_text.strip():\n",
        "                user_texts.append(current_text.strip())\n",
        "                current_text = \"\"\n",
        "\n",
        "    return user_texts\n",
        "\n",
        "# Process all valid events\n",
        "user_texts = reconstruct_user_text(events)\n",
        "\n",
        "print(f\"Total reconstructed user-written sentences: {len(user_texts)}\")\n",
        "print(\"Example user-written sentence:\", user_texts)  # Show first 3 examples"
      ]
    },
    {
      "cell_type": "markdown",
      "metadata": {
        "id": "wldYzgALy-Yu"
      },
      "source": [
        "This function is used to get the ai-suggestions"
      ]
    },
    {
      "cell_type": "code",
      "execution_count": 18,
      "metadata": {
        "colab": {
          "base_uri": "https://localhost:8080/"
        },
        "id": "6IMudsUdid2t",
        "outputId": "24563f24-04df-49f3-b433-02aaee9f28eb"
      },
      "outputs": [
        {
          "output_type": "stream",
          "name": "stdout",
          "text": [
            "Total AI Suggestions Accepted: 29\n",
            "Example AI Suggestion: ['has made dating easier.', 'has been positive.', 'met many people and have had a lot of fun.']\n"
          ]
        }
      ],
      "source": [
        "def extract_selected_ai_suggestions(events):\n",
        "    ai_suggestions = []  # Stores accepted AI-generated suggestions\n",
        "    last_suggestion_open = None  # Store the most recent `suggestion-open` event\n",
        "\n",
        "    for event in events:\n",
        "        if event[\"eventName\"] == \"suggestion-open\" and event.get(\"currentSuggestions\"):\n",
        "            last_suggestion_open = event  # Save latest `suggestion-open` event\n",
        "\n",
        "        elif event[\"eventName\"] == \"suggestion-select\":\n",
        "            if last_suggestion_open and last_suggestion_open.get(\"currentSuggestions\"):\n",
        "                selected_index = event.get(\"currentSuggestionIndex\", -1)\n",
        "\n",
        "                # Ensure selected index is valid\n",
        "                if 0 <= selected_index < len(last_suggestion_open[\"currentSuggestions\"]):\n",
        "                    selected_suggestion = last_suggestion_open[\"currentSuggestions\"][selected_index][\"trimmed\"]\n",
        "                    ai_suggestions.append(selected_suggestion)\n",
        "\n",
        "    return ai_suggestions\n",
        "\n",
        "# Process all valid events\n",
        "ai_suggestions = extract_selected_ai_suggestions(events)\n",
        "\n",
        "print(f\"Total AI Suggestions Accepted: {len(ai_suggestions)}\")\n",
        "print(\"Example AI Suggestion:\", ai_suggestions[:3])  # Show first 3 examples\n"
      ]
    },
    {
      "cell_type": "markdown",
      "metadata": {
        "id": "RENoVMbJzDkP"
      },
      "source": [
        "Here you can run this code to create a dataframe which contains the user text, ai-suggestion, and the tone similarity score."
      ]
    },
    {
      "cell_type": "code",
      "execution_count": 19,
      "metadata": {
        "colab": {
          "base_uri": "https://localhost:8080/"
        },
        "id": "_HYbjGy3jDEj",
        "outputId": "153d606d-7d6f-4ee4-a960-432f604f1a03"
      },
      "outputs": [
        {
          "output_type": "stream",
          "name": "stdout",
          "text": [
            "Successfully read 2196 events in a writing session from ./coauthor-v1.0/dfbab4c8263444ef9d9e9d25e3e581f4.jsonl\n",
            "User-written sentences: [\"THe aliends knew the Earth wasn't very advanced.But their research had also shown them that humans tended to be violent, self confident, and sometimes even resourceful when they were deperate. But the aliend just never thought it would go like this.\", 'The aliens let out a sigh and picked up the phone, dialing Matt Damon\\'s agent.\\n\\n \"Yes, re reived you lasteceived rmessage. Yes, we know we haven\\'t signed the appearance contract. YessAnd the... 57 before that. , we know there is an extra fee for out od country work. Yes we received your rider requirements. Human, do you not know who we are? What we can do to you?\"', 'Alien: Right click  \", you $(#*^&#*$&\" The commander hung up on Matt Damon\\'s agent (again) and turned to the cursing crew man. \"They won\\'t stop with the scam calls Sir! This one keep saying he was from Microsoft and they had reports we had viruses and....\"', 'Commander, \"I don\\'t care how many times a day they call us.\\n DOn\\'t give in. We\\'ll be out of range eventually.\" .But he was wrong.', 'Everytime they tried to run out of range, a new call would come in. Not just one call either. All communications terminal, lines, means of communication. The scam and spam calls were non-stop. And if there was a break and a real call got through...it was just 10x worse after.', '\"How long do you think they can last like this?\"s\\n\\n asked the commander. His chief scientist approached to give his report. Sir, it appearsd their is no life form in the galaxy stronger, more resilient, or more', 'persistent than the \"scam caller\". I recommend we return the Matt Damon specimen immediately.\\'', 'But the commander shook his head. \"My wife is going to be so pissed at me. Matt Damon is the one thing she asked for for her birthday.', 'I promised her I would bring him home.', 'I had heard about this scam call plague before we left and I was sure it would be taken care of by the time we got back.\"\\n\\nThe scientist shock his head. \"Better to return him now rather than risk bringing this plague back to the homeworld.\"', 'The commander eventually agreed', 'and they made the decision to turn back. The scam calls continued, and were a torment, but Matt Damon was quite delightful.', 'The crew grew soft and coddled the earthling. They were all a little sad when they returned him to the planet.']\n",
            "AI-generated suggestions: [\"The aliens let out a sigh and picked up the phone, dialing Matt Damon's agent.\", 'Alien: Right click me.', 'Commander, \"I don\\'t care how many times a day they call us.', 'Everytime they tried to run out of range, a new call would come in.', '\"How long do you think they can last like this?\"', 'But the commander shook his head.', 'I promised her I would bring him home.', 'I had heard about this scam call plague before we left and I was sure it would be taken care of by the time we got back.\"', 'and they made the decision to turn back.', 'The crew grew soft and coddled the earthling.', \"Off in the distance, Matt Damon's agent could be seen holding a large check, laughing hysterically.\"]\n",
            "Successfully read 2121 events in a writing session from ./coauthor-v1.0/a083b39bf3744dcb9cf43434322dbe1b.jsonl\n",
            "User-written sentences: ['You see yourself as a baby, and then as a child, and then as a teenager, and so on. Looking around at the other people (you? possible yous?) you wonder why they are here.', \"You wonder if they are watching their own lives, or if they are watching yours.\\n\\nTurning to the person nearest to you, you try to geth their attention to a . But they won't respond, and you aren't even sure if they hear or see you.\", 'Then you hear a voice.', 'It\\'s the voice of the cinema manager.\\n\\n\"You all try that. Every time. THey won\\'t answer by the way, not a one of them.h\"', \"You turn to the cinema manager, who is sitting in the corner of the cinema.\\n He's a small man, dressed impecably c, with a droll expression. You feel like he is hiding something.\", '\"So what are we doing here?\" you aask.\\nhHe smiled, \"Andyou all always ask that as well. Not a very creative bunch are you?\" \\n\\nYou notice that he didn\\'t answer your question, and you have a feeling that he won\\'t be answering any of your questions.', '\"You\\'re not here to help me, are you?\"\\n\\nThe manager\\'s grin had a sharp edge to it this time. \"Well, you are quicker than most on that point.\"', 'Feeling uneasy you look around again, taking in all of the people and the screen. SOmething catches your eye.', 'o', 'The movie has looped, but it never showed how you died.', '\"Why didn\\'t you show me how I died?\" you ask.\\n\\n\\nThe cinema manager\\'s smile slipped a bit. \"I won\\'t tell you that.\" And then you realize you are actually a bit different than the others - they are pale, almost lifeless, but you still have energy, flushed cheeks, and most of all you realize your body is feeling something. Something that feels more and more like pain.', '\"I\\'m dying, aren\\'t I?\" you ask.\\n That made the manager grin. But then you decided.\\n\\n\"But I\\'m not dead yet. And I\\'m not ready to die. I don\\'t belong here yet, and I am leaving.\"\\n\\nYou stride towards the exit, feeling the manager glaring daggers into your back, but he doesn\\'t move to stop you. As you walk through the door you suddenly remember the accident, and then']\n",
            "AI-generated suggestions: ['The movie is a documentary about your life, and you are the main character.', 'You ask the person next to you, and they say that they are here to see what you are going to do in your next life.', \"It's the voice of the cinema manager.\", 'You turn to the cinema manager, who is sitting in the corner of the cinema.', '\"Why are they here?\" you ask.', '\"Why didn\\'t you show me how I died?\" you ask.', '\"I\\'m dying, aren\\'t I?\" you ask.', 'the pain hits you.']\n",
            "Successfully read 3098 events in a writing session from ./coauthor-v1.0/3461ee41df7f4f5fa584f5ae04b3ba6f.jsonl\n",
            "User-written sentences: ['The world was plunged into an age of darkness, an age without Mana. Today, humans have been able to adapt to the harsh world without relying on magic, using instead alternative fuel sources to power the cities of the world. However,', 'there are some who would seek to restore the lost power of magic, and they hahave spent their lives scouring the planet for any information on how to do so. They have all been unsuccessful, producing nothing that would tell them where Mana came from, or how to potentially create more of it. That is, until a person accidently stumbled upon a mysterious tome.', \"The person who discovered this tome was a young man named Isaac.\\n He cared little about the greater world around him, focusing mostly on his work, his career, and those closest to him. He had heard much tales of magic from others who were informed of its history, but it didn't interest him. Magic no longer exists in the world, so why bother he would say. Despite that, the tome found itself in the attic of Isaac's home. He was certainly sure it wasn;t his nor his family, so perha't\", 'it was left by a previous owner of the house. Isaac and his curiosity led him to open the book, and found it was written in a mysterious language.', 'He had no idea what it said, but he was able to decipher some of the words, and found that the book was about magic.al by means he could not comprehend It detailed the energy source, Mana, and told the reader how to use it to wield Magic. Isaac was astonished, but ultimately sceptical of the tome. k', 'He believed it to be a hoax, and left the book in the attic as he then went off to bed.\\n\\nUpon waking up, he had been startled to see the tome had appeared at the foot of his bed, open to a particular page.', 'Isaac was even more skeptical of the book, but he had a feeling that it was important, still sk page to read, so he stood up from the bed to read it more carefully. The page told information on how to create Mana, which shocked Isaac.', 'He was still skeptical, but decided to try it out.unsure Sure enough, Mana was created and he wielded a crude form of magic. Mystified, he then thought what to do with the book.', 'He decided to keep it a secret, and not tell anyone. Perhaps it was best that magic was forgotten in the past. Given the state of the world, what may happen, he thought if people learned magic. Isaac placed the tome in a chest he owned, and locked it for good. Although it would appear to him every now and then, he decided to keep his promise, and keep it out of the eyes of others.']\n",
            "AI-generated suggestions: ['The world was plunged into an age of darkness.', 'there are some who would seek to restore the lost power of magic, and they have been able to do so.', 'The person who discovered this tome was a young man named Isaac.', 'it was left by a previous owner of the house.', 'He had no idea what it said, but he was able to decipher some of the words, and found that the book was about magic.', 'He believed it to be a hoax, and left the book in the attic.', 'Isaac was even more skeptical of the book, but he had a feeling that it was important.', 'He was still skeptical, but decided to try it out.', 'He decided to keep it a secret, and not tell anyone.', 'The story then shifts to the present day, where a young man named Isaac, who is the son of the Isaac from the past, is']\n",
            "Successfully read 1538 events in a writing session from ./coauthor-v1.0/f02fab15925149cf9daa0f299d54f587.jsonl\n",
            "User-written sentences: ['You look down and see a bee in a suit and tie. \\n\\n\"Little bee, please don\\'t sting me,\" I said. \"I\\'m allergic and I will swell like a balloon if you do.\"', '\"I\\'m not going to sting you, Your Majesty,\" the bee said.\\n \"Well then tell me, what do you want?\", I asked the bee.', '\"I\\'m here to help you with your duties as a queen,\" the bee said.\\n So as it turned out, this bee and all of his friends had decided to make me their queen.', \"They said I was the only one who could save them from the evil queen who was trying to take over the hive. Since this bee was nice and didn't sting me, I was eager to help.\", 'I agreed to be their queen. I had quite the task of finding this evil queen so that I could destroy her.', 'I had to go through a lot of obstacles to get to her, but I was determined to save my hive. My first obstacle was', 'a giant spider web.  I used a stick and I got the spider web out of the way of the hive.', 'My second obstacle was', \"a giant bear. Apparently he wanted the honey made by the bees and didn't want to hurt me. I told the bear I was just after the evil queen and I wouldn't take any of the honey so he let me go. I told the bear if he would help me, I bet the bees would give him some honey and the little bee in the suit agreed. So the bear agreed to help me catch the evil queen.\", 'The third obstacle was a giant snake. It was guarding the queen just outside of the hive. The bear helped', \"me defeat the snake. I was so glad because I couldn't have done it alone. Finally we saw the queen bee and she was bigger than the other bees.\"]\n",
            "AI-generated suggestions: ['You look down and see a bee in a suit and tie.', '\"I\\'m not going to sting you, Your Majesty,\" the bee said.', '\"I\\'m here to help you with your duties as a queen,\" the bee said.', 'They said I was the only one who could save them from the evil queen who was trying to take over the hive.', 'I agreed to be their queen.', 'I had to go through a lot of obstacles to get to her, but I was determined to save my hive.', 'a giant spider web.', 'a giant bear.', 'The third obstacle was a giant tree.', 'The third obstacle was a giant snake.', 'me defeat the snake.', 'She had a crown on her head and a scepter in her hand.']\n",
            "Successfully read 1848 events in a writing session from ./coauthor-v1.0/65db59a7705345ec88f5aafc812951ef.jsonl\n",
            "User-written sentences: ['No wonder your higher ups don\\'t want you to be near bees. And they lied about your allergy! \\n\\nYou shake your head and wonder if you are hearing things that are not real. As if the been read your mind, it again asked \"Your Majest, waht are your orders?\"y The first your think of, prompted by the word \\'order\\', is pizza, of course. I will have two slices with extra cheese. No make that four slices so I can share with my little sister\"\"\\n\\nThe Bee chuckles, and says \"I meant for you to tell me your orders about the pesticides that are killling us bees.Spare our lives, I beg of you.\"  You smirked, having heard some conspiracy about chemicals that actually prevent food from being killed by insects, being poisonous. That the chemicals and engineered food substances play right into the conspiracy trouble makers. \"Oh Mr. Bee\" you responded, \"you are not going to get killed by the prevention of diseased crops. Stop watching the news!\" \\n\\nThe Bee flew off, dejected and weary.', 'You wait patiently for your pizza order with your sister. After what seemed like forever, Mr. Bee was back with the pizza. \"Who will carry out your orders when we are all dead?\" the Bee asked. d', 'It was then that you got the message. Maybe there is something to this so-called conspiracy of the Bees dying.']\n",
            "AI-generated suggestions: ['It was then that you got the message.']\n",
            "Successfully read 1209 events in a writing session from ./coauthor-v1.0/b7f82fbb0ba3481884581b9b0ba571a2.jsonl\n",
            "User-written sentences: ['yes, paying colege la atheletes would hurt the sport in many ways. first of all', ', it would be a huge distraction for the playe Meaning that they would focus more on their ability to play the game than they would focus on their collegeeacademic courses. Why would you care about how well you did in your economics classes when you are making potentally i hundreds of thousands playing a sport. You would lose focus do to the money factor.', \"Secondly, it would cause a huge rift between the players and the ir fans potentally.i You run the even greater risk of fanaics t'\", 'going to another campus to do serious harm to other students just so their team can come out ahead.', 'Yes I believe it would cause colleges to trade players like they were in some sort of', 'professional sports league. Just to get high profits, instead of focusing on spending money to make their schools better. It would be like an open stock market for college athletes. The potential to start student gambling rings is also even higher than it already is. I feel that it would put the athletes, who do not have the protection of body guards and professional leagues, in greater danger than they need to be.']\n",
            "AI-generated suggestions: [', it would be a huge distraction for the players.', 'Secondly, it would cause a huge rift between the players and the coaches.', 'professional sports league.', 'I believe that the money would be better spent on the schools and their students.']\n",
            "Successfully read 3735 events in a writing session from ./coauthor-v1.0/35a38bcbc9e94604b0c731ca8cc5de51.jsonl\n",
            "User-written sentences: ['the decision to listen to an audiobook rather than to read a printed book is a matter of personal preference.  There is not really an objective reason that the majority of the population should prefer one medium to the other.', 'For me, I enjoy listening to audiobooks because it allows me to multitask while I perform tasks around the house, or while I\\nIt couldlearn and absorb information.  For example, I can perform numerous small tasks arorund the house or yar that do not require my full attention, yet take up considerable amounts of time.  I can now use this time to learn new subjects or to absorb engaging fiction.', 'I would think that you would learn just as much by listening to a book being read to you vs.', 'This gives me more opportunities to learn than I would have had if I had to sit down and read a book, without doing anything else. reading the words off of a page, and it seems to work for me.  Other people might not find it so easy to retain information that they hear.', 'What Are theSo this is one of the key strength: the convenience factor.  There are other people who might find it difficult to actually read printed words.  Those who suffer from dislexia,yfor example, are just as capable of learning as anyone else, but reading is physically difficult for them.  For these people, audiobooks would be a great improvement over printed words, even if they choose not to multitask.', 'I will however say that there are some subjects that I have had difficulty learning from an audiobook, including math and physics  Subjects such as these often require visual aids such as diagrams and prinnted equation, so they do not lend themselves to an audio format.  People who have trouble reading, however might use a hybrid approach, in which they listen to an audio version of the material, while holding the book in front of them.  This would allow them to pause and view diagrams, when necessary.\\n\\nObviously, books about art history and fashion would also suffer in an audio format, as photographs are a key part of the material.', 'To summarize, I would encourage you to give audiobookany reader  They may find that it allows them to learn more than they ever thought possible.', 'However, I do not dispute the simple pleasure of sitting down and reading.  Personally, I like to read light fiction myself as a way to unwind and fall asleep at the end of a long day.  Listening to audio books does not provide me with the same level of relaxation, but again, this is a matter of personal preference.']\n",
            "AI-generated suggestions: ['For me, I enjoy listening to audiobooks because it allows me to multitask while I perform tasks around the house, or while I', 'I would think that you would learn just as much by listening to a book being read to you vs.', 'What Are the Strengths of Audiobooks?', 'I will however say that there are some subjects that I have had difficulty learning from an audiobook, including math and physics.', 'To summarize, I would encourage you to give audiobooks a try.', 'How to Read a Book by Mortimer Adler and Charles Van Doren']\n",
            "Successfully read 1531 events in a writing session from ./coauthor-v1.0/1055a72721454912a8a38ea009d84a09.jsonl\n",
            "User-written sentences: [\"At first you think you think taht your wife Michelle is playinghhaving a little joke at your expense. She isn't next to you in the bed so you get up to\", \"You wander down the hallway and you hear a noise from downstairs. You head downstairs thhinking that she will be thereto laugh at you. When you get downstairs she isn't there. Instead you're surprised to find a person sitting in your living room who you would have not have expected.\", '“Oh my god, you\\'re…”\\n you start to say. \"Yes\" he replies, \"I am John F. Kennedy\".', 'You stand there in disbelief. \" I must be dreamin \" you exclaim.', '\"No\" he says, \"I need you to listen.\" He proceeds to tell you a story you can barely believe. He tells you that all former US presidents receive immortality using ancient magic preserved by the Masons. Many that are thought to have died, like him, are in fact still living and will live forever. They are all part of a secret group with one goal in mind. \"What is it that you\\'re all trying to do\" you ask?']\n",
            "AI-generated suggestions: ['You wander down the hallway and you hear a noise from downstairs.', \"“Oh my god, you're…”\", 'You stand there in disbelief.', '\"No\" he says, \"I need you to listen.', 'Kennedy proceeds to explain that the group has one goal.']\n",
            "Successfully read 1960 events in a writing session from ./coauthor-v1.0/f32c0ee4236a49dda07481052a6fd6e5.jsonl\n",
            "User-written sentences: ['while these activities are really dangerous, I do not think it is selfish for people to pursue them. They are freely deciding to partake in the activity and almost all sports already have an inherent risk of injury that comes along with them. Most, if not all of these sports that are considered more dangerous require you sign a waiver in addition to getting trained before doing anyting actually dangerous. For example, rock climbing in my area requires you to train and then pass a test before you are allowed to go off on your own at any of the gyms.', 'hBecause of this, the person is trained and understands the risks. I do not consider this selfish because they are just doing with their life what they want to do.', 'Partaking in the sport does not directly impact anyone else other than themselves.', 'While these sports are dangerous, the chance of injury is actully very low. You do not hear too much about someone dying while skydiving or rock climbing.', 'The only time you hear about someone dying while doing these activities is when it is a freak accident which can occur in any sport really.a\\n\\nCalling participating in a sport selfish would be like saying driving a car is selfish. Or going swimming is selfish. Or drinking a beer is selfish. All of those activities are statistically more likely to cause harm to the person doing it but no one would consider any of those activities as selfish.', 'I think that it is a personal decision to partake in these activities., just like partaking in any aciticty is. I do not like anyting is inherently selfish unless you are purposefully forgoing others for the sake of yourctivity  Decdiding to do one of these activities is not forgoing anyone else and only directly affects you. That is why I do not find these type of things selfish.', 'd', 'I think that if you are going to do one of these activities, you should be well trained and understand the risks.\\n When you are prepared and understand the risks, just have fun and not worry, you are not being selfish at all.']\n",
            "AI-generated suggestions: ['The only time you hear about someone dying while doing these activities is when it is a freak accident.', 'I think that it is a personal decision to partake in these activities.', 'I think that if you are going to do one of these activities, you should be well trained and understand the risks.']\n",
            "Successfully read 1021 events in a writing session from ./coauthor-v1.0/36bc101319da4b3590b96bce76f7c02c.jsonl\n",
            "User-written sentences: ['Helena', 'meets a man who seems perfect for her, but she can’t stop thinking about the shapeshifter. She wonders if sher last date. Is it me? She asks herself. \"\" She is unsure about people. Nobody seems right for her.', 'Then, one day, she meets a man who seems perfect for her. But eventually, she finds something wrong with him.', 'She can’t stop wondering if it’s her.', 'She wonders if she’s the problem.', 'Helena realizes she is going to have to put her life on pause and step back to figure out what’s wrong.', 'If she can’t fix herself, how will she find the right man for her?', 'As Helena looks back on her relationships, she realizes that there is a pattern to her problem.', 'She says to herself, \"Oh my goodness.', 'I am dating the same guy over and over again.”', 'Suddenly, she has the key to her problem.', 'She can see it so clearly.', 'She realizes that the problem is her.', 'She has a fear of trusting her heart and letting another person in.', 'She’s afraid that he will hurt her and not love her back like she loves him.', 'Helena realizes it’s time for her to open herself up and trust again.', 'She has to let a man in emotionally and, for the first time, be vulnerable.', 'She has to learn to love herself before she can let anyone else in and be happy.', 'Helena thinks, \"I have been so scared that I’m going to get hurt.', 'I am afraid to let myself feel.', 'It’s time to wake up and let someone love me the way I love them.', 'I’ve got to be strong and brave.\"', 'Helena resolves to give her next date a fair chance.', 'She will allow herself to love. She meets a handsome man, Ben, at a coffee shop. Her newfound resolve empowers her, and they hit it off.  She feels a weird energy.', 'She lets her guard down and feels the first stirrings of a love she never thought possible.', 'As Helena feels love again, she knows she has finally found someone to trust and be vulnerable with.', 'As she allows her heart to open, she is filled with hope and excited for what the future holds.']\n",
            "AI-generated suggestions: ['Dexter decides to go back and visit her family.', 'Helena has a problem; she can’t keep a boyfriend.', \"She can't stop thinking about her last date.\", 'The story was later adapted into a short film by director Michael Shanks in 2016.', 'No one seems right for her.', 'If she can’t fix herself, how will she find the right man for her?', 'As Helena looks back on her relationships, she realizes that there is a pattern to her problem.', 'As she peers into the future, she realizes that there is a pattern to the problem.', 'I wonder if I’m having the same problem with everyone.\"', 'She realizes the reason why she can’t find the right man for her.', 'She now knows what’s wrong.', 'She has been dating the same guy over and over again.', 'It’s true that she has experienced all of these men before, but this time, she’s a little more aware of the situation', 'While she is making this discovery, her shapeshifter boyfriend has finally figured out what’s wrong.', 'She realizes she must learn to trust her heart and let love in.', 'She must be vulnerable and let love in.', 'She has to take a leap of faith and step into the unknown.', 'She’s never going to find love until she learns to love herself.', 'I have to love myself first.', 'It’s time to wake up and let someone love me the way I love them.', 'If I’m going to be in love, it is time to feel.', 'She lets her guard down and feels the first stirrings of a love she never thought possible.', 'They spend the rest of the evening talking and getting to know one another.', 'As she allows her heart to open, she is filled with hope and excited for what the future holds.', 'She realizes that some people are just worth the risk.']\n",
            "Processed 1447 paths. Results saved to emotion_similarity_results.csv.\n"
          ]
        }
      ],
      "source": [
        "import pandas as pd\n",
        "jsd_results = []\n",
        "small = paths[100:110]\n",
        "for path in small:\n",
        "    events = read_writing_session(path)\n",
        "\n",
        "    # Extract user-written text and AI-generated suggestions\n",
        "    user_texts = reconstruct_user_text(events)\n",
        "    ai_suggestions = extract_selected_ai_suggestions(events)\n",
        "    print(f\"User-written sentences: {user_texts}\")\n",
        "    print(f\"AI-generated suggestions: {ai_suggestions}\")\n",
        "\n",
        "    # Ensure we only compare matching pairs\n",
        "    for user_text, ai_text in zip(user_texts, ai_suggestions):\n",
        "        user_score, user_vector = get_emotion_vector(user_text)\n",
        "        ai_score, ai_vector = get_emotion_vector(ai_text)\n",
        "\n",
        "        # Compute JSD similarity\n",
        "        jsd_similarity = similarity_jsd(user_vector, ai_vector)\n",
        "\n",
        "        # Store results\n",
        "        jsd_results.append({\n",
        "            \"path\": path,\n",
        "            \"user_text\": user_text,\n",
        "            \"ai_suggestion\": ai_text,\n",
        "            \"jsd_similarity\": jsd_similarity\n",
        "        })\n",
        "\n",
        "# Save results to CSV\n",
        "df_results = pd.DataFrame(jsd_results)\n",
        "\n",
        "print(f\"Processed {len(paths)} paths. Results saved to emotion_similarity_results.csv.\")"
      ]
    },
    {
      "cell_type": "markdown",
      "metadata": {
        "id": "RdR1jkiUzUs4"
      },
      "source": [
        "This is used to better understand the distribution of `event_name` in a path."
      ]
    },
    {
      "cell_type": "code",
      "execution_count": 20,
      "metadata": {
        "colab": {
          "base_uri": "https://localhost:8080/"
        },
        "id": "ZUPtZuJpjMwF",
        "outputId": "b5584db0-1e5c-41ef-b5b4-79d55de76995"
      },
      "outputs": [
        {
          "output_type": "stream",
          "name": "stdout",
          "text": [
            "Successfully read 1443 events in a writing session from ./coauthor-v1.0/91366311bd76400b9ea7efe17bf8b659.jsonl\n",
            "Successfully read 758 events in a writing session from ./coauthor-v1.0/1c5622c21c424b91a8325faa0c5e753e.jsonl\n",
            "Successfully read 1578 events in a writing session from ./coauthor-v1.0/4cf7657748194823a3c4349e8a469c99.jsonl\n",
            "Successfully read 1364 events in a writing session from ./coauthor-v1.0/b8be5a82533b406bbf13aaa587a8d924.jsonl\n",
            "Successfully read 1991 events in a writing session from ./coauthor-v1.0/b36defcb6838467db4486349793492fc.jsonl\n",
            "Successfully read 2361 events in a writing session from ./coauthor-v1.0/e76e0164df714bae95772dba5e3d7a5f.jsonl\n",
            "Successfully read 3460 events in a writing session from ./coauthor-v1.0/4bdb5a30d17d40d7b160d942552c190b.jsonl\n",
            "Successfully read 1202 events in a writing session from ./coauthor-v1.0/bd632b8b53394b32a6dba18848f787a4.jsonl\n",
            "Successfully read 3027 events in a writing session from ./coauthor-v1.0/c4e852c4b21b4703a485d93b618361cd.jsonl\n",
            "Successfully read 2233 events in a writing session from ./coauthor-v1.0/f9a09da62e19479d8b2c31d3a494f11b.jsonl\n",
            "Successfully read 2699 events in a writing session from ./coauthor-v1.0/7b827c9dbe9547fbae0a89de75863527.jsonl\n",
            "Successfully read 1862 events in a writing session from ./coauthor-v1.0/68fd27f0d07a4a319c9f931331f16e2d.jsonl\n",
            "Successfully read 1090 events in a writing session from ./coauthor-v1.0/ecdf98683b6641e3b99127df3ee66854.jsonl\n",
            "Successfully read 2575 events in a writing session from ./coauthor-v1.0/269f101ba0da4aa3a5ce0bf3a65bade1.jsonl\n",
            "Successfully read 2343 events in a writing session from ./coauthor-v1.0/f86105405d7d4c87bbfcd6b91d5d53a3.jsonl\n",
            "Successfully read 1689 events in a writing session from ./coauthor-v1.0/c95024d4d29d4d90a8aa665aef6397aa.jsonl\n",
            "Successfully read 1324 events in a writing session from ./coauthor-v1.0/1c7dcfd367a343449113516e395fed55.jsonl\n",
            "Successfully read 2717 events in a writing session from ./coauthor-v1.0/9dc52675bffe43dd8a9359dab52e711b.jsonl\n",
            "Successfully read 1953 events in a writing session from ./coauthor-v1.0/a13794ea66e341029357b1065e0e13b2.jsonl\n",
            "Successfully read 2556 events in a writing session from ./coauthor-v1.0/25c8204b269c46baa42c4dc816b87c1b.jsonl\n",
            "Successfully read 2208 events in a writing session from ./coauthor-v1.0/6cd01768d763429a9c65131ad293b2fe.jsonl\n",
            "Successfully read 1641 events in a writing session from ./coauthor-v1.0/5d34143f64fc4820b7d4a53c85deac45.jsonl\n",
            "Successfully read 2083 events in a writing session from ./coauthor-v1.0/4942e7f2ab484c3291c91473fbc22b5e.jsonl\n",
            "Successfully read 1615 events in a writing session from ./coauthor-v1.0/0ff12af0651e4b0eaf88e22e82058137.jsonl\n",
            "Successfully read 2548 events in a writing session from ./coauthor-v1.0/fe73becf5e134d409a307434472d083b.jsonl\n",
            "Successfully read 1342 events in a writing session from ./coauthor-v1.0/151f3551721e4c6fb81c52dac6217a5c.jsonl\n",
            "Successfully read 1491 events in a writing session from ./coauthor-v1.0/477a7999cb944914ba1a1141db81b44f.jsonl\n",
            "Successfully read 2433 events in a writing session from ./coauthor-v1.0/79a6126076714a1ba4fc9abc52c9201d.jsonl\n",
            "Successfully read 1807 events in a writing session from ./coauthor-v1.0/232312a7bc284724b78c9c71c2b90afa.jsonl\n",
            "Successfully read 919 events in a writing session from ./coauthor-v1.0/a6fdd2b52268416d9b3ebf015fa82e18.jsonl\n",
            "Successfully read 1491 events in a writing session from ./coauthor-v1.0/06a646f4746648eebec3e1869b713d7e.jsonl\n",
            "Successfully read 1177 events in a writing session from ./coauthor-v1.0/797e87aff94142b1be301e11df758d63.jsonl\n",
            "Successfully read 3966 events in a writing session from ./coauthor-v1.0/982b7a3621a745a8a4b5b7aea92938b0.jsonl\n",
            "Successfully read 1644 events in a writing session from ./coauthor-v1.0/586931064c24482796b7e0aade9a711b.jsonl\n",
            "Successfully read 2511 events in a writing session from ./coauthor-v1.0/672befe865e94480ae1cb6fa8aa473e1.jsonl\n",
            "Successfully read 1958 events in a writing session from ./coauthor-v1.0/5960818e4b234acab13c90618afee4b3.jsonl\n",
            "Successfully read 1472 events in a writing session from ./coauthor-v1.0/9c8cd9880da74366ba28673147d87d34.jsonl\n",
            "Successfully read 2912 events in a writing session from ./coauthor-v1.0/0a8e182a20df447db4846b1223c619b5.jsonl\n",
            "Successfully read 1552 events in a writing session from ./coauthor-v1.0/ea11db08c0dd4477add459779396a29e.jsonl\n",
            "Successfully read 1546 events in a writing session from ./coauthor-v1.0/f64a674b006c4fa6adaf1bba48049f6c.jsonl\n",
            "Successfully read 2440 events in a writing session from ./coauthor-v1.0/b38b55361ff74d31801bb1a9d7d19d2d.jsonl\n",
            "Successfully read 3715 events in a writing session from ./coauthor-v1.0/9acd2cb9d930425fba58dfd597a8449a.jsonl\n",
            "Successfully read 1073 events in a writing session from ./coauthor-v1.0/c68e3e04c564413fab31d6765cba7f77.jsonl\n",
            "Successfully read 1455 events in a writing session from ./coauthor-v1.0/1049b04745b44e7fa2a50d98321c2026.jsonl\n",
            "Successfully read 1429 events in a writing session from ./coauthor-v1.0/be2644ed7bc34c438c36bf80db400c9c.jsonl\n",
            "Successfully read 1915 events in a writing session from ./coauthor-v1.0/43bda44256df4d51ba681ac40dcfe8c1.jsonl\n",
            "Successfully read 2178 events in a writing session from ./coauthor-v1.0/b51acee6aa7944d3b666627e29aca5b8.jsonl\n",
            "Successfully read 2645 events in a writing session from ./coauthor-v1.0/3a7d0ac2d9c044318903ed715b695d35.jsonl\n",
            "Successfully read 2102 events in a writing session from ./coauthor-v1.0/5f43b93d95334de7a886100e5e0a73b8.jsonl\n",
            "Successfully read 1882 events in a writing session from ./coauthor-v1.0/b93b7bff90944fa19b65fc0b12b55cd8.jsonl\n",
            "Successfully read 1385 events in a writing session from ./coauthor-v1.0/78526ab498154d079cd1b2584ee25e3d.jsonl\n",
            "Successfully read 2146 events in a writing session from ./coauthor-v1.0/0886ac6a67c34849a08ccb15134f3407.jsonl\n",
            "Successfully read 1629 events in a writing session from ./coauthor-v1.0/f1c71be96fd04e3f8008c90725349283.jsonl\n",
            "Successfully read 1435 events in a writing session from ./coauthor-v1.0/59ac3d8b33d64c2c8d91c264fdf4c1da.jsonl\n",
            "Successfully read 2541 events in a writing session from ./coauthor-v1.0/ea22b448ed0441a093211cc71c8c35e3.jsonl\n",
            "Successfully read 2355 events in a writing session from ./coauthor-v1.0/8393a8ed335f438c9ad5ca3d25a947b6.jsonl\n",
            "Successfully read 1207 events in a writing session from ./coauthor-v1.0/f8e0496b35c64e35b500e2034493eb8e.jsonl\n",
            "Successfully read 1405 events in a writing session from ./coauthor-v1.0/e6011509fc00436ab743f12fa6a27714.jsonl\n",
            "Successfully read 2196 events in a writing session from ./coauthor-v1.0/0a08f7fd748246c8ad4e353edb7e2394.jsonl\n",
            "Successfully read 3457 events in a writing session from ./coauthor-v1.0/5de04cda76194f70ba4a49ba5c34ad14.jsonl\n",
            "Successfully read 1502 events in a writing session from ./coauthor-v1.0/4efb9d8419ee42a3b2ec99f01f94e0a6.jsonl\n",
            "Successfully read 2379 events in a writing session from ./coauthor-v1.0/d85105525355435da52d20ce7a4b7620.jsonl\n",
            "Successfully read 1426 events in a writing session from ./coauthor-v1.0/5426f8469fda44fb85b815bc1a1ed884.jsonl\n",
            "Successfully read 2254 events in a writing session from ./coauthor-v1.0/9350869f0d24492c920c83e0a9507648.jsonl\n",
            "Successfully read 2213 events in a writing session from ./coauthor-v1.0/9b1d2408672e4e8595c322bc04146995.jsonl\n",
            "Successfully read 1603 events in a writing session from ./coauthor-v1.0/ab72069c90cb4448a2c6fcaec1df7787.jsonl\n",
            "Successfully read 1867 events in a writing session from ./coauthor-v1.0/67e2ebb79ef7428db8828883d135c55f.jsonl\n",
            "Successfully read 1333 events in a writing session from ./coauthor-v1.0/a1f6b84f1d60425ea7f1f34c2ff519e2.jsonl\n",
            "Successfully read 893 events in a writing session from ./coauthor-v1.0/6dddf664e4be4c41a2fd91069d43a600.jsonl\n",
            "Successfully read 1367 events in a writing session from ./coauthor-v1.0/4831f92b228149c191708a694807853e.jsonl\n",
            "Successfully read 1005 events in a writing session from ./coauthor-v1.0/498f1c843ea64e9c8e1d90850b4a676b.jsonl\n",
            "Successfully read 1312 events in a writing session from ./coauthor-v1.0/ccbcf12b87b04596848a5091118c49d9.jsonl\n",
            "Successfully read 1568 events in a writing session from ./coauthor-v1.0/01e3a2f5c2a442fe9225e0c9ef56a5f5.jsonl\n",
            "Successfully read 2180 events in a writing session from ./coauthor-v1.0/8024bf1914664591abe824dd583d2d2a.jsonl\n",
            "Successfully read 1724 events in a writing session from ./coauthor-v1.0/696c87b7fe7f4f869e84d30e9bd97823.jsonl\n",
            "Successfully read 1697 events in a writing session from ./coauthor-v1.0/7edc4eee07cd44db9a01e28f1ef20064.jsonl\n",
            "Successfully read 637 events in a writing session from ./coauthor-v1.0/478d7bee3c53454fb80f423138913c4f.jsonl\n",
            "Successfully read 962 events in a writing session from ./coauthor-v1.0/d4c8237fa5f842c6a882d79184a82c59.jsonl\n",
            "Successfully read 2235 events in a writing session from ./coauthor-v1.0/e7107e7319eb4ab18a7e3fc4445b2d91.jsonl\n",
            "Successfully read 1557 events in a writing session from ./coauthor-v1.0/7a068257c0b94c05b56e5a11387aae6e.jsonl\n",
            "Successfully read 1457 events in a writing session from ./coauthor-v1.0/cfec8b365d874b18a765ce4afd83b125.jsonl\n",
            "Successfully read 2756 events in a writing session from ./coauthor-v1.0/221820be7d8945f99af46d423ad57864.jsonl\n",
            "Successfully read 2100 events in a writing session from ./coauthor-v1.0/01a3e8d4e52f4f1483bf48b33cd88cd9.jsonl\n",
            "Successfully read 1689 events in a writing session from ./coauthor-v1.0/185067c797e34884b1408a69680fe28a.jsonl\n",
            "Successfully read 481 events in a writing session from ./coauthor-v1.0/40321204ac204fc3b3aa443db377eeaf.jsonl\n",
            "Successfully read 3605 events in a writing session from ./coauthor-v1.0/7fdd4ec9a2164e9d8f3d28e1db1df08c.jsonl\n",
            "Successfully read 2671 events in a writing session from ./coauthor-v1.0/116ae37dd7f5497c8257767b81a72cf3.jsonl\n",
            "Successfully read 2312 events in a writing session from ./coauthor-v1.0/93468eec16324f109abec7010cd13ebd.jsonl\n",
            "Successfully read 2426 events in a writing session from ./coauthor-v1.0/b65e8358d12a498fa442f3d1072c4bb2.jsonl\n",
            "Successfully read 1504 events in a writing session from ./coauthor-v1.0/7c1e066d0c9c4901921cab117a0b7e73.jsonl\n",
            "Successfully read 1051 events in a writing session from ./coauthor-v1.0/aea2e89578b3408983027d4f02ac76e6.jsonl\n",
            "Successfully read 2439 events in a writing session from ./coauthor-v1.0/b153deb333a648e8bed354ccb72d9085.jsonl\n",
            "Successfully read 2807 events in a writing session from ./coauthor-v1.0/b4134879f6494953bfca7456a0bc8341.jsonl\n",
            "Successfully read 1982 events in a writing session from ./coauthor-v1.0/8cd013d1f1c0425aaf34f6295e350c5b.jsonl\n",
            "Successfully read 1257 events in a writing session from ./coauthor-v1.0/8619af4decba4fd0b44bd0194df73038.jsonl\n",
            "Successfully read 2331 events in a writing session from ./coauthor-v1.0/cef96a7714dd4388a3d30fa893191ec3.jsonl\n",
            "Successfully read 1243 events in a writing session from ./coauthor-v1.0/826e515ad8af4f68a59534c15844da37.jsonl\n",
            "Successfully read 1211 events in a writing session from ./coauthor-v1.0/d40c6dfd679b4152b3f9334e56053ecf.jsonl\n",
            "Successfully read 2610 events in a writing session from ./coauthor-v1.0/53a1f867867b431e9336245503e7eec4.jsonl\n",
            "Successfully read 2434 events in a writing session from ./coauthor-v1.0/110c2c98170f41b3b0f91f3af71ce98a.jsonl\n",
            "Event Distribution in First 100 Paths:\n",
            "system-initialize: 100\n",
            "text-insert: 164371\n",
            "suggestion-get: 1192\n",
            "suggestion-open: 1107\n",
            "suggestion-hover: 4986\n",
            "suggestion-select: 834\n",
            "suggestion-close: 1098\n",
            "cursor-backward: 1300\n",
            "cursor-select: 492\n",
            "cursor-forward: 1523\n",
            "text-delete: 14057\n",
            "suggestion-down: 118\n",
            "suggestion-up: 29\n",
            "suggestion-reopen: 4\n"
          ]
        }
      ],
      "source": [
        "from collections import Counter\n",
        "\n",
        "event_counts = Counter()\n",
        "\n",
        "# Check event type distribution\n",
        "for path in paths[:100]:  # Only first 100 paths\n",
        "    events = read_writing_session(path)\n",
        "    for event in events:\n",
        "        event_counts[event[\"eventName\"]] += 1\n",
        "\n",
        "print(\"Event Distribution in First 100 Paths:\")\n",
        "for event_name, count in event_counts.items():\n",
        "    print(f\"{event_name}: {count}\")"
      ]
    },
    {
      "cell_type": "code",
      "execution_count": 21,
      "metadata": {
        "colab": {
          "base_uri": "https://localhost:8080/"
        },
        "id": "eRtzbn3Fksau",
        "outputId": "b1ef76b9-43cc-4823-c5e2-4027e94444ae"
      },
      "outputs": [
        {
          "output_type": "stream",
          "name": "stdout",
          "text": [
            "{'eventName': 'suggestion-open', 'eventSource': 'api', 'eventTimestamp': 1629199626656, 'textDelta': '', 'cursorRange': '', 'currentDoc': '', 'currentCursor': 846, 'currentSuggestions': [{'index': 0, 'original': '\\n\\nThe 92nd little pig and the wolf began a long and tedious construction project.', 'trimmed': 'The 92nd little pig and the wolf began a long and tedious construction project.', 'probability': 9.348164729688369e-25}, {'index': 1, 'original': '\\n\\nBigger, badder wolves were immediately sent out to handle the little pigs.', 'trimmed': 'Bigger, badder wolves were immediately sent out to handle the little pigs.', 'probability': 3.436641811448337e-27}, {'index': 2, 'original': '\\n\\nSo the 92nd pig got all of his little piggies together and they formed a huge militia.', 'trimmed': 'So the 92nd pig got all of his little piggies together and they formed a huge militia.', 'probability': 1.3472823499403766e-19}, {'index': 3, 'original': '\\n\\nSo the 92nd little pig said, \"hey wolf.', 'trimmed': 'So the 92nd little pig said, \"hey wolf.', 'probability': 2.351269426324062e-22}], 'currentSuggestionIndex': 0, 'currentHoverIndex': '', 'currentN': '5', 'currentMaxToken': '30', 'currentTemperature': '0.75', 'currentTopP': '1', 'currentPresencePenalty': '0', 'currentFrequencyPenalty': '1', 'eventNum': 513}\n",
            "{'eventName': 'suggestion-close', 'eventSource': 'api', 'eventTimestamp': 1629199636128, 'textDelta': '', 'cursorRange': '', 'currentDoc': '', 'currentCursor': 846, 'currentSuggestions': [], 'currentSuggestionIndex': 0, 'currentHoverIndex': '', 'currentN': '5', 'currentMaxToken': '30', 'currentTemperature': '0.75', 'currentTopP': '1', 'currentPresencePenalty': '0', 'currentFrequencyPenalty': '1', 'eventNum': 515}\n",
            "{'eventName': 'suggestion-open', 'eventSource': 'api', 'eventTimestamp': 1629199637921, 'textDelta': '', 'cursorRange': '', 'currentDoc': '', 'currentCursor': 846, 'currentSuggestions': [{'index': 0, 'original': 'They would then rent out the space as a conference center to all the big, bad wolves and they could live off the insurance money.', 'trimmed': 'They would then rent out the space as a conference center to all the big, bad wolves and they could live off the insurance money.', 'probability': 4.297822559077668e-24}, {'index': 1, 'original': 'And they had just the idea.', 'trimmed': 'And they had just the idea.', 'probability': 1.1129307907073324e-22}, {'index': 2, 'original': 'They were planning a wolf hunt in the tradition of the great wolf hunt.', 'trimmed': 'They were planning a wolf hunt in the tradition of the great wolf hunt.', 'probability': 1.3269978673921973e-25}, {'index': 3, 'original': \"\\n\\nThe wolves, they didn't know it yet, but the little pigs had been watching them.\", 'trimmed': \"The wolves, they didn't know it yet, but the little pigs had been watching them.\", 'probability': 5.144755384500265e-18}, {'index': 4, 'original': '\\n\\nSo the wolf built a great big fire.', 'trimmed': 'So the wolf built a great big fire.', 'probability': 3.878962493677155e-20}], 'currentSuggestionIndex': 0, 'currentHoverIndex': '', 'currentN': '5', 'currentMaxToken': '30', 'currentTemperature': '0.75', 'currentTopP': '1', 'currentPresencePenalty': '0', 'currentFrequencyPenalty': '1', 'eventNum': 516}\n",
            "{'eventName': 'suggestion-select', 'eventSource': 'user', 'eventTimestamp': 1629199647992, 'textDelta': '', 'cursorRange': '', 'currentDoc': '', 'currentCursor': 846, 'currentSuggestions': [], 'currentSuggestionIndex': 0, 'currentHoverIndex': 3, 'currentN': '5', 'currentMaxToken': '30', 'currentTemperature': '0.75', 'currentTopP': '1', 'currentPresencePenalty': '0', 'currentFrequencyPenalty': '1', 'eventNum': 521}\n",
            "{'eventName': 'suggestion-close', 'eventSource': 'api', 'eventTimestamp': 1629199647992, 'textDelta': '', 'cursorRange': '', 'currentDoc': '', 'currentCursor': 846, 'currentSuggestions': [], 'currentSuggestionIndex': 0, 'currentHoverIndex': 3, 'currentN': '5', 'currentMaxToken': '30', 'currentTemperature': '0.75', 'currentTopP': '1', 'currentPresencePenalty': '0', 'currentFrequencyPenalty': '1', 'eventNum': 522}\n",
            "{'eventName': 'suggestion-open', 'eventSource': 'api', 'eventTimestamp': 1629199783888, 'textDelta': '', 'cursorRange': '', 'currentDoc': '', 'currentCursor': 1496, 'currentSuggestions': [{'index': 0, 'original': '\\n\\nThe wolves, being rather stupid creatures, thought themselves to be the master race of the world.', 'trimmed': 'The wolves, being rather stupid creatures, thought themselves to be the master race of the world.', 'probability': 1.1719625396207238e-21}, {'index': 1, 'original': \" The pigs designed a home that could withstand the wolves' claws, teeth and any artillery they may bring.\", 'trimmed': \"The pigs designed a home that could withstand the wolves' claws, teeth and any artillery they may bring.\", 'probability': 8.943823084034294e-30}, {'index': 2, 'original': ' Only the little pigs knew of the deadly trap they were setting.', 'trimmed': 'Only the little pigs knew of the deadly trap they were setting.', 'probability': 4.630102772189722e-20}, {'index': 3, 'original': ' The wolves would be told all sorts of outrageous lies, like, there was a lake inside the house made entirely out of human tears.', 'trimmed': 'The wolves would be told all sorts of outrageous lies, like, there was a lake inside the house made entirely out of human tears.', 'probability': 1.6656677159557863e-24}, {'index': 4, 'original': ' Of course, they would not offer any refunds.', 'trimmed': 'Of course, they would not offer any refunds.', 'probability': 1.5313834994536615e-27}], 'currentSuggestionIndex': 0, 'currentHoverIndex': 3, 'currentN': '5', 'currentMaxToken': '30', 'currentTemperature': '0.75', 'currentTopP': '1', 'currentPresencePenalty': '0', 'currentFrequencyPenalty': '1', 'eventNum': 1165}\n",
            "{'eventName': 'suggestion-select', 'eventSource': 'user', 'eventTimestamp': 1629199791790, 'textDelta': '', 'cursorRange': '', 'currentDoc': '', 'currentCursor': 1496, 'currentSuggestions': [], 'currentSuggestionIndex': 0, 'currentHoverIndex': 2, 'currentN': '5', 'currentMaxToken': '30', 'currentTemperature': '0.75', 'currentTopP': '1', 'currentPresencePenalty': '0', 'currentFrequencyPenalty': '1', 'eventNum': 1171}\n",
            "{'eventName': 'suggestion-close', 'eventSource': 'api', 'eventTimestamp': 1629199791790, 'textDelta': '', 'cursorRange': '', 'currentDoc': '', 'currentCursor': 1496, 'currentSuggestions': [], 'currentSuggestionIndex': 0, 'currentHoverIndex': 2, 'currentN': '5', 'currentMaxToken': '30', 'currentTemperature': '0.75', 'currentTopP': '1', 'currentPresencePenalty': '0', 'currentFrequencyPenalty': '1', 'eventNum': 1172}\n",
            "{'eventName': 'suggestion-open', 'eventSource': 'api', 'eventTimestamp': 1629199952500, 'textDelta': '', 'cursorRange': '', 'currentDoc': '', 'currentCursor': 2078, 'currentSuggestions': [{'index': 0, 'original': '\\n\\nThe wolves were shown to their rooms, and they began to make themselves comfortable.', 'trimmed': 'The wolves were shown to their rooms, and they began to make themselves comfortable.', 'probability': 4.0741346889287265e-20}, {'index': 1, 'original': 'The wolves were welcomed to the resort by the pigs dressed in traditional eastern robes.', 'trimmed': 'The wolves were welcomed to the resort by the pigs dressed in traditional eastern robes.', 'probability': 1.9716593598471025e-24}, {'index': 2, 'original': '\\n\\nOnce all the wolves were inside, the real fun began.', 'trimmed': 'Once all the wolves were inside, the real fun began.', 'probability': 1.1717688208562878e-20}, {'index': 3, 'original': '\\n\\nJust before the main doors to the resort closed and locked for the evening, the wolves began to arrive.', 'trimmed': 'Just before the main doors to the resort closed and locked for the evening, the wolves began to arrive.', 'probability': 4.796811147359284e-25}, {'index': 4, 'original': \"\\n\\nThe wolves remembered not to cross one of the three little pigs' path.\", 'trimmed': \"The wolves remembered not to cross one of the three little pigs' path.\", 'probability': 1.3640285875654482e-27}], 'currentSuggestionIndex': 0, 'currentHoverIndex': 2, 'currentN': '5', 'currentMaxToken': '30', 'currentTemperature': '0.75', 'currentTopP': '1', 'currentPresencePenalty': '0', 'currentFrequencyPenalty': '1', 'eventNum': 1830}\n",
            "{'eventName': 'suggestion-select', 'eventSource': 'user', 'eventTimestamp': 1629199959982, 'textDelta': '', 'cursorRange': '', 'currentDoc': '', 'currentCursor': 2078, 'currentSuggestions': [], 'currentSuggestionIndex': 0, 'currentHoverIndex': 0, 'currentN': '5', 'currentMaxToken': '30', 'currentTemperature': '0.75', 'currentTopP': '1', 'currentPresencePenalty': '0', 'currentFrequencyPenalty': '1', 'eventNum': 1836}\n",
            "{'eventName': 'suggestion-close', 'eventSource': 'api', 'eventTimestamp': 1629199959982, 'textDelta': '', 'cursorRange': '', 'currentDoc': '', 'currentCursor': 2078, 'currentSuggestions': [], 'currentSuggestionIndex': 0, 'currentHoverIndex': 0, 'currentN': '5', 'currentMaxToken': '30', 'currentTemperature': '0.75', 'currentTopP': '1', 'currentPresencePenalty': '0', 'currentFrequencyPenalty': '1', 'eventNum': 1837}\n",
            "{'eventName': 'suggestion-open', 'eventSource': 'api', 'eventTimestamp': 1629200094462, 'textDelta': '', 'cursorRange': '', 'currentDoc': '', 'currentCursor': 2566, 'currentSuggestions': [{'index': 0, 'original': 'They then went off to live their lives in peace.', 'trimmed': 'They then went off to live their lives in peace.', 'probability': 1.5314246498945958e-18}, {'index': 1, 'original': 'As for the wolves, they were left to fend for themselves.', 'trimmed': 'As for the wolves, they were left to fend for themselves.', 'probability': 1.2827763128600816e-18}, {'index': 2, 'original': 'The wolf den was hidden from the air, and soon forgotten by all but a few.', 'trimmed': 'The wolf den was hidden from the air, and soon forgotten by all but a few.', 'probability': 1.1839425333372141e-23}, {'index': 3, 'original': '\\n\\nIt was a few days before the first wolf began to grow suspicious.', 'trimmed': 'It was a few days before the first wolf began to grow suspicious.', 'probability': 2.4799918326246355e-19}], 'currentSuggestionIndex': 0, 'currentHoverIndex': 0, 'currentN': '5', 'currentMaxToken': '30', 'currentTemperature': '0.75', 'currentTopP': '1', 'currentPresencePenalty': '0', 'currentFrequencyPenalty': '1', 'eventNum': 2290}\n",
            "{'eventName': 'suggestion-select', 'eventSource': 'user', 'eventTimestamp': 1629200098445, 'textDelta': '', 'cursorRange': '', 'currentDoc': '', 'currentCursor': 2566, 'currentSuggestions': [], 'currentSuggestionIndex': 0, 'currentHoverIndex': 1, 'currentN': '5', 'currentMaxToken': '30', 'currentTemperature': '0.75', 'currentTopP': '1', 'currentPresencePenalty': '0', 'currentFrequencyPenalty': '1', 'eventNum': 2296}\n",
            "{'eventName': 'suggestion-close', 'eventSource': 'api', 'eventTimestamp': 1629200098446, 'textDelta': '', 'cursorRange': '', 'currentDoc': '', 'currentCursor': 2566, 'currentSuggestions': [], 'currentSuggestionIndex': 0, 'currentHoverIndex': 1, 'currentN': '5', 'currentMaxToken': '30', 'currentTemperature': '0.75', 'currentTopP': '1', 'currentPresencePenalty': '0', 'currentFrequencyPenalty': '1', 'eventNum': 2297}\n"
          ]
        }
      ],
      "source": [
        "#looking at event where eventName is suggestion-select\n",
        "for event in events:\n",
        "  if event['eventName'] == 'suggestion-open':\n",
        "    print(event)\n",
        "  if event['eventName'] == 'suggestion-select':\n",
        "    print(event)\n",
        "  if event['eventName'] == 'suggestion-close':\n",
        "    print(event)\n"
      ]
    },
    {
      "cell_type": "markdown",
      "metadata": {
        "id": "hZvZSaTJR_h3"
      },
      "source": [
        "## 7. Visualizing Results"
      ]
    },
    {
      "cell_type": "code",
      "execution_count": 22,
      "metadata": {
        "colab": {
          "base_uri": "https://localhost:8080/"
        },
        "id": "RTOoo5awSZ1m",
        "outputId": "1e51ea18-afd1-431c-dc93-3f52b38e3e36"
      },
      "outputs": [
        {
          "output_type": "stream",
          "name": "stdout",
          "text": [
            "Highest 5 Similarity Scores:\n",
            "Score: 0.9614272252723977\n",
            "User Text: \"I'm not going to sting you, Your Majesty,\" the bee said.\n",
            " \"Well then tell me, what do you want?\", I asked the bee.\n",
            "AI Suggestion: \"I'm not going to sting you, Your Majesty,\" the bee said.\n",
            "Score: 0.9479226992700573\n",
            "User Text: She has to learn to love herself before she can let anyone else in and be happy.\n",
            "AI Suggestion: She’s never going to find love until she learns to love herself.\n",
            "Score: 0.8854912790798146\n",
            "User Text: He decided to keep it a secret, and not tell anyone. Perhaps it was best that magic was forgotten in the past. Given the state of the world, what may happen, he thought if people learned magic. Isaac placed the tome in a chest he owned, and locked it for good. Although it would appear to him every now and then, he decided to keep his promise, and keep it out of the eyes of others.\n",
            "AI Suggestion: He decided to keep it a secret, and not tell anyone.\n",
            "Score: 0.8825023945024968\n",
            "User Text: \"I'm here to help you with your duties as a queen,\" the bee said.\n",
            " So as it turned out, this bee and all of his friends had decided to make me their queen.\n",
            "AI Suggestion: \"I'm here to help you with your duties as a queen,\" the bee said.\n",
            "Score: 0.8789041698799519\n",
            "User Text: She says to herself, \"Oh my goodness.\n",
            "AI Suggestion: I wonder if I’m having the same problem with everyone.\"\n",
            "\n",
            "Lowest 5 Similarity Scores:\n",
            "Score: 0.19954403924360076\n",
            "User Text: me defeat the snake. I was so glad because I couldn't have done it alone. Finally we saw the queen bee and she was bigger than the other bees.\n",
            "AI Suggestion: me defeat the snake.\n",
            "Score: 0.20162987616900652\n",
            "User Text: I am afraid to let myself feel.\n",
            "AI Suggestion: It’s time to wake up and let someone love me the way I love them.\n",
            "Score: 0.2079882033619883\n",
            "User Text: For me, I enjoy listening to audiobooks because it allows me to multitask while I perform tasks around the house, or while I\n",
            "It couldlearn and absorb information.  For example, I can perform numerous small tasks arorund the house or yar that do not require my full attention, yet take up considerable amounts of time.  I can now use this time to learn new subjects or to absorb engaging fiction.\n",
            "AI Suggestion: I would think that you would learn just as much by listening to a book being read to you vs.\n",
            "Score: 0.21066664754385134\n",
            "User Text: the decision to listen to an audiobook rather than to read a printed book is a matter of personal preference.  There is not really an objective reason that the majority of the population should prefer one medium to the other.\n",
            "AI Suggestion: For me, I enjoy listening to audiobooks because it allows me to multitask while I perform tasks around the house, or while I\n",
            "Score: 0.23929591392497462\n",
            "User Text: She will allow herself to love. She meets a handsome man, Ben, at a coffee shop. Her newfound resolve empowers her, and they hit it off.  She feels a weird energy.\n",
            "AI Suggestion: As she allows her heart to open, she is filled with hope and excited for what the future holds.\n"
          ]
        }
      ],
      "source": [
        "# highest and lowest 5 similarity scores and text\n",
        "highest_5 = df_results.nlargest(5, 'jsd_similarity')\n",
        "lowest_5 = df_results.nsmallest(5, 'jsd_similarity')\n",
        "print(\"Highest 5 Similarity Scores:\")\n",
        "for index, row in highest_5.iterrows():\n",
        "    print(f\"Score: {row['jsd_similarity']}\")\n",
        "    print(f\"User Text: {row['user_text']}\")\n",
        "    print(f\"AI Suggestion: {row['ai_suggestion']}\")\n",
        "\n",
        "\n",
        "print(\"\\nLowest 5 Similarity Scores:\")\n",
        "for index, row in lowest_5.iterrows():\n",
        "    print(f\"Score: {row['jsd_similarity']}\")\n",
        "    print(f\"User Text: {row['user_text']}\")\n",
        "    print(f\"AI Suggestion: {row['ai_suggestion']}\")\n"
      ]
    },
    {
      "cell_type": "markdown",
      "metadata": {
        "id": "UoNhm9yTzkI5"
      },
      "source": [
        "Function to identify whether the user accepted or rejected a suggestion from ai."
      ]
    },
    {
      "cell_type": "code",
      "execution_count": 23,
      "metadata": {
        "id": "TeGmW4AKWOWS"
      },
      "outputs": [],
      "source": [
        "def extract_acceptance_status(events):\n",
        "    \"\"\"Track if a suggestion was accepted or rejected.\"\"\"\n",
        "    acceptance_status = []  # Stores 'accepted' or 'rejected'\n",
        "    last_suggestion_open = None  # Store the most recent `suggestion-open`\n",
        "\n",
        "    for event in events:\n",
        "        if event[\"eventName\"] == \"suggestion-open\" and event.get(\"currentSuggestions\"):\n",
        "            last_suggestion_open = event  # Save the latest `suggestion-open`\n",
        "\n",
        "        elif event[\"eventName\"] == \"suggestion-select\" and last_suggestion_open:\n",
        "            # Suggestion selected\n",
        "            acceptance_status.append('accepted')\n",
        "            last_suggestion_open = None  # Reset, since we handled the acceptance\n",
        "\n",
        "        elif event[\"eventName\"] == \"suggestion-close\" and last_suggestion_open:\n",
        "            # Suggestion closed without selection (rejected)\n",
        "            acceptance_status.append('rejected')\n",
        "            last_suggestion_open = None  # Reset, since we handled the rejection\n",
        "\n",
        "    return acceptance_status"
      ]
    },
    {
      "cell_type": "markdown",
      "metadata": {
        "id": "kX42FPyCzyN8"
      },
      "source": [
        "Create a dataframe with user text, ai-suggestion, tone similarity, and"
      ]
    },
    {
      "cell_type": "code",
      "execution_count": 24,
      "metadata": {
        "colab": {
          "base_uri": "https://localhost:8080/"
        },
        "id": "wBWl6GpbZJH8",
        "outputId": "6304faa7-5fc5-4f21-9231-20ef9be8fde5"
      },
      "outputs": [
        {
          "output_type": "stream",
          "name": "stdout",
          "text": [
            "Successfully read 1443 events in a writing session from ./coauthor-v1.0/91366311bd76400b9ea7efe17bf8b659.jsonl\n",
            "Successfully read 758 events in a writing session from ./coauthor-v1.0/1c5622c21c424b91a8325faa0c5e753e.jsonl\n",
            "Successfully read 1578 events in a writing session from ./coauthor-v1.0/4cf7657748194823a3c4349e8a469c99.jsonl\n",
            "Successfully read 1364 events in a writing session from ./coauthor-v1.0/b8be5a82533b406bbf13aaa587a8d924.jsonl\n",
            "Successfully read 1991 events in a writing session from ./coauthor-v1.0/b36defcb6838467db4486349793492fc.jsonl\n",
            "Successfully read 2361 events in a writing session from ./coauthor-v1.0/e76e0164df714bae95772dba5e3d7a5f.jsonl\n",
            "Successfully read 3460 events in a writing session from ./coauthor-v1.0/4bdb5a30d17d40d7b160d942552c190b.jsonl\n",
            "Successfully read 1202 events in a writing session from ./coauthor-v1.0/bd632b8b53394b32a6dba18848f787a4.jsonl\n",
            "Successfully read 3027 events in a writing session from ./coauthor-v1.0/c4e852c4b21b4703a485d93b618361cd.jsonl\n",
            "Successfully read 2233 events in a writing session from ./coauthor-v1.0/f9a09da62e19479d8b2c31d3a494f11b.jsonl\n",
            "Successfully read 2699 events in a writing session from ./coauthor-v1.0/7b827c9dbe9547fbae0a89de75863527.jsonl\n",
            "Successfully read 1862 events in a writing session from ./coauthor-v1.0/68fd27f0d07a4a319c9f931331f16e2d.jsonl\n",
            "Successfully read 1090 events in a writing session from ./coauthor-v1.0/ecdf98683b6641e3b99127df3ee66854.jsonl\n",
            "Successfully read 2575 events in a writing session from ./coauthor-v1.0/269f101ba0da4aa3a5ce0bf3a65bade1.jsonl\n",
            "Successfully read 2343 events in a writing session from ./coauthor-v1.0/f86105405d7d4c87bbfcd6b91d5d53a3.jsonl\n",
            "Successfully read 1689 events in a writing session from ./coauthor-v1.0/c95024d4d29d4d90a8aa665aef6397aa.jsonl\n",
            "Successfully read 1324 events in a writing session from ./coauthor-v1.0/1c7dcfd367a343449113516e395fed55.jsonl\n",
            "Successfully read 2717 events in a writing session from ./coauthor-v1.0/9dc52675bffe43dd8a9359dab52e711b.jsonl\n",
            "Successfully read 1953 events in a writing session from ./coauthor-v1.0/a13794ea66e341029357b1065e0e13b2.jsonl\n",
            "Successfully read 2556 events in a writing session from ./coauthor-v1.0/25c8204b269c46baa42c4dc816b87c1b.jsonl\n",
            "Successfully read 2208 events in a writing session from ./coauthor-v1.0/6cd01768d763429a9c65131ad293b2fe.jsonl\n",
            "Successfully read 1641 events in a writing session from ./coauthor-v1.0/5d34143f64fc4820b7d4a53c85deac45.jsonl\n",
            "Successfully read 2083 events in a writing session from ./coauthor-v1.0/4942e7f2ab484c3291c91473fbc22b5e.jsonl\n",
            "Successfully read 1615 events in a writing session from ./coauthor-v1.0/0ff12af0651e4b0eaf88e22e82058137.jsonl\n",
            "Successfully read 2548 events in a writing session from ./coauthor-v1.0/fe73becf5e134d409a307434472d083b.jsonl\n",
            "Successfully read 1342 events in a writing session from ./coauthor-v1.0/151f3551721e4c6fb81c52dac6217a5c.jsonl\n",
            "Successfully read 1491 events in a writing session from ./coauthor-v1.0/477a7999cb944914ba1a1141db81b44f.jsonl\n",
            "Successfully read 2433 events in a writing session from ./coauthor-v1.0/79a6126076714a1ba4fc9abc52c9201d.jsonl\n",
            "Successfully read 1807 events in a writing session from ./coauthor-v1.0/232312a7bc284724b78c9c71c2b90afa.jsonl\n",
            "Successfully read 919 events in a writing session from ./coauthor-v1.0/a6fdd2b52268416d9b3ebf015fa82e18.jsonl\n",
            "Successfully read 1491 events in a writing session from ./coauthor-v1.0/06a646f4746648eebec3e1869b713d7e.jsonl\n",
            "Successfully read 1177 events in a writing session from ./coauthor-v1.0/797e87aff94142b1be301e11df758d63.jsonl\n",
            "Successfully read 3966 events in a writing session from ./coauthor-v1.0/982b7a3621a745a8a4b5b7aea92938b0.jsonl\n",
            "Successfully read 1644 events in a writing session from ./coauthor-v1.0/586931064c24482796b7e0aade9a711b.jsonl\n",
            "Successfully read 2511 events in a writing session from ./coauthor-v1.0/672befe865e94480ae1cb6fa8aa473e1.jsonl\n",
            "Successfully read 1958 events in a writing session from ./coauthor-v1.0/5960818e4b234acab13c90618afee4b3.jsonl\n",
            "Successfully read 1472 events in a writing session from ./coauthor-v1.0/9c8cd9880da74366ba28673147d87d34.jsonl\n",
            "Successfully read 2912 events in a writing session from ./coauthor-v1.0/0a8e182a20df447db4846b1223c619b5.jsonl\n",
            "Successfully read 1552 events in a writing session from ./coauthor-v1.0/ea11db08c0dd4477add459779396a29e.jsonl\n",
            "Successfully read 1546 events in a writing session from ./coauthor-v1.0/f64a674b006c4fa6adaf1bba48049f6c.jsonl\n",
            "Successfully read 2440 events in a writing session from ./coauthor-v1.0/b38b55361ff74d31801bb1a9d7d19d2d.jsonl\n",
            "Successfully read 3715 events in a writing session from ./coauthor-v1.0/9acd2cb9d930425fba58dfd597a8449a.jsonl\n",
            "Successfully read 1073 events in a writing session from ./coauthor-v1.0/c68e3e04c564413fab31d6765cba7f77.jsonl\n",
            "Successfully read 1455 events in a writing session from ./coauthor-v1.0/1049b04745b44e7fa2a50d98321c2026.jsonl\n",
            "Successfully read 1429 events in a writing session from ./coauthor-v1.0/be2644ed7bc34c438c36bf80db400c9c.jsonl\n",
            "Successfully read 1915 events in a writing session from ./coauthor-v1.0/43bda44256df4d51ba681ac40dcfe8c1.jsonl\n",
            "Successfully read 2178 events in a writing session from ./coauthor-v1.0/b51acee6aa7944d3b666627e29aca5b8.jsonl\n",
            "Successfully read 2645 events in a writing session from ./coauthor-v1.0/3a7d0ac2d9c044318903ed715b695d35.jsonl\n",
            "Successfully read 2102 events in a writing session from ./coauthor-v1.0/5f43b93d95334de7a886100e5e0a73b8.jsonl\n",
            "Successfully read 1882 events in a writing session from ./coauthor-v1.0/b93b7bff90944fa19b65fc0b12b55cd8.jsonl\n",
            "Successfully read 1385 events in a writing session from ./coauthor-v1.0/78526ab498154d079cd1b2584ee25e3d.jsonl\n",
            "Successfully read 2146 events in a writing session from ./coauthor-v1.0/0886ac6a67c34849a08ccb15134f3407.jsonl\n",
            "Successfully read 1629 events in a writing session from ./coauthor-v1.0/f1c71be96fd04e3f8008c90725349283.jsonl\n",
            "Successfully read 1435 events in a writing session from ./coauthor-v1.0/59ac3d8b33d64c2c8d91c264fdf4c1da.jsonl\n",
            "Successfully read 2541 events in a writing session from ./coauthor-v1.0/ea22b448ed0441a093211cc71c8c35e3.jsonl\n",
            "Successfully read 2355 events in a writing session from ./coauthor-v1.0/8393a8ed335f438c9ad5ca3d25a947b6.jsonl\n",
            "Successfully read 1207 events in a writing session from ./coauthor-v1.0/f8e0496b35c64e35b500e2034493eb8e.jsonl\n",
            "Successfully read 1405 events in a writing session from ./coauthor-v1.0/e6011509fc00436ab743f12fa6a27714.jsonl\n",
            "Successfully read 2196 events in a writing session from ./coauthor-v1.0/0a08f7fd748246c8ad4e353edb7e2394.jsonl\n",
            "Successfully read 3457 events in a writing session from ./coauthor-v1.0/5de04cda76194f70ba4a49ba5c34ad14.jsonl\n",
            "Successfully read 1502 events in a writing session from ./coauthor-v1.0/4efb9d8419ee42a3b2ec99f01f94e0a6.jsonl\n",
            "Successfully read 2379 events in a writing session from ./coauthor-v1.0/d85105525355435da52d20ce7a4b7620.jsonl\n",
            "Successfully read 1426 events in a writing session from ./coauthor-v1.0/5426f8469fda44fb85b815bc1a1ed884.jsonl\n",
            "Successfully read 2254 events in a writing session from ./coauthor-v1.0/9350869f0d24492c920c83e0a9507648.jsonl\n",
            "Successfully read 2213 events in a writing session from ./coauthor-v1.0/9b1d2408672e4e8595c322bc04146995.jsonl\n",
            "Successfully read 1603 events in a writing session from ./coauthor-v1.0/ab72069c90cb4448a2c6fcaec1df7787.jsonl\n",
            "Successfully read 1867 events in a writing session from ./coauthor-v1.0/67e2ebb79ef7428db8828883d135c55f.jsonl\n",
            "Successfully read 1333 events in a writing session from ./coauthor-v1.0/a1f6b84f1d60425ea7f1f34c2ff519e2.jsonl\n",
            "Successfully read 893 events in a writing session from ./coauthor-v1.0/6dddf664e4be4c41a2fd91069d43a600.jsonl\n",
            "Successfully read 1367 events in a writing session from ./coauthor-v1.0/4831f92b228149c191708a694807853e.jsonl\n",
            "Successfully read 1005 events in a writing session from ./coauthor-v1.0/498f1c843ea64e9c8e1d90850b4a676b.jsonl\n",
            "Successfully read 1312 events in a writing session from ./coauthor-v1.0/ccbcf12b87b04596848a5091118c49d9.jsonl\n",
            "Successfully read 1568 events in a writing session from ./coauthor-v1.0/01e3a2f5c2a442fe9225e0c9ef56a5f5.jsonl\n",
            "Successfully read 2180 events in a writing session from ./coauthor-v1.0/8024bf1914664591abe824dd583d2d2a.jsonl\n",
            "Successfully read 1724 events in a writing session from ./coauthor-v1.0/696c87b7fe7f4f869e84d30e9bd97823.jsonl\n",
            "Successfully read 1697 events in a writing session from ./coauthor-v1.0/7edc4eee07cd44db9a01e28f1ef20064.jsonl\n",
            "Successfully read 637 events in a writing session from ./coauthor-v1.0/478d7bee3c53454fb80f423138913c4f.jsonl\n",
            "Successfully read 962 events in a writing session from ./coauthor-v1.0/d4c8237fa5f842c6a882d79184a82c59.jsonl\n",
            "Successfully read 2235 events in a writing session from ./coauthor-v1.0/e7107e7319eb4ab18a7e3fc4445b2d91.jsonl\n",
            "Successfully read 1557 events in a writing session from ./coauthor-v1.0/7a068257c0b94c05b56e5a11387aae6e.jsonl\n",
            "Successfully read 1457 events in a writing session from ./coauthor-v1.0/cfec8b365d874b18a765ce4afd83b125.jsonl\n",
            "Successfully read 2756 events in a writing session from ./coauthor-v1.0/221820be7d8945f99af46d423ad57864.jsonl\n",
            "Successfully read 2100 events in a writing session from ./coauthor-v1.0/01a3e8d4e52f4f1483bf48b33cd88cd9.jsonl\n",
            "Successfully read 1689 events in a writing session from ./coauthor-v1.0/185067c797e34884b1408a69680fe28a.jsonl\n",
            "Successfully read 481 events in a writing session from ./coauthor-v1.0/40321204ac204fc3b3aa443db377eeaf.jsonl\n",
            "Successfully read 3605 events in a writing session from ./coauthor-v1.0/7fdd4ec9a2164e9d8f3d28e1db1df08c.jsonl\n",
            "Successfully read 2671 events in a writing session from ./coauthor-v1.0/116ae37dd7f5497c8257767b81a72cf3.jsonl\n",
            "Successfully read 2312 events in a writing session from ./coauthor-v1.0/93468eec16324f109abec7010cd13ebd.jsonl\n",
            "Successfully read 2426 events in a writing session from ./coauthor-v1.0/b65e8358d12a498fa442f3d1072c4bb2.jsonl\n",
            "Successfully read 1504 events in a writing session from ./coauthor-v1.0/7c1e066d0c9c4901921cab117a0b7e73.jsonl\n",
            "Successfully read 1051 events in a writing session from ./coauthor-v1.0/aea2e89578b3408983027d4f02ac76e6.jsonl\n",
            "Successfully read 2439 events in a writing session from ./coauthor-v1.0/b153deb333a648e8bed354ccb72d9085.jsonl\n",
            "Successfully read 2807 events in a writing session from ./coauthor-v1.0/b4134879f6494953bfca7456a0bc8341.jsonl\n",
            "Successfully read 1982 events in a writing session from ./coauthor-v1.0/8cd013d1f1c0425aaf34f6295e350c5b.jsonl\n",
            "Successfully read 1257 events in a writing session from ./coauthor-v1.0/8619af4decba4fd0b44bd0194df73038.jsonl\n",
            "Successfully read 2331 events in a writing session from ./coauthor-v1.0/cef96a7714dd4388a3d30fa893191ec3.jsonl\n",
            "Successfully read 1243 events in a writing session from ./coauthor-v1.0/826e515ad8af4f68a59534c15844da37.jsonl\n",
            "Successfully read 1211 events in a writing session from ./coauthor-v1.0/d40c6dfd679b4152b3f9334e56053ecf.jsonl\n",
            "Successfully read 2610 events in a writing session from ./coauthor-v1.0/53a1f867867b431e9336245503e7eec4.jsonl\n",
            "Successfully read 2434 events in a writing session from ./coauthor-v1.0/110c2c98170f41b3b0f91f3af71ce98a.jsonl\n"
          ]
        }
      ],
      "source": [
        "# Loop through each path (limited to paths 100-110)\n",
        "for path in paths[:100]:\n",
        "    events = read_writing_session(path)\n",
        "\n",
        "    if len(events) < 3000:\n",
        "\n",
        "      # Extract user-written text and AI-generated suggestions\n",
        "      user_texts = reconstruct_user_text(events)\n",
        "      ai_suggestions = extract_selected_ai_suggestions(events)\n",
        "      acceptance_status = extract_acceptance_status(events)\n",
        "\n",
        "      # Ensure we only compare matching pairs\n",
        "      for user_text, ai_text, status in zip(user_texts, ai_suggestions, acceptance_status):\n",
        "          user_score,user_vector = get_emotion_vector(user_text)\n",
        "          ai_score,ai_vector = get_emotion_vector(ai_text)\n",
        "\n",
        "          # Compute JSD similarity\n",
        "          jsd_similarity = similarity_jsd(user_vector, ai_vector)\n",
        "\n",
        "          # Store results, including acceptance status\n",
        "          jsd_results.append({\n",
        "              \"path\": path,\n",
        "              \"user_text\": user_text,\n",
        "              \"ai_suggestion\": ai_text,\n",
        "              \"tone_similarity\": jsd_similarity,\n",
        "              \"acceptance_status\": status\n",
        "          })\n"
      ]
    },
    {
      "cell_type": "code",
      "execution_count": 25,
      "metadata": {
        "colab": {
          "base_uri": "https://localhost:8080/"
        },
        "id": "vxixHZ71YoEv",
        "outputId": "4bebdc6d-a76b-48d3-dcd8-9a828948bd1b"
      },
      "outputs": [
        {
          "output_type": "stream",
          "name": "stdout",
          "text": [
            "Processed 10 paths. Results saved to emotion_similarity_with_acceptance.csv.\n"
          ]
        }
      ],
      "source": [
        "# Save results to CSV\n",
        "df_results_with_acceptances = pd.DataFrame(jsd_results)\n",
        "\n",
        "print(f\"Processed {len(small)} paths. Results saved to emotion_similarity_with_acceptance.csv.\")\n"
      ]
    },
    {
      "cell_type": "markdown",
      "metadata": {
        "id": "Zsjpd6rl0QP8"
      },
      "source": [
        "Looking at the highest and lowest 5 similarity scores"
      ]
    },
    {
      "cell_type": "code",
      "execution_count": 28,
      "metadata": {
        "colab": {
          "base_uri": "https://localhost:8080/"
        },
        "id": "5PH_8-vN1Jcu",
        "outputId": "e755e9d8-a069-4727-b453-8afe1525e09a"
      },
      "outputs": [
        {
          "output_type": "stream",
          "name": "stdout",
          "text": [
            "Highest 5 Similarity Scores:\n",
            "Score: 0.9788488232769919\n",
            "User Text: \"A bee-human hybrid, yes.\n",
            "\"\n",
            "AI Suggestion: \"A bee-human hybrid, yes.\n",
            "Score: 0.973009102869352\n",
            "User Text: You are all here, so it must be one of those\n",
            "\n",
            "I wonder if these yous are good people or bad people?  Do we all share a common core personality?\n",
            "AI Suggestion: You wonder if you will ever meet up with any of these yous again.\n",
            "Score: 0.9625416128518796\n",
            "User Text: On online dating sites, you also have the opportunity to use profile photos, multiple photos and a range of writing styles to help choose a mate.\n",
            "AI Suggestion: Tinder and other dating apps allow you to quickly evaluate a large number of potential partners in a short period of time.\n",
            "Score: 0.9562184897607741\n",
            "User Text: the most offensive portrayal of a person is the one that makes them seem like a stereotype. This type of portrayal shows no creativity at all. There is no substance behind characters like this which in my opinion shows a lack of work ethic and creativity.\n",
            "\n",
            "I wouldn't not watch a show or movie if a character was a stereotypical portray of a certain race, religion or ethnicity but it might bother me. Tony Soprano to me was somewhat of the stereotypical Italian mob boss but I loved that show. \n",
            "\n",
            "There are certain stereotypes that I hate seeing on TV and in movies. For example, the dumb blonde girl is one that is used so often and is just such a terrible portrayal of blonde women. I personally know many blonde women who are very intelligent and even run their own businesses.\n",
            "\n",
            "I just feel like stereotypical portrayals are easy. They have been done to death.\n",
            "AI Suggestion: the most offensive stereotypical characters are the ones that are portrayed as being stupid.\n",
            "Score: 0.9512939458819096\n",
            "User Text: The New Film was a masterpiece. The scenes with the love story were so romantic.\n",
            "AI Suggestion: The Main Character looked at the audience; they were all smiling.\n",
            "\n",
            "Lowest 5 Similarity Scores:\n",
            "Score: 0.18272323987141548\n",
            "User Text: the higher ranked dads are smug, the lower ranked dads are angry, everyone's\n",
            "AI Suggestion: are scared because there's so much yelling.\n",
            "Score: 0.186688502859217\n",
            "User Text: a very happy, normal wolf life.\n",
            "\n",
            "Meanwhile, the pig\n",
            "AI Suggestion: ate his food without savoring it, he never laughed, he had no friends or family.\n",
            "Score: 0.1911466214426215\n",
            "User Text: Britannica.\n",
            "\n",
            "So acquiring these skills was easy, but what about learning how to become a decent human being? My friends, and the kids in my neighborhood, were\n",
            "AI Suggestion: divorced, and my mother moved away.\n",
            "Score: 0.19270529732230446\n",
            "User Text: I know that there are times when we can think of the thrill we feel on a mountain top or the one that is felt while doing aa persthat it and nothing can really replace that feeling.\n",
            "AI Suggestion: The trouble is that these sensations are so controlled by adrenaline and endorphins that it is only a fleeting feeling.\n",
            "Score: 0.19359762679721337\n",
            "User Text: towards Japanese-Americans brought fear, this then affected many other cultures.\n",
            "AI Suggestion: occurs with stereotyped characters because they have no background or a history of the character.\n"
          ]
        }
      ],
      "source": [
        "# highest and lowest 5 similarity scores and text\n",
        "#highest five after similarity of 1\n",
        "highest_5 = df_results_with_acceptances[df_results_with_acceptances['tone_similarity'] < 1].nlargest(5, 'tone_similarity')\n",
        "lowest_5 = df_results_with_acceptances.nsmallest(5, 'tone_similarity')\n",
        "print(\"Highest 5 Similarity Scores:\")\n",
        "for index, row in highest_5.iterrows():\n",
        "    print(f\"Score: {row['tone_similarity']}\")\n",
        "    print(f\"User Text: {row['user_text']}\")\n",
        "    print(f\"AI Suggestion: {row['ai_suggestion']}\")\n",
        "\n",
        "\n",
        "print(\"\\nLowest 5 Similarity Scores:\")\n",
        "for index, row in lowest_5.iterrows():\n",
        "    print(f\"Score: {row['tone_similarity']}\")\n",
        "    print(f\"User Text: {row['user_text']}\")\n",
        "    print(f\"AI Suggestion: {row['ai_suggestion']}\")"
      ]
    },
    {
      "cell_type": "markdown",
      "metadata": {
        "id": "79V_VYcD06ra"
      },
      "source": [
        "### Visualizations"
      ]
    },
    {
      "cell_type": "code",
      "execution_count": 30,
      "metadata": {
        "colab": {
          "base_uri": "https://localhost:8080/",
          "height": 582
        },
        "id": "_3RUwmy0YpBW",
        "outputId": "9e1d49dc-0654-425c-908d-62d51b6f2506"
      },
      "outputs": [
        {
          "output_type": "execute_result",
          "data": {
            "text/plain": [
              "<matplotlib.legend.Legend at 0x7e4f806b0950>"
            ]
          },
          "metadata": {},
          "execution_count": 30
        },
        {
          "output_type": "display_data",
          "data": {
            "text/plain": [
              "<Figure size 1000x600 with 1 Axes>"
            ],
            "image/png": "[encoded data removed]"
          },
          "metadata": {}
        }
      ],
      "source": [
        "# plot of similarity distribution by acceptance status\n",
        "import matplotlib.pyplot as plt\n",
        "plt.figure(figsize=(10, 6))\n",
        "plt.hist(df_results_with_acceptances[df_results_with_acceptances['acceptance_status'] == 'accepted']['tone_similarity'], bins=35, color='green', alpha=0.7, label='Accepted')\n",
        "plt.hist(df_results_with_acceptances[df_results_with_acceptances['acceptance_status'] == 'rejected']['tone_similarity'], bins=35, color='red', alpha=0.7, label='Rejected')\n",
        "plt.title('Distribution of Tone Similarity by Acceptance Status')\n",
        "plt.xlabel('Tone Similarity')\n",
        "plt.legend()"
      ]
    },
    {
      "cell_type": "markdown",
      "metadata": {
        "id": "Mm7KI4kC51rC"
      },
      "source": [
        "## 8. Looking into POS for user and ai-generated text"
      ]
    },
    {
      "cell_type": "markdown",
      "metadata": {
        "id": "28C4eDQX0cxK"
      },
      "source": [
        "two different ways to analyze Part of Speech structure. By frequency and order."
      ]
    },
    {
      "cell_type": "code",
      "execution_count": 31,
      "metadata": {
        "colab": {
          "base_uri": "https://localhost:8080/"
        },
        "id": "C1RRKokT56Zf",
        "outputId": "5482244f-6a8f-416f-d4a0-7aa45a21553c"
      },
      "outputs": [
        {
          "output_type": "stream",
          "name": "stdout",
          "text": [
            "POS Tag Sequences: {'user_pos': ['PRON', 'VERB', 'VERB', 'ADP', 'PRON', 'NOUN', 'SCONJ', 'PRON', 'AUX', 'ADJ', 'PUNCT'], 'ai_pos': ['VERB', 'ADP', 'PRON', 'NOUN', 'AUX', 'ADJ', 'CCONJ', 'NOUN', 'PUNCT', 'NOUN', 'PUNCT']}\n",
            "POS Tag Frequencies: {'user_freq': {'PRON': 3, 'VERB': 2, 'ADP': 1, 'NOUN': 1, 'SCONJ': 1, 'AUX': 1, 'ADJ': 1, 'PUNCT': 1}, 'ai_freq': {'VERB': 1, 'ADP': 1, 'PRON': 1, 'NOUN': 3, 'AUX': 1, 'ADJ': 1, 'CCONJ': 1, 'PUNCT': 2}}\n"
          ]
        }
      ],
      "source": [
        "import spacy\n",
        "from typing import List, Dict\n",
        "\n",
        "# Load the English language model\n",
        "nlp = spacy.load(\"en_core_web_sm\")\n",
        "\n",
        "def get_pos_sequence(text):\n",
        "    \"\"\"Extracts the POS tag sequence from a given text.\"\"\"\n",
        "    doc = nlp(text)\n",
        "    return [token.pos_ for token in doc]\n",
        "\n",
        "def compare_pos_sequences(user_text, ai_text):\n",
        "    \"\"\"Compares POS tag sequences from user and AI text.\"\"\"\n",
        "    user_pos = get_pos_sequence(user_text)\n",
        "    ai_pos = get_pos_sequence(ai_text)\n",
        "    return {\"user_pos\": user_pos, \"ai_pos\": ai_pos}\n",
        "\n",
        "def get_pos_frequencies(text):\n",
        "    \"\"\"Calculates the frequency of each POS tag in the given text.\"\"\"\n",
        "    pos_tags = get_pos_sequence(text)\n",
        "    return dict(Counter(pos_tags))\n",
        "\n",
        "def compare_pos_frequencies(user_text, ai_text):\n",
        "    \"\"\"Compares POS tag frequencies between user and AI text.\"\"\"\n",
        "    user_freq = get_pos_frequencies(user_text)\n",
        "    ai_freq = get_pos_frequencies(ai_text)\n",
        "    return {\"user_freq\": user_freq, \"ai_freq\": ai_freq}\n",
        "\n",
        "# Example usage\n",
        "user_text = \"I love dancing with my friends because it is fun.\"\n",
        "ai_text = \"Dancing with my friends is enjoyable and stress-relieving.\"\n",
        "\n",
        "pos_comparison = compare_pos_sequences(user_text, ai_text)\n",
        "freq_comparison = compare_pos_frequencies(user_text, ai_text)\n",
        "\n",
        "print(\"POS Tag Sequences:\", pos_comparison)\n",
        "print(\"POS Tag Frequencies:\", freq_comparison)"
      ]
    },
    {
      "cell_type": "markdown",
      "metadata": {
        "id": "22LjNzZV0lOX"
      },
      "source": [
        "Function to calculate cosine similarity between POS of texts"
      ]
    },
    {
      "cell_type": "code",
      "execution_count": 32,
      "metadata": {
        "colab": {
          "base_uri": "https://localhost:8080/"
        },
        "id": "h2W-uYPO65Xr",
        "outputId": "c8e59bfd-ebf5-4ffb-b7b4-7dff76f7027b"
      },
      "outputs": [
        {
          "output_type": "stream",
          "name": "stdout",
          "text": [
            "POS Tag Similarity: 0.6842105263157894\n"
          ]
        }
      ],
      "source": [
        "from sklearn.metrics.pairwise import cosine_similarity\n",
        "def cosine_similarity_pos(pos1, pos2):\n",
        "    \"\"\"Computes cosine similarity between POS tag frequency vectors.\"\"\"\n",
        "    pos1_freq = Counter(pos1)\n",
        "    pos2_freq = Counter(pos2)\n",
        "\n",
        "    # Create a sorted list of all POS tags in both texts\n",
        "    all_tags = sorted(set(pos1_freq.keys()) | set(pos2_freq.keys()))\n",
        "\n",
        "    # Convert frequency dictionaries into vectors\n",
        "    vec1 = np.array([pos1_freq.get(tag, 0) for tag in all_tags]).reshape(1, -1)\n",
        "    vec2 = np.array([pos2_freq.get(tag, 0) for tag in all_tags]).reshape(1, -1)\n",
        "\n",
        "    # Compute cosine similarity\n",
        "    return cosine_similarity(vec1, vec2)[0][0]\n",
        "\n",
        "user_pos = get_pos_sequence(user_text)\n",
        "ai_pos = get_pos_sequence(ai_text)\n",
        "\n",
        "print(f\"POS Tag Similarity: {cosine_similarity_pos(user_pos, ai_pos)}\")"
      ]
    },
    {
      "cell_type": "markdown",
      "metadata": {
        "id": "S21cUm0n0rLw"
      },
      "source": [
        "### MOST IMPORTANT\n",
        "Creates the dataframe with user text, ai-suggestion, Tone similarity and POS similarity."
      ]
    },
    {
      "cell_type": "code",
      "execution_count": 53,
      "metadata": {
        "colab": {
          "base_uri": "https://localhost:8080/"
        },
        "id": "HKZ_4WYr8bRy",
        "outputId": "7e9ba018-9849-4e06-9b69-30ec7821acd8"
      },
      "outputs": [
        {
          "output_type": "stream",
          "name": "stdout",
          "text": [
            "Successfully read 1443 events in a writing session from ./coauthor-v1.0/91366311bd76400b9ea7efe17bf8b659.jsonl\n",
            "Successfully read 758 events in a writing session from ./coauthor-v1.0/1c5622c21c424b91a8325faa0c5e753e.jsonl\n",
            "Successfully read 1578 events in a writing session from ./coauthor-v1.0/4cf7657748194823a3c4349e8a469c99.jsonl\n",
            "Successfully read 1364 events in a writing session from ./coauthor-v1.0/b8be5a82533b406bbf13aaa587a8d924.jsonl\n",
            "Successfully read 1991 events in a writing session from ./coauthor-v1.0/b36defcb6838467db4486349793492fc.jsonl\n",
            "Successfully read 2361 events in a writing session from ./coauthor-v1.0/e76e0164df714bae95772dba5e3d7a5f.jsonl\n",
            "Successfully read 3460 events in a writing session from ./coauthor-v1.0/4bdb5a30d17d40d7b160d942552c190b.jsonl\n",
            "Successfully read 1202 events in a writing session from ./coauthor-v1.0/bd632b8b53394b32a6dba18848f787a4.jsonl\n",
            "Successfully read 3027 events in a writing session from ./coauthor-v1.0/c4e852c4b21b4703a485d93b618361cd.jsonl\n",
            "Successfully read 2233 events in a writing session from ./coauthor-v1.0/f9a09da62e19479d8b2c31d3a494f11b.jsonl\n",
            "Successfully read 2699 events in a writing session from ./coauthor-v1.0/7b827c9dbe9547fbae0a89de75863527.jsonl\n",
            "Successfully read 1862 events in a writing session from ./coauthor-v1.0/68fd27f0d07a4a319c9f931331f16e2d.jsonl\n",
            "Successfully read 1090 events in a writing session from ./coauthor-v1.0/ecdf98683b6641e3b99127df3ee66854.jsonl\n",
            "Successfully read 2575 events in a writing session from ./coauthor-v1.0/269f101ba0da4aa3a5ce0bf3a65bade1.jsonl\n",
            "Successfully read 2343 events in a writing session from ./coauthor-v1.0/f86105405d7d4c87bbfcd6b91d5d53a3.jsonl\n",
            "Successfully read 1689 events in a writing session from ./coauthor-v1.0/c95024d4d29d4d90a8aa665aef6397aa.jsonl\n",
            "Successfully read 1324 events in a writing session from ./coauthor-v1.0/1c7dcfd367a343449113516e395fed55.jsonl\n",
            "Successfully read 2717 events in a writing session from ./coauthor-v1.0/9dc52675bffe43dd8a9359dab52e711b.jsonl\n",
            "Successfully read 1953 events in a writing session from ./coauthor-v1.0/a13794ea66e341029357b1065e0e13b2.jsonl\n",
            "Successfully read 2556 events in a writing session from ./coauthor-v1.0/25c8204b269c46baa42c4dc816b87c1b.jsonl\n",
            "Successfully read 2208 events in a writing session from ./coauthor-v1.0/6cd01768d763429a9c65131ad293b2fe.jsonl\n",
            "Successfully read 1641 events in a writing session from ./coauthor-v1.0/5d34143f64fc4820b7d4a53c85deac45.jsonl\n",
            "Successfully read 2083 events in a writing session from ./coauthor-v1.0/4942e7f2ab484c3291c91473fbc22b5e.jsonl\n",
            "Successfully read 1615 events in a writing session from ./coauthor-v1.0/0ff12af0651e4b0eaf88e22e82058137.jsonl\n",
            "Successfully read 2548 events in a writing session from ./coauthor-v1.0/fe73becf5e134d409a307434472d083b.jsonl\n",
            "Successfully read 1342 events in a writing session from ./coauthor-v1.0/151f3551721e4c6fb81c52dac6217a5c.jsonl\n",
            "Successfully read 1491 events in a writing session from ./coauthor-v1.0/477a7999cb944914ba1a1141db81b44f.jsonl\n",
            "Successfully read 2433 events in a writing session from ./coauthor-v1.0/79a6126076714a1ba4fc9abc52c9201d.jsonl\n",
            "Successfully read 1807 events in a writing session from ./coauthor-v1.0/232312a7bc284724b78c9c71c2b90afa.jsonl\n",
            "Successfully read 919 events in a writing session from ./coauthor-v1.0/a6fdd2b52268416d9b3ebf015fa82e18.jsonl\n",
            "Successfully read 1491 events in a writing session from ./coauthor-v1.0/06a646f4746648eebec3e1869b713d7e.jsonl\n",
            "Successfully read 1177 events in a writing session from ./coauthor-v1.0/797e87aff94142b1be301e11df758d63.jsonl\n",
            "Successfully read 3966 events in a writing session from ./coauthor-v1.0/982b7a3621a745a8a4b5b7aea92938b0.jsonl\n",
            "Successfully read 1644 events in a writing session from ./coauthor-v1.0/586931064c24482796b7e0aade9a711b.jsonl\n",
            "Successfully read 2511 events in a writing session from ./coauthor-v1.0/672befe865e94480ae1cb6fa8aa473e1.jsonl\n",
            "Successfully read 1958 events in a writing session from ./coauthor-v1.0/5960818e4b234acab13c90618afee4b3.jsonl\n",
            "Successfully read 1472 events in a writing session from ./coauthor-v1.0/9c8cd9880da74366ba28673147d87d34.jsonl\n",
            "Successfully read 2912 events in a writing session from ./coauthor-v1.0/0a8e182a20df447db4846b1223c619b5.jsonl\n",
            "Successfully read 1552 events in a writing session from ./coauthor-v1.0/ea11db08c0dd4477add459779396a29e.jsonl\n",
            "Successfully read 1546 events in a writing session from ./coauthor-v1.0/f64a674b006c4fa6adaf1bba48049f6c.jsonl\n",
            "Successfully read 2440 events in a writing session from ./coauthor-v1.0/b38b55361ff74d31801bb1a9d7d19d2d.jsonl\n",
            "Successfully read 3715 events in a writing session from ./coauthor-v1.0/9acd2cb9d930425fba58dfd597a8449a.jsonl\n",
            "Successfully read 1073 events in a writing session from ./coauthor-v1.0/c68e3e04c564413fab31d6765cba7f77.jsonl\n",
            "Successfully read 1455 events in a writing session from ./coauthor-v1.0/1049b04745b44e7fa2a50d98321c2026.jsonl\n",
            "Successfully read 1429 events in a writing session from ./coauthor-v1.0/be2644ed7bc34c438c36bf80db400c9c.jsonl\n",
            "Successfully read 1915 events in a writing session from ./coauthor-v1.0/43bda44256df4d51ba681ac40dcfe8c1.jsonl\n",
            "Successfully read 2178 events in a writing session from ./coauthor-v1.0/b51acee6aa7944d3b666627e29aca5b8.jsonl\n",
            "Successfully read 2645 events in a writing session from ./coauthor-v1.0/3a7d0ac2d9c044318903ed715b695d35.jsonl\n",
            "Successfully read 2102 events in a writing session from ./coauthor-v1.0/5f43b93d95334de7a886100e5e0a73b8.jsonl\n",
            "Successfully read 1882 events in a writing session from ./coauthor-v1.0/b93b7bff90944fa19b65fc0b12b55cd8.jsonl\n",
            "Successfully read 1385 events in a writing session from ./coauthor-v1.0/78526ab498154d079cd1b2584ee25e3d.jsonl\n",
            "Successfully read 2146 events in a writing session from ./coauthor-v1.0/0886ac6a67c34849a08ccb15134f3407.jsonl\n",
            "Successfully read 1629 events in a writing session from ./coauthor-v1.0/f1c71be96fd04e3f8008c90725349283.jsonl\n",
            "Successfully read 1435 events in a writing session from ./coauthor-v1.0/59ac3d8b33d64c2c8d91c264fdf4c1da.jsonl\n",
            "Successfully read 2541 events in a writing session from ./coauthor-v1.0/ea22b448ed0441a093211cc71c8c35e3.jsonl\n",
            "Successfully read 2355 events in a writing session from ./coauthor-v1.0/8393a8ed335f438c9ad5ca3d25a947b6.jsonl\n",
            "Successfully read 1207 events in a writing session from ./coauthor-v1.0/f8e0496b35c64e35b500e2034493eb8e.jsonl\n",
            "Successfully read 1405 events in a writing session from ./coauthor-v1.0/e6011509fc00436ab743f12fa6a27714.jsonl\n",
            "Successfully read 2196 events in a writing session from ./coauthor-v1.0/0a08f7fd748246c8ad4e353edb7e2394.jsonl\n",
            "Successfully read 3457 events in a writing session from ./coauthor-v1.0/5de04cda76194f70ba4a49ba5c34ad14.jsonl\n",
            "Successfully read 1502 events in a writing session from ./coauthor-v1.0/4efb9d8419ee42a3b2ec99f01f94e0a6.jsonl\n",
            "Successfully read 2379 events in a writing session from ./coauthor-v1.0/d85105525355435da52d20ce7a4b7620.jsonl\n",
            "Successfully read 1426 events in a writing session from ./coauthor-v1.0/5426f8469fda44fb85b815bc1a1ed884.jsonl\n",
            "Successfully read 2254 events in a writing session from ./coauthor-v1.0/9350869f0d24492c920c83e0a9507648.jsonl\n",
            "Successfully read 2213 events in a writing session from ./coauthor-v1.0/9b1d2408672e4e8595c322bc04146995.jsonl\n",
            "Successfully read 1603 events in a writing session from ./coauthor-v1.0/ab72069c90cb4448a2c6fcaec1df7787.jsonl\n",
            "Successfully read 1867 events in a writing session from ./coauthor-v1.0/67e2ebb79ef7428db8828883d135c55f.jsonl\n",
            "Successfully read 1333 events in a writing session from ./coauthor-v1.0/a1f6b84f1d60425ea7f1f34c2ff519e2.jsonl\n",
            "Successfully read 893 events in a writing session from ./coauthor-v1.0/6dddf664e4be4c41a2fd91069d43a600.jsonl\n",
            "Successfully read 1367 events in a writing session from ./coauthor-v1.0/4831f92b228149c191708a694807853e.jsonl\n",
            "Successfully read 1005 events in a writing session from ./coauthor-v1.0/498f1c843ea64e9c8e1d90850b4a676b.jsonl\n",
            "Successfully read 1312 events in a writing session from ./coauthor-v1.0/ccbcf12b87b04596848a5091118c49d9.jsonl\n",
            "Successfully read 1568 events in a writing session from ./coauthor-v1.0/01e3a2f5c2a442fe9225e0c9ef56a5f5.jsonl\n",
            "Successfully read 2180 events in a writing session from ./coauthor-v1.0/8024bf1914664591abe824dd583d2d2a.jsonl\n",
            "Successfully read 1724 events in a writing session from ./coauthor-v1.0/696c87b7fe7f4f869e84d30e9bd97823.jsonl\n",
            "Successfully read 1697 events in a writing session from ./coauthor-v1.0/7edc4eee07cd44db9a01e28f1ef20064.jsonl\n",
            "Successfully read 637 events in a writing session from ./coauthor-v1.0/478d7bee3c53454fb80f423138913c4f.jsonl\n",
            "Successfully read 962 events in a writing session from ./coauthor-v1.0/d4c8237fa5f842c6a882d79184a82c59.jsonl\n",
            "Successfully read 2235 events in a writing session from ./coauthor-v1.0/e7107e7319eb4ab18a7e3fc4445b2d91.jsonl\n",
            "Successfully read 1557 events in a writing session from ./coauthor-v1.0/7a068257c0b94c05b56e5a11387aae6e.jsonl\n",
            "Successfully read 1457 events in a writing session from ./coauthor-v1.0/cfec8b365d874b18a765ce4afd83b125.jsonl\n",
            "Successfully read 2756 events in a writing session from ./coauthor-v1.0/221820be7d8945f99af46d423ad57864.jsonl\n",
            "Successfully read 2100 events in a writing session from ./coauthor-v1.0/01a3e8d4e52f4f1483bf48b33cd88cd9.jsonl\n",
            "Successfully read 1689 events in a writing session from ./coauthor-v1.0/185067c797e34884b1408a69680fe28a.jsonl\n",
            "Successfully read 481 events in a writing session from ./coauthor-v1.0/40321204ac204fc3b3aa443db377eeaf.jsonl\n",
            "Successfully read 3605 events in a writing session from ./coauthor-v1.0/7fdd4ec9a2164e9d8f3d28e1db1df08c.jsonl\n",
            "Successfully read 2671 events in a writing session from ./coauthor-v1.0/116ae37dd7f5497c8257767b81a72cf3.jsonl\n",
            "Successfully read 2312 events in a writing session from ./coauthor-v1.0/93468eec16324f109abec7010cd13ebd.jsonl\n",
            "Successfully read 2426 events in a writing session from ./coauthor-v1.0/b65e8358d12a498fa442f3d1072c4bb2.jsonl\n",
            "Successfully read 1504 events in a writing session from ./coauthor-v1.0/7c1e066d0c9c4901921cab117a0b7e73.jsonl\n",
            "Successfully read 1051 events in a writing session from ./coauthor-v1.0/aea2e89578b3408983027d4f02ac76e6.jsonl\n",
            "Successfully read 2439 events in a writing session from ./coauthor-v1.0/b153deb333a648e8bed354ccb72d9085.jsonl\n",
            "Successfully read 2807 events in a writing session from ./coauthor-v1.0/b4134879f6494953bfca7456a0bc8341.jsonl\n",
            "Successfully read 1982 events in a writing session from ./coauthor-v1.0/8cd013d1f1c0425aaf34f6295e350c5b.jsonl\n",
            "Successfully read 1257 events in a writing session from ./coauthor-v1.0/8619af4decba4fd0b44bd0194df73038.jsonl\n",
            "Successfully read 2331 events in a writing session from ./coauthor-v1.0/cef96a7714dd4388a3d30fa893191ec3.jsonl\n",
            "Successfully read 1243 events in a writing session from ./coauthor-v1.0/826e515ad8af4f68a59534c15844da37.jsonl\n",
            "Successfully read 1211 events in a writing session from ./coauthor-v1.0/d40c6dfd679b4152b3f9334e56053ecf.jsonl\n",
            "Successfully read 2610 events in a writing session from ./coauthor-v1.0/53a1f867867b431e9336245503e7eec4.jsonl\n",
            "Successfully read 2434 events in a writing session from ./coauthor-v1.0/110c2c98170f41b3b0f91f3af71ce98a.jsonl\n",
            "Successfully read 2196 events in a writing session from ./coauthor-v1.0/dfbab4c8263444ef9d9e9d25e3e581f4.jsonl\n",
            "Successfully read 2121 events in a writing session from ./coauthor-v1.0/a083b39bf3744dcb9cf43434322dbe1b.jsonl\n",
            "Successfully read 3098 events in a writing session from ./coauthor-v1.0/3461ee41df7f4f5fa584f5ae04b3ba6f.jsonl\n",
            "Successfully read 1538 events in a writing session from ./coauthor-v1.0/f02fab15925149cf9daa0f299d54f587.jsonl\n",
            "Successfully read 1848 events in a writing session from ./coauthor-v1.0/65db59a7705345ec88f5aafc812951ef.jsonl\n",
            "Successfully read 1209 events in a writing session from ./coauthor-v1.0/b7f82fbb0ba3481884581b9b0ba571a2.jsonl\n",
            "Successfully read 3735 events in a writing session from ./coauthor-v1.0/35a38bcbc9e94604b0c731ca8cc5de51.jsonl\n",
            "Successfully read 1531 events in a writing session from ./coauthor-v1.0/1055a72721454912a8a38ea009d84a09.jsonl\n",
            "Successfully read 1960 events in a writing session from ./coauthor-v1.0/f32c0ee4236a49dda07481052a6fd6e5.jsonl\n",
            "Successfully read 1021 events in a writing session from ./coauthor-v1.0/36bc101319da4b3590b96bce76f7c02c.jsonl\n",
            "Successfully read 1276 events in a writing session from ./coauthor-v1.0/f4726c879c9d4e43ab6a63a3d732a988.jsonl\n",
            "Successfully read 821 events in a writing session from ./coauthor-v1.0/d6f24fb3c9c84d2cab1c70387d91d739.jsonl\n",
            "Successfully read 1724 events in a writing session from ./coauthor-v1.0/78d615e3799e47078bf75a1799f4620a.jsonl\n",
            "Successfully read 1969 events in a writing session from ./coauthor-v1.0/a7518c3553b7485a9e01e8bd95843abc.jsonl\n",
            "Successfully read 2001 events in a writing session from ./coauthor-v1.0/712c00cd50254b2baef9a6af57cfad72.jsonl\n",
            "Successfully read 1826 events in a writing session from ./coauthor-v1.0/787875eafca34b36a32a0a4d81c620c1.jsonl\n",
            "Successfully read 1309 events in a writing session from ./coauthor-v1.0/947065accb8b402c98fb2aa62a497842.jsonl\n",
            "Successfully read 681 events in a writing session from ./coauthor-v1.0/a1fa02bf79464edb893ec5b1b5fa1908.jsonl\n",
            "Successfully read 2381 events in a writing session from ./coauthor-v1.0/87396211fee244ccbda4b0f4bcefc8e9.jsonl\n",
            "Successfully read 2567 events in a writing session from ./coauthor-v1.0/df7ebb6fc93c419d84052f9579fa6e0a.jsonl\n",
            "Successfully read 869 events in a writing session from ./coauthor-v1.0/1187e9a42efb4890942bb7963eb0df4a.jsonl\n",
            "Successfully read 1837 events in a writing session from ./coauthor-v1.0/5fb284a8453d4fbdb665675cbe8b4486.jsonl\n",
            "Successfully read 2106 events in a writing session from ./coauthor-v1.0/057b11be0cbb400ea2cfda2cf75292b2.jsonl\n",
            "Successfully read 1876 events in a writing session from ./coauthor-v1.0/54c597f302a9404caab702a8499b8aa0.jsonl\n",
            "Successfully read 1662 events in a writing session from ./coauthor-v1.0/c8fdf07a6af74a27b488098538e3076e.jsonl\n",
            "Successfully read 1590 events in a writing session from ./coauthor-v1.0/d374cad6be364ca08df8064807b4696e.jsonl\n",
            "Successfully read 1596 events in a writing session from ./coauthor-v1.0/85a0e0a84eb147eeb0f2db0b946bab2e.jsonl\n",
            "Successfully read 1110 events in a writing session from ./coauthor-v1.0/4ae07eece3a740de9b77f65ae67a10ad.jsonl\n",
            "Successfully read 2058 events in a writing session from ./coauthor-v1.0/2d20ee9a7295455a9ab7cd2d8140ddfb.jsonl\n",
            "Successfully read 1433 events in a writing session from ./coauthor-v1.0/56af97b16b6d444c8f8d55c740550837.jsonl\n",
            "Successfully read 2680 events in a writing session from ./coauthor-v1.0/e81d6b763cc44618a315a087b3ff155c.jsonl\n",
            "Successfully read 965 events in a writing session from ./coauthor-v1.0/b3528173b35442d09e2aadaf4d06defe.jsonl\n",
            "Successfully read 2619 events in a writing session from ./coauthor-v1.0/5c1905e6a05c4203b624c4db10ede78a.jsonl\n",
            "Successfully read 1724 events in a writing session from ./coauthor-v1.0/5265ab6df085473795385139bc7f821a.jsonl\n",
            "Successfully read 1410 events in a writing session from ./coauthor-v1.0/da52704cf8be4a04a76e7a2432de2c99.jsonl\n",
            "Successfully read 1557 events in a writing session from ./coauthor-v1.0/641b82584ed44b07b06840e2d0d9e75b.jsonl\n",
            "Successfully read 896 events in a writing session from ./coauthor-v1.0/a95d1ccaabd943ecbbc2eaadc7b30802.jsonl\n",
            "Successfully read 2133 events in a writing session from ./coauthor-v1.0/cf41b69d79a14f2ea9c8179de2f84479.jsonl\n",
            "Successfully read 2102 events in a writing session from ./coauthor-v1.0/0554d7947d9444bc96f9a9512f4ae989.jsonl\n",
            "Successfully read 1760 events in a writing session from ./coauthor-v1.0/8d93814aa76841fbb5fc1fbf3fc24a4a.jsonl\n",
            "Successfully read 2006 events in a writing session from ./coauthor-v1.0/fa8be9d3e10c4a198762ec08b478a23a.jsonl\n",
            "Successfully read 2222 events in a writing session from ./coauthor-v1.0/4b1397f42c2b436c994db077de5d54c4.jsonl\n",
            "Successfully read 2239 events in a writing session from ./coauthor-v1.0/b7ad3c9340a24e57b3c342bc9ffb73ee.jsonl\n",
            "Successfully read 1078 events in a writing session from ./coauthor-v1.0/d99c239ccb2841f6bfe743f865126332.jsonl\n",
            "Successfully read 2593 events in a writing session from ./coauthor-v1.0/4db95dde4eec4612b04570858ad628bf.jsonl\n",
            "Successfully read 2470 events in a writing session from ./coauthor-v1.0/8d77e68c9e2246949f8f3af5342da3a2.jsonl\n",
            "Successfully read 537 events in a writing session from ./coauthor-v1.0/ca8ad78852e7427598cb82fa420483b4.jsonl\n",
            "Successfully read 1672 events in a writing session from ./coauthor-v1.0/85bb144c94404f85ad2931edf1bcb8ae.jsonl\n",
            "Successfully read 914 events in a writing session from ./coauthor-v1.0/aaf98c53570345aeb669f0828e0d0090.jsonl\n",
            "Successfully read 1264 events in a writing session from ./coauthor-v1.0/bd4dc28d6e1b469bb4b96239b8fcfef9.jsonl\n",
            "Successfully read 823 events in a writing session from ./coauthor-v1.0/dd1b1b37988f4fdbb004a83d5f42ba62.jsonl\n",
            "Successfully read 1897 events in a writing session from ./coauthor-v1.0/9e13fc668168442584d1d57f70f2ac56.jsonl\n",
            "Successfully read 2754 events in a writing session from ./coauthor-v1.0/fa70668f568445dbbce5ec1e3ac03bd9.jsonl\n",
            "Successfully read 1327 events in a writing session from ./coauthor-v1.0/d080eb9e0389497685a76d4e63148fad.jsonl\n",
            "Successfully read 1544 events in a writing session from ./coauthor-v1.0/94492b7851ad432da7385f1bb6d18fe8.jsonl\n",
            "Successfully read 1966 events in a writing session from ./coauthor-v1.0/ec24291e0d4249d3bfe149ccf6d836bb.jsonl\n",
            "Successfully read 1367 events in a writing session from ./coauthor-v1.0/b497d14e65404451850e963ceb3073cf.jsonl\n",
            "Successfully read 1677 events in a writing session from ./coauthor-v1.0/1ca38e46688e4a758b4c626ce2ba2ff6.jsonl\n",
            "Successfully read 1287 events in a writing session from ./coauthor-v1.0/1fd40d445a5f4fa6af359b4452866eb1.jsonl\n",
            "Successfully read 1136 events in a writing session from ./coauthor-v1.0/bb1c9d77d4044d218d5adebb777b9bf0.jsonl\n",
            "Successfully read 1382 events in a writing session from ./coauthor-v1.0/13746247c1024f0493dca4d1d2173719.jsonl\n",
            "Successfully read 1688 events in a writing session from ./coauthor-v1.0/15225b481e3e4c4dab5c641b940b59b1.jsonl\n",
            "Successfully read 1158 events in a writing session from ./coauthor-v1.0/86bb1cfe839c46058dfc0e4b96f13392.jsonl\n",
            "Successfully read 2800 events in a writing session from ./coauthor-v1.0/8b458eefa9304e608322239981e4ccd1.jsonl\n",
            "Successfully read 1992 events in a writing session from ./coauthor-v1.0/ed0280fb0f114ead8a22516a8309f982.jsonl\n",
            "Successfully read 1887 events in a writing session from ./coauthor-v1.0/fd520baa3a5a4cd3967318729d67382f.jsonl\n",
            "Successfully read 2184 events in a writing session from ./coauthor-v1.0/7e48dc0c20c340f9b0cfe73fd8d198b6.jsonl\n",
            "Successfully read 633 events in a writing session from ./coauthor-v1.0/90a41f5187c046ada1cdd459d2036ac5.jsonl\n",
            "Successfully read 2970 events in a writing session from ./coauthor-v1.0/81b30967f40349e5b0e333f1e4851ce4.jsonl\n",
            "Successfully read 2196 events in a writing session from ./coauthor-v1.0/83fd21afaaf9416180e3174284de4ce1.jsonl\n",
            "Successfully read 2185 events in a writing session from ./coauthor-v1.0/487b5640ef074f349ca6850f92cc46ce.jsonl\n",
            "Successfully read 1626 events in a writing session from ./coauthor-v1.0/f170aa855728465589f57f1c3154f55a.jsonl\n",
            "Successfully read 1268 events in a writing session from ./coauthor-v1.0/815f2133a4634d7b88b1697b1f8a5d1e.jsonl\n",
            "Successfully read 1741 events in a writing session from ./coauthor-v1.0/fb0562d64a314d2088af7d18ea7dc210.jsonl\n",
            "Successfully read 2062 events in a writing session from ./coauthor-v1.0/876a292223a74b1a8ad5525d93b26d69.jsonl\n",
            "Successfully read 1893 events in a writing session from ./coauthor-v1.0/fe677c513394449e987eb3ccce62d03c.jsonl\n",
            "Successfully read 1948 events in a writing session from ./coauthor-v1.0/84b6f64b8ee84162927b65fe69374fa0.jsonl\n",
            "Successfully read 2593 events in a writing session from ./coauthor-v1.0/1b15da4de55047cf85b1ca1adbb860a6.jsonl\n",
            "Successfully read 1931 events in a writing session from ./coauthor-v1.0/549faa4663e44ffbb3f26beca1bf95bb.jsonl\n",
            "Successfully read 1454 events in a writing session from ./coauthor-v1.0/fe46e037bf15417e9ee531eca61f3635.jsonl\n",
            "Successfully read 2823 events in a writing session from ./coauthor-v1.0/c6f8250e587f4288a48a616b2f1c1c6d.jsonl\n",
            "Successfully read 1894 events in a writing session from ./coauthor-v1.0/0cb1f752dd254646830cf016f27b9f4f.jsonl\n",
            "Successfully read 1608 events in a writing session from ./coauthor-v1.0/b5cba1af4218432bac6932bd1d546125.jsonl\n",
            "Successfully read 1240 events in a writing session from ./coauthor-v1.0/152a3e1fac0e4bb0a90b1bbb7a6d57e5.jsonl\n",
            "Successfully read 1567 events in a writing session from ./coauthor-v1.0/b8ccae873da141edbbe0dd86d2eee55c.jsonl\n",
            "Successfully read 1284 events in a writing session from ./coauthor-v1.0/1ff18e51f2a1466f97bb3dbfbaf98ba6.jsonl\n",
            "Successfully read 1342 events in a writing session from ./coauthor-v1.0/5e3161b439134fb992482c957f30f78c.jsonl\n",
            "Successfully read 1291 events in a writing session from ./coauthor-v1.0/4d64b8adb8544d60beaf585c83747e97.jsonl\n",
            "Successfully read 2146 events in a writing session from ./coauthor-v1.0/6eddf840a84f4e48936eb1928eda184a.jsonl\n",
            "Successfully read 2081 events in a writing session from ./coauthor-v1.0/e4bf8d4c04c743b39fb94f724339f642.jsonl\n",
            "Successfully read 2558 events in a writing session from ./coauthor-v1.0/6fd6bb19857c4f5d9d615b349fe6087b.jsonl\n",
            "Successfully read 2042 events in a writing session from ./coauthor-v1.0/030168a0260f4701bb8c82e185b2c6c4.jsonl\n",
            "Successfully read 1211 events in a writing session from ./coauthor-v1.0/745644f53bdc47409855cc751518e25b.jsonl\n",
            "Successfully read 1559 events in a writing session from ./coauthor-v1.0/6861c7f0f19645ffb563275d11fad363.jsonl\n",
            "Successfully read 2001 events in a writing session from ./coauthor-v1.0/93a4d9c0d25f4865a4f9dbb9f5b7c458.jsonl\n",
            "Successfully read 2239 events in a writing session from ./coauthor-v1.0/11f99f1431f74db3bb09b522504d31b3.jsonl\n",
            "Successfully read 1709 events in a writing session from ./coauthor-v1.0/7e7ec06df61a456c8574f64dd26389a5.jsonl\n",
            "Successfully read 1843 events in a writing session from ./coauthor-v1.0/883da543f4194cc29bf0dafacaa686ab.jsonl\n",
            "Successfully read 1925 events in a writing session from ./coauthor-v1.0/45799f2892fb4aa09cd94625f1ba8ea2.jsonl\n",
            "Successfully read 1839 events in a writing session from ./coauthor-v1.0/6216903d3a89486d9ffe584e109e3300.jsonl\n",
            "Successfully read 2989 events in a writing session from ./coauthor-v1.0/26ef513f441b4cff947d376a0fe1fb5c.jsonl\n",
            "Successfully read 2494 events in a writing session from ./coauthor-v1.0/272a45b11c944afcbf51b390caa3a6b0.jsonl\n",
            "Successfully read 884 events in a writing session from ./coauthor-v1.0/3fa1c25393bc47dfb78329c8ce55857f.jsonl\n",
            "Successfully read 2874 events in a writing session from ./coauthor-v1.0/37937cc84a7f43338e5c5b430d566b1f.jsonl\n",
            "Successfully read 1695 events in a writing session from ./coauthor-v1.0/4619d21ac3ee4b6f961fb782ae6c7937.jsonl\n",
            "Successfully read 1503 events in a writing session from ./coauthor-v1.0/4e68d0c88bed4e0f8b977ed56123b626.jsonl\n",
            "Successfully read 1245 events in a writing session from ./coauthor-v1.0/b6c87b8153ce4791a449f6b80a7f438e.jsonl\n",
            "Successfully read 1043 events in a writing session from ./coauthor-v1.0/9750cd5d84274f9b8135be2e8fa8cc6d.jsonl\n",
            "Successfully read 728 events in a writing session from ./coauthor-v1.0/7ef377e00d564aa2a5d925668c2b2f97.jsonl\n",
            "Successfully read 1237 events in a writing session from ./coauthor-v1.0/f9ca19925c9f4e7ca77044766549ea83.jsonl\n",
            "Successfully read 3179 events in a writing session from ./coauthor-v1.0/41950f3dbe8c4717b71d57f54c6ae0b7.jsonl\n",
            "Successfully read 2293 events in a writing session from ./coauthor-v1.0/1745a412b5cb4638b35b9f6f63eb3e0b.jsonl\n",
            "Successfully read 1190 events in a writing session from ./coauthor-v1.0/787e032a5802459e9ac5731cdeb7b077.jsonl\n",
            "Successfully read 2280 events in a writing session from ./coauthor-v1.0/56474bc3ca56477aaedb2a3e68f9411d.jsonl\n",
            "Successfully read 2471 events in a writing session from ./coauthor-v1.0/fbd7e4482a5d4be7b725b2a5be5406bb.jsonl\n",
            "Successfully read 1260 events in a writing session from ./coauthor-v1.0/c55eedaec6ea4aecb9d9cf1fb616a89d.jsonl\n",
            "Successfully read 2754 events in a writing session from ./coauthor-v1.0/d701053d959a43399a0f3877dab22dd8.jsonl\n",
            "Successfully read 1262 events in a writing session from ./coauthor-v1.0/ee760edb666e4f46aedee408975a9c9d.jsonl\n",
            "Successfully read 1450 events in a writing session from ./coauthor-v1.0/092396c287e54c3d9454ba20bb1ccc83.jsonl\n",
            "Successfully read 1044 events in a writing session from ./coauthor-v1.0/1c79fdd1a6c1412990b6abd4c7b57587.jsonl\n",
            "Successfully read 1902 events in a writing session from ./coauthor-v1.0/e3152d380e13471a91d31ab07f01255c.jsonl\n",
            "Successfully read 2230 events in a writing session from ./coauthor-v1.0/cb3f032b7da641ef8ae12507ded9ee10.jsonl\n",
            "Successfully read 1751 events in a writing session from ./coauthor-v1.0/58e702b7c7e249a0aaf762ea10f833b3.jsonl\n",
            "Successfully read 1894 events in a writing session from ./coauthor-v1.0/b42e5d2a56024abda27ec8f8f7424916.jsonl\n",
            "Successfully read 3572 events in a writing session from ./coauthor-v1.0/e34e7611bef74a0aafda89752af534f3.jsonl\n",
            "Successfully read 1467 events in a writing session from ./coauthor-v1.0/174bb16d13624281abe2a1bc7e2a7050.jsonl\n",
            "Successfully read 754 events in a writing session from ./coauthor-v1.0/df8b3e2640104dbdadd07e6c6475bb4b.jsonl\n",
            "Successfully read 1729 events in a writing session from ./coauthor-v1.0/a9aa499623e3453dbcd52de1c862f71b.jsonl\n",
            "Successfully read 2016 events in a writing session from ./coauthor-v1.0/789bc47680704b249863757263a484b7.jsonl\n",
            "Successfully read 3457 events in a writing session from ./coauthor-v1.0/e139a4f9ea0c4ea3b7b3481eea070f29.jsonl\n",
            "Successfully read 1373 events in a writing session from ./coauthor-v1.0/c775fecac8844b6fbc25b059301c7ae8.jsonl\n",
            "Successfully read 1876 events in a writing session from ./coauthor-v1.0/5a17e70a18c04205aac7f7bb845b8333.jsonl\n",
            "Successfully read 2374 events in a writing session from ./coauthor-v1.0/242eb23d0a2a46a789be2b41a665873d.jsonl\n",
            "Successfully read 1353 events in a writing session from ./coauthor-v1.0/b01c3090a9204cc2a74830b611722d53.jsonl\n",
            "Successfully read 1217 events in a writing session from ./coauthor-v1.0/3554566875594510b570adb5a12a7319.jsonl\n",
            "Successfully read 2782 events in a writing session from ./coauthor-v1.0/25ad6925dd65422989e3659250ac9bfd.jsonl\n",
            "Successfully read 1194 events in a writing session from ./coauthor-v1.0/e29599231e66474b8a524c23db775e47.jsonl\n",
            "Successfully read 1814 events in a writing session from ./coauthor-v1.0/4aadf906bfc84b4f980b65c44fe483e8.jsonl\n",
            "Successfully read 1751 events in a writing session from ./coauthor-v1.0/dcf41dcfdb0e4a98949063447b455792.jsonl\n",
            "Successfully read 1014 events in a writing session from ./coauthor-v1.0/30786a82a19c45a6a77a12963fa21ea0.jsonl\n",
            "Successfully read 2068 events in a writing session from ./coauthor-v1.0/a155fa8cfd624d278fb8f37cc32b0565.jsonl\n",
            "Successfully read 2145 events in a writing session from ./coauthor-v1.0/0c386c86781946b8a979914d10d70408.jsonl\n",
            "Successfully read 1837 events in a writing session from ./coauthor-v1.0/8f3a8ff6a84e43c9a8e76a8de3936853.jsonl\n",
            "Successfully read 2437 events in a writing session from ./coauthor-v1.0/8d732ed8f2cc4bb393aab9f68c82e408.jsonl\n",
            "Successfully read 1431 events in a writing session from ./coauthor-v1.0/f3bd97b3642443f0869190c50ad0b771.jsonl\n",
            "Successfully read 708 events in a writing session from ./coauthor-v1.0/5b6d31f421474c3483b1bd08227ff95d.jsonl\n",
            "Successfully read 1945 events in a writing session from ./coauthor-v1.0/9c397f7fd7a04f829c055d2f7f5ee160.jsonl\n",
            "Successfully read 2246 events in a writing session from ./coauthor-v1.0/77cae115ed8349dbad550de12e5858c1.jsonl\n",
            "Successfully read 1113 events in a writing session from ./coauthor-v1.0/b22279ff63804fa6bec5c108879812dd.jsonl\n",
            "Successfully read 1460 events in a writing session from ./coauthor-v1.0/3cd70a8705814f8eb1344dca49679aee.jsonl\n",
            "Successfully read 2886 events in a writing session from ./coauthor-v1.0/e402dd8c98eb4f73b051a1268321cf4b.jsonl\n",
            "Successfully read 2008 events in a writing session from ./coauthor-v1.0/b6620ed18c174f708138abb59ade11ca.jsonl\n",
            "Successfully read 4047 events in a writing session from ./coauthor-v1.0/1dce7d7b27c34344b7093ba3dc4e47ef.jsonl\n",
            "Successfully read 1760 events in a writing session from ./coauthor-v1.0/fc1a28ed73b6450c8a4b9fe3b6349257.jsonl\n",
            "Successfully read 1892 events in a writing session from ./coauthor-v1.0/bc176a916d344af496f7bdbf408db4e9.jsonl\n",
            "Successfully read 1464 events in a writing session from ./coauthor-v1.0/01bc6cf8deb24d5e8877daac7cb4d086.jsonl\n",
            "Successfully read 2010 events in a writing session from ./coauthor-v1.0/c1cfb1257eb04d438527925f828f0024.jsonl\n",
            "Successfully read 1786 events in a writing session from ./coauthor-v1.0/9e8fdbe7131247ea806fd442b5f1cb61.jsonl\n",
            "Successfully read 1258 events in a writing session from ./coauthor-v1.0/f878effe792c4076a90bf4b69daf33e7.jsonl\n",
            "Successfully read 1677 events in a writing session from ./coauthor-v1.0/b73b741aa53f4dd1af35e1540ebf4af1.jsonl\n",
            "Successfully read 2749 events in a writing session from ./coauthor-v1.0/3ae5a0c999e74de5bd0a8811e7eeef73.jsonl\n",
            "Successfully read 1399 events in a writing session from ./coauthor-v1.0/114dfaf5c4a0437880b6829c92b9dce8.jsonl\n",
            "Successfully read 1096 events in a writing session from ./coauthor-v1.0/ea6ffaefc6fe47b98a0bbbaf58f0e409.jsonl\n",
            "Successfully read 1663 events in a writing session from ./coauthor-v1.0/1e93ad6e64e4478886b3fc31bef6a960.jsonl\n",
            "Successfully read 1340 events in a writing session from ./coauthor-v1.0/820a0ffa457343b2a3d1e69a48d604e8.jsonl\n",
            "Successfully read 1817 events in a writing session from ./coauthor-v1.0/050118bfac954920a524e7070132690b.jsonl\n",
            "Successfully read 2512 events in a writing session from ./coauthor-v1.0/d6918db6b5c8463c8bf5943e1b68acb6.jsonl\n",
            "Successfully read 2483 events in a writing session from ./coauthor-v1.0/240b61c1abc24288a19f6faa9909e719.jsonl\n",
            "Successfully read 5507 events in a writing session from ./coauthor-v1.0/5b721b51643b41c38ee4ddb543f0d8f6.jsonl\n",
            "Successfully read 1537 events in a writing session from ./coauthor-v1.0/ace79657baa04aaca50a076720ee1fe8.jsonl\n",
            "Successfully read 1699 events in a writing session from ./coauthor-v1.0/3e1e3f82426c4b5682b3b315908dd8f8.jsonl\n",
            "Successfully read 1621 events in a writing session from ./coauthor-v1.0/3cfab79e841a41a7b6edf77e7b28886b.jsonl\n",
            "Successfully read 1365 events in a writing session from ./coauthor-v1.0/635b514b259d47f2b474189aeea5e5c0.jsonl\n",
            "Successfully read 1474 events in a writing session from ./coauthor-v1.0/8db57b4ba7e048a9bf984a13233f3cf9.jsonl\n",
            "Successfully read 1372 events in a writing session from ./coauthor-v1.0/a37397d4adbe4733a8026d82dcf8d7a0.jsonl\n",
            "Successfully read 1741 events in a writing session from ./coauthor-v1.0/04a4118571c642a18348c2e4a01f67c0.jsonl\n",
            "Successfully read 571 events in a writing session from ./coauthor-v1.0/946720ae11b5468e858df027906f1063.jsonl\n",
            "Successfully read 2051 events in a writing session from ./coauthor-v1.0/e66a5afb693c47e8b30faeb12e10a7cf.jsonl\n",
            "Successfully read 1985 events in a writing session from ./coauthor-v1.0/4f9f5825c1df43ac9285bc17f136a17b.jsonl\n",
            "Successfully read 1863 events in a writing session from ./coauthor-v1.0/df6068305d29453eb22a51d46085e197.jsonl\n",
            "Successfully read 1619 events in a writing session from ./coauthor-v1.0/7748d213f66743dd9abe45f23dacca99.jsonl\n",
            "Successfully read 1482 events in a writing session from ./coauthor-v1.0/89636fe51d724f15a23f1cef4124191f.jsonl\n",
            "Successfully read 2316 events in a writing session from ./coauthor-v1.0/ad3a61d515cf456cbaa424c7b4ac0f13.jsonl\n",
            "Successfully read 1776 events in a writing session from ./coauthor-v1.0/40d132e1bc0146c0920d7b38c5b9f7c7.jsonl\n",
            "Successfully read 2011 events in a writing session from ./coauthor-v1.0/208569acde5b49dda0ec25ce4c410975.jsonl\n",
            "Successfully read 1275 events in a writing session from ./coauthor-v1.0/5ce9377e21734670be93606815ca2bc5.jsonl\n",
            "Successfully read 1572 events in a writing session from ./coauthor-v1.0/609f971913b14a89b36076dc038bf02f.jsonl\n",
            "Successfully read 1878 events in a writing session from ./coauthor-v1.0/5300d0e4c21f40538eb8a2ec41b55124.jsonl\n",
            "Successfully read 1225 events in a writing session from ./coauthor-v1.0/9b94bdf538854dee9dafd358ae40b55b.jsonl\n",
            "Successfully read 2178 events in a writing session from ./coauthor-v1.0/9ec10cba9d8c48428d656fceff57e834.jsonl\n",
            "Successfully read 3107 events in a writing session from ./coauthor-v1.0/403db9d987584a8cbf7fa0b6acf0d918.jsonl\n",
            "Successfully read 628 events in a writing session from ./coauthor-v1.0/5233fde72269427db4cd417546bfddf3.jsonl\n",
            "Successfully read 943 events in a writing session from ./coauthor-v1.0/5370cd5a21e94475b4768b176e1014b2.jsonl\n",
            "Successfully read 1691 events in a writing session from ./coauthor-v1.0/ada1c4b3f99847d9907e77dd96200ed9.jsonl\n",
            "Successfully read 2041 events in a writing session from ./coauthor-v1.0/82eec1c4618e494c88253f4e5167fc26.jsonl\n",
            "Successfully read 3190 events in a writing session from ./coauthor-v1.0/4280a49fb01244bf9b7a74e84d79fae9.jsonl\n",
            "Successfully read 2470 events in a writing session from ./coauthor-v1.0/1a14bae2ca9f422ea8779752233a203a.jsonl\n",
            "Successfully read 1760 events in a writing session from ./coauthor-v1.0/676557098dfe452d88e87d3a01b5100b.jsonl\n",
            "Successfully read 2601 events in a writing session from ./coauthor-v1.0/5827d7fcff0d48f78870ee95b4833fef.jsonl\n",
            "Successfully read 1297 events in a writing session from ./coauthor-v1.0/2a08ae62ea9849cf8d3b48513dd1514d.jsonl\n",
            "Successfully read 3170 events in a writing session from ./coauthor-v1.0/7e9c3c8fbe1f4a02bcb9940a2bf95d9f.jsonl\n",
            "Successfully read 2668 events in a writing session from ./coauthor-v1.0/04ebdfae0edc4adcb7e59ff060b45e72.jsonl\n",
            "Successfully read 1266 events in a writing session from ./coauthor-v1.0/de90bdd73b72426daacc29cd1e1a2e97.jsonl\n",
            "Successfully read 2076 events in a writing session from ./coauthor-v1.0/a07a7de4e164491eb8f26d9029d58e36.jsonl\n",
            "Successfully read 2067 events in a writing session from ./coauthor-v1.0/543ec3b66b0c47269e9737a650da21b5.jsonl\n",
            "Successfully read 2208 events in a writing session from ./coauthor-v1.0/435605f25172470989a458267ecd6ca8.jsonl\n",
            "Successfully read 1855 events in a writing session from ./coauthor-v1.0/22041e7a62c246398773d82b83cb08fd.jsonl\n",
            "Successfully read 2271 events in a writing session from ./coauthor-v1.0/8d145264baaf4220b2848a60447cfd05.jsonl\n",
            "Successfully read 1524 events in a writing session from ./coauthor-v1.0/c9c5b78df4384aac9a2e8ebd121cca65.jsonl\n",
            "Successfully read 2542 events in a writing session from ./coauthor-v1.0/8ca7402df5f646c3adb963acabde457f.jsonl\n",
            "Successfully read 1844 events in a writing session from ./coauthor-v1.0/facf3f35823f4de3904d48cd6fd57216.jsonl\n",
            "Successfully read 1212 events in a writing session from ./coauthor-v1.0/5a4cb8c136654eca8e43025462bd2bf0.jsonl\n",
            "Successfully read 1380 events in a writing session from ./coauthor-v1.0/b6e3af6257c84970bf770a3b30c573c7.jsonl\n",
            "Successfully read 3708 events in a writing session from ./coauthor-v1.0/2043279d646845e9b3875b5d0a66d610.jsonl\n",
            "Successfully read 895 events in a writing session from ./coauthor-v1.0/ce62f7cdb323419ebd92d4dc8b61cdb1.jsonl\n",
            "Successfully read 2685 events in a writing session from ./coauthor-v1.0/df1fe58fe9244c8fbf1183f385d2112f.jsonl\n",
            "Successfully read 3408 events in a writing session from ./coauthor-v1.0/4593c00c9c5449e2b4b2a66287847ab3.jsonl\n",
            "Successfully read 4280 events in a writing session from ./coauthor-v1.0/b30d52ea5e7346b19568167cfd2e47c0.jsonl\n",
            "Successfully read 1518 events in a writing session from ./coauthor-v1.0/a1818a53e4114dd3a3f002dc7f2c2f58.jsonl\n",
            "Successfully read 1716 events in a writing session from ./coauthor-v1.0/9b36532a7e70491992e013afd597fe57.jsonl\n",
            "Successfully read 1527 events in a writing session from ./coauthor-v1.0/3d7f50f368ad4acdb051a9a31c886c9e.jsonl\n",
            "Successfully read 1914 events in a writing session from ./coauthor-v1.0/ddcc9eff5afa41889aa05c3025b604a6.jsonl\n",
            "Successfully read 835 events in a writing session from ./coauthor-v1.0/cba52478a6aa49519c88dd9db1e5473f.jsonl\n",
            "Successfully read 1583 events in a writing session from ./coauthor-v1.0/301899b1e6be4d77b5995d94546a55ed.jsonl\n",
            "Successfully read 2008 events in a writing session from ./coauthor-v1.0/da4fed90272b41edb41f63fed4a928f0.jsonl\n",
            "Successfully read 1181 events in a writing session from ./coauthor-v1.0/95b8a64db3d3471f9662d0019357059d.jsonl\n",
            "Successfully read 1442 events in a writing session from ./coauthor-v1.0/f84d42f7c64c4b92b75b3d718a99c8c4.jsonl\n",
            "Successfully read 1408 events in a writing session from ./coauthor-v1.0/c802d58c0f014745af7b010e31e863c3.jsonl\n",
            "Successfully read 2830 events in a writing session from ./coauthor-v1.0/2d9358657a364ccab47e9a7538cb6650.jsonl\n",
            "Successfully read 2822 events in a writing session from ./coauthor-v1.0/575795c2253e49f9adb3bd64dd8bf896.jsonl\n",
            "Successfully read 2038 events in a writing session from ./coauthor-v1.0/eb15a76230f74cf781b0ace876dec6de.jsonl\n",
            "Successfully read 1333 events in a writing session from ./coauthor-v1.0/86b1f1bb36bc4cc588e6dfc86d7a5bc4.jsonl\n",
            "Successfully read 2228 events in a writing session from ./coauthor-v1.0/d7e61761eda64607b4b1232dcc09bddc.jsonl\n",
            "Successfully read 2110 events in a writing session from ./coauthor-v1.0/61cf26b400aa46379d6fbdcbd21231e9.jsonl\n",
            "Successfully read 1490 events in a writing session from ./coauthor-v1.0/748af209d9014eeb9a66146e3db9a1d3.jsonl\n",
            "Successfully read 1392 events in a writing session from ./coauthor-v1.0/8fa18f2fac174742b19861bb9f802345.jsonl\n",
            "Successfully read 1420 events in a writing session from ./coauthor-v1.0/30e1d495e4e04d49b8b0a9cb6e193500.jsonl\n",
            "Successfully read 1068 events in a writing session from ./coauthor-v1.0/21c3924c87fe4c8397bd84b3dce54dc5.jsonl\n",
            "Successfully read 1608 events in a writing session from ./coauthor-v1.0/34919f6ff8774bca9c7632e79f43b572.jsonl\n",
            "Successfully read 1603 events in a writing session from ./coauthor-v1.0/b1eb87ade8f7495fb7167d0270816ef7.jsonl\n",
            "Successfully read 1521 events in a writing session from ./coauthor-v1.0/626255ec39a349df84e75196a01c9e55.jsonl\n",
            "Successfully read 1380 events in a writing session from ./coauthor-v1.0/15a3a2aac98e48af9335bbdb3611892d.jsonl\n",
            "Successfully read 2269 events in a writing session from ./coauthor-v1.0/f326178e52c34b5b97911cbe8f9c58ba.jsonl\n",
            "Successfully read 1174 events in a writing session from ./coauthor-v1.0/e06104f363824cd3b6c204c905c47f71.jsonl\n",
            "Successfully read 1725 events in a writing session from ./coauthor-v1.0/4181c7d35eff4eceb4aad545dd2a9273.jsonl\n",
            "Successfully read 3550 events in a writing session from ./coauthor-v1.0/7e42d4f3a53b4c3d9a55b6d3a7f7c6cb.jsonl\n",
            "Successfully read 2328 events in a writing session from ./coauthor-v1.0/7e70d9a7956646909536fb1464168fc8.jsonl\n",
            "Successfully read 2358 events in a writing session from ./coauthor-v1.0/2b34c5a6b1bd4256980b6a3e8ed3d196.jsonl\n",
            "Successfully read 2481 events in a writing session from ./coauthor-v1.0/b95bdefc91d94744b375b7bcabc19d5f.jsonl\n",
            "Successfully read 6622 events in a writing session from ./coauthor-v1.0/93cd61b41e0f46dd8af1468977c91ef7.jsonl\n",
            "Successfully read 716 events in a writing session from ./coauthor-v1.0/67edbcbb485547d18993a50ef6dc5c92.jsonl\n",
            "Successfully read 3056 events in a writing session from ./coauthor-v1.0/5a043fc7d564442d8d66a706b9ff50fe.jsonl\n",
            "Successfully read 1582 events in a writing session from ./coauthor-v1.0/1a0d49b00ae844df971176e9aab9b18a.jsonl\n",
            "Successfully read 2146 events in a writing session from ./coauthor-v1.0/22fbbbae605c469f9ee3551b6030e421.jsonl\n",
            "Successfully read 1723 events in a writing session from ./coauthor-v1.0/b8a0c252c1c749a78de33d1450193961.jsonl\n",
            "Successfully read 1742 events in a writing session from ./coauthor-v1.0/b43804135b264aaf84c129e2f6c5be48.jsonl\n",
            "Successfully read 2064 events in a writing session from ./coauthor-v1.0/c099bd036e4845fb9f52fca38141ac93.jsonl\n",
            "Successfully read 1774 events in a writing session from ./coauthor-v1.0/f591e24cf57d412a94e2c0fd523a003c.jsonl\n",
            "Successfully read 2221 events in a writing session from ./coauthor-v1.0/3db55809c34d4059adb6d6315da68cf1.jsonl\n",
            "Successfully read 2030 events in a writing session from ./coauthor-v1.0/a2b882ca8a14420a8749dfedfecdfa36.jsonl\n",
            "Successfully read 2381 events in a writing session from ./coauthor-v1.0/bbad29dc74f346269cc42a7563e4c865.jsonl\n",
            "Successfully read 3272 events in a writing session from ./coauthor-v1.0/4542a8d2310247d1917ff1c79ac6171f.jsonl\n",
            "Successfully read 971 events in a writing session from ./coauthor-v1.0/3abe5c42eefe48868ba2f185d1853c93.jsonl\n",
            "Successfully read 2611 events in a writing session from ./coauthor-v1.0/f8871519cd244b8ca5414fd211baf9d5.jsonl\n",
            "Successfully read 1972 events in a writing session from ./coauthor-v1.0/41ffccaa38ce49639429028d4cc1f1e8.jsonl\n",
            "Successfully read 983 events in a writing session from ./coauthor-v1.0/af7e60f790c941399e2b3b6306d9131d.jsonl\n",
            "Successfully read 1973 events in a writing session from ./coauthor-v1.0/b7687cecbf6c4c18a04b5b0b9b031cf4.jsonl\n",
            "Successfully read 2144 events in a writing session from ./coauthor-v1.0/b72437b88da64ad392d21dbc32ca9af0.jsonl\n",
            "Successfully read 2226 events in a writing session from ./coauthor-v1.0/3f0f0ddbc9dc46de8ca3622aa4f09119.jsonl\n",
            "Successfully read 2446 events in a writing session from ./coauthor-v1.0/e4de659d6e5a44eca6c88b18dc300d70.jsonl\n",
            "Successfully read 1561 events in a writing session from ./coauthor-v1.0/3c7c9a37b4eb4c76b275e6cd975f900f.jsonl\n",
            "Successfully read 2339 events in a writing session from ./coauthor-v1.0/49e04e987bbe4e59bf2baab73f486a26.jsonl\n",
            "Successfully read 1060 events in a writing session from ./coauthor-v1.0/90c79f94b57b4ef2b3c7d9c4598b7afa.jsonl\n",
            "Successfully read 1888 events in a writing session from ./coauthor-v1.0/ddb30c809dfe47f8b0d0c10147b240b4.jsonl\n",
            "Successfully read 2797 events in a writing session from ./coauthor-v1.0/97fdc99773cb4a479fa44636563e5453.jsonl\n",
            "Successfully read 1828 events in a writing session from ./coauthor-v1.0/8a66ba50d4e241f2aebb17e5af82c68a.jsonl\n",
            "Successfully read 2876 events in a writing session from ./coauthor-v1.0/a345a395300d44a5862012539e015002.jsonl\n",
            "Successfully read 920 events in a writing session from ./coauthor-v1.0/311f76bc71594efb82a6e67aac6e7b2f.jsonl\n",
            "Successfully read 3491 events in a writing session from ./coauthor-v1.0/5d97592b669a4155b2f8d7308d649c0d.jsonl\n",
            "Successfully read 1259 events in a writing session from ./coauthor-v1.0/864b77f0d5f34f2b9946e518cdeee98a.jsonl\n",
            "Successfully read 2636 events in a writing session from ./coauthor-v1.0/d046453071004f1991ca1bb9bec23ca2.jsonl\n",
            "Successfully read 3023 events in a writing session from ./coauthor-v1.0/8f4fb63ec8e94e269f5a41f93e948bc5.jsonl\n",
            "Successfully read 1671 events in a writing session from ./coauthor-v1.0/2d9bcb435a994711829fe6b05f256fdb.jsonl\n",
            "Successfully read 2385 events in a writing session from ./coauthor-v1.0/35f5f0465417437f923efcd624af7502.jsonl\n",
            "Successfully read 2405 events in a writing session from ./coauthor-v1.0/608e5b73341a4f3ca937316f99dae32d.jsonl\n",
            "Successfully read 1422 events in a writing session from ./coauthor-v1.0/e2ccab5b997f4aa19f39ffdb86be4151.jsonl\n",
            "Successfully read 2301 events in a writing session from ./coauthor-v1.0/c2395534dfb74c8ab70eec8f139ed2bc.jsonl\n",
            "Successfully read 2301 events in a writing session from ./coauthor-v1.0/87b45d27c2424504a98f49a29509480f.jsonl\n",
            "Successfully read 1341 events in a writing session from ./coauthor-v1.0/b219ab2c3b5140e3a209c6324af6344b.jsonl\n",
            "Successfully read 1817 events in a writing session from ./coauthor-v1.0/3195d0bf415e43d38448950220164982.jsonl\n",
            "Successfully read 2496 events in a writing session from ./coauthor-v1.0/ae8434c075224ebdaba8e215723c9bbb.jsonl\n",
            "Successfully read 1530 events in a writing session from ./coauthor-v1.0/b3a1b8cfb7d94eb3a615600d440a0bc1.jsonl\n",
            "Successfully read 1507 events in a writing session from ./coauthor-v1.0/4ef600b3d75344abaad59aadc0fe200a.jsonl\n",
            "Successfully read 2790 events in a writing session from ./coauthor-v1.0/90f6335118ab4f52b0db9c5ca271d4d2.jsonl\n",
            "Successfully read 2517 events in a writing session from ./coauthor-v1.0/3d19d3770396446bb568be0852f3bcd4.jsonl\n",
            "Successfully read 2538 events in a writing session from ./coauthor-v1.0/ce969e3aa6374189abe638aa61b3ffc9.jsonl\n",
            "Successfully read 2045 events in a writing session from ./coauthor-v1.0/09c68920f9e5434bb35a22e1909f324a.jsonl\n",
            "Successfully read 1247 events in a writing session from ./coauthor-v1.0/08b1a2012f4d4115b56cc8231449ff48.jsonl\n",
            "Successfully read 1803 events in a writing session from ./coauthor-v1.0/07c5099d0eb24fb29da557733ed48f62.jsonl\n",
            "Successfully read 1957 events in a writing session from ./coauthor-v1.0/ab5f8507e06746248ff59dd64d84e414.jsonl\n",
            "Successfully read 1051 events in a writing session from ./coauthor-v1.0/4c4d61576ba44e75b7b9b52e4d361e78.jsonl\n",
            "Successfully read 2029 events in a writing session from ./coauthor-v1.0/e5c079dbe9104da4ae1d7b8f7cd3be3d.jsonl\n",
            "Successfully read 1545 events in a writing session from ./coauthor-v1.0/6d9089d1570347fbb352497546c663fd.jsonl\n",
            "Successfully read 882 events in a writing session from ./coauthor-v1.0/536987ff6f5243f6b3f620aba1c3bbfa.jsonl\n",
            "Successfully read 1440 events in a writing session from ./coauthor-v1.0/11e8186be4314e93852c7677b430fba3.jsonl\n",
            "Successfully read 1968 events in a writing session from ./coauthor-v1.0/cb02390d4b60449da399e645b91440d4.jsonl\n",
            "Successfully read 1576 events in a writing session from ./coauthor-v1.0/8558c2d306614fcfb3ae117e60204277.jsonl\n",
            "Successfully read 759 events in a writing session from ./coauthor-v1.0/c88c771b282d49af9c406582462da7a4.jsonl\n",
            "Successfully read 1529 events in a writing session from ./coauthor-v1.0/5fc3814b137b410cab4a738f50e91ad8.jsonl\n",
            "Successfully read 1940 events in a writing session from ./coauthor-v1.0/66205a33c6084ec39f3ca9ebd2c0cfee.jsonl\n",
            "Successfully read 1548 events in a writing session from ./coauthor-v1.0/8065039701b844098386ffb491f3441c.jsonl\n",
            "Successfully read 1812 events in a writing session from ./coauthor-v1.0/7c37d7def4524ab8ad459cc07c881955.jsonl\n",
            "Successfully read 1221 events in a writing session from ./coauthor-v1.0/8610d3166aea4491b673112459745fc1.jsonl\n",
            "Successfully read 1971 events in a writing session from ./coauthor-v1.0/b79722adbf4c4301832af916f636ff2f.jsonl\n",
            "Successfully read 2963 events in a writing session from ./coauthor-v1.0/cb7d2cf75ece48b78a11b138e7f22600.jsonl\n",
            "Successfully read 1835 events in a writing session from ./coauthor-v1.0/6529f521e6be4270ae0e823ce6690471.jsonl\n",
            "Successfully read 1585 events in a writing session from ./coauthor-v1.0/d2938c7114bb4f228ae7e3e801e2165b.jsonl\n",
            "Successfully read 2241 events in a writing session from ./coauthor-v1.0/e195e7359d4c4557a26c6130a30d5f88.jsonl\n",
            "Successfully read 3114 events in a writing session from ./coauthor-v1.0/c25b2c082a184e678a841035032b5468.jsonl\n",
            "Successfully read 2006 events in a writing session from ./coauthor-v1.0/75502f7ab83b42189c79a1972db22bb0.jsonl\n",
            "Successfully read 1304 events in a writing session from ./coauthor-v1.0/9d88e84f3ba541d49232eab96aa434d8.jsonl\n",
            "Successfully read 1980 events in a writing session from ./coauthor-v1.0/bce8bc77519e4247a5f545300a8c4ff9.jsonl\n",
            "Successfully read 1285 events in a writing session from ./coauthor-v1.0/00bf170a815a42359f3aef35f5674ddc.jsonl\n",
            "Successfully read 1761 events in a writing session from ./coauthor-v1.0/13fc032dba354e1f9a0179becfaa4af4.jsonl\n",
            "Successfully read 2050 events in a writing session from ./coauthor-v1.0/2465c23b3c7e4d1dac1c5ee02bc878d7.jsonl\n",
            "Successfully read 3512 events in a writing session from ./coauthor-v1.0/a609db6270b14e40a3de824554977750.jsonl\n",
            "Successfully read 1241 events in a writing session from ./coauthor-v1.0/f7156d363a5d45ea9f0171bc468277b7.jsonl\n",
            "Successfully read 1951 events in a writing session from ./coauthor-v1.0/bad20cdce8404ef3b6992ae8758105d2.jsonl\n",
            "Successfully read 1142 events in a writing session from ./coauthor-v1.0/e90a5ce2d98548a997fb8c3ab2213483.jsonl\n",
            "Successfully read 2218 events in a writing session from ./coauthor-v1.0/ce2b86e8e9264ab8b1b5a14c1fb0dad4.jsonl\n",
            "Successfully read 2601 events in a writing session from ./coauthor-v1.0/9d08c8ebec4c4e4fbd01d2a918b8f5f6.jsonl\n",
            "Successfully read 2947 events in a writing session from ./coauthor-v1.0/eec20f24484d418eb4ba564fbfbc2ab6.jsonl\n",
            "Successfully read 1761 events in a writing session from ./coauthor-v1.0/ba1b42a591f4447596e99b6c0a5164b3.jsonl\n",
            "Successfully read 1636 events in a writing session from ./coauthor-v1.0/68b5778423c44a4fb9a48f9a63890b7b.jsonl\n",
            "Successfully read 1498 events in a writing session from ./coauthor-v1.0/ebe81e9a3f3943e0bbfccca97f752e41.jsonl\n",
            "Successfully read 1089 events in a writing session from ./coauthor-v1.0/1e6ecfa3fa7c4fd7ad7c10470546f654.jsonl\n",
            "Successfully read 1763 events in a writing session from ./coauthor-v1.0/28235ea07022429aa701f74544db5684.jsonl\n",
            "Successfully read 2714 events in a writing session from ./coauthor-v1.0/a4f09dbc1ed0489399cf6d1db00c5a89.jsonl\n",
            "Successfully read 1506 events in a writing session from ./coauthor-v1.0/87462f8b2df5473d915e2188a20ebf0a.jsonl\n",
            "Successfully read 1498 events in a writing session from ./coauthor-v1.0/749e032914384e4da8f2392a19066b89.jsonl\n",
            "Successfully read 2465 events in a writing session from ./coauthor-v1.0/07052b6123424ad2b3aadfb9910d0fc4.jsonl\n",
            "Successfully read 1959 events in a writing session from ./coauthor-v1.0/e6b54867c5fb4b8a9806a93b6cee4526.jsonl\n",
            "Successfully read 1229 events in a writing session from ./coauthor-v1.0/7834dec912b34643afb92b7c3648a3fe.jsonl\n",
            "Successfully read 644 events in a writing session from ./coauthor-v1.0/2082492048fb4cf1b71ca0db882614c0.jsonl\n",
            "Successfully read 1153 events in a writing session from ./coauthor-v1.0/1d5a5cee5438407b866cc643f79b02f6.jsonl\n",
            "Successfully read 1555 events in a writing session from ./coauthor-v1.0/90a244e4c76240ab942d8f56b971b6f2.jsonl\n",
            "Successfully read 3411 events in a writing session from ./coauthor-v1.0/ac6634d8cd064dcb84b08c0eed768c3c.jsonl\n",
            "Successfully read 1950 events in a writing session from ./coauthor-v1.0/b27f544a5f6e4989aa95af488cfeaadb.jsonl\n",
            "Successfully read 2639 events in a writing session from ./coauthor-v1.0/024f6a5d399545ceb4e9482fe575aa51.jsonl\n",
            "Successfully read 2366 events in a writing session from ./coauthor-v1.0/cbbfa156a608439c999233f7b05b9821.jsonl\n",
            "Successfully read 1766 events in a writing session from ./coauthor-v1.0/932a48cdabbf40ed8622c169b9053efc.jsonl\n",
            "Successfully read 1862 events in a writing session from ./coauthor-v1.0/bd6ab310459647bcb8f5bda6578b0d72.jsonl\n",
            "Successfully read 2484 events in a writing session from ./coauthor-v1.0/0f2696c6c8b84e138f7eee63d731acfc.jsonl\n",
            "Successfully read 1308 events in a writing session from ./coauthor-v1.0/73339baf931847a2be52f80f66252a1b.jsonl\n",
            "Successfully read 1222 events in a writing session from ./coauthor-v1.0/03f76432a1e149e1887c28daf15807f0.jsonl\n",
            "Successfully read 2673 events in a writing session from ./coauthor-v1.0/c13c048160f341e9a45952ef2f364ddb.jsonl\n",
            "Successfully read 1733 events in a writing session from ./coauthor-v1.0/c0bda7b135404137b66b5ade3bf1c8bc.jsonl\n",
            "Successfully read 2027 events in a writing session from ./coauthor-v1.0/36586c688d824b76971efef44868fe05.jsonl\n",
            "Successfully read 2668 events in a writing session from ./coauthor-v1.0/b6d0746f4ec6460c96f4fa9e162193bb.jsonl\n",
            "Successfully read 1698 events in a writing session from ./coauthor-v1.0/2ced6b82b2c349d2a09e64c35328ecef.jsonl\n",
            "Successfully read 3259 events in a writing session from ./coauthor-v1.0/9154097557f84fe1862d1205b098b4ad.jsonl\n",
            "Successfully read 2501 events in a writing session from ./coauthor-v1.0/83abfb13942f491b9de32bfcc1c3dc47.jsonl\n",
            "Successfully read 1466 events in a writing session from ./coauthor-v1.0/a3bb5d95c74a46fcbc44d24828f7ab0a.jsonl\n",
            "Successfully read 841 events in a writing session from ./coauthor-v1.0/b4fdc128ddcb442b82eb4c0bc2607479.jsonl\n",
            "Successfully read 1397 events in a writing session from ./coauthor-v1.0/00d39011efcb4533ab12076801f74f42.jsonl\n",
            "Successfully read 1852 events in a writing session from ./coauthor-v1.0/7b2aaf58f55a434f91bb71515a329f13.jsonl\n",
            "Successfully read 2068 events in a writing session from ./coauthor-v1.0/b2c98830d3e647fa840909e7436c1750.jsonl\n",
            "Successfully read 2869 events in a writing session from ./coauthor-v1.0/407f635e5ace4dc3929dd7838318b96f.jsonl\n",
            "Successfully read 1826 events in a writing session from ./coauthor-v1.0/ad4eeaa42cea40e7b278d61f1505ef7f.jsonl\n",
            "Successfully read 2652 events in a writing session from ./coauthor-v1.0/4b119edd75174d1fa4a4c3c63493ae11.jsonl\n",
            "Successfully read 2719 events in a writing session from ./coauthor-v1.0/9b439ea7aa404000a1e0ee118bdbfbd1.jsonl\n",
            "Successfully read 1898 events in a writing session from ./coauthor-v1.0/138dd7338a0f480584ca1deddb32f6b7.jsonl\n",
            "Successfully read 2349 events in a writing session from ./coauthor-v1.0/d6f54aebfd3d40be9044635f5cbec15c.jsonl\n",
            "Successfully read 3074 events in a writing session from ./coauthor-v1.0/c291ea51ad6c42a887c1fd2464edebe1.jsonl\n",
            "Successfully read 1589 events in a writing session from ./coauthor-v1.0/b93e342180e34c518e2ff42b2589a68e.jsonl\n",
            "Successfully read 2323 events in a writing session from ./coauthor-v1.0/8d4bdb014d5f4a919735ff5a928176b5.jsonl\n",
            "Successfully read 973 events in a writing session from ./coauthor-v1.0/1ee47cccb17b462e9947db961eb49b32.jsonl\n",
            "Successfully read 1711 events in a writing session from ./coauthor-v1.0/85592766aa1940778f8f71cda90305e1.jsonl\n",
            "Successfully read 1562 events in a writing session from ./coauthor-v1.0/f44e4ed0828e40abab5892a019e11dc0.jsonl\n",
            "Successfully read 1296 events in a writing session from ./coauthor-v1.0/ed645ae457f04bdda9562f4aa0003ce1.jsonl\n",
            "Successfully read 1392 events in a writing session from ./coauthor-v1.0/c6bf0514feec40d58281a3c276051cf0.jsonl\n",
            "Successfully read 1917 events in a writing session from ./coauthor-v1.0/305e22c5b2754d1d90f76cf5e2157660.jsonl\n",
            "Successfully read 1577 events in a writing session from ./coauthor-v1.0/d4a9f1685bf541d29e96abe560ef4589.jsonl\n",
            "Successfully read 1825 events in a writing session from ./coauthor-v1.0/f6f47e11cd064b9a9e1647878516be9e.jsonl\n",
            "Successfully read 1942 events in a writing session from ./coauthor-v1.0/8cce12dd32d841368470d67ab55f4efb.jsonl\n",
            "Successfully read 1989 events in a writing session from ./coauthor-v1.0/74517c6eb89c46fab708de3e3d7c53db.jsonl\n",
            "Successfully read 1280 events in a writing session from ./coauthor-v1.0/935513674eb5493c99261d5e137fc1bd.jsonl\n",
            "Successfully read 2693 events in a writing session from ./coauthor-v1.0/9a85784e74bb49e48c68a9f6695efad2.jsonl\n",
            "Successfully read 1984 events in a writing session from ./coauthor-v1.0/10638735a10248c29ef1747f2f12c0b7.jsonl\n",
            "Successfully read 1986 events in a writing session from ./coauthor-v1.0/181976aad3154801b8c380e9afc99410.jsonl\n",
            "Successfully read 2898 events in a writing session from ./coauthor-v1.0/e1c857cecaf04ee6a38149b0d5e6abdb.jsonl\n",
            "Successfully read 852 events in a writing session from ./coauthor-v1.0/85270c60200e4e2886a19f9d0c2b4080.jsonl\n",
            "Successfully read 1377 events in a writing session from ./coauthor-v1.0/ea10c484cd6245f6a5840eea4b4b143b.jsonl\n",
            "Successfully read 2146 events in a writing session from ./coauthor-v1.0/6d7b66caeb974603a770490a4a83c38a.jsonl\n",
            "Successfully read 1375 events in a writing session from ./coauthor-v1.0/6f0c5bb458394a8d82d5d00886ffa92d.jsonl\n",
            "Successfully read 1896 events in a writing session from ./coauthor-v1.0/804e81a11f6640f9b023a5f2d1ad0671.jsonl\n",
            "Successfully read 1957 events in a writing session from ./coauthor-v1.0/aa259a5e72c5426ebaa0b2ef7be4aed7.jsonl\n",
            "Successfully read 1907 events in a writing session from ./coauthor-v1.0/acfb5f25d1ce43cab27b6e945b14dd1e.jsonl\n",
            "Successfully read 2125 events in a writing session from ./coauthor-v1.0/3c2459fc295b4836b027ff004c6b88c1.jsonl\n",
            "Successfully read 1363 events in a writing session from ./coauthor-v1.0/5c524b4889834145ad435d84415f457c.jsonl\n",
            "Processed 10 paths. Results saved to emotion_similarity_with_acceptance.csv.\n"
          ]
        }
      ],
      "source": [
        "jsd_results = []\n",
        "# Loop through each path (limited to paths 100-110)\n",
        "for path in paths[:500]:\n",
        "    events = read_writing_session(path)\n",
        "\n",
        "    if len(events) < 3000:\n",
        "\n",
        "      # Extract user-written text and AI-generated suggestions\n",
        "      user_texts = reconstruct_user_text(events)\n",
        "      ai_suggestions = extract_selected_ai_suggestions(events)\n",
        "      acceptance_status = extract_acceptance_status(events)\n",
        "\n",
        "      # Ensure we only compare matching pairs\n",
        "      for user_text, ai_text, status in zip(user_texts, ai_suggestions, acceptance_status):\n",
        "          user_score,user_vector = get_emotion_vector(user_text)\n",
        "          ai_score,ai_vector = get_emotion_vector(ai_text)\n",
        "\n",
        "          # Compute JSD similarity\n",
        "          jsd_similarity = similarity_jsd(user_vector, ai_vector)\n",
        "\n",
        "          # Compute POS similarity\n",
        "          user_pos = get_pos_sequence(user_text)\n",
        "          ai_pos = get_pos_sequence(ai_text)\n",
        "          pos_similarity = cosine_similarity_pos(user_pos, ai_pos)\n",
        "\n",
        "          # Store results, including acceptance status\n",
        "          jsd_results.append({\n",
        "              \"path\": path,\n",
        "              \"user_text\": user_text,\n",
        "              \"ai_suggestion\": ai_text,\n",
        "              \"tone_similarity\": jsd_similarity,\n",
        "              \"pos_similarity\": pos_similarity,\n",
        "              \"acceptance_status\": status\n",
        "          })\n",
        "\n",
        "# Save results to CSV\n",
        "df_results_with_acceptances = pd.DataFrame(jsd_results)\n",
        "#df_results_with_acceptances.to_csv(\"Tone_POS_similarity.csv\", index=False)\n",
        "\n",
        "print(f\"Processed {len(small)} paths. Results saved to emotion_similarity_with_acceptance.csv.\")\n"
      ]
    },
    {
      "cell_type": "markdown",
      "metadata": {
        "id": "YD4bN2Bq01Sq"
      },
      "source": [
        "### Visualizations"
      ]
    },
    {
      "cell_type": "code",
      "execution_count": 55,
      "metadata": {
        "colab": {
          "base_uri": "https://localhost:8080/",
          "height": 582
        },
        "id": "gByzaVdW9T4a",
        "outputId": "cbaf618e-15e5-4f7b-f39d-1c187bd32157"
      },
      "outputs": [
        {
          "output_type": "execute_result",
          "data": {
            "text/plain": [
              "Text(0.5, 1.0, 'Scatter Plot of TONE Similarity vs. POS Similarity')"
            ]
          },
          "metadata": {},
          "execution_count": 55
        },
        {
          "output_type": "display_data",
          "data": {
            "text/plain": [
              "<Figure size 1000x600 with 1 Axes>"
            ],
            "image/png": "[encoded data removed]"
          },
          "metadata": {}
        }
      ],
      "source": [
        "df_results = df_results_with_acceptances[df_results_with_acceptances['tone_similarity'] < 1]\n",
        "df_results = df_results[df_results['pos_similarity'] < 1]\n",
        "df_results = df_results.dropna()\n",
        "df_results.to_csv(\"Tone_POS_similarity.csv\", index=False)\n",
        "\n",
        "colors = {'accepted': 'green', 'rejected': 'red'}\n",
        "\n",
        "#plot tone and POS similarity\n",
        "plt.figure(figsize=(10, 6))\n",
        "plt.scatter(df_results['tone_similarity'], df_results['pos_similarity'],\n",
        "            alpha=0.5,\n",
        "            c=df_results['acceptance_status'].map(colors))\n",
        "plt.xlabel('TONE Similarity')\n",
        "plt.ylabel('POS Similarity')\n",
        "plt.title('Scatter Plot of TONE Similarity vs. POS Similarity')"
      ]
    },
    {
      "cell_type": "code",
      "execution_count": 56,
      "metadata": {
        "colab": {
          "base_uri": "https://localhost:8080/",
          "height": 582
        },
        "id": "IuTbwHRsTwRb",
        "outputId": "d7b64338-6466-4b1c-e5b4-5cde84cbd1cb"
      },
      "outputs": [
        {
          "output_type": "execute_result",
          "data": {
            "text/plain": [
              "<matplotlib.legend.Legend at 0x7e4df4a6d110>"
            ]
          },
          "metadata": {},
          "execution_count": 56
        },
        {
          "output_type": "display_data",
          "data": {
            "text/plain": [
              "<Figure size 1000x600 with 1 Axes>"
            ],
            "image/png": "[encoded data removed]"
          },
          "metadata": {}
        }
      ],
      "source": [
        "plt.figure(figsize=(10, 6))\n",
        "plt.hist(df_results[df_results['acceptance_status'] == 'accepted']['pos_similarity'], bins=35, color='green', alpha=0.7, label='Accepted')\n",
        "plt.hist(df_results[df_results['acceptance_status'] == 'rejected']['pos_similarity'], bins=35, color='red', alpha=0.7, label='Rejected')\n",
        "plt.title('Distribution of POS Similarity by Acceptance Status')\n",
        "plt.xlabel('POS Similarity')\n",
        "plt.legend()"
      ]
    },
    {
      "cell_type": "code",
      "execution_count": 57,
      "metadata": {
        "colab": {
          "base_uri": "https://localhost:8080/",
          "height": 582
        },
        "id": "UNoG15anxPPv",
        "outputId": "4b433e1c-d47b-4a81-a769-1c2dcc4c088e"
      },
      "outputs": [
        {
          "output_type": "execute_result",
          "data": {
            "text/plain": [
              "<matplotlib.legend.Legend at 0x7e4dfc722310>"
            ]
          },
          "metadata": {},
          "execution_count": 57
        },
        {
          "output_type": "display_data",
          "data": {
            "text/plain": [
              "<Figure size 1000x600 with 1 Axes>"
            ],
            "image/png": "[encoded data removed]"
          },
          "metadata": {}
        }
      ],
      "source": [
        "plt.figure(figsize=(10, 6))\n",
        "plt.hist(df_results[df_results['acceptance_status'] == 'accepted']['tone_similarity'], bins=35, color='green', alpha=0.7, label='Accepted')\n",
        "plt.hist(df_results[df_results['acceptance_status'] == 'rejected']['tone_similarity'], bins=35, color='red', alpha=0.7, label='Rejected')\n",
        "plt.title('Distribution of Tone Similarity by Acceptance Status')\n",
        "plt.xlabel('Tone Similarity')\n",
        "plt.legend()"
      ]
    },
    {
      "cell_type": "markdown",
      "metadata": {
        "id": "opm3ZCdRVG_b"
      },
      "source": []
    },
    {
      "cell_type": "markdown",
      "metadata": {
        "id": "q-S6r67cVHcs"
      },
      "source": [
        "## 9. T-Tests\n"
      ]
    },
    {
      "cell_type": "code",
      "execution_count": 58,
      "metadata": {
        "colab": {
          "base_uri": "https://localhost:8080/"
        },
        "id": "b3KwttJKVKOo",
        "outputId": "a7a84142-d355-483e-d6be-2ec990789a2a"
      },
      "outputs": [
        {
          "output_type": "stream",
          "name": "stdout",
          "text": [
            "T-test for Tone Similarity: t = 2.1420, p = 0.0324\n",
            "T-test for POS Similarity: t = 4.7531, p = 0.0000\n"
          ]
        }
      ],
      "source": [
        "from scipy.stats import ttest_ind\n",
        "\n",
        "# Separate data based on acceptance\n",
        "accepted = df_results[df_results['acceptance_status'] == 'accepted']\n",
        "rejected = df_results[df_results['acceptance_status'] == 'rejected']\n",
        "\n",
        "# Run t-tests\n",
        "t_jsd, p_jsd = ttest_ind(accepted['tone_similarity'], rejected['tone_similarity'], equal_var=False)\n",
        "t_pos, p_pos = ttest_ind(accepted['pos_similarity'], rejected['pos_similarity'], equal_var=False)\n",
        "\n",
        "# Print results\n",
        "print(f\"T-test for Tone Similarity: t = {t_jsd:.4f}, p = {p_jsd:.4f}\")\n",
        "print(f\"T-test for POS Similarity: t = {t_pos:.4f}, p = {p_pos:.4f}\")\n"
      ]
    }
  ],
  "metadata": {
    "colab": {
      "provenance": []
    },
    "kernelspec": {
      "display_name": "Python 3",
      "name": "python3"
    },
    "language_info": {
      "codemirror_mode": {
        "name": "ipython",
        "version": 3
      },
      "file_extension": ".py",
      "mimetype": "text/x-python",
      "name": "python",
      "nbconvert_exporter": "python",
      "pygments_lexer": "ipython3",
      "version": "3.9.6"
    },
    "widgets": {
      "application/vnd.jupyter.widget-state+json": {
        "b6c3ea3395b04879b7db3b5c1101a67c": {
          "model_module": "@jupyter-widgets/controls",
          "model_name": "HBoxModel",
          "model_module_version": "1.5.0",
          "state": {
            "_dom_classes": [],
            "_model_module": "@jupyter-widgets/controls",
            "_model_module_version": "1.5.0",
            "_model_name": "HBoxModel",
            "_view_count": null,
            "_view_module": "@jupyter-widgets/controls",
            "_view_module_version": "1.5.0",
            "_view_name": "HBoxView",
            "box_style": "",
            "children": [
              "IPY_MODEL_1d5d3a135d1949febfe3981ea33bdbb5",
              "IPY_MODEL_a18a66e2389e42b2b8be54f0605e6e6d",
              "IPY_MODEL_dc45c55f5a5e4e6d830b3940e84c771b"
            ],
            "layout": "IPY_MODEL_ed21dce4189e464a816ec2084729df3b"
          }
        },
        "1d5d3a135d1949febfe3981ea33bdbb5": {
          "model_module": "@jupyter-widgets/controls",
          "model_name": "HTMLModel",
          "model_module_version": "1.5.0",
          "state": {
            "_dom_classes": [],
            "_model_module": "@jupyter-widgets/controls",
            "_model_module_version": "1.5.0",
            "_model_name": "HTMLModel",
            "_view_count": null,
            "_view_module": "@jupyter-widgets/controls",
            "_view_module_version": "1.5.0",
            "_view_name": "HTMLView",
            "description": "",
            "description_tooltip": null,
            "layout": "IPY_MODEL_776d4196acf441cd8a87276ff987b06c",
            "placeholder": "​",
            "style": "IPY_MODEL_2fdfe04660f14c028f4383e8994553b1",
            "value": "config.json: 100%"
          }
        },
        "a18a66e2389e42b2b8be54f0605e6e6d": {
          "model_module": "@jupyter-widgets/controls",
          "model_name": "FloatProgressModel",
          "model_module_version": "1.5.0",
          "state": {
            "_dom_classes": [],
            "_model_module": "@jupyter-widgets/controls",
            "_model_module_version": "1.5.0",
            "_model_name": "FloatProgressModel",
            "_view_count": null,
            "_view_module": "@jupyter-widgets/controls",
            "_view_module_version": "1.5.0",
            "_view_name": "ProgressView",
            "bar_style": "success",
            "description": "",
            "description_tooltip": null,
            "layout": "IPY_MODEL_0341a93e6c194f94b56733864d4b3e46",
            "max": 1005,
            "min": 0,
            "orientation": "horizontal",
            "style": "IPY_MODEL_424cbffe78a34dc88800c0c1f0a48d9d",
            "value": 1005
          }
        },
        "dc45c55f5a5e4e6d830b3940e84c771b": {
          "model_module": "@jupyter-widgets/controls",
          "model_name": "HTMLModel",
          "model_module_version": "1.5.0",
          "state": {
            "_dom_classes": [],
            "_model_module": "@jupyter-widgets/controls",
            "_model_module_version": "1.5.0",
            "_model_name": "HTMLModel",
            "_view_count": null,
            "_view_module": "@jupyter-widgets/controls",
            "_view_module_version": "1.5.0",
            "_view_name": "HTMLView",
            "description": "",
            "description_tooltip": null,
            "layout": "IPY_MODEL_f92a8af26b154a6d959d7902f0f671cd",
            "placeholder": "​",
            "style": "IPY_MODEL_cd5d33ddf58f43589b923116673c7c16",
            "value": " 1.00k/1.00k [00:00&lt;00:00, 85.1kB/s]"
          }
        },
        "ed21dce4189e464a816ec2084729df3b": {
          "model_module": "@jupyter-widgets/base",
          "model_name": "LayoutModel",
          "model_module_version": "1.2.0",
          "state": {
            "_model_module": "@jupyter-widgets/base",
            "_model_module_version": "1.2.0",
            "_model_name": "LayoutModel",
            "_view_count": null,
            "_view_module": "@jupyter-widgets/base",
            "_view_module_version": "1.2.0",
            "_view_name": "LayoutView",
            "align_content": null,
            "align_items": null,
            "align_self": null,
            "border": null,
            "bottom": null,
            "display": null,
            "flex": null,
            "flex_flow": null,
            "grid_area": null,
            "grid_auto_columns": null,
            "grid_auto_flow": null,
            "grid_auto_rows": null,
            "grid_column": null,
            "grid_gap": null,
            "grid_row": null,
            "grid_template_areas": null,
            "grid_template_columns": null,
            "grid_template_rows": null,
            "height": null,
            "justify_content": null,
            "justify_items": null,
            "left": null,
            "margin": null,
            "max_height": null,
            "max_width": null,
            "min_height": null,
            "min_width": null,
            "object_fit": null,
            "object_position": null,
            "order": null,
            "overflow": null,
            "overflow_x": null,
            "overflow_y": null,
            "padding": null,
            "right": null,
            "top": null,
            "visibility": null,
            "width": null
          }
        },
        "776d4196acf441cd8a87276ff987b06c": {
          "model_module": "@jupyter-widgets/base",
          "model_name": "LayoutModel",
          "model_module_version": "1.2.0",
          "state": {
            "_model_module": "@jupyter-widgets/base",
            "_model_module_version": "1.2.0",
            "_model_name": "LayoutModel",
            "_view_count": null,
            "_view_module": "@jupyter-widgets/base",
            "_view_module_version": "1.2.0",
            "_view_name": "LayoutView",
            "align_content": null,
            "align_items": null,
            "align_self": null,
            "border": null,
            "bottom": null,
            "display": null,
            "flex": null,
            "flex_flow": null,
            "grid_area": null,
            "grid_auto_columns": null,
            "grid_auto_flow": null,
            "grid_auto_rows": null,
            "grid_column": null,
            "grid_gap": null,
            "grid_row": null,
            "grid_template_areas": null,
            "grid_template_columns": null,
            "grid_template_rows": null,
            "height": null,
            "justify_content": null,
            "justify_items": null,
            "left": null,
            "margin": null,
            "max_height": null,
            "max_width": null,
            "min_height": null,
            "min_width": null,
            "object_fit": null,
            "object_position": null,
            "order": null,
            "overflow": null,
            "overflow_x": null,
            "overflow_y": null,
            "padding": null,
            "right": null,
            "top": null,
            "visibility": null,
            "width": null
          }
        },
        "2fdfe04660f14c028f4383e8994553b1": {
          "model_module": "@jupyter-widgets/controls",
          "model_name": "DescriptionStyleModel",
          "model_module_version": "1.5.0",
          "state": {
            "_model_module": "@jupyter-widgets/controls",
            "_model_module_version": "1.5.0",
            "_model_name": "DescriptionStyleModel",
            "_view_count": null,
            "_view_module": "@jupyter-widgets/base",
            "_view_module_version": "1.2.0",
            "_view_name": "StyleView",
            "description_width": ""
          }
        },
        "0341a93e6c194f94b56733864d4b3e46": {
          "model_module": "@jupyter-widgets/base",
          "model_name": "LayoutModel",
          "model_module_version": "1.2.0",
          "state": {
            "_model_module": "@jupyter-widgets/base",
            "_model_module_version": "1.2.0",
            "_model_name": "LayoutModel",
            "_view_count": null,
            "_view_module": "@jupyter-widgets/base",
            "_view_module_version": "1.2.0",
            "_view_name": "LayoutView",
            "align_content": null,
            "align_items": null,
            "align_self": null,
            "border": null,
            "bottom": null,
            "display": null,
            "flex": null,
            "flex_flow": null,
            "grid_area": null,
            "grid_auto_columns": null,
            "grid_auto_flow": null,
            "grid_auto_rows": null,
            "grid_column": null,
            "grid_gap": null,
            "grid_row": null,
            "grid_template_areas": null,
            "grid_template_columns": null,
            "grid_template_rows": null,
            "height": null,
            "justify_content": null,
            "justify_items": null,
            "left": null,
            "margin": null,
            "max_height": null,
            "max_width": null,
            "min_height": null,
            "min_width": null,
            "object_fit": null,
            "object_position": null,
            "order": null,
            "overflow": null,
            "overflow_x": null,
            "overflow_y": null,
            "padding": null,
            "right": null,
            "top": null,
            "visibility": null,
            "width": null
          }
        },
        "424cbffe78a34dc88800c0c1f0a48d9d": {
          "model_module": "@jupyter-widgets/controls",
          "model_name": "ProgressStyleModel",
          "model_module_version": "1.5.0",
          "state": {
            "_model_module": "@jupyter-widgets/controls",
            "_model_module_version": "1.5.0",
            "_model_name": "ProgressStyleModel",
            "_view_count": null,
            "_view_module": "@jupyter-widgets/base",
            "_view_module_version": "1.2.0",
            "_view_name": "StyleView",
            "bar_color": null,
            "description_width": ""
          }
        },
        "f92a8af26b154a6d959d7902f0f671cd": {
          "model_module": "@jupyter-widgets/base",
          "model_name": "LayoutModel",
          "model_module_version": "1.2.0",
          "state": {
            "_model_module": "@jupyter-widgets/base",
            "_model_module_version": "1.2.0",
            "_model_name": "LayoutModel",
            "_view_count": null,
            "_view_module": "@jupyter-widgets/base",
            "_view_module_version": "1.2.0",
            "_view_name": "LayoutView",
            "align_content": null,
            "align_items": null,
            "align_self": null,
            "border": null,
            "bottom": null,
            "display": null,
            "flex": null,
            "flex_flow": null,
            "grid_area": null,
            "grid_auto_columns": null,
            "grid_auto_flow": null,
            "grid_auto_rows": null,
            "grid_column": null,
            "grid_gap": null,
            "grid_row": null,
            "grid_template_areas": null,
            "grid_template_columns": null,
            "grid_template_rows": null,
            "height": null,
            "justify_content": null,
            "justify_items": null,
            "left": null,
            "margin": null,
            "max_height": null,
            "max_width": null,
            "min_height": null,
            "min_width": null,
            "object_fit": null,
            "object_position": null,
            "order": null,
            "overflow": null,
            "overflow_x": null,
            "overflow_y": null,
            "padding": null,
            "right": null,
            "top": null,
            "visibility": null,
            "width": null
          }
        },
        "cd5d33ddf58f43589b923116673c7c16": {
          "model_module": "@jupyter-widgets/controls",
          "model_name": "DescriptionStyleModel",
          "model_module_version": "1.5.0",
          "state": {
            "_model_module": "@jupyter-widgets/controls",
            "_model_module_version": "1.5.0",
            "_model_name": "DescriptionStyleModel",
            "_view_count": null,
            "_view_module": "@jupyter-widgets/base",
            "_view_module_version": "1.2.0",
            "_view_name": "StyleView",
            "description_width": ""
          }
        },
        "6ec81a0442fb4e43bb08a9555fe4f5ba": {
          "model_module": "@jupyter-widgets/controls",
          "model_name": "HBoxModel",
          "model_module_version": "1.5.0",
          "state": {
            "_dom_classes": [],
            "_model_module": "@jupyter-widgets/controls",
            "_model_module_version": "1.5.0",
            "_model_name": "HBoxModel",
            "_view_count": null,
            "_view_module": "@jupyter-widgets/controls",
            "_view_module_version": "1.5.0",
            "_view_name": "HBoxView",
            "box_style": "",
            "children": [
              "IPY_MODEL_6c21d281aea04c7eb3d13ab56d51c82e",
              "IPY_MODEL_60a02e57aa4143278c4268fd94fee765",
              "IPY_MODEL_e8bc1b928de9440c94834b7bc90716e6"
            ],
            "layout": "IPY_MODEL_6183d9ed30a546ee988a06d70e11600c"
          }
        },
        "6c21d281aea04c7eb3d13ab56d51c82e": {
          "model_module": "@jupyter-widgets/controls",
          "model_name": "HTMLModel",
          "model_module_version": "1.5.0",
          "state": {
            "_dom_classes": [],
            "_model_module": "@jupyter-widgets/controls",
            "_model_module_version": "1.5.0",
            "_model_name": "HTMLModel",
            "_view_count": null,
            "_view_module": "@jupyter-widgets/controls",
            "_view_module_version": "1.5.0",
            "_view_name": "HTMLView",
            "description": "",
            "description_tooltip": null,
            "layout": "IPY_MODEL_6c7fde6206eb421f81e36c87dffefeb4",
            "placeholder": "​",
            "style": "IPY_MODEL_61b8638b0ea74b7cb97698a663669705",
            "value": "pytorch_model.bin: 100%"
          }
        },
        "60a02e57aa4143278c4268fd94fee765": {
          "model_module": "@jupyter-widgets/controls",
          "model_name": "FloatProgressModel",
          "model_module_version": "1.5.0",
          "state": {
            "_dom_classes": [],
            "_model_module": "@jupyter-widgets/controls",
            "_model_module_version": "1.5.0",
            "_model_name": "FloatProgressModel",
            "_view_count": null,
            "_view_module": "@jupyter-widgets/controls",
            "_view_module_version": "1.5.0",
            "_view_name": "ProgressView",
            "bar_style": "success",
            "description": "",
            "description_tooltip": null,
            "layout": "IPY_MODEL_3ef67fd58d37403aa170a7b8dc8570db",
            "max": 328544361,
            "min": 0,
            "orientation": "horizontal",
            "style": "IPY_MODEL_a5ce83c4e41547dda8dc94536a00dbf8",
            "value": 328544361
          }
        },
        "e8bc1b928de9440c94834b7bc90716e6": {
          "model_module": "@jupyter-widgets/controls",
          "model_name": "HTMLModel",
          "model_module_version": "1.5.0",
          "state": {
            "_dom_classes": [],
            "_model_module": "@jupyter-widgets/controls",
            "_model_module_version": "1.5.0",
            "_model_name": "HTMLModel",
            "_view_count": null,
            "_view_module": "@jupyter-widgets/controls",
            "_view_module_version": "1.5.0",
            "_view_name": "HTMLView",
            "description": "",
            "description_tooltip": null,
            "layout": "IPY_MODEL_9a377715866947b68b469afd576cd049",
            "placeholder": "​",
            "style": "IPY_MODEL_01d2177bb6fe4053b99afae3bbb0eb66",
            "value": " 329M/329M [00:02&lt;00:00, 200MB/s]"
          }
        },
        "6183d9ed30a546ee988a06d70e11600c": {
          "model_module": "@jupyter-widgets/base",
          "model_name": "LayoutModel",
          "model_module_version": "1.2.0",
          "state": {
            "_model_module": "@jupyter-widgets/base",
            "_model_module_version": "1.2.0",
            "_model_name": "LayoutModel",
            "_view_count": null,
            "_view_module": "@jupyter-widgets/base",
            "_view_module_version": "1.2.0",
            "_view_name": "LayoutView",
            "align_content": null,
            "align_items": null,
            "align_self": null,
            "border": null,
            "bottom": null,
            "display": null,
            "flex": null,
            "flex_flow": null,
            "grid_area": null,
            "grid_auto_columns": null,
            "grid_auto_flow": null,
            "grid_auto_rows": null,
            "grid_column": null,
            "grid_gap": null,
            "grid_row": null,
            "grid_template_areas": null,
            "grid_template_columns": null,
            "grid_template_rows": null,
            "height": null,
            "justify_content": null,
            "justify_items": null,
            "left": null,
            "margin": null,
            "max_height": null,
            "max_width": null,
            "min_height": null,
            "min_width": null,
            "object_fit": null,
            "object_position": null,
            "order": null,
            "overflow": null,
            "overflow_x": null,
            "overflow_y": null,
            "padding": null,
            "right": null,
            "top": null,
            "visibility": null,
            "width": null
          }
        },
        "6c7fde6206eb421f81e36c87dffefeb4": {
          "model_module": "@jupyter-widgets/base",
          "model_name": "LayoutModel",
          "model_module_version": "1.2.0",
          "state": {
            "_model_module": "@jupyter-widgets/base",
            "_model_module_version": "1.2.0",
            "_model_name": "LayoutModel",
            "_view_count": null,
            "_view_module": "@jupyter-widgets/base",
            "_view_module_version": "1.2.0",
            "_view_name": "LayoutView",
            "align_content": null,
            "align_items": null,
            "align_self": null,
            "border": null,
            "bottom": null,
            "display": null,
            "flex": null,
            "flex_flow": null,
            "grid_area": null,
            "grid_auto_columns": null,
            "grid_auto_flow": null,
            "grid_auto_rows": null,
            "grid_column": null,
            "grid_gap": null,
            "grid_row": null,
            "grid_template_areas": null,
            "grid_template_columns": null,
            "grid_template_rows": null,
            "height": null,
            "justify_content": null,
            "justify_items": null,
            "left": null,
            "margin": null,
            "max_height": null,
            "max_width": null,
            "min_height": null,
            "min_width": null,
            "object_fit": null,
            "object_position": null,
            "order": null,
            "overflow": null,
            "overflow_x": null,
            "overflow_y": null,
            "padding": null,
            "right": null,
            "top": null,
            "visibility": null,
            "width": null
          }
        },
        "61b8638b0ea74b7cb97698a663669705": {
          "model_module": "@jupyter-widgets/controls",
          "model_name": "DescriptionStyleModel",
          "model_module_version": "1.5.0",
          "state": {
            "_model_module": "@jupyter-widgets/controls",
            "_model_module_version": "1.5.0",
            "_model_name": "DescriptionStyleModel",
            "_view_count": null,
            "_view_module": "@jupyter-widgets/base",
            "_view_module_version": "1.2.0",
            "_view_name": "StyleView",
            "description_width": ""
          }
        },
        "3ef67fd58d37403aa170a7b8dc8570db": {
          "model_module": "@jupyter-widgets/base",
          "model_name": "LayoutModel",
          "model_module_version": "1.2.0",
          "state": {
            "_model_module": "@jupyter-widgets/base",
            "_model_module_version": "1.2.0",
            "_model_name": "LayoutModel",
            "_view_count": null,
            "_view_module": "@jupyter-widgets/base",
            "_view_module_version": "1.2.0",
            "_view_name": "LayoutView",
            "align_content": null,
            "align_items": null,
            "align_self": null,
            "border": null,
            "bottom": null,
            "display": null,
            "flex": null,
            "flex_flow": null,
            "grid_area": null,
            "grid_auto_columns": null,
            "grid_auto_flow": null,
            "grid_auto_rows": null,
            "grid_column": null,
            "grid_gap": null,
            "grid_row": null,
            "grid_template_areas": null,
            "grid_template_columns": null,
            "grid_template_rows": null,
            "height": null,
            "justify_content": null,
            "justify_items": null,
            "left": null,
            "margin": null,
            "max_height": null,
            "max_width": null,
            "min_height": null,
            "min_width": null,
            "object_fit": null,
            "object_position": null,
            "order": null,
            "overflow": null,
            "overflow_x": null,
            "overflow_y": null,
            "padding": null,
            "right": null,
            "top": null,
            "visibility": null,
            "width": null
          }
        },
        "a5ce83c4e41547dda8dc94536a00dbf8": {
          "model_module": "@jupyter-widgets/controls",
          "model_name": "ProgressStyleModel",
          "model_module_version": "1.5.0",
          "state": {
            "_model_module": "@jupyter-widgets/controls",
            "_model_module_version": "1.5.0",
            "_model_name": "ProgressStyleModel",
            "_view_count": null,
            "_view_module": "@jupyter-widgets/base",
            "_view_module_version": "1.2.0",
            "_view_name": "StyleView",
            "bar_color": null,
            "description_width": ""
          }
        },
        "9a377715866947b68b469afd576cd049": {
          "model_module": "@jupyter-widgets/base",
          "model_name": "LayoutModel",
          "model_module_version": "1.2.0",
          "state": {
            "_model_module": "@jupyter-widgets/base",
            "_model_module_version": "1.2.0",
            "_model_name": "LayoutModel",
            "_view_count": null,
            "_view_module": "@jupyter-widgets/base",
            "_view_module_version": "1.2.0",
            "_view_name": "LayoutView",
            "align_content": null,
            "align_items": null,
            "align_self": null,
            "border": null,
            "bottom": null,
            "display": null,
            "flex": null,
            "flex_flow": null,
            "grid_area": null,
            "grid_auto_columns": null,
            "grid_auto_flow": null,
            "grid_auto_rows": null,
            "grid_column": null,
            "grid_gap": null,
            "grid_row": null,
            "grid_template_areas": null,
            "grid_template_columns": null,
            "grid_template_rows": null,
            "height": null,
            "justify_content": null,
            "justify_items": null,
            "left": null,
            "margin": null,
            "max_height": null,
            "max_width": null,
            "min_height": null,
            "min_width": null,
            "object_fit": null,
            "object_position": null,
            "order": null,
            "overflow": null,
            "overflow_x": null,
            "overflow_y": null,
            "padding": null,
            "right": null,
            "top": null,
            "visibility": null,
            "width": null
          }
        },
        "01d2177bb6fe4053b99afae3bbb0eb66": {
          "model_module": "@jupyter-widgets/controls",
          "model_name": "DescriptionStyleModel",
          "model_module_version": "1.5.0",
          "state": {
            "_model_module": "@jupyter-widgets/controls",
            "_model_module_version": "1.5.0",
            "_model_name": "DescriptionStyleModel",
            "_view_count": null,
            "_view_module": "@jupyter-widgets/base",
            "_view_module_version": "1.2.0",
            "_view_name": "StyleView",
            "description_width": ""
          }
        },
        "5af9f51dea9e4b989aeb655e9b6e09bb": {
          "model_module": "@jupyter-widgets/controls",
          "model_name": "HBoxModel",
          "model_module_version": "1.5.0",
          "state": {
            "_dom_classes": [],
            "_model_module": "@jupyter-widgets/controls",
            "_model_module_version": "1.5.0",
            "_model_name": "HBoxModel",
            "_view_count": null,
            "_view_module": "@jupyter-widgets/controls",
            "_view_module_version": "1.5.0",
            "_view_name": "HBoxView",
            "box_style": "",
            "children": [
              "IPY_MODEL_853e9be0832540768c227023a781a9ee",
              "IPY_MODEL_6bb17de39994439b96ee2d567c1e5b60",
              "IPY_MODEL_a3a53166d65e49cd94b5a8fbee359027"
            ],
            "layout": "IPY_MODEL_a694610e8f6e4b86bf3e36dd12f9d084"
          }
        },
        "853e9be0832540768c227023a781a9ee": {
          "model_module": "@jupyter-widgets/controls",
          "model_name": "HTMLModel",
          "model_module_version": "1.5.0",
          "state": {
            "_dom_classes": [],
            "_model_module": "@jupyter-widgets/controls",
            "_model_module_version": "1.5.0",
            "_model_name": "HTMLModel",
            "_view_count": null,
            "_view_module": "@jupyter-widgets/controls",
            "_view_module_version": "1.5.0",
            "_view_name": "HTMLView",
            "description": "",
            "description_tooltip": null,
            "layout": "IPY_MODEL_c0f51e40a1604e71a08679b4e2811b9a",
            "placeholder": "​",
            "style": "IPY_MODEL_8a3da04c26574092bf1a8a57e87d7145",
            "value": "tokenizer_config.json: 100%"
          }
        },
        "6bb17de39994439b96ee2d567c1e5b60": {
          "model_module": "@jupyter-widgets/controls",
          "model_name": "FloatProgressModel",
          "model_module_version": "1.5.0",
          "state": {
            "_dom_classes": [],
            "_model_module": "@jupyter-widgets/controls",
            "_model_module_version": "1.5.0",
            "_model_name": "FloatProgressModel",
            "_view_count": null,
            "_view_module": "@jupyter-widgets/controls",
            "_view_module_version": "1.5.0",
            "_view_name": "ProgressView",
            "bar_style": "success",
            "description": "",
            "description_tooltip": null,
            "layout": "IPY_MODEL_ddfc2ca1de61475f806e03ae2a5632e7",
            "max": 294,
            "min": 0,
            "orientation": "horizontal",
            "style": "IPY_MODEL_7184813d948e4782bd41e1d80d2a17ae",
            "value": 294
          }
        },
        "a3a53166d65e49cd94b5a8fbee359027": {
          "model_module": "@jupyter-widgets/controls",
          "model_name": "HTMLModel",
          "model_module_version": "1.5.0",
          "state": {
            "_dom_classes": [],
            "_model_module": "@jupyter-widgets/controls",
            "_model_module_version": "1.5.0",
            "_model_name": "HTMLModel",
            "_view_count": null,
            "_view_module": "@jupyter-widgets/controls",
            "_view_module_version": "1.5.0",
            "_view_name": "HTMLView",
            "description": "",
            "description_tooltip": null,
            "layout": "IPY_MODEL_d86e49712300475ea6222153ef73c7b0",
            "placeholder": "​",
            "style": "IPY_MODEL_8b4e6fb042b94ecebc9db67380ffd291",
            "value": " 294/294 [00:00&lt;00:00, 25.1kB/s]"
          }
        },
        "a694610e8f6e4b86bf3e36dd12f9d084": {
          "model_module": "@jupyter-widgets/base",
          "model_name": "LayoutModel",
          "model_module_version": "1.2.0",
          "state": {
            "_model_module": "@jupyter-widgets/base",
            "_model_module_version": "1.2.0",
            "_model_name": "LayoutModel",
            "_view_count": null,
            "_view_module": "@jupyter-widgets/base",
            "_view_module_version": "1.2.0",
            "_view_name": "LayoutView",
            "align_content": null,
            "align_items": null,
            "align_self": null,
            "border": null,
            "bottom": null,
            "display": null,
            "flex": null,
            "flex_flow": null,
            "grid_area": null,
            "grid_auto_columns": null,
            "grid_auto_flow": null,
            "grid_auto_rows": null,
            "grid_column": null,
            "grid_gap": null,
            "grid_row": null,
            "grid_template_areas": null,
            "grid_template_columns": null,
            "grid_template_rows": null,
            "height": null,
            "justify_content": null,
            "justify_items": null,
            "left": null,
            "margin": null,
            "max_height": null,
            "max_width": null,
            "min_height": null,
            "min_width": null,
            "object_fit": null,
            "object_position": null,
            "order": null,
            "overflow": null,
            "overflow_x": null,
            "overflow_y": null,
            "padding": null,
            "right": null,
            "top": null,
            "visibility": null,
            "width": null
          }
        },
        "c0f51e40a1604e71a08679b4e2811b9a": {
          "model_module": "@jupyter-widgets/base",
          "model_name": "LayoutModel",
          "model_module_version": "1.2.0",
          "state": {
            "_model_module": "@jupyter-widgets/base",
            "_model_module_version": "1.2.0",
            "_model_name": "LayoutModel",
            "_view_count": null,
            "_view_module": "@jupyter-widgets/base",
            "_view_module_version": "1.2.0",
            "_view_name": "LayoutView",
            "align_content": null,
            "align_items": null,
            "align_self": null,
            "border": null,
            "bottom": null,
            "display": null,
            "flex": null,
            "flex_flow": null,
            "grid_area": null,
            "grid_auto_columns": null,
            "grid_auto_flow": null,
            "grid_auto_rows": null,
            "grid_column": null,
            "grid_gap": null,
            "grid_row": null,
            "grid_template_areas": null,
            "grid_template_columns": null,
            "grid_template_rows": null,
            "height": null,
            "justify_content": null,
            "justify_items": null,
            "left": null,
            "margin": null,
            "max_height": null,
            "max_width": null,
            "min_height": null,
            "min_width": null,
            "object_fit": null,
            "object_position": null,
            "order": null,
            "overflow": null,
            "overflow_x": null,
            "overflow_y": null,
            "padding": null,
            "right": null,
            "top": null,
            "visibility": null,
            "width": null
          }
        },
        "8a3da04c26574092bf1a8a57e87d7145": {
          "model_module": "@jupyter-widgets/controls",
          "model_name": "DescriptionStyleModel",
          "model_module_version": "1.5.0",
          "state": {
            "_model_module": "@jupyter-widgets/controls",
            "_model_module_version": "1.5.0",
            "_model_name": "DescriptionStyleModel",
            "_view_count": null,
            "_view_module": "@jupyter-widgets/base",
            "_view_module_version": "1.2.0",
            "_view_name": "StyleView",
            "description_width": ""
          }
        },
        "ddfc2ca1de61475f806e03ae2a5632e7": {
          "model_module": "@jupyter-widgets/base",
          "model_name": "LayoutModel",
          "model_module_version": "1.2.0",
          "state": {
            "_model_module": "@jupyter-widgets/base",
            "_model_module_version": "1.2.0",
            "_model_name": "LayoutModel",
            "_view_count": null,
            "_view_module": "@jupyter-widgets/base",
            "_view_module_version": "1.2.0",
            "_view_name": "LayoutView",
            "align_content": null,
            "align_items": null,
            "align_self": null,
            "border": null,
            "bottom": null,
            "display": null,
            "flex": null,
            "flex_flow": null,
            "grid_area": null,
            "grid_auto_columns": null,
            "grid_auto_flow": null,
            "grid_auto_rows": null,
            "grid_column": null,
            "grid_gap": null,
            "grid_row": null,
            "grid_template_areas": null,
            "grid_template_columns": null,
            "grid_template_rows": null,
            "height": null,
            "justify_content": null,
            "justify_items": null,
            "left": null,
            "margin": null,
            "max_height": null,
            "max_width": null,
            "min_height": null,
            "min_width": null,
            "object_fit": null,
            "object_position": null,
            "order": null,
            "overflow": null,
            "overflow_x": null,
            "overflow_y": null,
            "padding": null,
            "right": null,
            "top": null,
            "visibility": null,
            "width": null
          }
        },
        "7184813d948e4782bd41e1d80d2a17ae": {
          "model_module": "@jupyter-widgets/controls",
          "model_name": "ProgressStyleModel",
          "model_module_version": "1.5.0",
          "state": {
            "_model_module": "@jupyter-widgets/controls",
            "_model_module_version": "1.5.0",
            "_model_name": "ProgressStyleModel",
            "_view_count": null,
            "_view_module": "@jupyter-widgets/base",
            "_view_module_version": "1.2.0",
            "_view_name": "StyleView",
            "bar_color": null,
            "description_width": ""
          }
        },
        "d86e49712300475ea6222153ef73c7b0": {
          "model_module": "@jupyter-widgets/base",
          "model_name": "LayoutModel",
          "model_module_version": "1.2.0",
          "state": {
            "_model_module": "@jupyter-widgets/base",
            "_model_module_version": "1.2.0",
            "_model_name": "LayoutModel",
            "_view_count": null,
            "_view_module": "@jupyter-widgets/base",
            "_view_module_version": "1.2.0",
            "_view_name": "LayoutView",
            "align_content": null,
            "align_items": null,
            "align_self": null,
            "border": null,
            "bottom": null,
            "display": null,
            "flex": null,
            "flex_flow": null,
            "grid_area": null,
            "grid_auto_columns": null,
            "grid_auto_flow": null,
            "grid_auto_rows": null,
            "grid_column": null,
            "grid_gap": null,
            "grid_row": null,
            "grid_template_areas": null,
            "grid_template_columns": null,
            "grid_template_rows": null,
            "height": null,
            "justify_content": null,
            "justify_items": null,
            "left": null,
            "margin": null,
            "max_height": null,
            "max_width": null,
            "min_height": null,
            "min_width": null,
            "object_fit": null,
            "object_position": null,
            "order": null,
            "overflow": null,
            "overflow_x": null,
            "overflow_y": null,
            "padding": null,
            "right": null,
            "top": null,
            "visibility": null,
            "width": null
          }
        },
        "8b4e6fb042b94ecebc9db67380ffd291": {
          "model_module": "@jupyter-widgets/controls",
          "model_name": "DescriptionStyleModel",
          "model_module_version": "1.5.0",
          "state": {
            "_model_module": "@jupyter-widgets/controls",
            "_model_module_version": "1.5.0",
            "_model_name": "DescriptionStyleModel",
            "_view_count": null,
            "_view_module": "@jupyter-widgets/base",
            "_view_module_version": "1.2.0",
            "_view_name": "StyleView",
            "description_width": ""
          }
        },
        "0cf37b28d331472abd6dbbb509b42ee2": {
          "model_module": "@jupyter-widgets/controls",
          "model_name": "HBoxModel",
          "model_module_version": "1.5.0",
          "state": {
            "_dom_classes": [],
            "_model_module": "@jupyter-widgets/controls",
            "_model_module_version": "1.5.0",
            "_model_name": "HBoxModel",
            "_view_count": null,
            "_view_module": "@jupyter-widgets/controls",
            "_view_module_version": "1.5.0",
            "_view_name": "HBoxView",
            "box_style": "",
            "children": [
              "IPY_MODEL_4d6d54b718194f36b472f61e97e0bc9c",
              "IPY_MODEL_576431911a6b4575a358e6157698f1b5",
              "IPY_MODEL_1fcff1c962074e0fa51d03bf549544f6"
            ],
            "layout": "IPY_MODEL_87ff752813ed4bef942cf051ca992b7d"
          }
        },
        "4d6d54b718194f36b472f61e97e0bc9c": {
          "model_module": "@jupyter-widgets/controls",
          "model_name": "HTMLModel",
          "model_module_version": "1.5.0",
          "state": {
            "_dom_classes": [],
            "_model_module": "@jupyter-widgets/controls",
            "_model_module_version": "1.5.0",
            "_model_name": "HTMLModel",
            "_view_count": null,
            "_view_module": "@jupyter-widgets/controls",
            "_view_module_version": "1.5.0",
            "_view_name": "HTMLView",
            "description": "",
            "description_tooltip": null,
            "layout": "IPY_MODEL_cc8cd3f2952641c8971506719799635e",
            "placeholder": "​",
            "style": "IPY_MODEL_08715f78e94d467795f997fb52ab50ba",
            "value": "vocab.json: 100%"
          }
        },
        "576431911a6b4575a358e6157698f1b5": {
          "model_module": "@jupyter-widgets/controls",
          "model_name": "FloatProgressModel",
          "model_module_version": "1.5.0",
          "state": {
            "_dom_classes": [],
            "_model_module": "@jupyter-widgets/controls",
            "_model_module_version": "1.5.0",
            "_model_name": "FloatProgressModel",
            "_view_count": null,
            "_view_module": "@jupyter-widgets/controls",
            "_view_module_version": "1.5.0",
            "_view_name": "ProgressView",
            "bar_style": "success",
            "description": "",
            "description_tooltip": null,
            "layout": "IPY_MODEL_f0e7109ec582472896e5cb43a2c06dd3",
            "max": 798293,
            "min": 0,
            "orientation": "horizontal",
            "style": "IPY_MODEL_65761a20a2ef4c7c9e79ff7640746034",
            "value": 798293
          }
        },
        "1fcff1c962074e0fa51d03bf549544f6": {
          "model_module": "@jupyter-widgets/controls",
          "model_name": "HTMLModel",
          "model_module_version": "1.5.0",
          "state": {
            "_dom_classes": [],
            "_model_module": "@jupyter-widgets/controls",
            "_model_module_version": "1.5.0",
            "_model_name": "HTMLModel",
            "_view_count": null,
            "_view_module": "@jupyter-widgets/controls",
            "_view_module_version": "1.5.0",
            "_view_name": "HTMLView",
            "description": "",
            "description_tooltip": null,
            "layout": "IPY_MODEL_22b69aa7bb94496d9f4019a4fd127cca",
            "placeholder": "​",
            "style": "IPY_MODEL_e3da946340e24d4bafce7934ce7f8de3",
            "value": " 798k/798k [00:00&lt;00:00, 5.91MB/s]"
          }
        },
        "87ff752813ed4bef942cf051ca992b7d": {
          "model_module": "@jupyter-widgets/base",
          "model_name": "LayoutModel",
          "model_module_version": "1.2.0",
          "state": {
            "_model_module": "@jupyter-widgets/base",
            "_model_module_version": "1.2.0",
            "_model_name": "LayoutModel",
            "_view_count": null,
            "_view_module": "@jupyter-widgets/base",
            "_view_module_version": "1.2.0",
            "_view_name": "LayoutView",
            "align_content": null,
            "align_items": null,
            "align_self": null,
            "border": null,
            "bottom": null,
            "display": null,
            "flex": null,
            "flex_flow": null,
            "grid_area": null,
            "grid_auto_columns": null,
            "grid_auto_flow": null,
            "grid_auto_rows": null,
            "grid_column": null,
            "grid_gap": null,
            "grid_row": null,
            "grid_template_areas": null,
            "grid_template_columns": null,
            "grid_template_rows": null,
            "height": null,
            "justify_content": null,
            "justify_items": null,
            "left": null,
            "margin": null,
            "max_height": null,
            "max_width": null,
            "min_height": null,
            "min_width": null,
            "object_fit": null,
            "object_position": null,
            "order": null,
            "overflow": null,
            "overflow_x": null,
            "overflow_y": null,
            "padding": null,
            "right": null,
            "top": null,
            "visibility": null,
            "width": null
          }
        },
        "cc8cd3f2952641c8971506719799635e": {
          "model_module": "@jupyter-widgets/base",
          "model_name": "LayoutModel",
          "model_module_version": "1.2.0",
          "state": {
            "_model_module": "@jupyter-widgets/base",
            "_model_module_version": "1.2.0",
            "_model_name": "LayoutModel",
            "_view_count": null,
            "_view_module": "@jupyter-widgets/base",
            "_view_module_version": "1.2.0",
            "_view_name": "LayoutView",
            "align_content": null,
            "align_items": null,
            "align_self": null,
            "border": null,
            "bottom": null,
            "display": null,
            "flex": null,
            "flex_flow": null,
            "grid_area": null,
            "grid_auto_columns": null,
            "grid_auto_flow": null,
            "grid_auto_rows": null,
            "grid_column": null,
            "grid_gap": null,
            "grid_row": null,
            "grid_template_areas": null,
            "grid_template_columns": null,
            "grid_template_rows": null,
            "height": null,
            "justify_content": null,
            "justify_items": null,
            "left": null,
            "margin": null,
            "max_height": null,
            "max_width": null,
            "min_height": null,
            "min_width": null,
            "object_fit": null,
            "object_position": null,
            "order": null,
            "overflow": null,
            "overflow_x": null,
            "overflow_y": null,
            "padding": null,
            "right": null,
            "top": null,
            "visibility": null,
            "width": null
          }
        },
        "08715f78e94d467795f997fb52ab50ba": {
          "model_module": "@jupyter-widgets/controls",
          "model_name": "DescriptionStyleModel",
          "model_module_version": "1.5.0",
          "state": {
            "_model_module": "@jupyter-widgets/controls",
            "_model_module_version": "1.5.0",
            "_model_name": "DescriptionStyleModel",
            "_view_count": null,
            "_view_module": "@jupyter-widgets/base",
            "_view_module_version": "1.2.0",
            "_view_name": "StyleView",
            "description_width": ""
          }
        },
        "f0e7109ec582472896e5cb43a2c06dd3": {
          "model_module": "@jupyter-widgets/base",
          "model_name": "LayoutModel",
          "model_module_version": "1.2.0",
          "state": {
            "_model_module": "@jupyter-widgets/base",
            "_model_module_version": "1.2.0",
            "_model_name": "LayoutModel",
            "_view_count": null,
            "_view_module": "@jupyter-widgets/base",
            "_view_module_version": "1.2.0",
            "_view_name": "LayoutView",
            "align_content": null,
            "align_items": null,
            "align_self": null,
            "border": null,
            "bottom": null,
            "display": null,
            "flex": null,
            "flex_flow": null,
            "grid_area": null,
            "grid_auto_columns": null,
            "grid_auto_flow": null,
            "grid_auto_rows": null,
            "grid_column": null,
            "grid_gap": null,
            "grid_row": null,
            "grid_template_areas": null,
            "grid_template_columns": null,
            "grid_template_rows": null,
            "height": null,
            "justify_content": null,
            "justify_items": null,
            "left": null,
            "margin": null,
            "max_height": null,
            "max_width": null,
            "min_height": null,
            "min_width": null,
            "object_fit": null,
            "object_position": null,
            "order": null,
            "overflow": null,
            "overflow_x": null,
            "overflow_y": null,
            "padding": null,
            "right": null,
            "top": null,
            "visibility": null,
            "width": null
          }
        },
        "65761a20a2ef4c7c9e79ff7640746034": {
          "model_module": "@jupyter-widgets/controls",
          "model_name": "ProgressStyleModel",
          "model_module_version": "1.5.0",
          "state": {
            "_model_module": "@jupyter-widgets/controls",
            "_model_module_version": "1.5.0",
            "_model_name": "ProgressStyleModel",
            "_view_count": null,
            "_view_module": "@jupyter-widgets/base",
            "_view_module_version": "1.2.0",
            "_view_name": "StyleView",
            "bar_color": null,
            "description_width": ""
          }
        },
        "22b69aa7bb94496d9f4019a4fd127cca": {
          "model_module": "@jupyter-widgets/base",
          "model_name": "LayoutModel",
          "model_module_version": "1.2.0",
          "state": {
            "_model_module": "@jupyter-widgets/base",
            "_model_module_version": "1.2.0",
            "_model_name": "LayoutModel",
            "_view_count": null,
            "_view_module": "@jupyter-widgets/base",
            "_view_module_version": "1.2.0",
            "_view_name": "LayoutView",
            "align_content": null,
            "align_items": null,
            "align_self": null,
            "border": null,
            "bottom": null,
            "display": null,
            "flex": null,
            "flex_flow": null,
            "grid_area": null,
            "grid_auto_columns": null,
            "grid_auto_flow": null,
            "grid_auto_rows": null,
            "grid_column": null,
            "grid_gap": null,
            "grid_row": null,
            "grid_template_areas": null,
            "grid_template_columns": null,
            "grid_template_rows": null,
            "height": null,
            "justify_content": null,
            "justify_items": null,
            "left": null,
            "margin": null,
            "max_height": null,
            "max_width": null,
            "min_height": null,
            "min_width": null,
            "object_fit": null,
            "object_position": null,
            "order": null,
            "overflow": null,
            "overflow_x": null,
            "overflow_y": null,
            "padding": null,
            "right": null,
            "top": null,
            "visibility": null,
            "width": null
          }
        },
        "e3da946340e24d4bafce7934ce7f8de3": {
          "model_module": "@jupyter-widgets/controls",
          "model_name": "DescriptionStyleModel",
          "model_module_version": "1.5.0",
          "state": {
            "_model_module": "@jupyter-widgets/controls",
            "_model_module_version": "1.5.0",
            "_model_name": "DescriptionStyleModel",
            "_view_count": null,
            "_view_module": "@jupyter-widgets/base",
            "_view_module_version": "1.2.0",
            "_view_name": "StyleView",
            "description_width": ""
          }
        },
        "822d3affff0c412ba98ec2b6130d2563": {
          "model_module": "@jupyter-widgets/controls",
          "model_name": "HBoxModel",
          "model_module_version": "1.5.0",
          "state": {
            "_dom_classes": [],
            "_model_module": "@jupyter-widgets/controls",
            "_model_module_version": "1.5.0",
            "_model_name": "HBoxModel",
            "_view_count": null,
            "_view_module": "@jupyter-widgets/controls",
            "_view_module_version": "1.5.0",
            "_view_name": "HBoxView",
            "box_style": "",
            "children": [
              "IPY_MODEL_88a845e0bb59419a8f38a9ef27a36bb1",
              "IPY_MODEL_9a4a5e7ffd9a4aed9c27cccc033392b8",
              "IPY_MODEL_b5f26195cdef41329749c433e43c906e"
            ],
            "layout": "IPY_MODEL_43ddd805dc8f4b718b1ba6465ce87728"
          }
        },
        "88a845e0bb59419a8f38a9ef27a36bb1": {
          "model_module": "@jupyter-widgets/controls",
          "model_name": "HTMLModel",
          "model_module_version": "1.5.0",
          "state": {
            "_dom_classes": [],
            "_model_module": "@jupyter-widgets/controls",
            "_model_module_version": "1.5.0",
            "_model_name": "HTMLModel",
            "_view_count": null,
            "_view_module": "@jupyter-widgets/controls",
            "_view_module_version": "1.5.0",
            "_view_name": "HTMLView",
            "description": "",
            "description_tooltip": null,
            "layout": "IPY_MODEL_c2edb6855f49439797c9086ed9fa7646",
            "placeholder": "​",
            "style": "IPY_MODEL_ed97ef47463a462db58186407376d40d",
            "value": "merges.txt: 100%"
          }
        },
        "9a4a5e7ffd9a4aed9c27cccc033392b8": {
          "model_module": "@jupyter-widgets/controls",
          "model_name": "FloatProgressModel",
          "model_module_version": "1.5.0",
          "state": {
            "_dom_classes": [],
            "_model_module": "@jupyter-widgets/controls",
            "_model_module_version": "1.5.0",
            "_model_name": "FloatProgressModel",
            "_view_count": null,
            "_view_module": "@jupyter-widgets/controls",
            "_view_module_version": "1.5.0",
            "_view_name": "ProgressView",
            "bar_style": "success",
            "description": "",
            "description_tooltip": null,
            "layout": "IPY_MODEL_aa6b4674c26d409d9acb3481868f71f6",
            "max": 456356,
            "min": 0,
            "orientation": "horizontal",
            "style": "IPY_MODEL_f2e0427cbdbd462f91f5e6c59bc7db11",
            "value": 456356
          }
        },
        "b5f26195cdef41329749c433e43c906e": {
          "model_module": "@jupyter-widgets/controls",
          "model_name": "HTMLModel",
          "model_module_version": "1.5.0",
          "state": {
            "_dom_classes": [],
            "_model_module": "@jupyter-widgets/controls",
            "_model_module_version": "1.5.0",
            "_model_name": "HTMLModel",
            "_view_count": null,
            "_view_module": "@jupyter-widgets/controls",
            "_view_module_version": "1.5.0",
            "_view_name": "HTMLView",
            "description": "",
            "description_tooltip": null,
            "layout": "IPY_MODEL_0e245dd75b1e4b5f81d5c31eec196ea2",
            "placeholder": "​",
            "style": "IPY_MODEL_2d19409e668d46d6840878d62749f55f",
            "value": " 456k/456k [00:00&lt;00:00, 6.36MB/s]"
          }
        },
        "43ddd805dc8f4b718b1ba6465ce87728": {
          "model_module": "@jupyter-widgets/base",
          "model_name": "LayoutModel",
          "model_module_version": "1.2.0",
          "state": {
            "_model_module": "@jupyter-widgets/base",
            "_model_module_version": "1.2.0",
            "_model_name": "LayoutModel",
            "_view_count": null,
            "_view_module": "@jupyter-widgets/base",
            "_view_module_version": "1.2.0",
            "_view_name": "LayoutView",
            "align_content": null,
            "align_items": null,
            "align_self": null,
            "border": null,
            "bottom": null,
            "display": null,
            "flex": null,
            "flex_flow": null,
            "grid_area": null,
            "grid_auto_columns": null,
            "grid_auto_flow": null,
            "grid_auto_rows": null,
            "grid_column": null,
            "grid_gap": null,
            "grid_row": null,
            "grid_template_areas": null,
            "grid_template_columns": null,
            "grid_template_rows": null,
            "height": null,
            "justify_content": null,
            "justify_items": null,
            "left": null,
            "margin": null,
            "max_height": null,
            "max_width": null,
            "min_height": null,
            "min_width": null,
            "object_fit": null,
            "object_position": null,
            "order": null,
            "overflow": null,
            "overflow_x": null,
            "overflow_y": null,
            "padding": null,
            "right": null,
            "top": null,
            "visibility": null,
            "width": null
          }
        },
        "c2edb6855f49439797c9086ed9fa7646": {
          "model_module": "@jupyter-widgets/base",
          "model_name": "LayoutModel",
          "model_module_version": "1.2.0",
          "state": {
            "_model_module": "@jupyter-widgets/base",
            "_model_module_version": "1.2.0",
            "_model_name": "LayoutModel",
            "_view_count": null,
            "_view_module": "@jupyter-widgets/base",
            "_view_module_version": "1.2.0",
            "_view_name": "LayoutView",
            "align_content": null,
            "align_items": null,
            "align_self": null,
            "border": null,
            "bottom": null,
            "display": null,
            "flex": null,
            "flex_flow": null,
            "grid_area": null,
            "grid_auto_columns": null,
            "grid_auto_flow": null,
            "grid_auto_rows": null,
            "grid_column": null,
            "grid_gap": null,
            "grid_row": null,
            "grid_template_areas": null,
            "grid_template_columns": null,
            "grid_template_rows": null,
            "height": null,
            "justify_content": null,
            "justify_items": null,
            "left": null,
            "margin": null,
            "max_height": null,
            "max_width": null,
            "min_height": null,
            "min_width": null,
            "object_fit": null,
            "object_position": null,
            "order": null,
            "overflow": null,
            "overflow_x": null,
            "overflow_y": null,
            "padding": null,
            "right": null,
            "top": null,
            "visibility": null,
            "width": null
          }
        },
        "ed97ef47463a462db58186407376d40d": {
          "model_module": "@jupyter-widgets/controls",
          "model_name": "DescriptionStyleModel",
          "model_module_version": "1.5.0",
          "state": {
            "_model_module": "@jupyter-widgets/controls",
            "_model_module_version": "1.5.0",
            "_model_name": "DescriptionStyleModel",
            "_view_count": null,
            "_view_module": "@jupyter-widgets/base",
            "_view_module_version": "1.2.0",
            "_view_name": "StyleView",
            "description_width": ""
          }
        },
        "aa6b4674c26d409d9acb3481868f71f6": {
          "model_module": "@jupyter-widgets/base",
          "model_name": "LayoutModel",
          "model_module_version": "1.2.0",
          "state": {
            "_model_module": "@jupyter-widgets/base",
            "_model_module_version": "1.2.0",
            "_model_name": "LayoutModel",
            "_view_count": null,
            "_view_module": "@jupyter-widgets/base",
            "_view_module_version": "1.2.0",
            "_view_name": "LayoutView",
            "align_content": null,
            "align_items": null,
            "align_self": null,
            "border": null,
            "bottom": null,
            "display": null,
            "flex": null,
            "flex_flow": null,
            "grid_area": null,
            "grid_auto_columns": null,
            "grid_auto_flow": null,
            "grid_auto_rows": null,
            "grid_column": null,
            "grid_gap": null,
            "grid_row": null,
            "grid_template_areas": null,
            "grid_template_columns": null,
            "grid_template_rows": null,
            "height": null,
            "justify_content": null,
            "justify_items": null,
            "left": null,
            "margin": null,
            "max_height": null,
            "max_width": null,
            "min_height": null,
            "min_width": null,
            "object_fit": null,
            "object_position": null,
            "order": null,
            "overflow": null,
            "overflow_x": null,
            "overflow_y": null,
            "padding": null,
            "right": null,
            "top": null,
            "visibility": null,
            "width": null
          }
        },
        "f2e0427cbdbd462f91f5e6c59bc7db11": {
          "model_module": "@jupyter-widgets/controls",
          "model_name": "ProgressStyleModel",
          "model_module_version": "1.5.0",
          "state": {
            "_model_module": "@jupyter-widgets/controls",
            "_model_module_version": "1.5.0",
            "_model_name": "ProgressStyleModel",
            "_view_count": null,
            "_view_module": "@jupyter-widgets/base",
            "_view_module_version": "1.2.0",
            "_view_name": "StyleView",
            "bar_color": null,
            "description_width": ""
          }
        },
        "0e245dd75b1e4b5f81d5c31eec196ea2": {
          "model_module": "@jupyter-widgets/base",
          "model_name": "LayoutModel",
          "model_module_version": "1.2.0",
          "state": {
            "_model_module": "@jupyter-widgets/base",
            "_model_module_version": "1.2.0",
            "_model_name": "LayoutModel",
            "_view_count": null,
            "_view_module": "@jupyter-widgets/base",
            "_view_module_version": "1.2.0",
            "_view_name": "LayoutView",
            "align_content": null,
            "align_items": null,
            "align_self": null,
            "border": null,
            "bottom": null,
            "display": null,
            "flex": null,
            "flex_flow": null,
            "grid_area": null,
            "grid_auto_columns": null,
            "grid_auto_flow": null,
            "grid_auto_rows": null,
            "grid_column": null,
            "grid_gap": null,
            "grid_row": null,
            "grid_template_areas": null,
            "grid_template_columns": null,
            "grid_template_rows": null,
            "height": null,
            "justify_content": null,
            "justify_items": null,
            "left": null,
            "margin": null,
            "max_height": null,
            "max_width": null,
            "min_height": null,
            "min_width": null,
            "object_fit": null,
            "object_position": null,
            "order": null,
            "overflow": null,
            "overflow_x": null,
            "overflow_y": null,
            "padding": null,
            "right": null,
            "top": null,
            "visibility": null,
            "width": null
          }
        },
        "2d19409e668d46d6840878d62749f55f": {
          "model_module": "@jupyter-widgets/controls",
          "model_name": "DescriptionStyleModel",
          "model_module_version": "1.5.0",
          "state": {
            "_model_module": "@jupyter-widgets/controls",
            "_model_module_version": "1.5.0",
            "_model_name": "DescriptionStyleModel",
            "_view_count": null,
            "_view_module": "@jupyter-widgets/base",
            "_view_module_version": "1.2.0",
            "_view_name": "StyleView",
            "description_width": ""
          }
        },
        "e67d263fa0a94473a094746635a9d5df": {
          "model_module": "@jupyter-widgets/controls",
          "model_name": "HBoxModel",
          "model_module_version": "1.5.0",
          "state": {
            "_dom_classes": [],
            "_model_module": "@jupyter-widgets/controls",
            "_model_module_version": "1.5.0",
            "_model_name": "HBoxModel",
            "_view_count": null,
            "_view_module": "@jupyter-widgets/controls",
            "_view_module_version": "1.5.0",
            "_view_name": "HBoxView",
            "box_style": "",
            "children": [
              "IPY_MODEL_be3d6d41dc4f4514aecfb28db9a7496a",
              "IPY_MODEL_68f33c271df546fea2d121f588a85512",
              "IPY_MODEL_53d44bc9ea6e49a986d5fb85c0a724b8"
            ],
            "layout": "IPY_MODEL_3c5e047feb574bd59843b3b32095d230"
          }
        },
        "be3d6d41dc4f4514aecfb28db9a7496a": {
          "model_module": "@jupyter-widgets/controls",
          "model_name": "HTMLModel",
          "model_module_version": "1.5.0",
          "state": {
            "_dom_classes": [],
            "_model_module": "@jupyter-widgets/controls",
            "_model_module_version": "1.5.0",
            "_model_name": "HTMLModel",
            "_view_count": null,
            "_view_module": "@jupyter-widgets/controls",
            "_view_module_version": "1.5.0",
            "_view_name": "HTMLView",
            "description": "",
            "description_tooltip": null,
            "layout": "IPY_MODEL_1cb8391d630740628726afcf337e26bf",
            "placeholder": "​",
            "style": "IPY_MODEL_c7317b9cc4f845b7a7c5c69fdc493562",
            "value": "tokenizer.json: 100%"
          }
        },
        "68f33c271df546fea2d121f588a85512": {
          "model_module": "@jupyter-widgets/controls",
          "model_name": "FloatProgressModel",
          "model_module_version": "1.5.0",
          "state": {
            "_dom_classes": [],
            "_model_module": "@jupyter-widgets/controls",
            "_model_module_version": "1.5.0",
            "_model_name": "FloatProgressModel",
            "_view_count": null,
            "_view_module": "@jupyter-widgets/controls",
            "_view_module_version": "1.5.0",
            "_view_name": "ProgressView",
            "bar_style": "success",
            "description": "",
            "description_tooltip": null,
            "layout": "IPY_MODEL_641ca86a133f4882b58356bb666cef9a",
            "max": 1356047,
            "min": 0,
            "orientation": "horizontal",
            "style": "IPY_MODEL_131e62c846d048928b25a635848c9fb2",
            "value": 1356047
          }
        },
        "53d44bc9ea6e49a986d5fb85c0a724b8": {
          "model_module": "@jupyter-widgets/controls",
          "model_name": "HTMLModel",
          "model_module_version": "1.5.0",
          "state": {
            "_dom_classes": [],
            "_model_module": "@jupyter-widgets/controls",
            "_model_module_version": "1.5.0",
            "_model_name": "HTMLModel",
            "_view_count": null,
            "_view_module": "@jupyter-widgets/controls",
            "_view_module_version": "1.5.0",
            "_view_name": "HTMLView",
            "description": "",
            "description_tooltip": null,
            "layout": "IPY_MODEL_3d96d1e47e4745dd8c713f8a6b41338b",
            "placeholder": "​",
            "style": "IPY_MODEL_ccbfa9401875478d9b445d1f4f249f21",
            "value": " 1.36M/1.36M [00:00&lt;00:00, 9.63MB/s]"
          }
        },
        "3c5e047feb574bd59843b3b32095d230": {
          "model_module": "@jupyter-widgets/base",
          "model_name": "LayoutModel",
          "model_module_version": "1.2.0",
          "state": {
            "_model_module": "@jupyter-widgets/base",
            "_model_module_version": "1.2.0",
            "_model_name": "LayoutModel",
            "_view_count": null,
            "_view_module": "@jupyter-widgets/base",
            "_view_module_version": "1.2.0",
            "_view_name": "LayoutView",
            "align_content": null,
            "align_items": null,
            "align_self": null,
            "border": null,
            "bottom": null,
            "display": null,
            "flex": null,
            "flex_flow": null,
            "grid_area": null,
            "grid_auto_columns": null,
            "grid_auto_flow": null,
            "grid_auto_rows": null,
            "grid_column": null,
            "grid_gap": null,
            "grid_row": null,
            "grid_template_areas": null,
            "grid_template_columns": null,
            "grid_template_rows": null,
            "height": null,
            "justify_content": null,
            "justify_items": null,
            "left": null,
            "margin": null,
            "max_height": null,
            "max_width": null,
            "min_height": null,
            "min_width": null,
            "object_fit": null,
            "object_position": null,
            "order": null,
            "overflow": null,
            "overflow_x": null,
            "overflow_y": null,
            "padding": null,
            "right": null,
            "top": null,
            "visibility": null,
            "width": null
          }
        },
        "1cb8391d630740628726afcf337e26bf": {
          "model_module": "@jupyter-widgets/base",
          "model_name": "LayoutModel",
          "model_module_version": "1.2.0",
          "state": {
            "_model_module": "@jupyter-widgets/base",
            "_model_module_version": "1.2.0",
            "_model_name": "LayoutModel",
            "_view_count": null,
            "_view_module": "@jupyter-widgets/base",
            "_view_module_version": "1.2.0",
            "_view_name": "LayoutView",
            "align_content": null,
            "align_items": null,
            "align_self": null,
            "border": null,
            "bottom": null,
            "display": null,
            "flex": null,
            "flex_flow": null,
            "grid_area": null,
            "grid_auto_columns": null,
            "grid_auto_flow": null,
            "grid_auto_rows": null,
            "grid_column": null,
            "grid_gap": null,
            "grid_row": null,
            "grid_template_areas": null,
            "grid_template_columns": null,
            "grid_template_rows": null,
            "height": null,
            "justify_content": null,
            "justify_items": null,
            "left": null,
            "margin": null,
            "max_height": null,
            "max_width": null,
            "min_height": null,
            "min_width": null,
            "object_fit": null,
            "object_position": null,
            "order": null,
            "overflow": null,
            "overflow_x": null,
            "overflow_y": null,
            "padding": null,
            "right": null,
            "top": null,
            "visibility": null,
            "width": null
          }
        },
        "c7317b9cc4f845b7a7c5c69fdc493562": {
          "model_module": "@jupyter-widgets/controls",
          "model_name": "DescriptionStyleModel",
          "model_module_version": "1.5.0",
          "state": {
            "_model_module": "@jupyter-widgets/controls",
            "_model_module_version": "1.5.0",
            "_model_name": "DescriptionStyleModel",
            "_view_count": null,
            "_view_module": "@jupyter-widgets/base",
            "_view_module_version": "1.2.0",
            "_view_name": "StyleView",
            "description_width": ""
          }
        },
        "641ca86a133f4882b58356bb666cef9a": {
          "model_module": "@jupyter-widgets/base",
          "model_name": "LayoutModel",
          "model_module_version": "1.2.0",
          "state": {
            "_model_module": "@jupyter-widgets/base",
            "_model_module_version": "1.2.0",
            "_model_name": "LayoutModel",
            "_view_count": null,
            "_view_module": "@jupyter-widgets/base",
            "_view_module_version": "1.2.0",
            "_view_name": "LayoutView",
            "align_content": null,
            "align_items": null,
            "align_self": null,
            "border": null,
            "bottom": null,
            "display": null,
            "flex": null,
            "flex_flow": null,
            "grid_area": null,
            "grid_auto_columns": null,
            "grid_auto_flow": null,
            "grid_auto_rows": null,
            "grid_column": null,
            "grid_gap": null,
            "grid_row": null,
            "grid_template_areas": null,
            "grid_template_columns": null,
            "grid_template_rows": null,
            "height": null,
            "justify_content": null,
            "justify_items": null,
            "left": null,
            "margin": null,
            "max_height": null,
            "max_width": null,
            "min_height": null,
            "min_width": null,
            "object_fit": null,
            "object_position": null,
            "order": null,
            "overflow": null,
            "overflow_x": null,
            "overflow_y": null,
            "padding": null,
            "right": null,
            "top": null,
            "visibility": null,
            "width": null
          }
        },
        "131e62c846d048928b25a635848c9fb2": {
          "model_module": "@jupyter-widgets/controls",
          "model_name": "ProgressStyleModel",
          "model_module_version": "1.5.0",
          "state": {
            "_model_module": "@jupyter-widgets/controls",
            "_model_module_version": "1.5.0",
            "_model_name": "ProgressStyleModel",
            "_view_count": null,
            "_view_module": "@jupyter-widgets/base",
            "_view_module_version": "1.2.0",
            "_view_name": "StyleView",
            "bar_color": null,
            "description_width": ""
          }
        },
        "3d96d1e47e4745dd8c713f8a6b41338b": {
          "model_module": "@jupyter-widgets/base",
          "model_name": "LayoutModel",
          "model_module_version": "1.2.0",
          "state": {
            "_model_module": "@jupyter-widgets/base",
            "_model_module_version": "1.2.0",
            "_model_name": "LayoutModel",
            "_view_count": null,
            "_view_module": "@jupyter-widgets/base",
            "_view_module_version": "1.2.0",
            "_view_name": "LayoutView",
            "align_content": null,
            "align_items": null,
            "align_self": null,
            "border": null,
            "bottom": null,
            "display": null,
            "flex": null,
            "flex_flow": null,
            "grid_area": null,
            "grid_auto_columns": null,
            "grid_auto_flow": null,
            "grid_auto_rows": null,
            "grid_column": null,
            "grid_gap": null,
            "grid_row": null,
            "grid_template_areas": null,
            "grid_template_columns": null,
            "grid_template_rows": null,
            "height": null,
            "justify_content": null,
            "justify_items": null,
            "left": null,
            "margin": null,
            "max_height": null,
            "max_width": null,
            "min_height": null,
            "min_width": null,
            "object_fit": null,
            "object_position": null,
            "order": null,
            "overflow": null,
            "overflow_x": null,
            "overflow_y": null,
            "padding": null,
            "right": null,
            "top": null,
            "visibility": null,
            "width": null
          }
        },
        "ccbfa9401875478d9b445d1f4f249f21": {
          "model_module": "@jupyter-widgets/controls",
          "model_name": "DescriptionStyleModel",
          "model_module_version": "1.5.0",
          "state": {
            "_model_module": "@jupyter-widgets/controls",
            "_model_module_version": "1.5.0",
            "_model_name": "DescriptionStyleModel",
            "_view_count": null,
            "_view_module": "@jupyter-widgets/base",
            "_view_module_version": "1.2.0",
            "_view_name": "StyleView",
            "description_width": ""
          }
        },
        "7114709fe402409db8368f8c6e8ca94f": {
          "model_module": "@jupyter-widgets/controls",
          "model_name": "HBoxModel",
          "model_module_version": "1.5.0",
          "state": {
            "_dom_classes": [],
            "_model_module": "@jupyter-widgets/controls",
            "_model_module_version": "1.5.0",
            "_model_name": "HBoxModel",
            "_view_count": null,
            "_view_module": "@jupyter-widgets/controls",
            "_view_module_version": "1.5.0",
            "_view_name": "HBoxView",
            "box_style": "",
            "children": [
              "IPY_MODEL_83de0b55d56f487b880e8a60e9d70fb0",
              "IPY_MODEL_05b136815066420cb59fcc928f177a30",
              "IPY_MODEL_838c52d3bb654b57b8c7aa57e45f2cd6"
            ],
            "layout": "IPY_MODEL_988a22b967e84993b9c2c8b76b377406"
          }
        },
        "83de0b55d56f487b880e8a60e9d70fb0": {
          "model_module": "@jupyter-widgets/controls",
          "model_name": "HTMLModel",
          "model_module_version": "1.5.0",
          "state": {
            "_dom_classes": [],
            "_model_module": "@jupyter-widgets/controls",
            "_model_module_version": "1.5.0",
            "_model_name": "HTMLModel",
            "_view_count": null,
            "_view_module": "@jupyter-widgets/controls",
            "_view_module_version": "1.5.0",
            "_view_name": "HTMLView",
            "description": "",
            "description_tooltip": null,
            "layout": "IPY_MODEL_909d3e5af2ca4039b1b96e1ea3b2bf3c",
            "placeholder": "​",
            "style": "IPY_MODEL_85e95d77cffe4fd3b7ea96782c96ec72",
            "value": "model.safetensors: 100%"
          }
        },
        "05b136815066420cb59fcc928f177a30": {
          "model_module": "@jupyter-widgets/controls",
          "model_name": "FloatProgressModel",
          "model_module_version": "1.5.0",
          "state": {
            "_dom_classes": [],
            "_model_module": "@jupyter-widgets/controls",
            "_model_module_version": "1.5.0",
            "_model_name": "FloatProgressModel",
            "_view_count": null,
            "_view_module": "@jupyter-widgets/controls",
            "_view_module_version": "1.5.0",
            "_view_name": "ProgressView",
            "bar_style": "success",
            "description": "",
            "description_tooltip": null,
            "layout": "IPY_MODEL_22d7847b3ff34adcb2482e1d92cd20fd",
            "max": 328511860,
            "min": 0,
            "orientation": "horizontal",
            "style": "IPY_MODEL_4da0a7a7cc95486189cbcb889625e5ee",
            "value": 328511860
          }
        },
        "838c52d3bb654b57b8c7aa57e45f2cd6": {
          "model_module": "@jupyter-widgets/controls",
          "model_name": "HTMLModel",
          "model_module_version": "1.5.0",
          "state": {
            "_dom_classes": [],
            "_model_module": "@jupyter-widgets/controls",
            "_model_module_version": "1.5.0",
            "_model_name": "HTMLModel",
            "_view_count": null,
            "_view_module": "@jupyter-widgets/controls",
            "_view_module_version": "1.5.0",
            "_view_name": "HTMLView",
            "description": "",
            "description_tooltip": null,
            "layout": "IPY_MODEL_7d4be4bf5ee148babd7c80f27af13fdc",
            "placeholder": "​",
            "style": "IPY_MODEL_ad8e9757462a4db8b66da8fa3fbedcd2",
            "value": " 329M/329M [00:03&lt;00:00, 173MB/s]"
          }
        },
        "988a22b967e84993b9c2c8b76b377406": {
          "model_module": "@jupyter-widgets/base",
          "model_name": "LayoutModel",
          "model_module_version": "1.2.0",
          "state": {
            "_model_module": "@jupyter-widgets/base",
            "_model_module_version": "1.2.0",
            "_model_name": "LayoutModel",
            "_view_count": null,
            "_view_module": "@jupyter-widgets/base",
            "_view_module_version": "1.2.0",
            "_view_name": "LayoutView",
            "align_content": null,
            "align_items": null,
            "align_self": null,
            "border": null,
            "bottom": null,
            "display": null,
            "flex": null,
            "flex_flow": null,
            "grid_area": null,
            "grid_auto_columns": null,
            "grid_auto_flow": null,
            "grid_auto_rows": null,
            "grid_column": null,
            "grid_gap": null,
            "grid_row": null,
            "grid_template_areas": null,
            "grid_template_columns": null,
            "grid_template_rows": null,
            "height": null,
            "justify_content": null,
            "justify_items": null,
            "left": null,
            "margin": null,
            "max_height": null,
            "max_width": null,
            "min_height": null,
            "min_width": null,
            "object_fit": null,
            "object_position": null,
            "order": null,
            "overflow": null,
            "overflow_x": null,
            "overflow_y": null,
            "padding": null,
            "right": null,
            "top": null,
            "visibility": null,
            "width": null
          }
        },
        "909d3e5af2ca4039b1b96e1ea3b2bf3c": {
          "model_module": "@jupyter-widgets/base",
          "model_name": "LayoutModel",
          "model_module_version": "1.2.0",
          "state": {
            "_model_module": "@jupyter-widgets/base",
            "_model_module_version": "1.2.0",
            "_model_name": "LayoutModel",
            "_view_count": null,
            "_view_module": "@jupyter-widgets/base",
            "_view_module_version": "1.2.0",
            "_view_name": "LayoutView",
            "align_content": null,
            "align_items": null,
            "align_self": null,
            "border": null,
            "bottom": null,
            "display": null,
            "flex": null,
            "flex_flow": null,
            "grid_area": null,
            "grid_auto_columns": null,
            "grid_auto_flow": null,
            "grid_auto_rows": null,
            "grid_column": null,
            "grid_gap": null,
            "grid_row": null,
            "grid_template_areas": null,
            "grid_template_columns": null,
            "grid_template_rows": null,
            "height": null,
            "justify_content": null,
            "justify_items": null,
            "left": null,
            "margin": null,
            "max_height": null,
            "max_width": null,
            "min_height": null,
            "min_width": null,
            "object_fit": null,
            "object_position": null,
            "order": null,
            "overflow": null,
            "overflow_x": null,
            "overflow_y": null,
            "padding": null,
            "right": null,
            "top": null,
            "visibility": null,
            "width": null
          }
        },
        "85e95d77cffe4fd3b7ea96782c96ec72": {
          "model_module": "@jupyter-widgets/controls",
          "model_name": "DescriptionStyleModel",
          "model_module_version": "1.5.0",
          "state": {
            "_model_module": "@jupyter-widgets/controls",
            "_model_module_version": "1.5.0",
            "_model_name": "DescriptionStyleModel",
            "_view_count": null,
            "_view_module": "@jupyter-widgets/base",
            "_view_module_version": "1.2.0",
            "_view_name": "StyleView",
            "description_width": ""
          }
        },
        "22d7847b3ff34adcb2482e1d92cd20fd": {
          "model_module": "@jupyter-widgets/base",
          "model_name": "LayoutModel",
          "model_module_version": "1.2.0",
          "state": {
            "_model_module": "@jupyter-widgets/base",
            "_model_module_version": "1.2.0",
            "_model_name": "LayoutModel",
            "_view_count": null,
            "_view_module": "@jupyter-widgets/base",
            "_view_module_version": "1.2.0",
            "_view_name": "LayoutView",
            "align_content": null,
            "align_items": null,
            "align_self": null,
            "border": null,
            "bottom": null,
            "display": null,
            "flex": null,
            "flex_flow": null,
            "grid_area": null,
            "grid_auto_columns": null,
            "grid_auto_flow": null,
            "grid_auto_rows": null,
            "grid_column": null,
            "grid_gap": null,
            "grid_row": null,
            "grid_template_areas": null,
            "grid_template_columns": null,
            "grid_template_rows": null,
            "height": null,
            "justify_content": null,
            "justify_items": null,
            "left": null,
            "margin": null,
            "max_height": null,
            "max_width": null,
            "min_height": null,
            "min_width": null,
            "object_fit": null,
            "object_position": null,
            "order": null,
            "overflow": null,
            "overflow_x": null,
            "overflow_y": null,
            "padding": null,
            "right": null,
            "top": null,
            "visibility": null,
            "width": null
          }
        },
        "4da0a7a7cc95486189cbcb889625e5ee": {
          "model_module": "@jupyter-widgets/controls",
          "model_name": "ProgressStyleModel",
          "model_module_version": "1.5.0",
          "state": {
            "_model_module": "@jupyter-widgets/controls",
            "_model_module_version": "1.5.0",
            "_model_name": "ProgressStyleModel",
            "_view_count": null,
            "_view_module": "@jupyter-widgets/base",
            "_view_module_version": "1.2.0",
            "_view_name": "StyleView",
            "bar_color": null,
            "description_width": ""
          }
        },
        "7d4be4bf5ee148babd7c80f27af13fdc": {
          "model_module": "@jupyter-widgets/base",
          "model_name": "LayoutModel",
          "model_module_version": "1.2.0",
          "state": {
            "_model_module": "@jupyter-widgets/base",
            "_model_module_version": "1.2.0",
            "_model_name": "LayoutModel",
            "_view_count": null,
            "_view_module": "@jupyter-widgets/base",
            "_view_module_version": "1.2.0",
            "_view_name": "LayoutView",
            "align_content": null,
            "align_items": null,
            "align_self": null,
            "border": null,
            "bottom": null,
            "display": null,
            "flex": null,
            "flex_flow": null,
            "grid_area": null,
            "grid_auto_columns": null,
            "grid_auto_flow": null,
            "grid_auto_rows": null,
            "grid_column": null,
            "grid_gap": null,
            "grid_row": null,
            "grid_template_areas": null,
            "grid_template_columns": null,
            "grid_template_rows": null,
            "height": null,
            "justify_content": null,
            "justify_items": null,
            "left": null,
            "margin": null,
            "max_height": null,
            "max_width": null,
            "min_height": null,
            "min_width": null,
            "object_fit": null,
            "object_position": null,
            "order": null,
            "overflow": null,
            "overflow_x": null,
            "overflow_y": null,
            "padding": null,
            "right": null,
            "top": null,
            "visibility": null,
            "width": null
          }
        },
        "ad8e9757462a4db8b66da8fa3fbedcd2": {
          "model_module": "@jupyter-widgets/controls",
          "model_name": "DescriptionStyleModel",
          "model_module_version": "1.5.0",
          "state": {
            "_model_module": "@jupyter-widgets/controls",
            "_model_module_version": "1.5.0",
            "_model_name": "DescriptionStyleModel",
            "_view_count": null,
            "_view_module": "@jupyter-widgets/base",
            "_view_module_version": "1.2.0",
            "_view_name": "StyleView",
            "description_width": ""
          }
        },
        "a8c21aa74e0945de8c674c8514baa049": {
          "model_module": "@jupyter-widgets/controls",
          "model_name": "HBoxModel",
          "model_module_version": "1.5.0",
          "state": {
            "_dom_classes": [],
            "_model_module": "@jupyter-widgets/controls",
            "_model_module_version": "1.5.0",
            "_model_name": "HBoxModel",
            "_view_count": null,
            "_view_module": "@jupyter-widgets/controls",
            "_view_module_version": "1.5.0",
            "_view_name": "HBoxView",
            "box_style": "",
            "children": [
              "IPY_MODEL_96fa6aa0e27049778162dd81d7796868",
              "IPY_MODEL_4ce3301d6a174951843855e465019c58",
              "IPY_MODEL_8aa61d9d12e04c16af62e87c0c3f4f2e"
            ],
            "layout": "IPY_MODEL_86a9ee38062a424e97ada422d8a3b2ae"
          }
        },
        "96fa6aa0e27049778162dd81d7796868": {
          "model_module": "@jupyter-widgets/controls",
          "model_name": "HTMLModel",
          "model_module_version": "1.5.0",
          "state": {
            "_dom_classes": [],
            "_model_module": "@jupyter-widgets/controls",
            "_model_module_version": "1.5.0",
            "_model_name": "HTMLModel",
            "_view_count": null,
            "_view_module": "@jupyter-widgets/controls",
            "_view_module_version": "1.5.0",
            "_view_name": "HTMLView",
            "description": "",
            "description_tooltip": null,
            "layout": "IPY_MODEL_3c92b33fb3324ddb9e5d45920c08e632",
            "placeholder": "​",
            "style": "IPY_MODEL_d26cd535c0b34231a2f78e0bce1d2cf5",
            "value": "special_tokens_map.json: 100%"
          }
        },
        "4ce3301d6a174951843855e465019c58": {
          "model_module": "@jupyter-widgets/controls",
          "model_name": "FloatProgressModel",
          "model_module_version": "1.5.0",
          "state": {
            "_dom_classes": [],
            "_model_module": "@jupyter-widgets/controls",
            "_model_module_version": "1.5.0",
            "_model_name": "FloatProgressModel",
            "_view_count": null,
            "_view_module": "@jupyter-widgets/controls",
            "_view_module_version": "1.5.0",
            "_view_name": "ProgressView",
            "bar_style": "success",
            "description": "",
            "description_tooltip": null,
            "layout": "IPY_MODEL_e96a687bfa9645cea8b02aa9faa686f0",
            "max": 239,
            "min": 0,
            "orientation": "horizontal",
            "style": "IPY_MODEL_623e1ef71c4c419cbaba9fc50ad72411",
            "value": 239
          }
        },
        "8aa61d9d12e04c16af62e87c0c3f4f2e": {
          "model_module": "@jupyter-widgets/controls",
          "model_name": "HTMLModel",
          "model_module_version": "1.5.0",
          "state": {
            "_dom_classes": [],
            "_model_module": "@jupyter-widgets/controls",
            "_model_module_version": "1.5.0",
            "_model_name": "HTMLModel",
            "_view_count": null,
            "_view_module": "@jupyter-widgets/controls",
            "_view_module_version": "1.5.0",
            "_view_name": "HTMLView",
            "description": "",
            "description_tooltip": null,
            "layout": "IPY_MODEL_7477942e580345f99e440a8fdb81e913",
            "placeholder": "​",
            "style": "IPY_MODEL_c4513a29e88a4c65a0a2436d17cac432",
            "value": " 239/239 [00:00&lt;00:00, 13.6kB/s]"
          }
        },
        "86a9ee38062a424e97ada422d8a3b2ae": {
          "model_module": "@jupyter-widgets/base",
          "model_name": "LayoutModel",
          "model_module_version": "1.2.0",
          "state": {
            "_model_module": "@jupyter-widgets/base",
            "_model_module_version": "1.2.0",
            "_model_name": "LayoutModel",
            "_view_count": null,
            "_view_module": "@jupyter-widgets/base",
            "_view_module_version": "1.2.0",
            "_view_name": "LayoutView",
            "align_content": null,
            "align_items": null,
            "align_self": null,
            "border": null,
            "bottom": null,
            "display": null,
            "flex": null,
            "flex_flow": null,
            "grid_area": null,
            "grid_auto_columns": null,
            "grid_auto_flow": null,
            "grid_auto_rows": null,
            "grid_column": null,
            "grid_gap": null,
            "grid_row": null,
            "grid_template_areas": null,
            "grid_template_columns": null,
            "grid_template_rows": null,
            "height": null,
            "justify_content": null,
            "justify_items": null,
            "left": null,
            "margin": null,
            "max_height": null,
            "max_width": null,
            "min_height": null,
            "min_width": null,
            "object_fit": null,
            "object_position": null,
            "order": null,
            "overflow": null,
            "overflow_x": null,
            "overflow_y": null,
            "padding": null,
            "right": null,
            "top": null,
            "visibility": null,
            "width": null
          }
        },
        "3c92b33fb3324ddb9e5d45920c08e632": {
          "model_module": "@jupyter-widgets/base",
          "model_name": "LayoutModel",
          "model_module_version": "1.2.0",
          "state": {
            "_model_module": "@jupyter-widgets/base",
            "_model_module_version": "1.2.0",
            "_model_name": "LayoutModel",
            "_view_count": null,
            "_view_module": "@jupyter-widgets/base",
            "_view_module_version": "1.2.0",
            "_view_name": "LayoutView",
            "align_content": null,
            "align_items": null,
            "align_self": null,
            "border": null,
            "bottom": null,
            "display": null,
            "flex": null,
            "flex_flow": null,
            "grid_area": null,
            "grid_auto_columns": null,
            "grid_auto_flow": null,
            "grid_auto_rows": null,
            "grid_column": null,
            "grid_gap": null,
            "grid_row": null,
            "grid_template_areas": null,
            "grid_template_columns": null,
            "grid_template_rows": null,
            "height": null,
            "justify_content": null,
            "justify_items": null,
            "left": null,
            "margin": null,
            "max_height": null,
            "max_width": null,
            "min_height": null,
            "min_width": null,
            "object_fit": null,
            "object_position": null,
            "order": null,
            "overflow": null,
            "overflow_x": null,
            "overflow_y": null,
            "padding": null,
            "right": null,
            "top": null,
            "visibility": null,
            "width": null
          }
        },
        "d26cd535c0b34231a2f78e0bce1d2cf5": {
          "model_module": "@jupyter-widgets/controls",
          "model_name": "DescriptionStyleModel",
          "model_module_version": "1.5.0",
          "state": {
            "_model_module": "@jupyter-widgets/controls",
            "_model_module_version": "1.5.0",
            "_model_name": "DescriptionStyleModel",
            "_view_count": null,
            "_view_module": "@jupyter-widgets/base",
            "_view_module_version": "1.2.0",
            "_view_name": "StyleView",
            "description_width": ""
          }
        },
        "e96a687bfa9645cea8b02aa9faa686f0": {
          "model_module": "@jupyter-widgets/base",
          "model_name": "LayoutModel",
          "model_module_version": "1.2.0",
          "state": {
            "_model_module": "@jupyter-widgets/base",
            "_model_module_version": "1.2.0",
            "_model_name": "LayoutModel",
            "_view_count": null,
            "_view_module": "@jupyter-widgets/base",
            "_view_module_version": "1.2.0",
            "_view_name": "LayoutView",
            "align_content": null,
            "align_items": null,
            "align_self": null,
            "border": null,
            "bottom": null,
            "display": null,
            "flex": null,
            "flex_flow": null,
            "grid_area": null,
            "grid_auto_columns": null,
            "grid_auto_flow": null,
            "grid_auto_rows": null,
            "grid_column": null,
            "grid_gap": null,
            "grid_row": null,
            "grid_template_areas": null,
            "grid_template_columns": null,
            "grid_template_rows": null,
            "height": null,
            "justify_content": null,
            "justify_items": null,
            "left": null,
            "margin": null,
            "max_height": null,
            "max_width": null,
            "min_height": null,
            "min_width": null,
            "object_fit": null,
            "object_position": null,
            "order": null,
            "overflow": null,
            "overflow_x": null,
            "overflow_y": null,
            "padding": null,
            "right": null,
            "top": null,
            "visibility": null,
            "width": null
          }
        },
        "623e1ef71c4c419cbaba9fc50ad72411": {
          "model_module": "@jupyter-widgets/controls",
          "model_name": "ProgressStyleModel",
          "model_module_version": "1.5.0",
          "state": {
            "_model_module": "@jupyter-widgets/controls",
            "_model_module_version": "1.5.0",
            "_model_name": "ProgressStyleModel",
            "_view_count": null,
            "_view_module": "@jupyter-widgets/base",
            "_view_module_version": "1.2.0",
            "_view_name": "StyleView",
            "bar_color": null,
            "description_width": ""
          }
        },
        "7477942e580345f99e440a8fdb81e913": {
          "model_module": "@jupyter-widgets/base",
          "model_name": "LayoutModel",
          "model_module_version": "1.2.0",
          "state": {
            "_model_module": "@jupyter-widgets/base",
            "_model_module_version": "1.2.0",
            "_model_name": "LayoutModel",
            "_view_count": null,
            "_view_module": "@jupyter-widgets/base",
            "_view_module_version": "1.2.0",
            "_view_name": "LayoutView",
            "align_content": null,
            "align_items": null,
            "align_self": null,
            "border": null,
            "bottom": null,
            "display": null,
            "flex": null,
            "flex_flow": null,
            "grid_area": null,
            "grid_auto_columns": null,
            "grid_auto_flow": null,
            "grid_auto_rows": null,
            "grid_column": null,
            "grid_gap": null,
            "grid_row": null,
            "grid_template_areas": null,
            "grid_template_columns": null,
            "grid_template_rows": null,
            "height": null,
            "justify_content": null,
            "justify_items": null,
            "left": null,
            "margin": null,
            "max_height": null,
            "max_width": null,
            "min_height": null,
            "min_width": null,
            "object_fit": null,
            "object_position": null,
            "order": null,
            "overflow": null,
            "overflow_x": null,
            "overflow_y": null,
            "padding": null,
            "right": null,
            "top": null,
            "visibility": null,
            "width": null
          }
        },
        "c4513a29e88a4c65a0a2436d17cac432": {
          "model_module": "@jupyter-widgets/controls",
          "model_name": "DescriptionStyleModel",
          "model_module_version": "1.5.0",
          "state": {
            "_model_module": "@jupyter-widgets/controls",
            "_model_module_version": "1.5.0",
            "_model_name": "DescriptionStyleModel",
            "_view_count": null,
            "_view_module": "@jupyter-widgets/base",
            "_view_module_version": "1.2.0",
            "_view_name": "StyleView",
            "description_width": ""
          }
        }
      }
    }
  },
  "nbformat": 4,
  "nbformat_minor": 0
}