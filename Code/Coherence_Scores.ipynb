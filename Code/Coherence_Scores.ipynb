{
  "nbformat": 4,
  "nbformat_minor": 0,
  "metadata": {
    "colab": {
      "provenance": [],
      "gpuType": "T4",
      "collapsed_sections": [
        "8pSmRqHN7x17",
        "1CfOvo7F8-WL",
        "NkqfI0hEEa2c",
        "zck0WiV9HRhk"
      ]
    },
    "kernelspec": {
      "name": "python3",
      "display_name": "Python 3"
    },
    "language_info": {
      "name": "python"
    },
    "accelerator": "GPU"
  },
  "cells": [
    {
      "cell_type": "markdown",
      "source": [
        "# Getting started with CoAuthor\n",
        "\n",
        "**Goal: Download and read the CoAuthor dataset**\n",
        "\n",
        "Steps\n",
        "1. Download CoAuthor\n",
        "2. Read writing sessions\n",
        "3. Examine events"
      ],
      "metadata": {
        "id": "0jtXvigD7-eo"
      }
    },
    {
      "cell_type": "markdown",
      "source": [
        "## 1. Download CoAuthor"
      ],
      "metadata": {
        "id": "8pSmRqHN7x17"
      }
    },
    {
      "cell_type": "code",
      "execution_count": 2,
      "metadata": {
        "colab": {
          "base_uri": "https://localhost:8080/",
          "height": 0
        },
        "id": "m2h26ije5zUn",
        "outputId": "fe76147b-aa5e-4e52-983e-064d8da395ea"
      },
      "outputs": [
        {
          "output_type": "stream",
          "name": "stdout",
          "text": [
            "--2025-02-26 20:43:35--  https://cs.stanford.edu/~minalee/zip/chi2022-coauthor-v1.0.zip\n",
            "Resolving cs.stanford.edu (cs.stanford.edu)... 171.64.64.64\n",
            "Connecting to cs.stanford.edu (cs.stanford.edu)|171.64.64.64|:443... connected.\n",
            "HTTP request sent, awaiting response... 200 OK\n",
            "Length: 49956179 (48M) [application/zip]\n",
            "Saving to: ‘chi2022-coauthor-v1.0.zip’\n",
            "\n",
            "chi2022-coauthor-v1 100%[===================>]  47.64M  37.6MB/s    in 1.3s    \n",
            "\n",
            "2025-02-26 20:43:37 (37.6 MB/s) - ‘chi2022-coauthor-v1.0.zip’ saved [49956179/49956179]\n",
            "\n",
            "replace coauthor-v1.0/e0435f4cf6fc435c872ffc5b66b66b0c.jsonl? [y]es, [n]o, [A]ll, [N]one, [r]ename: N\n"
          ]
        }
      ],
      "source": [
        "!wget https://cs.stanford.edu/~minalee/zip/chi2022-coauthor-v1.0.zip\n",
        "!unzip -q chi2022-coauthor-v1.0.zip\n",
        "!rm chi2022-coauthor-v1.0.zip"
      ]
    },
    {
      "cell_type": "code",
      "source": [
        "import os\n",
        "\n",
        "dataset_dir = './coauthor-v1.0'\n",
        "paths = [\n",
        "    os.path.join(dataset_dir, path)\n",
        "    for path in os.listdir(dataset_dir)\n",
        "    if path.endswith('jsonl')\n",
        "]\n",
        "\n",
        "print(f'Successfully downloaded {len(paths)} writing sessions in CoAuthor!')"
      ],
      "metadata": {
        "id": "iVR7YkzF6U3u",
        "colab": {
          "base_uri": "https://localhost:8080/",
          "height": 0
        },
        "outputId": "faeae0d3-83dc-4b49-f0d7-dd1a1898eb9b"
      },
      "execution_count": 3,
      "outputs": [
        {
          "output_type": "stream",
          "name": "stdout",
          "text": [
            "Successfully downloaded 1447 writing sessions in CoAuthor!\n"
          ]
        }
      ]
    },
    {
      "cell_type": "markdown",
      "source": [
        "## 2. Read writing sessions\n",
        "\n",
        "Each writing session is saved as a `.jsonl` file in CoAuthor.\n",
        "It is a very convenient format to store events occured in the writing session: each line is a JSON object, representing an *event*, and there are many lines in the file, representing *a sequence of events*.\n",
        "\n",
        "Let's read one of the files and see what it looks like!\n",
        "\n",
        "> `.jsonl` is the JSON Lines text format. It is convenient for storing structured data that may be processed one record at a time. For more information, please refer to https://jsonlines.org/."
      ],
      "metadata": {
        "id": "1CfOvo7F8-WL"
      }
    },
    {
      "cell_type": "code",
      "source": [
        "import json\n",
        "\n",
        "def read_writing_session(path):\n",
        "    events = []\n",
        "    with open(path, 'r') as f:\n",
        "        for event in f:\n",
        "            events.append(json.loads(event))\n",
        "    print(f'Successfully read {len(events)} events in a writing session from {path}')\n",
        "    return events"
      ],
      "metadata": {
        "id": "VGRDy9u07CHR"
      },
      "execution_count": 4,
      "outputs": []
    },
    {
      "cell_type": "code",
      "source": [
        "events = read_writing_session(paths[0])"
      ],
      "metadata": {
        "id": "zzOzptPNC7oC",
        "colab": {
          "base_uri": "https://localhost:8080/",
          "height": 0
        },
        "outputId": "9eb7fa8f-53f2-4710-bcdd-ef35c46412b5"
      },
      "execution_count": 5,
      "outputs": [
        {
          "output_type": "stream",
          "name": "stdout",
          "text": [
            "Successfully read 2405 events in a writing session from ./coauthor-v1.0/608e5b73341a4f3ca937316f99dae32d.jsonl\n"
          ]
        }
      ]
    },
    {
      "cell_type": "markdown",
      "source": [
        "## 3. Examine events"
      ],
      "metadata": {
        "id": "NkqfI0hEEa2c"
      }
    },
    {
      "cell_type": "markdown",
      "source": [
        "Whenever writers insert or delete text, move a cursor forward or backward, get suggestions from the system by pressing the tab key, or accept or dismiss suggestions, it is recorded as an event.\n",
        "\n",
        "> Here is a list of all possible events in CoAuthor:\n",
        "* `system-initialize`\n",
        "* `text-insert`\n",
        "* `text-delete`\n",
        "* `cursor-forward`\n",
        "* `cursor-backward`\n",
        "* `cursor-select`\n",
        "* `suggestion-get`\n",
        "* `suggestion-open`\n",
        "* `suggestion-up`\n",
        "* `suggestion-down`\n",
        "* `suggestion-select`\n",
        "* `suggestion-close`\n",
        "\n",
        "For more details, please check out our paper (Table 1): https://arxiv.org/pdf/2201.06796.pdf"
      ],
      "metadata": {
        "id": "oSEEy_bAGSD6"
      }
    },
    {
      "cell_type": "code",
      "source": [
        "event_names = [event['eventName'] for event in events]\n",
        "event_names[:15]"
      ],
      "metadata": {
        "id": "Pb16mGhXDXCS",
        "colab": {
          "base_uri": "https://localhost:8080/",
          "height": 0
        },
        "outputId": "66f1b2fd-f30f-4610-ecb1-c79a903f6b46"
      },
      "execution_count": 6,
      "outputs": [
        {
          "output_type": "execute_result",
          "data": {
            "text/plain": [
              "['system-initialize',\n",
              " 'text-insert',\n",
              " 'text-insert',\n",
              " 'text-delete',\n",
              " 'text-delete',\n",
              " 'text-insert',\n",
              " 'text-insert',\n",
              " 'text-insert',\n",
              " 'text-insert',\n",
              " 'text-insert',\n",
              " 'text-insert',\n",
              " 'text-insert',\n",
              " 'text-insert',\n",
              " 'text-insert',\n",
              " 'text-insert']"
            ]
          },
          "metadata": {},
          "execution_count": 6
        }
      ]
    },
    {
      "cell_type": "markdown",
      "source": [
        "Let's look at each *event* more closely now!\n",
        "\n",
        "In the beginning of a writing session, you will see something like this for a system-initialize event:"
      ],
      "metadata": {
        "id": "Gno1mjQiEvbG"
      }
    },
    {
      "cell_type": "code",
      "source": [
        "events[0]"
      ],
      "metadata": {
        "id": "DLxZJr4S7CJ9",
        "colab": {
          "base_uri": "https://localhost:8080/",
          "height": 0
        },
        "outputId": "fe1edb7c-64f8-42be-af6e-6752679f30e3"
      },
      "execution_count": 7,
      "outputs": [
        {
          "output_type": "execute_result",
          "data": {
            "text/plain": [
              "{'eventName': 'system-initialize',\n",
              " 'eventSource': 'api',\n",
              " 'eventTimestamp': 1630340187362,\n",
              " 'textDelta': '',\n",
              " 'cursorRange': '',\n",
              " 'currentDoc': \"Are We Being Bad Citizens If We Don't Keep Up With the News?\\n\\nIn your opinion, are we being bad citizens if we don't keep up with the news? Do you think all people have some responsibility to know what is going on in the world? Does engaging with current events actually do anything at all? Why do you think the way you do?\\n\\n---\\n\\nIn my opinion,\\n\",\n",
              " 'currentCursor': 344,\n",
              " 'currentSuggestions': [],\n",
              " 'currentSuggestionIndex': 0,\n",
              " 'currentHoverIndex': '',\n",
              " 'currentN': '5',\n",
              " 'currentMaxToken': '30',\n",
              " 'currentTemperature': '0.2',\n",
              " 'currentTopP': '1',\n",
              " 'currentPresencePenalty': '0',\n",
              " 'currentFrequencyPenalty': '0.5',\n",
              " 'eventNum': 0}"
            ]
          },
          "metadata": {},
          "execution_count": 7
        }
      ]
    },
    {
      "cell_type": "markdown",
      "source": [
        "Concretely, an *event* is a tuple of event name, timestamp, and snapshot of the current editor.\n",
        "This is designed to preserve every detail about interactions at a keystroke-level, so it is quite detailed as you can see!\n",
        "\n",
        "> **Event and its metadata**\n",
        "* `eventName`: event name (e.g. `system-initialize`)\n",
        "* `eventSource`: event source (e.g. `user` or `api`)\n",
        "* `textDelta`: text that has been changed compared to the previous event (if no change, empty)\n",
        "* `cursorRange`: cursor location or selection that has been changed compared to the previous event (if no change, empty)\n",
        "\n",
        "> **Timestamp**\n",
        "* `eventTimestamp`: timestamp of the event\n",
        "* `eventNum`: index of the event\n",
        "\n",
        "> **Snapshot of the current editor**\n",
        "* Editor\n",
        "  * `currentDoc`: a writing prompt to start with (otherwise, empty)\n",
        "  * `currentCursor`: cursor location\n",
        "  * `currentSuggestions`: most recent suggestions that are stored and can be reopened\n",
        "* Decoding parameters\n",
        "  * `currentN`: the number of suggestions to generate per query (e.g. 5)\n",
        "  * `currentMaxToken`: the maximum number of tokens to generate per suggestion\n",
        "  * `currentTemperature`: sampling temperature to use for generation; higher values means the model will take more risks\n",
        "  * `currentTopP`: nucleus sampling; the model considers the results of the tokens with top_p probability mass\n",
        "  * `currentPresencePenalty`: positive values penalize new tokens based on whether they appear in the text so far, increasing the model's likelihood to talk about new topics\n",
        "  * `currentFrequencyPenalty`: positive values penalize new tokens based on their existing frequency in the text so far, decreasing the model's likelihood to repeat the same line verbatim\n",
        "\n",
        "\n",
        "For more details on decoding parameters, please refer to https://beta.openai.com/docs/api-reference/completions."
      ],
      "metadata": {
        "id": "OOHs8_akEl9t"
      }
    },
    {
      "cell_type": "markdown",
      "source": [
        "##Helper Functions"
      ],
      "metadata": {
        "id": "zck0WiV9HRhk"
      }
    },
    {
      "cell_type": "markdown",
      "source": [
        "Reconstruct the current document."
      ],
      "metadata": {
        "id": "8WFLFWfRoozw"
      }
    },
    {
      "cell_type": "code",
      "source": [
        "def reconstruct_current_doc(events):\n",
        "    current_doc = events[0]['currentDoc']  # Initialize with the prompt\n",
        "    i = 1\n",
        "\n",
        "    for event in events[1:]:  # Skip the first event (system-initialize)\n",
        "        if event['eventName'] == 'text-insert' or event['eventName'] == 'text-delete':\n",
        "            if any('retain' in d for d in event['textDelta'].get('ops')):\n",
        "                retain_lst = [d.get('retain') for d in event['textDelta'].get('ops') if 'retain' in d]\n",
        "                cursor_position = retain_lst[0]\n",
        "            else:\n",
        "                cursor_position = 0\n",
        "\n",
        "            if any('delete' in d for d in event['textDelta'].get('ops')):\n",
        "                nums = [d.get('delete') for d in event['textDelta'].get('ops') if 'delete' in d]\n",
        "                num_to_delete = 0\n",
        "                for i in nums:\n",
        "                    num_to_delete = num_to_delete + i\n",
        "                current_doc = current_doc[:cursor_position] + current_doc[cursor_position+num_to_delete:] # Delete the text from the document\n",
        "\n",
        "            if any('insert' in d for d in event['textDelta'].get('ops')):\n",
        "                text_to_insert = [d.get('insert') for d in event['textDelta'].get('ops') if 'insert' in d][0] # Extract the text to insert from textDelta\n",
        "                # retain_lst = [d.get('retain') for d in event['textDelta'].get('ops') if 'retain' in d]\n",
        "                if len(retain_lst) > 1:\n",
        "                    position_adj = 1\n",
        "                else:\n",
        "                    position_adj = 0\n",
        "                current_doc = current_doc[:cursor_position+position_adj] + text_to_insert + current_doc[cursor_position+position_adj:] # Insert the text at the cursor position\n",
        "    return current_doc"
      ],
      "metadata": {
        "id": "OztaYPdyHX9z"
      },
      "execution_count": 9,
      "outputs": []
    },
    {
      "cell_type": "code",
      "source": [
        "# Reconstruct the currentDoc\n",
        "current_doc = reconstruct_current_doc(events)\n",
        "\n",
        "# Print the final document\n",
        "print(\"Final Document:\")\n",
        "print(current_doc)"
      ],
      "metadata": {
        "id": "jKSdI2F8Hm44",
        "colab": {
          "base_uri": "https://localhost:8080/",
          "height": 0
        },
        "outputId": "353680c1-81ec-4334-a07e-9473af53c6a6"
      },
      "execution_count": 10,
      "outputs": [
        {
          "output_type": "stream",
          "name": "stdout",
          "text": [
            "Final Document:\n",
            "Are We Being Bad Citizens If We Don't Keep Up With the News?\n",
            "\n",
            "In your opinion, are we being bad citizens if we don't keep up with the news? Do you think all people have some responsibility to know what is going on in the world? Does engaging with current events actually do anything at all? Why do you think the way you do?\n",
            "\n",
            "---\n",
            "\n",
            "In my opinion, it is the responsibility of a good citizen to keep up with the news.   I think it is important to know what is going on in the world because it can affect us.  For example, there are many pieces of legislation that are passed that can have bad current and future affects on the population.  Due to people not keeping up with the news, the public isn't aware of the effects of the legislation until it is too late.  There are many instance where the public  ecomes aware of a bad bill and they are able to apply pressure to their government representatives to make changes before it is too late.\n",
            "\n",
            "Keeping up with the news also allows the public to stay informed about issues such as climate change.  We are far behind when it comes to dealing with climate change.  I believe we would be mounting a better challenge to climate change if more people were knowledgeable about the effects.  This knowledge could be garnered from the news.  \n",
            "\n",
            "When you have areas of the world that are experiencing historical high water levels due to climate change, there are often news reports being done on these subjects.  If the public is not paying attention,  he public will probably not put pressure on their government representatives to act. \n",
            "\n",
            "I believe that people who go through life oblivious to the problems that surround them are not good people.  The news often focuses on problems that may not be a problem for certain individuals--yet.   It is always a good thing to see what issues other people are going through.  Living life by the motto of \"Out of Sight, Out of Mind\" can create a dangerous situation for everyone.\n",
            "\n"
          ]
        }
      ]
    },
    {
      "cell_type": "markdown",
      "source": [
        "Extract the last three sentences from the document."
      ],
      "metadata": {
        "id": "OT3aKCCPotrw"
      }
    },
    {
      "cell_type": "code",
      "source": [
        "import re\n",
        "\n",
        "def get_last_sentences(paragraph):\n",
        "    \"\"\"\n",
        "    Extracts the last sentence from a paragraph.\n",
        "\n",
        "    Args:\n",
        "        paragraph: The input paragraph as a string.\n",
        "\n",
        "    Returns:\n",
        "        The last sentence of the paragraph, or None if no sentence is found.\n",
        "    \"\"\"\n",
        "    if not paragraph:\n",
        "        return None\n",
        "\n",
        "    sentences = re.split(r'(?<!\\w\\.\\w)(?<![A-Z][a-z]\\.)(?<=\\.|\\?|!)\\s', paragraph)\n",
        "\n",
        "    sentences = [s.strip() for s in sentences if s.strip()]\n",
        "    last_three = sentences[-3:]\n",
        "    return \" \".join(last_three)\n",
        "\n",
        "# Example usage\n",
        "text = \"This is the first sentence. Here is the second sentence.\\n\\nAnd this is the last sentence! But what about this one?\"\n",
        "last_sentence = get_last_sentences(text)\n",
        "print(last_sentence)\n",
        "\n",
        "text_2 = \"This is a paragraph without multiple sentences.\"\n",
        "last_sentence_2 = get_last_sentences(text_2)\n",
        "print(last_sentence_2)\n",
        "\n",
        "text_3 = \"\"\n",
        "last_sentence_3 = get_last_sentences(text_3)\n",
        "print(last_sentence_3)"
      ],
      "metadata": {
        "id": "fJDgHQ5Q2XLy",
        "colab": {
          "base_uri": "https://localhost:8080/",
          "height": 0
        },
        "outputId": "b33c873f-27a4-40a8-bbe2-8ed7553d0e8e"
      },
      "execution_count": 11,
      "outputs": [
        {
          "output_type": "stream",
          "name": "stdout",
          "text": [
            "Here is the second sentence. And this is the last sentence! But what about this one?\n",
            "This is a paragraph without multiple sentences.\n",
            "None\n"
          ]
        }
      ]
    },
    {
      "cell_type": "markdown",
      "source": [
        "Extract the acceptance status of each suggestion that the AI opens."
      ],
      "metadata": {
        "id": "D0h9Ud-5I2-O"
      }
    },
    {
      "cell_type": "code",
      "source": [
        "def extract_suggestions(events):\n",
        "    \"\"\"Track if a suggestion was accepted or rejected.\"\"\"\n",
        "    ai_suggestions = []  # Stores dicts with 'accepted' or 'rejected' and the suggestion\n",
        "    last_suggestion_open = None  # Store the most recent `suggestion-open`\n",
        "\n",
        "    for event in events:\n",
        "        if event[\"eventName\"] == \"suggestion-open\" and event.get(\"currentSuggestions\"):\n",
        "            last_suggestion_open = event  # Save the latest `suggestion-open`\n",
        "\n",
        "        elif event[\"eventName\"] == \"suggestion-select\" and last_suggestion_open:\n",
        "            # Suggestion selected\n",
        "            selected_index = event.get(\"currentSuggestionIndex\", -1)\n",
        "\n",
        "            # Ensure selected index is valid\n",
        "            if 0 <= selected_index < len(last_suggestion_open[\"currentSuggestions\"]):\n",
        "                selected_suggestion = last_suggestion_open[\"currentSuggestions\"][selected_index][\"trimmed\"]\n",
        "                ai_suggestions.append({'acceptance':'accepted', 'eventNum':event[\"eventNum\"], 'suggestion':selected_suggestion}) # Add suggestion to list\n",
        "\n",
        "            last_suggestion_open = None  # Reset, since we handled the acceptance\n",
        "\n",
        "        elif event[\"eventName\"] == \"suggestion-close\" and last_suggestion_open:\n",
        "            # Suggestion closed without selection (rejected)\n",
        "            rejected_suggestion = last_suggestion_open[\"currentSuggestions\"][0][\"trimmed\"]\n",
        "            ai_suggestions.append({'acceptance':'rejected', 'eventNum':event[\"eventNum\"], 'suggestion':rejected_suggestion}) # Add suggestion to list\n",
        "            last_suggestion_open = None  # Reset, since we handled the rejection\n",
        "\n",
        "    return ai_suggestions\n",
        "\n",
        "# Process all valid events\n",
        "all_suggestions = extract_suggestions(events)\n",
        "\n",
        "print(f\"Total AI Suggestions: {len(all_suggestions)}\")\n",
        "print(\"Example AI Suggestion:\", all_suggestions)"
      ],
      "metadata": {
        "id": "Sa_vKo5N9tqF",
        "colab": {
          "base_uri": "https://localhost:8080/",
          "height": 0
        },
        "outputId": "26563ccb-d624-4b18-d58a-b5c0125e8bc4"
      },
      "execution_count": 12,
      "outputs": [
        {
          "output_type": "stream",
          "name": "stdout",
          "text": [
            "Total AI Suggestions: 4\n",
            "Example AI Suggestion: [{'acceptance': 'accepted', 'eventNum': 95, 'suggestion': 'I think it is important to know what is going on in the world because it can affect us.'}, {'acceptance': 'accepted', 'eventNum': 712, 'suggestion': 'For example, the Stop Online Piracy Act (SOPA) was a bill that would have allowed the government to shut down websites that were suspected'}, {'acceptance': 'rejected', 'eventNum': 1662, 'suggestion': 'I think it is important to keep up with the news because it can affect us.'}, {'acceptance': 'rejected', 'eventNum': 1935, 'suggestion': 'For example, there is a lot of news about the drought in California.'}]\n"
          ]
        }
      ]
    },
    {
      "cell_type": "markdown",
      "source": [
        "Functions for saving checkpoints so that progress is not lost if runtime disconnects."
      ],
      "metadata": {
        "id": "jGCgh08SgX-r"
      }
    },
    {
      "cell_type": "code",
      "source": [
        "import pickle\n",
        "\n",
        "def save_checkpoint(checkpoint_data, checkpoint_file='checkpoint.pkl'):\n",
        "    with open(checkpoint_file, 'wb') as f:\n",
        "        pickle.dump(checkpoint_data, f)\n",
        "    print(f\"Checkpoint saved to {checkpoint_file}\")\n",
        "\n",
        "def load_checkpoint(checkpoint_file='checkpoint.pkl'):\n",
        "    try:\n",
        "        with open(checkpoint_file, 'rb') as f:\n",
        "            checkpoint_data = pickle.load(f)\n",
        "        print(f\"Checkpoint loaded from {checkpoint_file}\")\n",
        "        return checkpoint_data\n",
        "    except FileNotFoundError:\n",
        "        print(\"No checkpoint found. Starting from scratch.\")\n",
        "        return {\n",
        "            'coherence_scores': [],\n",
        "            'processed_files': [],\n",
        "            'last_processed_file': None,\n",
        "            'last_processed_index': 0\n",
        "        }"
      ],
      "metadata": {
        "id": "qTqTpuyugPPb"
      },
      "execution_count": 13,
      "outputs": []
    },
    {
      "cell_type": "markdown",
      "source": [
        "##Compute Coherence Score\n",
        "\n",
        "Use a pre-trained language model like BERT to generate embeddings for the AI suggestion and the context."
      ],
      "metadata": {
        "id": "hmlrjlU5wmd9"
      }
    },
    {
      "cell_type": "code",
      "source": [
        "from sentence_transformers import SentenceTransformer, util\n",
        "\n",
        "def compute_coherence(suggestion, context):\n",
        "    model = SentenceTransformer('all-MiniLM-L6-v2')\n",
        "\n",
        "    embeddings = model.encode([suggestion, context])\n",
        "\n",
        "    similarity = util.cos_sim(embeddings[0], embeddings[1])[0][0]\n",
        "\n",
        "    return similarity"
      ],
      "metadata": {
        "id": "oksvPGdUkqg4"
      },
      "execution_count": 14,
      "outputs": []
    },
    {
      "cell_type": "code",
      "source": [
        "# Example usage\n",
        "suggestion = \"A feline rested on the mat\"\n",
        "context = \"The cat sat on the mat\"\n",
        "coherence_score = compute_coherence(suggestion, context)\n",
        "print(f\"Coherence score: {coherence_score}\")"
      ],
      "metadata": {
        "id": "fHmYvxZfjzUi",
        "colab": {
          "base_uri": "https://localhost:8080/",
          "height": 0
        },
        "outputId": "cd218d34-8f58-46bf-973e-513de128db39"
      },
      "execution_count": 15,
      "outputs": [
        {
          "output_type": "stream",
          "name": "stderr",
          "text": [
            "/usr/local/lib/python3.11/dist-packages/huggingface_hub/utils/_auth.py:94: UserWarning: \n",
            "The secret `HF_TOKEN` does not exist in your Colab secrets.\n",
            "To authenticate with the Hugging Face Hub, create a token in your settings tab (https://huggingface.co/settings/tokens), set it as secret in your Google Colab and restart your session.\n",
            "You will be able to reuse this secret in all of your notebooks.\n",
            "Please note that authentication is recommended but still optional to access public models or datasets.\n",
            "  warnings.warn(\n"
          ]
        },
        {
          "output_type": "stream",
          "name": "stdout",
          "text": [
            "Coherence score: 0.6996868252754211\n"
          ]
        }
      ]
    },
    {
      "cell_type": "code",
      "source": [
        "# Load checkpoint\n",
        "checkpoint_data = load_checkpoint()\n",
        "coherence_scores = checkpoint_data['coherence_scores']\n",
        "processed_files = checkpoint_data['processed_files']\n",
        "last_processed_file = checkpoint_data['last_processed_file']\n",
        "last_processed_index = checkpoint_data['last_processed_index']\n",
        "\n",
        "for session_path in paths:\n",
        "    # Skip files that have already been fully processed\n",
        "    if session_path in processed_files:\n",
        "        print(f\"Skipping already processed file: {session_path}\")\n",
        "        continue\n",
        "\n",
        "    events = read_writing_session(session_path)\n",
        "    all_suggestions = extract_suggestions(events)\n",
        "\n",
        "    # If this is the last partially processed file, skip suggestions that have already been processed\n",
        "    if session_path == last_processed_file:\n",
        "        all_suggestions = all_suggestions[last_processed_index:]\n",
        "\n",
        "    for i, suggestion in enumerate(all_suggestions):\n",
        "        acceptance = suggestion.get(\"acceptance\")\n",
        "        context = get_last_sentences(reconstruct_current_doc(events[:suggestion.get(\"eventNum\")]))  # Use the current document as context\n",
        "        suggestion_text = suggestion.get(\"suggestion\")\n",
        "        coherence_score = compute_coherence(suggestion_text, context)\n",
        "        coherence_dict = {\n",
        "            \"acceptance\": acceptance,\n",
        "            \"suggestion\": suggestion_text,\n",
        "            \"context\": context,\n",
        "            \"score\": coherence_score}\n",
        "        coherence_scores.append(coherence_dict)\n",
        "\n",
        "       # Update checkpoint data\n",
        "        checkpoint_data['coherence_scores'] = coherence_scores\n",
        "        checkpoint_data['last_processed_file'] = session_path\n",
        "        checkpoint_data['last_processed_index'] = i + 1  # Save the next index to process\n",
        "\n",
        "    # Mark the file as fully processed\n",
        "    processed_files.append(session_path)\n",
        "    checkpoint_data['processed_files'] = processed_files\n",
        "    checkpoint_data['last_processed_file'] = None\n",
        "    checkpoint_data['last_processed_index'] = 0\n",
        "\n",
        "    # Save checkpoint after finishing a file\n",
        "    save_checkpoint(checkpoint_data)\n",
        "\n",
        "    print(\"Finished:\", len(processed_files)/len(paths)*100, \"%\")\n",
        "\n",
        "# Final save\n",
        "save_checkpoint(checkpoint_data)"
      ],
      "metadata": {
        "id": "uvfnf_nzw4Yl",
        "colab": {
          "base_uri": "https://localhost:8080/",
          "height": 8320
        },
        "collapsed": true,
        "outputId": "0a5a0d90-5c94-4fe7-ed1d-8a75f88451c7"
      },
      "execution_count": 16,
      "outputs": [
        {
          "output_type": "stream",
          "name": "stdout",
          "text": [
            "Checkpoint loaded from checkpoint.pkl\n",
            "Skipping already processed file: ./coauthor-v1.0/608e5b73341a4f3ca937316f99dae32d.jsonl\n",
            "Skipping already processed file: ./coauthor-v1.0/2d9358657a364ccab47e9a7538cb6650.jsonl\n",
            "Skipping already processed file: ./coauthor-v1.0/8c11358444974bf0b5224183acd8149d.jsonl\n",
            "Skipping already processed file: ./coauthor-v1.0/ea10c484cd6245f6a5840eea4b4b143b.jsonl\n",
            "Skipping already processed file: ./coauthor-v1.0/87396211fee244ccbda4b0f4bcefc8e9.jsonl\n",
            "Skipping already processed file: ./coauthor-v1.0/f4d98feb9e2f478abc3817bdfef5cca0.jsonl\n",
            "Skipping already processed file: ./coauthor-v1.0/6938b4a468aa482ba459d2fbe140cb30.jsonl\n",
            "Skipping already processed file: ./coauthor-v1.0/b609372842a94db2b278d4ad7f7e366b.jsonl\n",
            "Skipping already processed file: ./coauthor-v1.0/7b7b1b40027c4974ade1850596e6726f.jsonl\n",
            "Skipping already processed file: ./coauthor-v1.0/ee15d49584a54e8ab79b140e400276ea.jsonl\n",
            "Skipping already processed file: ./coauthor-v1.0/ba6d32a6c29a4bfeacf1e25a87a1f804.jsonl\n",
            "Skipping already processed file: ./coauthor-v1.0/0ff12af0651e4b0eaf88e22e82058137.jsonl\n",
            "Skipping already processed file: ./coauthor-v1.0/9c4942cdf0d94b6d9ce49896e0093da6.jsonl\n",
            "Skipping already processed file: ./coauthor-v1.0/09770cd9061f456fa6d82db00b43a0bd.jsonl\n",
            "Skipping already processed file: ./coauthor-v1.0/9ec10cba9d8c48428d656fceff57e834.jsonl\n",
            "Skipping already processed file: ./coauthor-v1.0/e7107e7319eb4ab18a7e3fc4445b2d91.jsonl\n",
            "Skipping already processed file: ./coauthor-v1.0/eec20f24484d418eb4ba564fbfbc2ab6.jsonl\n",
            "Skipping already processed file: ./coauthor-v1.0/6d6a8d63190243f685256031a59166dd.jsonl\n",
            "Skipping already processed file: ./coauthor-v1.0/a87286598bc54313b39f6ce6013541bf.jsonl\n",
            "Skipping already processed file: ./coauthor-v1.0/a215d4b3242a4e999ee6fafdd793cac6.jsonl\n",
            "Skipping already processed file: ./coauthor-v1.0/79a6126076714a1ba4fc9abc52c9201d.jsonl\n",
            "Skipping already processed file: ./coauthor-v1.0/f0b4803428a846c6b22e2d420e980a33.jsonl\n",
            "Skipping already processed file: ./coauthor-v1.0/1ec7d03923814ad590d270c260b37fad.jsonl\n",
            "Skipping already processed file: ./coauthor-v1.0/e29599231e66474b8a524c23db775e47.jsonl\n",
            "Skipping already processed file: ./coauthor-v1.0/0a83297c1ce94d15b358d79e533396c7.jsonl\n",
            "Skipping already processed file: ./coauthor-v1.0/6fb96c88e7b942e6b225baa611dd9738.jsonl\n",
            "Skipping already processed file: ./coauthor-v1.0/0bcb6a7180d64d7c9af732f3ad5aff51.jsonl\n",
            "Skipping already processed file: ./coauthor-v1.0/3be583425f4c4656a906a036b13e963e.jsonl\n",
            "Skipping already processed file: ./coauthor-v1.0/d4b47a8a66b84e8ebdf986e6d4edf139.jsonl\n",
            "Skipping already processed file: ./coauthor-v1.0/3959b06dd9344c6aa484b3d6b14b4a27.jsonl\n",
            "Skipping already processed file: ./coauthor-v1.0/c1714313080c448d857756a2e0ad6071.jsonl\n",
            "Skipping already processed file: ./coauthor-v1.0/ace79657baa04aaca50a076720ee1fe8.jsonl\n",
            "Skipping already processed file: ./coauthor-v1.0/36bc101319da4b3590b96bce76f7c02c.jsonl\n",
            "Skipping already processed file: ./coauthor-v1.0/8393a8ed335f438c9ad5ca3d25a947b6.jsonl\n",
            "Skipping already processed file: ./coauthor-v1.0/b768132809f240b2a3efa1719be82ae4.jsonl\n",
            "Skipping already processed file: ./coauthor-v1.0/e2cdf3ffc1fb4396a67368c8331d4f58.jsonl\n",
            "Skipping already processed file: ./coauthor-v1.0/423daa7fb2214d1093f73d4966240646.jsonl\n",
            "Skipping already processed file: ./coauthor-v1.0/d714bc54e0dc4819bafa77a93927817b.jsonl\n",
            "Skipping already processed file: ./coauthor-v1.0/105bf88bb4bc42688e06a54644e2989b.jsonl\n",
            "Skipping already processed file: ./coauthor-v1.0/09644506674341f5b14e0d62c88ee70a.jsonl\n",
            "Skipping already processed file: ./coauthor-v1.0/b30082b36e764dbd859c020b10fe78b5.jsonl\n",
            "Skipping already processed file: ./coauthor-v1.0/8d6e9dac68324fae884571881f5b21f1.jsonl\n",
            "Skipping already processed file: ./coauthor-v1.0/25742b852b764843b15266008afdc15d.jsonl\n",
            "Skipping already processed file: ./coauthor-v1.0/b65e8358d12a498fa442f3d1072c4bb2.jsonl\n",
            "Skipping already processed file: ./coauthor-v1.0/de90bdd73b72426daacc29cd1e1a2e97.jsonl\n",
            "Skipping already processed file: ./coauthor-v1.0/b75ef56faed74be0b4b59e15138e18f4.jsonl\n",
            "Skipping already processed file: ./coauthor-v1.0/adb2b2bbd3fb48fa8433ee84a26949a5.jsonl\n",
            "Skipping already processed file: ./coauthor-v1.0/3cfab79e841a41a7b6edf77e7b28886b.jsonl\n",
            "Skipping already processed file: ./coauthor-v1.0/e8cdd0418ddb4263ae2799ded6316693.jsonl\n",
            "Skipping already processed file: ./coauthor-v1.0/5773114053f147a69bd6790843ea4fd8.jsonl\n",
            "Skipping already processed file: ./coauthor-v1.0/d374cad6be364ca08df8064807b4696e.jsonl\n",
            "Skipping already processed file: ./coauthor-v1.0/c326ab6f04ca475a93d6322122ee6eb0.jsonl\n",
            "Skipping already processed file: ./coauthor-v1.0/2194c0e020934c74b8ab6c28d758feb2.jsonl\n",
            "Skipping already processed file: ./coauthor-v1.0/3969517100834dbc813b628a27fed790.jsonl\n",
            "Skipping already processed file: ./coauthor-v1.0/749e032914384e4da8f2392a19066b89.jsonl\n",
            "Skipping already processed file: ./coauthor-v1.0/876a292223a74b1a8ad5525d93b26d69.jsonl\n",
            "Skipping already processed file: ./coauthor-v1.0/8d5bc658213f46b881b2a862bfd5a105.jsonl\n",
            "Skipping already processed file: ./coauthor-v1.0/f84ff332dc06486c9d61698be8666941.jsonl\n",
            "Skipping already processed file: ./coauthor-v1.0/c0bda7b135404137b66b5ade3bf1c8bc.jsonl\n",
            "Skipping already processed file: ./coauthor-v1.0/8637ce05b848420f920d5ca02f88a89a.jsonl\n",
            "Skipping already processed file: ./coauthor-v1.0/29056a31430b414582f488535aa0fe91.jsonl\n",
            "Skipping already processed file: ./coauthor-v1.0/409ea6cd2f8347dbb41344d1243c7e17.jsonl\n",
            "Skipping already processed file: ./coauthor-v1.0/d4a257392aa84174be6166c9c664caae.jsonl\n",
            "Skipping already processed file: ./coauthor-v1.0/9e408240b6c34495b3d20597eaa1dd80.jsonl\n",
            "Skipping already processed file: ./coauthor-v1.0/09c68920f9e5434bb35a22e1909f324a.jsonl\n",
            "Skipping already processed file: ./coauthor-v1.0/4efb9d8419ee42a3b2ec99f01f94e0a6.jsonl\n",
            "Skipping already processed file: ./coauthor-v1.0/08b1a2012f4d4115b56cc8231449ff48.jsonl\n",
            "Skipping already processed file: ./coauthor-v1.0/66b3ac872822426e81bab531fb15d8a0.jsonl\n",
            "Skipping already processed file: ./coauthor-v1.0/5c1905e6a05c4203b624c4db10ede78a.jsonl\n",
            "Skipping already processed file: ./coauthor-v1.0/dcb51651d76c424ebd58a8802629f05c.jsonl\n",
            "Skipping already processed file: ./coauthor-v1.0/7e400fae43e543b0a6719cc2974029de.jsonl\n",
            "Skipping already processed file: ./coauthor-v1.0/1059f00ce0f042808d27139c2a2ca9c5.jsonl\n",
            "Skipping already processed file: ./coauthor-v1.0/f6c2fa4230df43b9b9857e71b9d68a89.jsonl\n",
            "Skipping already processed file: ./coauthor-v1.0/931c030acd5e41b1bfac856da1aeb8e3.jsonl\n",
            "Skipping already processed file: ./coauthor-v1.0/13b2ae3d425e4b76b887182418ba4f58.jsonl\n",
            "Skipping already processed file: ./coauthor-v1.0/5f020c0bdea94db5aad0478ba02f2924.jsonl\n",
            "Skipping already processed file: ./coauthor-v1.0/f151863fbea2417c9bbec7082abaefd6.jsonl\n",
            "Skipping already processed file: ./coauthor-v1.0/40d132e1bc0146c0920d7b38c5b9f7c7.jsonl\n",
            "Skipping already processed file: ./coauthor-v1.0/fe677c513394449e987eb3ccce62d03c.jsonl\n",
            "Skipping already processed file: ./coauthor-v1.0/fbd087c5c3ab48f1b6540c80976e3285.jsonl\n",
            "Skipping already processed file: ./coauthor-v1.0/0a08f7fd748246c8ad4e353edb7e2394.jsonl\n",
            "Skipping already processed file: ./coauthor-v1.0/4d06b9aa68764d749ef6fffb4fcb54f4.jsonl\n",
            "Skipping already processed file: ./coauthor-v1.0/65936cbe394149c6b24802cad630e2d7.jsonl\n",
            "Skipping already processed file: ./coauthor-v1.0/c790c4b915e84dbf8e283b598105ea90.jsonl\n",
            "Skipping already processed file: ./coauthor-v1.0/4181c7d35eff4eceb4aad545dd2a9273.jsonl\n",
            "Skipping already processed file: ./coauthor-v1.0/787e032a5802459e9ac5731cdeb7b077.jsonl\n",
            "Skipping already processed file: ./coauthor-v1.0/a23600c207bd470c929852b33b9a2946.jsonl\n",
            "Skipping already processed file: ./coauthor-v1.0/864b77f0d5f34f2b9946e518cdeee98a.jsonl\n",
            "Skipping already processed file: ./coauthor-v1.0/f3ecf0ce872940238b0bd429a3e36322.jsonl\n",
            "Skipping already processed file: ./coauthor-v1.0/1524055efcec4b43b192c6b706e44b1e.jsonl\n",
            "Skipping already processed file: ./coauthor-v1.0/b15bdf5fdb764c3b97f9ec4ab3d348e3.jsonl\n",
            "Skipping already processed file: ./coauthor-v1.0/36eead66360847afba6dc9ebf6d99593.jsonl\n",
            "Skipping already processed file: ./coauthor-v1.0/3c2459fc295b4836b027ff004c6b88c1.jsonl\n",
            "Skipping already processed file: ./coauthor-v1.0/5de04cda76194f70ba4a49ba5c34ad14.jsonl\n",
            "Skipping already processed file: ./coauthor-v1.0/a9aa499623e3453dbcd52de1c862f71b.jsonl\n",
            "Skipping already processed file: ./coauthor-v1.0/64e545e776c1466687f0fe0dc8bb0d88.jsonl\n",
            "Skipping already processed file: ./coauthor-v1.0/947065accb8b402c98fb2aa62a497842.jsonl\n",
            "Skipping already processed file: ./coauthor-v1.0/4bdb5a30d17d40d7b160d942552c190b.jsonl\n",
            "Skipping already processed file: ./coauthor-v1.0/c95024d4d29d4d90a8aa665aef6397aa.jsonl\n",
            "Skipping already processed file: ./coauthor-v1.0/ff21eabc9606411ba8cd583fdcdfe72c.jsonl\n",
            "Skipping already processed file: ./coauthor-v1.0/2f07a39c7b1848559d1f4786591771ba.jsonl\n",
            "Skipping already processed file: ./coauthor-v1.0/d301787ad1c14454943032e70f5f46f0.jsonl\n",
            "Skipping already processed file: ./coauthor-v1.0/e139a4f9ea0c4ea3b7b3481eea070f29.jsonl\n",
            "Skipping already processed file: ./coauthor-v1.0/c1cfb1257eb04d438527925f828f0024.jsonl\n",
            "Skipping already processed file: ./coauthor-v1.0/ccbcf12b87b04596848a5091118c49d9.jsonl\n",
            "Skipping already processed file: ./coauthor-v1.0/f7a0e6bf24104ad59bccabf84bf41b86.jsonl\n",
            "Skipping already processed file: ./coauthor-v1.0/696d64891a2947f6af20032eef450ff7.jsonl\n",
            "Skipping already processed file: ./coauthor-v1.0/7e42d4f3a53b4c3d9a55b6d3a7f7c6cb.jsonl\n",
            "Skipping already processed file: ./coauthor-v1.0/3ec4b47601ca4e9892edbd08b3173742.jsonl\n",
            "Skipping already processed file: ./coauthor-v1.0/c291ea51ad6c42a887c1fd2464edebe1.jsonl\n",
            "Skipping already processed file: ./coauthor-v1.0/fb0562d64a314d2088af7d18ea7dc210.jsonl\n",
            "Skipping already processed file: ./coauthor-v1.0/7be4ecb3af5340b39c4f0d3ba63be068.jsonl\n",
            "Skipping already processed file: ./coauthor-v1.0/b8f3d57696324094950711edd32a4fd4.jsonl\n",
            "Skipping already processed file: ./coauthor-v1.0/e81d6b763cc44618a315a087b3ff155c.jsonl\n",
            "Skipping already processed file: ./coauthor-v1.0/aec86c4e50874219b34fc6bbebe815de.jsonl\n",
            "Skipping already processed file: ./coauthor-v1.0/4b391e02b91d4486974b5027c5433631.jsonl\n",
            "Skipping already processed file: ./coauthor-v1.0/ccd58d9e5614445c9ee036243195b7cf.jsonl\n",
            "Skipping already processed file: ./coauthor-v1.0/6dddf664e4be4c41a2fd91069d43a600.jsonl\n",
            "Skipping already processed file: ./coauthor-v1.0/f84a83053e004acb9ccc912f7c6d8ec6.jsonl\n",
            "Skipping already processed file: ./coauthor-v1.0/3cd658ad2bfe4df6bb303a408d30feb9.jsonl\n",
            "Skipping already processed file: ./coauthor-v1.0/4503b999b72848f396258761c04cc7e8.jsonl\n",
            "Skipping already processed file: ./coauthor-v1.0/e888cf385adc41b09cdd5f8d486299d6.jsonl\n",
            "Skipping already processed file: ./coauthor-v1.0/6a63f278941f4bd9b7e662ea15c765b1.jsonl\n",
            "Skipping already processed file: ./coauthor-v1.0/c6f6096483ef447ebcdccc2fa16ce0b7.jsonl\n",
            "Skipping already processed file: ./coauthor-v1.0/05b655163b1e4e38b76c2785a0aea5bb.jsonl\n",
            "Skipping already processed file: ./coauthor-v1.0/b93e342180e34c518e2ff42b2589a68e.jsonl\n",
            "Skipping already processed file: ./coauthor-v1.0/b219ab2c3b5140e3a209c6324af6344b.jsonl\n",
            "Skipping already processed file: ./coauthor-v1.0/499f9577962c4a2c98aee3f5b6098a71.jsonl\n",
            "Skipping already processed file: ./coauthor-v1.0/c5f794c4dc3f406abd65ff4ecd7af49a.jsonl\n",
            "Skipping already processed file: ./coauthor-v1.0/d08ae131480c41d8bfa5dc129fdd468c.jsonl\n",
            "Skipping already processed file: ./coauthor-v1.0/a60c272551c6418a845424432fc4cc72.jsonl\n",
            "Skipping already processed file: ./coauthor-v1.0/bd00c8e367554d4287e83dee669b96ed.jsonl\n",
            "Skipping already processed file: ./coauthor-v1.0/a0cc548fb40a4e22b1963674fb4b1f83.jsonl\n",
            "Skipping already processed file: ./coauthor-v1.0/ba1b42a591f4447596e99b6c0a5164b3.jsonl\n",
            "Skipping already processed file: ./coauthor-v1.0/53d34e075dc2454ebbc4e4e8878b0d15.jsonl\n",
            "Skipping already processed file: ./coauthor-v1.0/78526ab498154d079cd1b2584ee25e3d.jsonl\n",
            "Skipping already processed file: ./coauthor-v1.0/b22279ff63804fa6bec5c108879812dd.jsonl\n",
            "Skipping already processed file: ./coauthor-v1.0/111ee57118054cc6b8fa4ef98c1a3408.jsonl\n",
            "Skipping already processed file: ./coauthor-v1.0/85bb144c94404f85ad2931edf1bcb8ae.jsonl\n",
            "Skipping already processed file: ./coauthor-v1.0/34d7c1032151410583aa9069286104d6.jsonl\n",
            "Skipping already processed file: ./coauthor-v1.0/2cd0471292f14be5bf1ccb9b313e1903.jsonl\n",
            "Skipping already processed file: ./coauthor-v1.0/c189c81b229d43d08fd95cf5f8e2efd3.jsonl\n",
            "Skipping already processed file: ./coauthor-v1.0/b5cba1af4218432bac6932bd1d546125.jsonl\n",
            "Skipping already processed file: ./coauthor-v1.0/8a66ba50d4e241f2aebb17e5af82c68a.jsonl\n",
            "Skipping already processed file: ./coauthor-v1.0/43fef1ea6c6342f490c991f230acdf1b.jsonl\n",
            "Skipping already processed file: ./coauthor-v1.0/bfbd85082e2c48bc86180b2b54f5845c.jsonl\n",
            "Skipping already processed file: ./coauthor-v1.0/f670362dc84144aabb373a577490e491.jsonl\n",
            "Skipping already processed file: ./coauthor-v1.0/2d20ee9a7295455a9ab7cd2d8140ddfb.jsonl\n",
            "Skipping already processed file: ./coauthor-v1.0/266f0df3fa994ce1b0b8b37da8169d62.jsonl\n",
            "Skipping already processed file: ./coauthor-v1.0/ae05e585f42146a283168fdee429ddea.jsonl\n",
            "Skipping already processed file: ./coauthor-v1.0/04a4118571c642a18348c2e4a01f67c0.jsonl\n",
            "Skipping already processed file: ./coauthor-v1.0/3a7d0ac2d9c044318903ed715b695d35.jsonl\n",
            "Skipping already processed file: ./coauthor-v1.0/311f76bc71594efb82a6e67aac6e7b2f.jsonl\n",
            "Skipping already processed file: ./coauthor-v1.0/1c6fcfe3faf4499bad4a08f36fb0e941.jsonl\n",
            "Skipping already processed file: ./coauthor-v1.0/a15863f8588b40cd8ba28a171471031f.jsonl\n",
            "Skipping already processed file: ./coauthor-v1.0/e096014a9fca4d608a0f1c611e57fe2f.jsonl\n",
            "Skipping already processed file: ./coauthor-v1.0/d16a6136b82b42eba1e61ff0a4ac3293.jsonl\n",
            "Skipping already processed file: ./coauthor-v1.0/6840e511d899433ea125410c709f6ed5.jsonl\n",
            "Skipping already processed file: ./coauthor-v1.0/843d5913965e4dee8b3d500b547c3489.jsonl\n",
            "Skipping already processed file: ./coauthor-v1.0/17e61e6248cb4b1fae8ea73dc6bd70f7.jsonl\n",
            "Skipping already processed file: ./coauthor-v1.0/db169bdfdf294eaab67ca9aeb7a7f948.jsonl\n",
            "Skipping already processed file: ./coauthor-v1.0/d335521141c84360aad24ece4e5760f7.jsonl\n",
            "Skipping already processed file: ./coauthor-v1.0/a88bea9bbf624105afc21cf6e6e052c8.jsonl\n",
            "Skipping already processed file: ./coauthor-v1.0/3ab1ca63246449669bf1f7b9c90d379b.jsonl\n",
            "Skipping already processed file: ./coauthor-v1.0/e1f3635407a34cada54aafa852bcb52d.jsonl\n",
            "Skipping already processed file: ./coauthor-v1.0/e66a5afb693c47e8b30faeb12e10a7cf.jsonl\n",
            "Skipping already processed file: ./coauthor-v1.0/f40b77ed78bc4297bd63c56ef412863a.jsonl\n",
            "Skipping already processed file: ./coauthor-v1.0/01e3a2f5c2a442fe9225e0c9ef56a5f5.jsonl\n",
            "Skipping already processed file: ./coauthor-v1.0/a13794ea66e341029357b1065e0e13b2.jsonl\n",
            "Skipping already processed file: ./coauthor-v1.0/ca7d13566ada48419cdde536c051af35.jsonl\n",
            "Skipping already processed file: ./coauthor-v1.0/946720ae11b5468e858df027906f1063.jsonl\n",
            "Skipping already processed file: ./coauthor-v1.0/da52704cf8be4a04a76e7a2432de2c99.jsonl\n",
            "Skipping already processed file: ./coauthor-v1.0/d79796ab007244e8abb0ff2efda4a92a.jsonl\n",
            "Skipping already processed file: ./coauthor-v1.0/70defe65ad00410a83d645e1c08f5ba6.jsonl\n",
            "Skipping already processed file: ./coauthor-v1.0/6e21e7baba4d414ebc3218a051cce679.jsonl\n",
            "Skipping already processed file: ./coauthor-v1.0/484eba21615341fab99300bfe20873fb.jsonl\n",
            "Skipping already processed file: ./coauthor-v1.0/1a05d6f6ae524b638b5e3ea491d3fc4d.jsonl\n",
            "Skipping already processed file: ./coauthor-v1.0/8b886d12eeb14f21b8bc96c5a1215336.jsonl\n",
            "Skipping already processed file: ./coauthor-v1.0/f6dc009e6d5c4c03a667ca201438077a.jsonl\n",
            "Skipping already processed file: ./coauthor-v1.0/bd632b8b53394b32a6dba18848f787a4.jsonl\n",
            "Skipping already processed file: ./coauthor-v1.0/f86e93e1f9e8447baa49531e1fe80f04.jsonl\n",
            "Skipping already processed file: ./coauthor-v1.0/83abfb13942f491b9de32bfcc1c3dc47.jsonl\n",
            "Skipping already processed file: ./coauthor-v1.0/dda6cf6e80e74a32b62d03db6c25859c.jsonl\n",
            "Skipping already processed file: ./coauthor-v1.0/bc8469a10a154ba8901e1dfc57432882.jsonl\n",
            "Skipping already processed file: ./coauthor-v1.0/d6f24fb3c9c84d2cab1c70387d91d739.jsonl\n",
            "Skipping already processed file: ./coauthor-v1.0/13ff0c5ffe4341a8bcec84ef343a9359.jsonl\n",
            "Skipping already processed file: ./coauthor-v1.0/120f688d383d4775a51fc45728e771de.jsonl\n",
            "Skipping already processed file: ./coauthor-v1.0/22041e7a62c246398773d82b83cb08fd.jsonl\n",
            "Skipping already processed file: ./coauthor-v1.0/47f1f3cedf5e4a779470a1816fd625dc.jsonl\n",
            "Skipping already processed file: ./coauthor-v1.0/ccb5736dcef54a36af942d6f7b06ed82.jsonl\n",
            "Skipping already processed file: ./coauthor-v1.0/8a74fe9a415d47ae8b92897ef9554e2b.jsonl\n",
            "Skipping already processed file: ./coauthor-v1.0/2498ee9c53db4a8ea651ea2b95501ef4.jsonl\n",
            "Skipping already processed file: ./coauthor-v1.0/2cd036c85bce43f180f81abd83525110.jsonl\n",
            "Skipping already processed file: ./coauthor-v1.0/f4726c879c9d4e43ab6a63a3d732a988.jsonl\n",
            "Skipping already processed file: ./coauthor-v1.0/6861c7f0f19645ffb563275d11fad363.jsonl\n",
            "Skipping already processed file: ./coauthor-v1.0/6d9089d1570347fbb352497546c663fd.jsonl\n",
            "Skipping already processed file: ./coauthor-v1.0/b6e3af6257c84970bf770a3b30c573c7.jsonl\n",
            "Skipping already processed file: ./coauthor-v1.0/9a29f841869a4fd98cf358da50f4a340.jsonl\n",
            "Skipping already processed file: ./coauthor-v1.0/4eeea91c57b0425b9faf9bc4b74ec2be.jsonl\n",
            "Skipping already processed file: ./coauthor-v1.0/221820be7d8945f99af46d423ad57864.jsonl\n",
            "Skipping already processed file: ./coauthor-v1.0/4e3e3c07acd645eeac9f8a18dcc9b796.jsonl\n",
            "Skipping already processed file: ./coauthor-v1.0/97cabee8b1434aabb912a590ead973ce.jsonl\n",
            "Skipping already processed file: ./coauthor-v1.0/767134bda38047aab8a6fa3221b6880e.jsonl\n",
            "Skipping already processed file: ./coauthor-v1.0/4eec3373098b43d7a4021b40ee73bafb.jsonl\n",
            "Skipping already processed file: ./coauthor-v1.0/b6683afb932a48dbaa3ba337f1ee1db1.jsonl\n",
            "Skipping already processed file: ./coauthor-v1.0/a567ef08f6c54b6bbfa892f39c462934.jsonl\n",
            "Skipping already processed file: ./coauthor-v1.0/82eec1c4618e494c88253f4e5167fc26.jsonl\n",
            "Skipping already processed file: ./coauthor-v1.0/a835d25a742840db987cf1fc4f877a98.jsonl\n",
            "Skipping already processed file: ./coauthor-v1.0/48058b31f2ea4797bc9dcc40ab9ee2f1.jsonl\n",
            "Skipping already processed file: ./coauthor-v1.0/34919f6ff8774bca9c7632e79f43b572.jsonl\n",
            "Skipping already processed file: ./coauthor-v1.0/d080eb9e0389497685a76d4e63148fad.jsonl\n",
            "Skipping already processed file: ./coauthor-v1.0/42ea34cfb3954bfebc704486cb3462e3.jsonl\n",
            "Skipping already processed file: ./coauthor-v1.0/e195e7359d4c4557a26c6130a30d5f88.jsonl\n",
            "Skipping already processed file: ./coauthor-v1.0/761aaf53b31f4cfda836ca0802f22278.jsonl\n",
            "Skipping already processed file: ./coauthor-v1.0/b79b62f6c9c3404488b5265566f61b57.jsonl\n",
            "Skipping already processed file: ./coauthor-v1.0/0e6c88a3adb84bfab5d3b77640f929f5.jsonl\n",
            "Skipping already processed file: ./coauthor-v1.0/d7de4777f84246b8896f38fac0494b17.jsonl\n",
            "Skipping already processed file: ./coauthor-v1.0/1bf54732c8a34ff6bc71dcfe7357629a.jsonl\n",
            "Skipping already processed file: ./coauthor-v1.0/b7bbabfaabda406ba45cd152872abf82.jsonl\n",
            "Skipping already processed file: ./coauthor-v1.0/f1c5ca52c9754a37b10dce55cf5113e2.jsonl\n",
            "Skipping already processed file: ./coauthor-v1.0/7b93ed4e9e4b4cd0a9ff25766708881f.jsonl\n",
            "Skipping already processed file: ./coauthor-v1.0/11e8186be4314e93852c7677b430fba3.jsonl\n",
            "Skipping already processed file: ./coauthor-v1.0/a59321f59eeb459da6a427267afefb9b.jsonl\n",
            "Skipping already processed file: ./coauthor-v1.0/50e2383a31544349adae9a66d596cdf6.jsonl\n",
            "Skipping already processed file: ./coauthor-v1.0/df6068305d29453eb22a51d46085e197.jsonl\n",
            "Skipping already processed file: ./coauthor-v1.0/5d791cfaaf294406853413dda451bf2f.jsonl\n",
            "Skipping already processed file: ./coauthor-v1.0/bce8bc77519e4247a5f545300a8c4ff9.jsonl\n",
            "Skipping already processed file: ./coauthor-v1.0/2160426dc41f493dae05e8ca84ae5a1f.jsonl\n",
            "Skipping already processed file: ./coauthor-v1.0/d4759814eb5d4d17bfcbe373d0947e58.jsonl\n",
            "Skipping already processed file: ./coauthor-v1.0/455d43b4c912498eac41138c743501aa.jsonl\n",
            "Skipping already processed file: ./coauthor-v1.0/3abe5c42eefe48868ba2f185d1853c93.jsonl\n",
            "Skipping already processed file: ./coauthor-v1.0/626255ec39a349df84e75196a01c9e55.jsonl\n",
            "Skipping already processed file: ./coauthor-v1.0/3fdafca346c94f52ac5b9588a48e0a56.jsonl\n",
            "Skipping already processed file: ./coauthor-v1.0/43bda44256df4d51ba681ac40dcfe8c1.jsonl\n",
            "Skipping already processed file: ./coauthor-v1.0/b6acb37208be4f3e96965f989fd6f9fb.jsonl\n",
            "Skipping already processed file: ./coauthor-v1.0/5819265ac490471ab03a42fd906beaed.jsonl\n",
            "Skipping already processed file: ./coauthor-v1.0/fcd4884cb1ad44e0b1a1e1304cd61cb0.jsonl\n",
            "Skipping already processed file: ./coauthor-v1.0/9e13fc668168442584d1d57f70f2ac56.jsonl\n",
            "Skipping already processed file: ./coauthor-v1.0/e0e217d7089d4c189bdb36c865976818.jsonl\n",
            "Skipping already processed file: ./coauthor-v1.0/d6f54aebfd3d40be9044635f5cbec15c.jsonl\n",
            "Skipping already processed file: ./coauthor-v1.0/f8bc132e150846b18cfe36d6b9ad5ca5.jsonl\n",
            "Skipping already processed file: ./coauthor-v1.0/fa8be9d3e10c4a198762ec08b478a23a.jsonl\n",
            "Skipping already processed file: ./coauthor-v1.0/af3a9e8494e54fa0a28ecb7267f02018.jsonl\n",
            "Skipping already processed file: ./coauthor-v1.0/f326178e52c34b5b97911cbe8f9c58ba.jsonl\n",
            "Skipping already processed file: ./coauthor-v1.0/a3bb5d95c74a46fcbc44d24828f7ab0a.jsonl\n",
            "Skipping already processed file: ./coauthor-v1.0/f1c71be96fd04e3f8008c90725349283.jsonl\n",
            "Skipping already processed file: ./coauthor-v1.0/8be576f5a9fc4388bb4a608282382fa3.jsonl\n",
            "Skipping already processed file: ./coauthor-v1.0/a339f26845ca4af6841501de1929b6d7.jsonl\n",
            "Skipping already processed file: ./coauthor-v1.0/50b12e356bc94c72bec03b35dea37fb2.jsonl\n",
            "Skipping already processed file: ./coauthor-v1.0/87c2c42b2a80400ebcedfacc68b767ef.jsonl\n",
            "Skipping already processed file: ./coauthor-v1.0/8db57b4ba7e048a9bf984a13233f3cf9.jsonl\n",
            "Skipping already processed file: ./coauthor-v1.0/11142ca391e749809df56da90091adb4.jsonl\n",
            "Skipping already processed file: ./coauthor-v1.0/3be804ca8a1d41a4ba5cdeb64b126575.jsonl\n",
            "Skipping already processed file: ./coauthor-v1.0/b2340ae8050543cbb74906ff4a96e850.jsonl\n",
            "Skipping already processed file: ./coauthor-v1.0/12c0273868a84564a5f001c3c086f69f.jsonl\n",
            "Skipping already processed file: ./coauthor-v1.0/562f6952bc854fb3ace39e940b786320.jsonl\n",
            "Skipping already processed file: ./coauthor-v1.0/200b5a62bded44f6ba8320c117bee58a.jsonl\n",
            "Skipping already processed file: ./coauthor-v1.0/77f36111a79b43b086fe0306d8644e56.jsonl\n",
            "Skipping already processed file: ./coauthor-v1.0/88daaed513824fbd9c77746eec7862d9.jsonl\n",
            "Skipping already processed file: ./coauthor-v1.0/f579d31e1bee4c75826e8a5f24a0f25f.jsonl\n",
            "Skipping already processed file: ./coauthor-v1.0/5f43b93d95334de7a886100e5e0a73b8.jsonl\n",
            "Skipping already processed file: ./coauthor-v1.0/d9389125a7624e34a2fde4243f88bdd6.jsonl\n",
            "Skipping already processed file: ./coauthor-v1.0/128bac319cb14dadaaf5c30c3a8ac5cb.jsonl\n",
            "Skipping already processed file: ./coauthor-v1.0/34cb11d1be2f4a60a350d9d5e6dc45f6.jsonl\n",
            "Skipping already processed file: ./coauthor-v1.0/fcf120025db5430b9ea948e735876591.jsonl\n",
            "Skipping already processed file: ./coauthor-v1.0/e76e0164df714bae95772dba5e3d7a5f.jsonl\n",
            "Skipping already processed file: ./coauthor-v1.0/8f4fb63ec8e94e269f5a41f93e948bc5.jsonl\n",
            "Skipping already processed file: ./coauthor-v1.0/10638735a10248c29ef1747f2f12c0b7.jsonl\n",
            "Skipping already processed file: ./coauthor-v1.0/8f24321860794995b97b7e5b87f2e7b4.jsonl\n",
            "Skipping already processed file: ./coauthor-v1.0/fd2ec09a682148418ea610817afcc79a.jsonl\n",
            "Skipping already processed file: ./coauthor-v1.0/7ef377e00d564aa2a5d925668c2b2f97.jsonl\n",
            "Skipping already processed file: ./coauthor-v1.0/a083b39bf3744dcb9cf43434322dbe1b.jsonl\n",
            "Skipping already processed file: ./coauthor-v1.0/676557098dfe452d88e87d3a01b5100b.jsonl\n",
            "Skipping already processed file: ./coauthor-v1.0/b6c87b8153ce4791a449f6b80a7f438e.jsonl\n",
            "Skipping already processed file: ./coauthor-v1.0/ce969e3aa6374189abe638aa61b3ffc9.jsonl\n",
            "Skipping already processed file: ./coauthor-v1.0/6e931e7308f94a198553a8f24c8feb5e.jsonl\n",
            "Skipping already processed file: ./coauthor-v1.0/4022d8e5d974472d92c889c74e7fea9b.jsonl\n",
            "Skipping already processed file: ./coauthor-v1.0/8f7e2949da2c45e597b39ee6e3f85d84.jsonl\n",
            "Skipping already processed file: ./coauthor-v1.0/971b30521fb149d88af88aa7b686c2af.jsonl\n",
            "Skipping already processed file: ./coauthor-v1.0/49aef8c68d984985b66227f394ee28c2.jsonl\n",
            "Skipping already processed file: ./coauthor-v1.0/13e995bed7f54f46a51f8dea2fd99c16.jsonl\n",
            "Skipping already processed file: ./coauthor-v1.0/3b78cf42ca2b41cdbc067aeceaa82a92.jsonl\n",
            "Skipping already processed file: ./coauthor-v1.0/3461ee41df7f4f5fa584f5ae04b3ba6f.jsonl\n",
            "Skipping already processed file: ./coauthor-v1.0/0fbf50af937946a1be1ab6e605f91167.jsonl\n",
            "Skipping already processed file: ./coauthor-v1.0/278af098f2784b7ba22335f356ab854e.jsonl\n",
            "Skipping already processed file: ./coauthor-v1.0/f32c0ee4236a49dda07481052a6fd6e5.jsonl\n",
            "Skipping already processed file: ./coauthor-v1.0/e758f054db034e8cbf2e2b96cf42dd05.jsonl\n",
            "Skipping already processed file: ./coauthor-v1.0/c8fdf07a6af74a27b488098538e3076e.jsonl\n",
            "Skipping already processed file: ./coauthor-v1.0/cecb749518a84dce992bdcb9c97ec242.jsonl\n",
            "Skipping already processed file: ./coauthor-v1.0/1ece5cdde9bc44439c5f117d31e73dbf.jsonl\n",
            "Skipping already processed file: ./coauthor-v1.0/a37397d4adbe4733a8026d82dcf8d7a0.jsonl\n",
            "Skipping already processed file: ./coauthor-v1.0/9b94bdf538854dee9dafd358ae40b55b.jsonl\n",
            "Skipping already processed file: ./coauthor-v1.0/672cbc4dddf545218344122b24e3fd7a.jsonl\n",
            "Skipping already processed file: ./coauthor-v1.0/86b1e2101c3141988dd27079e6963eb7.jsonl\n",
            "Skipping already processed file: ./coauthor-v1.0/b95bdefc91d94744b375b7bcabc19d5f.jsonl\n",
            "Skipping already processed file: ./coauthor-v1.0/6d9638620ea946b2bdcc898c41c24ac7.jsonl\n",
            "Skipping already processed file: ./coauthor-v1.0/562cda138b314c97b21ba43f691b79ec.jsonl\n",
            "Skipping already processed file: ./coauthor-v1.0/f71e0e018a534c7f821ba507de61fb7d.jsonl\n",
            "Skipping already processed file: ./coauthor-v1.0/bb820561ffe24e01ab3be7abb8d325a6.jsonl\n",
            "Skipping already processed file: ./coauthor-v1.0/949e2852c2a74afa83eb332ccd301159.jsonl\n",
            "Skipping already processed file: ./coauthor-v1.0/7a068257c0b94c05b56e5a11387aae6e.jsonl\n",
            "Skipping already processed file: ./coauthor-v1.0/1ff18e51f2a1466f97bb3dbfbaf98ba6.jsonl\n",
            "Skipping already processed file: ./coauthor-v1.0/0f44162d5cef4e95bc4400529003a066.jsonl\n",
            "Skipping already processed file: ./coauthor-v1.0/549faa4663e44ffbb3f26beca1bf95bb.jsonl\n",
            "Skipping already processed file: ./coauthor-v1.0/5a17e70a18c04205aac7f7bb845b8333.jsonl\n",
            "Skipping already processed file: ./coauthor-v1.0/ee97167c47cd46aca00d02fdb8821697.jsonl\n",
            "Skipping already processed file: ./coauthor-v1.0/02ef07c642254b088b72486ce41e010c.jsonl\n",
            "Skipping already processed file: ./coauthor-v1.0/215614c386144ae0a054e770c4a533f2.jsonl\n",
            "Skipping already processed file: ./coauthor-v1.0/25e8108b41f54a0ebfffb047cccf0f30.jsonl\n",
            "Skipping already processed file: ./coauthor-v1.0/83a18344884f45408957086dc933dfc7.jsonl\n",
            "Skipping already processed file: ./coauthor-v1.0/aa259a5e72c5426ebaa0b2ef7be4aed7.jsonl\n",
            "Skipping already processed file: ./coauthor-v1.0/8462cd8c839f4ebbb940326f3af1922c.jsonl\n",
            "Skipping already processed file: ./coauthor-v1.0/7b3266e380274b95b5a7b775dd937da6.jsonl\n",
            "Skipping already processed file: ./coauthor-v1.0/3622a1e30581463fa5850f1f8325d26e.jsonl\n",
            "Skipping already processed file: ./coauthor-v1.0/b7ad3c9340a24e57b3c342bc9ffb73ee.jsonl\n",
            "Skipping already processed file: ./coauthor-v1.0/ed07606664fb45718dc42629cb072c1b.jsonl\n",
            "Skipping already processed file: ./coauthor-v1.0/a754ad9eecca4d13954cf36eeda823b5.jsonl\n",
            "Skipping already processed file: ./coauthor-v1.0/5233fde72269427db4cd417546bfddf3.jsonl\n",
            "Skipping already processed file: ./coauthor-v1.0/b4bbf40667d64a6ebd248ebb87a3ce5f.jsonl\n",
            "Skipping already processed file: ./coauthor-v1.0/22a12c79a5914030aea6e0aa6d5edefe.jsonl\n",
            "Skipping already processed file: ./coauthor-v1.0/3d7f50f368ad4acdb051a9a31c886c9e.jsonl\n",
            "Skipping already processed file: ./coauthor-v1.0/f1523aa1deaa487c917db18be99ac355.jsonl\n",
            "Skipping already processed file: ./coauthor-v1.0/53a1f867867b431e9336245503e7eec4.jsonl\n",
            "Skipping already processed file: ./coauthor-v1.0/fe7442150cf74ed99d61e116a8a5426b.jsonl\n",
            "Skipping already processed file: ./coauthor-v1.0/fa039fa4741a4a53a7afa9ed1deac769.jsonl\n",
            "Skipping already processed file: ./coauthor-v1.0/a4e360c64c944328afc066c7a321575f.jsonl\n",
            "Skipping already processed file: ./coauthor-v1.0/ec89045037c142869afb5fad66c0c912.jsonl\n",
            "Skipping already processed file: ./coauthor-v1.0/ce62f7cdb323419ebd92d4dc8b61cdb1.jsonl\n",
            "Skipping already processed file: ./coauthor-v1.0/804e81a11f6640f9b023a5f2d1ad0671.jsonl\n",
            "Skipping already processed file: ./coauthor-v1.0/a1fa02bf79464edb893ec5b1b5fa1908.jsonl\n",
            "Skipping already processed file: ./coauthor-v1.0/8d145264baaf4220b2848a60447cfd05.jsonl\n",
            "Skipping already processed file: ./coauthor-v1.0/23b998c76c784ff29f0ddedd78128722.jsonl\n",
            "Skipping already processed file: ./coauthor-v1.0/5d97592b669a4155b2f8d7308d649c0d.jsonl\n",
            "Skipping already processed file: ./coauthor-v1.0/1ab526811cb04829be91e2ac7fd18b67.jsonl\n",
            "Skipping already processed file: ./coauthor-v1.0/d33439c9f8374d128d1696448b533162.jsonl\n",
            "Skipping already processed file: ./coauthor-v1.0/84525c08fad348c6877ace95de0fcdaa.jsonl\n",
            "Skipping already processed file: ./coauthor-v1.0/df7ebb6fc93c419d84052f9579fa6e0a.jsonl\n",
            "Skipping already processed file: ./coauthor-v1.0/f591e24cf57d412a94e2c0fd523a003c.jsonl\n",
            "Skipping already processed file: ./coauthor-v1.0/d40c6dfd679b4152b3f9334e56053ecf.jsonl\n",
            "Skipping already processed file: ./coauthor-v1.0/6e1f579ba29946d1b88b76320de96dd0.jsonl\n",
            "Skipping already processed file: ./coauthor-v1.0/8c884bfc6cad45cf9b9609a7acbb0bf7.jsonl\n",
            "Skipping already processed file: ./coauthor-v1.0/401511d48acd418f8e4d199782611ccc.jsonl\n",
            "Skipping already processed file: ./coauthor-v1.0/0a8e182a20df447db4846b1223c619b5.jsonl\n",
            "Skipping already processed file: ./coauthor-v1.0/7b827c9dbe9547fbae0a89de75863527.jsonl\n",
            "Skipping already processed file: ./coauthor-v1.0/5a043fc7d564442d8d66a706b9ff50fe.jsonl\n",
            "Skipping already processed file: ./coauthor-v1.0/269f101ba0da4aa3a5ce0bf3a65bade1.jsonl\n",
            "Skipping already processed file: ./coauthor-v1.0/fd520baa3a5a4cd3967318729d67382f.jsonl\n",
            "Skipping already processed file: ./coauthor-v1.0/c122541b81664615bcc5f3c2bebad597.jsonl\n",
            "Skipping already processed file: ./coauthor-v1.0/3d0be5ccb3ba4bf7aa4f243e70dcafd3.jsonl\n",
            "Skipping already processed file: ./coauthor-v1.0/8065039701b844098386ffb491f3441c.jsonl\n",
            "Skipping already processed file: ./coauthor-v1.0/66a790d09bc345608cb23e4bed92bd7a.jsonl\n",
            "Skipping already processed file: ./coauthor-v1.0/4542a8d2310247d1917ff1c79ac6171f.jsonl\n",
            "Skipping already processed file: ./coauthor-v1.0/80005a3c4ee74a1cbe252ef51a2cc4b7.jsonl\n",
            "Skipping already processed file: ./coauthor-v1.0/f6f47e11cd064b9a9e1647878516be9e.jsonl\n",
            "Skipping already processed file: ./coauthor-v1.0/406e98d0ec3c412397412ac18367d491.jsonl\n",
            "Skipping already processed file: ./coauthor-v1.0/b5612ede07954874974dfa8a6a921a8b.jsonl\n",
            "Skipping already processed file: ./coauthor-v1.0/0a6500a997e24468a743b34eda6be51e.jsonl\n",
            "Skipping already processed file: ./coauthor-v1.0/8eb73d4db00044b1bb63808e3365e90c.jsonl\n",
            "Skipping already processed file: ./coauthor-v1.0/759a22ce504c4259b8ea09651194bf46.jsonl\n",
            "Skipping already processed file: ./coauthor-v1.0/2082492048fb4cf1b71ca0db882614c0.jsonl\n",
            "Skipping already processed file: ./coauthor-v1.0/3bc6de35276140e98771dd17c5773c06.jsonl\n",
            "Skipping already processed file: ./coauthor-v1.0/635b514b259d47f2b474189aeea5e5c0.jsonl\n",
            "Skipping already processed file: ./coauthor-v1.0/04cb21c58e7845ae9eb740c4756731ed.jsonl\n",
            "Skipping already processed file: ./coauthor-v1.0/75297fb95d624e0fbc4f88c114a790e7.jsonl\n",
            "Skipping already processed file: ./coauthor-v1.0/9263032ff341476289f96ee1651ddd5a.jsonl\n",
            "Skipping already processed file: ./coauthor-v1.0/295e559fea27456e96aacce96d44b169.jsonl\n",
            "Skipping already processed file: ./coauthor-v1.0/ed0280fb0f114ead8a22516a8309f982.jsonl\n",
            "Skipping already processed file: ./coauthor-v1.0/d1c88e2180184f86ae24fb566073920a.jsonl\n",
            "Skipping already processed file: ./coauthor-v1.0/77f7082a5846485e95262a6dc0ffed79.jsonl\n",
            "Skipping already processed file: ./coauthor-v1.0/03f76432a1e149e1887c28daf15807f0.jsonl\n",
            "Skipping already processed file: ./coauthor-v1.0/6d0dc9355f9c4e0aa729c19733f3e3fd.jsonl\n",
            "Skipping already processed file: ./coauthor-v1.0/5c524b4889834145ad435d84415f457c.jsonl\n",
            "Skipping already processed file: ./coauthor-v1.0/152a3e1fac0e4bb0a90b1bbb7a6d57e5.jsonl\n",
            "Skipping already processed file: ./coauthor-v1.0/a1e9b672e5814598a1ec37a8210b8c12.jsonl\n",
            "Skipping already processed file: ./coauthor-v1.0/bf7b93c441c34938b380a46cdbc1ae93.jsonl\n",
            "Skipping already processed file: ./coauthor-v1.0/586931064c24482796b7e0aade9a711b.jsonl\n",
            "Skipping already processed file: ./coauthor-v1.0/bd4dc28d6e1b469bb4b96239b8fcfef9.jsonl\n",
            "Skipping already processed file: ./coauthor-v1.0/c0ddb4d2d0554f3aacd95fcd3c4bd4eb.jsonl\n",
            "Skipping already processed file: ./coauthor-v1.0/5ff4b3f9999047f6858c878df9638bc3.jsonl\n",
            "Skipping already processed file: ./coauthor-v1.0/1a14bae2ca9f422ea8779752233a203a.jsonl\n",
            "Skipping already processed file: ./coauthor-v1.0/f64a674b006c4fa6adaf1bba48049f6c.jsonl\n",
            "Skipping already processed file: ./coauthor-v1.0/9161cb7544bf4fca8c796ee3c5b6b150.jsonl\n",
            "Skipping already processed file: ./coauthor-v1.0/d84e8db741bf49589f2f86663fbea879.jsonl\n",
            "Skipping already processed file: ./coauthor-v1.0/2eec737efca444bc893bea2f5b791a00.jsonl\n",
            "Skipping already processed file: ./coauthor-v1.0/e08f94cbb8024b0d86bb3365221d4290.jsonl\n",
            "Skipping already processed file: ./coauthor-v1.0/8ca7402df5f646c3adb963acabde457f.jsonl\n",
            "Skipping already processed file: ./coauthor-v1.0/f5649183e4c24bd785459406069e0530.jsonl\n",
            "Skipping already processed file: ./coauthor-v1.0/14c0fb6353864b748f56af9aae22343c.jsonl\n",
            "Skipping already processed file: ./coauthor-v1.0/c6f8250e587f4288a48a616b2f1c1c6d.jsonl\n",
            "Skipping already processed file: ./coauthor-v1.0/e1aca0ed8d134ee09510f62c2646be1c.jsonl\n",
            "Skipping already processed file: ./coauthor-v1.0/203f7cabc70f4567880fcf12c27aad39.jsonl\n",
            "Skipping already processed file: ./coauthor-v1.0/90a41f5187c046ada1cdd459d2036ac5.jsonl\n",
            "Skipping already processed file: ./coauthor-v1.0/c362a09a04644abcab777be73f508034.jsonl\n",
            "Skipping already processed file: ./coauthor-v1.0/e473b59b1628452f9d7ac68bea6d36ff.jsonl\n",
            "Skipping already processed file: ./coauthor-v1.0/185067c797e34884b1408a69680fe28a.jsonl\n",
            "Skipping already processed file: ./coauthor-v1.0/108dc8943a93452cb3d9321ceab2e989.jsonl\n",
            "Skipping already processed file: ./coauthor-v1.0/616c20d27921488686ac8d50bf911c9a.jsonl\n",
            "Skipping already processed file: ./coauthor-v1.0/6ccf934ffb284b76b9fa7e57ecabd06b.jsonl\n",
            "Skipping already processed file: ./coauthor-v1.0/ead266bd00fd4423be98ad8176af3a17.jsonl\n",
            "Skipping already processed file: ./coauthor-v1.0/59db19c61039473a9da6c6e1f66b6c4e.jsonl\n",
            "Skipping already processed file: ./coauthor-v1.0/93a0f456389043b787013a489df403ad.jsonl\n",
            "Skipping already processed file: ./coauthor-v1.0/3b6bdac8643a446989473560476d77a5.jsonl\n",
            "Skipping already processed file: ./coauthor-v1.0/d4d4847e461c42888c2357e8d8f268b3.jsonl\n",
            "Skipping already processed file: ./coauthor-v1.0/a068c6552ba143c8ba4f378e49c3b640.jsonl\n",
            "Skipping already processed file: ./coauthor-v1.0/8621bf6cd9e341bb80194d19d210b7e4.jsonl\n",
            "Skipping already processed file: ./coauthor-v1.0/5221640d7c074d4a88f42e3891135350.jsonl\n",
            "Skipping already processed file: ./coauthor-v1.0/0bad9cbc52854c13a1b982195f7face2.jsonl\n",
            "Skipping already processed file: ./coauthor-v1.0/75ca76d5d28b411098cc9819cb5d7b56.jsonl\n",
            "Skipping already processed file: ./coauthor-v1.0/fdd85d76a9eb42d994e75ce952202309.jsonl\n",
            "Skipping already processed file: ./coauthor-v1.0/2ce71b3ded9340529f08b8ce0bc0a2d1.jsonl\n",
            "Skipping already processed file: ./coauthor-v1.0/9ed6505663e3421ea07365fe634cbe82.jsonl\n",
            "Skipping already processed file: ./coauthor-v1.0/ffe94583242c4ffca4b1546bb39ba5c2.jsonl\n",
            "Skipping already processed file: ./coauthor-v1.0/ba5029002a8e486f98404e68e850a3b5.jsonl\n",
            "Skipping already processed file: ./coauthor-v1.0/7944986ab0fd42e9a2c615181d024cad.jsonl\n",
            "Skipping already processed file: ./coauthor-v1.0/19feecc6b31445ca884ab5a9363975e8.jsonl\n",
            "Skipping already processed file: ./coauthor-v1.0/bc8d66bc301a491a86f85d44cd787293.jsonl\n",
            "Skipping already processed file: ./coauthor-v1.0/e6b54867c5fb4b8a9806a93b6cee4526.jsonl\n",
            "Skipping already processed file: ./coauthor-v1.0/54c597f302a9404caab702a8499b8aa0.jsonl\n",
            "Skipping already processed file: ./coauthor-v1.0/fe46e037bf15417e9ee531eca61f3635.jsonl\n",
            "Skipping already processed file: ./coauthor-v1.0/377cda39f77d4be6bc47879d076b79d0.jsonl\n",
            "Skipping already processed file: ./coauthor-v1.0/6395e22e141c4ee0bf233b95a63a61ea.jsonl\n",
            "Skipping already processed file: ./coauthor-v1.0/9989ea7d26a94464a9d94f68bc7832e9.jsonl\n",
            "Skipping already processed file: ./coauthor-v1.0/5caae848f6e048e2bc791363cc27eb30.jsonl\n",
            "Skipping already processed file: ./coauthor-v1.0/87462f8b2df5473d915e2188a20ebf0a.jsonl\n",
            "Skipping already processed file: ./coauthor-v1.0/b2c98830d3e647fa840909e7436c1750.jsonl\n",
            "Skipping already processed file: ./coauthor-v1.0/536987ff6f5243f6b3f620aba1c3bbfa.jsonl\n",
            "Skipping already processed file: ./coauthor-v1.0/4951e256dc4f4b44a90c95f8af2f34b7.jsonl\n",
            "Skipping already processed file: ./coauthor-v1.0/cc85690dead449a393defdea082229c8.jsonl\n",
            "Skipping already processed file: ./coauthor-v1.0/244d645564d1493f993123ac70f899e4.jsonl\n",
            "Skipping already processed file: ./coauthor-v1.0/7062d62b58b64877aab1d5e95b927616.jsonl\n",
            "Skipping already processed file: ./coauthor-v1.0/65fc0e4f41cb4ca0b92af3a161da5d2b.jsonl\n",
            "Skipping already processed file: ./coauthor-v1.0/707e42157d1e4889ade8302bfca7f90b.jsonl\n",
            "Skipping already processed file: ./coauthor-v1.0/c2af9e5faf164318999484aaf8b04de2.jsonl\n",
            "Skipping already processed file: ./coauthor-v1.0/4c08908581b54f46b00f0fdcef5fd3e4.jsonl\n",
            "Skipping already processed file: ./coauthor-v1.0/223f27bcebb5496a850b7ce86d50e910.jsonl\n",
            "Skipping already processed file: ./coauthor-v1.0/d1aad60e3f7f4dd68721bfd157247a99.jsonl\n",
            "Skipping already processed file: ./coauthor-v1.0/118ff30fb8c848a9bdfad3c79a0143be.jsonl\n",
            "Skipping already processed file: ./coauthor-v1.0/d701053d959a43399a0f3877dab22dd8.jsonl\n",
            "Skipping already processed file: ./coauthor-v1.0/5f49697c13ca47efa9291d3577228996.jsonl\n",
            "Skipping already processed file: ./coauthor-v1.0/dd0cbba1431349d985aca86e9e27359d.jsonl\n",
            "Skipping already processed file: ./coauthor-v1.0/1cb5822da5794e2a8bb6346c4959a4e3.jsonl\n",
            "Skipping already processed file: ./coauthor-v1.0/86a1a40bed5445c7bce7ac003f07d04c.jsonl\n",
            "Skipping already processed file: ./coauthor-v1.0/7e48dc0c20c340f9b0cfe73fd8d198b6.jsonl\n",
            "Skipping already processed file: ./coauthor-v1.0/f9a09da62e19479d8b2c31d3a494f11b.jsonl\n",
            "Skipping already processed file: ./coauthor-v1.0/047e78f3d0a94ea4a3433d4358b53adf.jsonl\n",
            "Skipping already processed file: ./coauthor-v1.0/f0ca76b1be0648018bed5d7c436b46c1.jsonl\n",
            "Skipping already processed file: ./coauthor-v1.0/826d810475364edcb986259d5f3cfac2.jsonl\n",
            "Skipping already processed file: ./coauthor-v1.0/8c58982958c1470dbebaff31cb041f9e.jsonl\n",
            "Skipping already processed file: ./coauthor-v1.0/22fbbbae605c469f9ee3551b6030e421.jsonl\n",
            "Skipping already processed file: ./coauthor-v1.0/73b5e738538a4faaae2e02478f7c50bc.jsonl\n",
            "Skipping already processed file: ./coauthor-v1.0/e4bf8d4c04c743b39fb94f724339f642.jsonl\n",
            "Skipping already processed file: ./coauthor-v1.0/58e702b7c7e249a0aaf762ea10f833b3.jsonl\n",
            "Skipping already processed file: ./coauthor-v1.0/ad4eeaa42cea40e7b278d61f1505ef7f.jsonl\n",
            "Successfully read 2221 events in a writing session from ./coauthor-v1.0/3db55809c34d4059adb6d6315da68cf1.jsonl\n",
            "Checkpoint saved to checkpoint.pkl\n",
            "Finished: 31.375259156876297 %\n",
            "Successfully read 2050 events in a writing session from ./coauthor-v1.0/20be391a8fee48709aca74a7c24fac86.jsonl\n"
          ]
        },
        {
          "output_type": "error",
          "ename": "KeyboardInterrupt",
          "evalue": "",
          "traceback": [
            "\u001b[0;31m---------------------------------------------------------------------------\u001b[0m",
            "\u001b[0;31mKeyboardInterrupt\u001b[0m                         Traceback (most recent call last)",
            "\u001b[0;32m<ipython-input-16-b30dd2c9c1bd>\u001b[0m in \u001b[0;36m<cell line: 0>\u001b[0;34m()\u001b[0m\n\u001b[1;32m     23\u001b[0m         \u001b[0mcontext\u001b[0m \u001b[0;34m=\u001b[0m \u001b[0mget_last_sentences\u001b[0m\u001b[0;34m(\u001b[0m\u001b[0mreconstruct_current_doc\u001b[0m\u001b[0;34m(\u001b[0m\u001b[0mevents\u001b[0m\u001b[0;34m[\u001b[0m\u001b[0;34m:\u001b[0m\u001b[0msuggestion\u001b[0m\u001b[0;34m.\u001b[0m\u001b[0mget\u001b[0m\u001b[0;34m(\u001b[0m\u001b[0;34m\"eventNum\"\u001b[0m\u001b[0;34m)\u001b[0m\u001b[0;34m]\u001b[0m\u001b[0;34m)\u001b[0m\u001b[0;34m)\u001b[0m  \u001b[0;31m# Use the current document as context\u001b[0m\u001b[0;34m\u001b[0m\u001b[0;34m\u001b[0m\u001b[0m\n\u001b[1;32m     24\u001b[0m         \u001b[0msuggestion_text\u001b[0m \u001b[0;34m=\u001b[0m \u001b[0msuggestion\u001b[0m\u001b[0;34m.\u001b[0m\u001b[0mget\u001b[0m\u001b[0;34m(\u001b[0m\u001b[0;34m\"suggestion\"\u001b[0m\u001b[0;34m)\u001b[0m\u001b[0;34m\u001b[0m\u001b[0;34m\u001b[0m\u001b[0m\n\u001b[0;32m---> 25\u001b[0;31m         \u001b[0mcoherence_score\u001b[0m \u001b[0;34m=\u001b[0m \u001b[0mcompute_coherence\u001b[0m\u001b[0;34m(\u001b[0m\u001b[0msuggestion_text\u001b[0m\u001b[0;34m,\u001b[0m \u001b[0mcontext\u001b[0m\u001b[0;34m)\u001b[0m\u001b[0;34m\u001b[0m\u001b[0;34m\u001b[0m\u001b[0m\n\u001b[0m\u001b[1;32m     26\u001b[0m         coherence_dict = {\n\u001b[1;32m     27\u001b[0m             \u001b[0;34m\"acceptance\"\u001b[0m\u001b[0;34m:\u001b[0m \u001b[0macceptance\u001b[0m\u001b[0;34m,\u001b[0m\u001b[0;34m\u001b[0m\u001b[0;34m\u001b[0m\u001b[0m\n",
            "\u001b[0;32m<ipython-input-14-ae41d75cc1a0>\u001b[0m in \u001b[0;36mcompute_coherence\u001b[0;34m(suggestion, context)\u001b[0m\n\u001b[1;32m      2\u001b[0m \u001b[0;34m\u001b[0m\u001b[0m\n\u001b[1;32m      3\u001b[0m \u001b[0;32mdef\u001b[0m \u001b[0mcompute_coherence\u001b[0m\u001b[0;34m(\u001b[0m\u001b[0msuggestion\u001b[0m\u001b[0;34m,\u001b[0m \u001b[0mcontext\u001b[0m\u001b[0;34m)\u001b[0m\u001b[0;34m:\u001b[0m\u001b[0;34m\u001b[0m\u001b[0;34m\u001b[0m\u001b[0m\n\u001b[0;32m----> 4\u001b[0;31m     \u001b[0mmodel\u001b[0m \u001b[0;34m=\u001b[0m \u001b[0mSentenceTransformer\u001b[0m\u001b[0;34m(\u001b[0m\u001b[0;34m'all-MiniLM-L6-v2'\u001b[0m\u001b[0;34m)\u001b[0m\u001b[0;34m\u001b[0m\u001b[0;34m\u001b[0m\u001b[0m\n\u001b[0m\u001b[1;32m      5\u001b[0m \u001b[0;34m\u001b[0m\u001b[0m\n\u001b[1;32m      6\u001b[0m     \u001b[0membeddings\u001b[0m \u001b[0;34m=\u001b[0m \u001b[0mmodel\u001b[0m\u001b[0;34m.\u001b[0m\u001b[0mencode\u001b[0m\u001b[0;34m(\u001b[0m\u001b[0;34m[\u001b[0m\u001b[0msuggestion\u001b[0m\u001b[0;34m,\u001b[0m \u001b[0mcontext\u001b[0m\u001b[0;34m]\u001b[0m\u001b[0;34m)\u001b[0m\u001b[0;34m\u001b[0m\u001b[0;34m\u001b[0m\u001b[0m\n",
            "\u001b[0;32m/usr/local/lib/python3.11/dist-packages/sentence_transformers/SentenceTransformer.py\u001b[0m in \u001b[0;36m__init__\u001b[0;34m(self, model_name_or_path, modules, device, prompts, default_prompt_name, similarity_fn_name, cache_folder, trust_remote_code, revision, local_files_only, token, use_auth_token, truncate_dim, model_kwargs, tokenizer_kwargs, config_kwargs, model_card_data, backend)\u001b[0m\n\u001b[1;32m    306\u001b[0m                 \u001b[0mlocal_files_only\u001b[0m\u001b[0;34m=\u001b[0m\u001b[0mlocal_files_only\u001b[0m\u001b[0;34m,\u001b[0m\u001b[0;34m\u001b[0m\u001b[0;34m\u001b[0m\u001b[0m\n\u001b[1;32m    307\u001b[0m             ):\n\u001b[0;32m--> 308\u001b[0;31m                 modules, self.module_kwargs = self._load_sbert_model(\n\u001b[0m\u001b[1;32m    309\u001b[0m                     \u001b[0mmodel_name_or_path\u001b[0m\u001b[0;34m,\u001b[0m\u001b[0;34m\u001b[0m\u001b[0;34m\u001b[0m\u001b[0m\n\u001b[1;32m    310\u001b[0m                     \u001b[0mtoken\u001b[0m\u001b[0;34m=\u001b[0m\u001b[0mtoken\u001b[0m\u001b[0;34m,\u001b[0m\u001b[0;34m\u001b[0m\u001b[0;34m\u001b[0m\u001b[0m\n",
            "\u001b[0;32m/usr/local/lib/python3.11/dist-packages/sentence_transformers/SentenceTransformer.py\u001b[0m in \u001b[0;36m_load_sbert_model\u001b[0;34m(self, model_name_or_path, token, cache_folder, revision, trust_remote_code, local_files_only, model_kwargs, tokenizer_kwargs, config_kwargs)\u001b[0m\n\u001b[1;32m   1687\u001b[0m                     \u001b[0;34m\"sentence_xlnet_config.json\"\u001b[0m\u001b[0;34m,\u001b[0m\u001b[0;34m\u001b[0m\u001b[0;34m\u001b[0m\u001b[0m\n\u001b[1;32m   1688\u001b[0m                 ]:\n\u001b[0;32m-> 1689\u001b[0;31m                     config_path = load_file_path(\n\u001b[0m\u001b[1;32m   1690\u001b[0m                         \u001b[0mmodel_name_or_path\u001b[0m\u001b[0;34m,\u001b[0m\u001b[0;34m\u001b[0m\u001b[0;34m\u001b[0m\u001b[0m\n\u001b[1;32m   1691\u001b[0m                         \u001b[0mconfig_name\u001b[0m\u001b[0;34m,\u001b[0m\u001b[0;34m\u001b[0m\u001b[0;34m\u001b[0m\u001b[0m\n",
            "\u001b[0;32m/usr/local/lib/python3.11/dist-packages/sentence_transformers/util.py\u001b[0m in \u001b[0;36mload_file_path\u001b[0;34m(model_name_or_path, filename, token, cache_folder, revision, local_files_only)\u001b[0m\n\u001b[1;32m   1357\u001b[0m     \u001b[0;31m# If file is remote\u001b[0m\u001b[0;34m\u001b[0m\u001b[0;34m\u001b[0m\u001b[0m\n\u001b[1;32m   1358\u001b[0m     \u001b[0;32mtry\u001b[0m\u001b[0;34m:\u001b[0m\u001b[0;34m\u001b[0m\u001b[0;34m\u001b[0m\u001b[0m\n\u001b[0;32m-> 1359\u001b[0;31m         return hf_hub_download(\n\u001b[0m\u001b[1;32m   1360\u001b[0m             \u001b[0mmodel_name_or_path\u001b[0m\u001b[0;34m,\u001b[0m\u001b[0;34m\u001b[0m\u001b[0;34m\u001b[0m\u001b[0m\n\u001b[1;32m   1361\u001b[0m             \u001b[0mfilename\u001b[0m\u001b[0;34m=\u001b[0m\u001b[0mfilename\u001b[0m\u001b[0;34m,\u001b[0m\u001b[0;34m\u001b[0m\u001b[0;34m\u001b[0m\u001b[0m\n",
            "\u001b[0;32m/usr/local/lib/python3.11/dist-packages/huggingface_hub/utils/_validators.py\u001b[0m in \u001b[0;36m_inner_fn\u001b[0;34m(*args, **kwargs)\u001b[0m\n\u001b[1;32m    112\u001b[0m             \u001b[0mkwargs\u001b[0m \u001b[0;34m=\u001b[0m \u001b[0msmoothly_deprecate_use_auth_token\u001b[0m\u001b[0;34m(\u001b[0m\u001b[0mfn_name\u001b[0m\u001b[0;34m=\u001b[0m\u001b[0mfn\u001b[0m\u001b[0;34m.\u001b[0m\u001b[0m__name__\u001b[0m\u001b[0;34m,\u001b[0m \u001b[0mhas_token\u001b[0m\u001b[0;34m=\u001b[0m\u001b[0mhas_token\u001b[0m\u001b[0;34m,\u001b[0m \u001b[0mkwargs\u001b[0m\u001b[0;34m=\u001b[0m\u001b[0mkwargs\u001b[0m\u001b[0;34m)\u001b[0m\u001b[0;34m\u001b[0m\u001b[0;34m\u001b[0m\u001b[0m\n\u001b[1;32m    113\u001b[0m \u001b[0;34m\u001b[0m\u001b[0m\n\u001b[0;32m--> 114\u001b[0;31m         \u001b[0;32mreturn\u001b[0m \u001b[0mfn\u001b[0m\u001b[0;34m(\u001b[0m\u001b[0;34m*\u001b[0m\u001b[0margs\u001b[0m\u001b[0;34m,\u001b[0m \u001b[0;34m**\u001b[0m\u001b[0mkwargs\u001b[0m\u001b[0;34m)\u001b[0m\u001b[0;34m\u001b[0m\u001b[0;34m\u001b[0m\u001b[0m\n\u001b[0m\u001b[1;32m    115\u001b[0m \u001b[0;34m\u001b[0m\u001b[0m\n\u001b[1;32m    116\u001b[0m     \u001b[0;32mreturn\u001b[0m \u001b[0m_inner_fn\u001b[0m  \u001b[0;31m# type: ignore\u001b[0m\u001b[0;34m\u001b[0m\u001b[0;34m\u001b[0m\u001b[0m\n",
            "\u001b[0;32m/usr/local/lib/python3.11/dist-packages/huggingface_hub/file_download.py\u001b[0m in \u001b[0;36mhf_hub_download\u001b[0;34m(repo_id, filename, subfolder, repo_type, revision, library_name, library_version, cache_dir, local_dir, user_agent, force_download, proxies, etag_timeout, token, local_files_only, headers, endpoint, resume_download, force_filename, local_dir_use_symlinks)\u001b[0m\n\u001b[1;32m    858\u001b[0m         )\n\u001b[1;32m    859\u001b[0m     \u001b[0;32melse\u001b[0m\u001b[0;34m:\u001b[0m\u001b[0;34m\u001b[0m\u001b[0;34m\u001b[0m\u001b[0m\n\u001b[0;32m--> 860\u001b[0;31m         return _hf_hub_download_to_cache_dir(\n\u001b[0m\u001b[1;32m    861\u001b[0m             \u001b[0;31m# Destination\u001b[0m\u001b[0;34m\u001b[0m\u001b[0;34m\u001b[0m\u001b[0m\n\u001b[1;32m    862\u001b[0m             \u001b[0mcache_dir\u001b[0m\u001b[0;34m=\u001b[0m\u001b[0mcache_dir\u001b[0m\u001b[0;34m,\u001b[0m\u001b[0;34m\u001b[0m\u001b[0;34m\u001b[0m\u001b[0m\n",
            "\u001b[0;32m/usr/local/lib/python3.11/dist-packages/huggingface_hub/file_download.py\u001b[0m in \u001b[0;36m_hf_hub_download_to_cache_dir\u001b[0;34m(cache_dir, repo_id, filename, repo_type, revision, endpoint, etag_timeout, headers, proxies, token, local_files_only, force_download)\u001b[0m\n\u001b[1;32m    921\u001b[0m     \u001b[0;31m# Try to get metadata (etag, commit_hash, url, size) from the server.\u001b[0m\u001b[0;34m\u001b[0m\u001b[0;34m\u001b[0m\u001b[0m\n\u001b[1;32m    922\u001b[0m     \u001b[0;31m# If we can't, a HEAD request error is returned.\u001b[0m\u001b[0;34m\u001b[0m\u001b[0;34m\u001b[0m\u001b[0m\n\u001b[0;32m--> 923\u001b[0;31m     (url_to_download, etag, commit_hash, expected_size, head_call_error) = _get_metadata_or_catch_error(\n\u001b[0m\u001b[1;32m    924\u001b[0m         \u001b[0mrepo_id\u001b[0m\u001b[0;34m=\u001b[0m\u001b[0mrepo_id\u001b[0m\u001b[0;34m,\u001b[0m\u001b[0;34m\u001b[0m\u001b[0;34m\u001b[0m\u001b[0m\n\u001b[1;32m    925\u001b[0m         \u001b[0mfilename\u001b[0m\u001b[0;34m=\u001b[0m\u001b[0mfilename\u001b[0m\u001b[0;34m,\u001b[0m\u001b[0;34m\u001b[0m\u001b[0;34m\u001b[0m\u001b[0m\n",
            "\u001b[0;32m/usr/local/lib/python3.11/dist-packages/huggingface_hub/file_download.py\u001b[0m in \u001b[0;36m_get_metadata_or_catch_error\u001b[0;34m(repo_id, filename, repo_type, revision, endpoint, proxies, etag_timeout, headers, token, local_files_only, relative_filename, storage_folder)\u001b[0m\n\u001b[1;32m   1372\u001b[0m         \u001b[0;32mtry\u001b[0m\u001b[0;34m:\u001b[0m\u001b[0;34m\u001b[0m\u001b[0;34m\u001b[0m\u001b[0m\n\u001b[1;32m   1373\u001b[0m             \u001b[0;32mtry\u001b[0m\u001b[0;34m:\u001b[0m\u001b[0;34m\u001b[0m\u001b[0;34m\u001b[0m\u001b[0m\n\u001b[0;32m-> 1374\u001b[0;31m                 metadata = get_hf_file_metadata(\n\u001b[0m\u001b[1;32m   1375\u001b[0m                     \u001b[0murl\u001b[0m\u001b[0;34m=\u001b[0m\u001b[0murl\u001b[0m\u001b[0;34m,\u001b[0m \u001b[0mproxies\u001b[0m\u001b[0;34m=\u001b[0m\u001b[0mproxies\u001b[0m\u001b[0;34m,\u001b[0m \u001b[0mtimeout\u001b[0m\u001b[0;34m=\u001b[0m\u001b[0metag_timeout\u001b[0m\u001b[0;34m,\u001b[0m \u001b[0mheaders\u001b[0m\u001b[0;34m=\u001b[0m\u001b[0mheaders\u001b[0m\u001b[0;34m,\u001b[0m \u001b[0mtoken\u001b[0m\u001b[0;34m=\u001b[0m\u001b[0mtoken\u001b[0m\u001b[0;34m\u001b[0m\u001b[0;34m\u001b[0m\u001b[0m\n\u001b[1;32m   1376\u001b[0m                 )\n",
            "\u001b[0;32m/usr/local/lib/python3.11/dist-packages/huggingface_hub/utils/_validators.py\u001b[0m in \u001b[0;36m_inner_fn\u001b[0;34m(*args, **kwargs)\u001b[0m\n\u001b[1;32m    112\u001b[0m             \u001b[0mkwargs\u001b[0m \u001b[0;34m=\u001b[0m \u001b[0msmoothly_deprecate_use_auth_token\u001b[0m\u001b[0;34m(\u001b[0m\u001b[0mfn_name\u001b[0m\u001b[0;34m=\u001b[0m\u001b[0mfn\u001b[0m\u001b[0;34m.\u001b[0m\u001b[0m__name__\u001b[0m\u001b[0;34m,\u001b[0m \u001b[0mhas_token\u001b[0m\u001b[0;34m=\u001b[0m\u001b[0mhas_token\u001b[0m\u001b[0;34m,\u001b[0m \u001b[0mkwargs\u001b[0m\u001b[0;34m=\u001b[0m\u001b[0mkwargs\u001b[0m\u001b[0;34m)\u001b[0m\u001b[0;34m\u001b[0m\u001b[0;34m\u001b[0m\u001b[0m\n\u001b[1;32m    113\u001b[0m \u001b[0;34m\u001b[0m\u001b[0m\n\u001b[0;32m--> 114\u001b[0;31m         \u001b[0;32mreturn\u001b[0m \u001b[0mfn\u001b[0m\u001b[0;34m(\u001b[0m\u001b[0;34m*\u001b[0m\u001b[0margs\u001b[0m\u001b[0;34m,\u001b[0m \u001b[0;34m**\u001b[0m\u001b[0mkwargs\u001b[0m\u001b[0;34m)\u001b[0m\u001b[0;34m\u001b[0m\u001b[0;34m\u001b[0m\u001b[0m\n\u001b[0m\u001b[1;32m    115\u001b[0m \u001b[0;34m\u001b[0m\u001b[0m\n\u001b[1;32m    116\u001b[0m     \u001b[0;32mreturn\u001b[0m \u001b[0m_inner_fn\u001b[0m  \u001b[0;31m# type: ignore\u001b[0m\u001b[0;34m\u001b[0m\u001b[0;34m\u001b[0m\u001b[0m\n",
            "\u001b[0;32m/usr/local/lib/python3.11/dist-packages/huggingface_hub/file_download.py\u001b[0m in \u001b[0;36mget_hf_file_metadata\u001b[0;34m(url, token, proxies, timeout, library_name, library_version, user_agent, headers)\u001b[0m\n\u001b[1;32m   1292\u001b[0m \u001b[0;34m\u001b[0m\u001b[0m\n\u001b[1;32m   1293\u001b[0m     \u001b[0;31m# Retrieve metadata\u001b[0m\u001b[0;34m\u001b[0m\u001b[0;34m\u001b[0m\u001b[0m\n\u001b[0;32m-> 1294\u001b[0;31m     r = _request_wrapper(\n\u001b[0m\u001b[1;32m   1295\u001b[0m         \u001b[0mmethod\u001b[0m\u001b[0;34m=\u001b[0m\u001b[0;34m\"HEAD\"\u001b[0m\u001b[0;34m,\u001b[0m\u001b[0;34m\u001b[0m\u001b[0;34m\u001b[0m\u001b[0m\n\u001b[1;32m   1296\u001b[0m         \u001b[0murl\u001b[0m\u001b[0;34m=\u001b[0m\u001b[0murl\u001b[0m\u001b[0;34m,\u001b[0m\u001b[0;34m\u001b[0m\u001b[0;34m\u001b[0m\u001b[0m\n",
            "\u001b[0;32m/usr/local/lib/python3.11/dist-packages/huggingface_hub/file_download.py\u001b[0m in \u001b[0;36m_request_wrapper\u001b[0;34m(method, url, follow_relative_redirects, **params)\u001b[0m\n\u001b[1;32m    276\u001b[0m     \u001b[0;31m# Recursively follow relative redirects\u001b[0m\u001b[0;34m\u001b[0m\u001b[0;34m\u001b[0m\u001b[0m\n\u001b[1;32m    277\u001b[0m     \u001b[0;32mif\u001b[0m \u001b[0mfollow_relative_redirects\u001b[0m\u001b[0;34m:\u001b[0m\u001b[0;34m\u001b[0m\u001b[0;34m\u001b[0m\u001b[0m\n\u001b[0;32m--> 278\u001b[0;31m         response = _request_wrapper(\n\u001b[0m\u001b[1;32m    279\u001b[0m             \u001b[0mmethod\u001b[0m\u001b[0;34m=\u001b[0m\u001b[0mmethod\u001b[0m\u001b[0;34m,\u001b[0m\u001b[0;34m\u001b[0m\u001b[0;34m\u001b[0m\u001b[0m\n\u001b[1;32m    280\u001b[0m             \u001b[0murl\u001b[0m\u001b[0;34m=\u001b[0m\u001b[0murl\u001b[0m\u001b[0;34m,\u001b[0m\u001b[0;34m\u001b[0m\u001b[0;34m\u001b[0m\u001b[0m\n",
            "\u001b[0;32m/usr/local/lib/python3.11/dist-packages/huggingface_hub/file_download.py\u001b[0m in \u001b[0;36m_request_wrapper\u001b[0;34m(method, url, follow_relative_redirects, **params)\u001b[0m\n\u001b[1;32m    299\u001b[0m \u001b[0;34m\u001b[0m\u001b[0m\n\u001b[1;32m    300\u001b[0m     \u001b[0;31m# Perform request and return if status_code is not in the retry list.\u001b[0m\u001b[0;34m\u001b[0m\u001b[0;34m\u001b[0m\u001b[0m\n\u001b[0;32m--> 301\u001b[0;31m     \u001b[0mresponse\u001b[0m \u001b[0;34m=\u001b[0m \u001b[0mget_session\u001b[0m\u001b[0;34m(\u001b[0m\u001b[0;34m)\u001b[0m\u001b[0;34m.\u001b[0m\u001b[0mrequest\u001b[0m\u001b[0;34m(\u001b[0m\u001b[0mmethod\u001b[0m\u001b[0;34m=\u001b[0m\u001b[0mmethod\u001b[0m\u001b[0;34m,\u001b[0m \u001b[0murl\u001b[0m\u001b[0;34m=\u001b[0m\u001b[0murl\u001b[0m\u001b[0;34m,\u001b[0m \u001b[0;34m**\u001b[0m\u001b[0mparams\u001b[0m\u001b[0;34m)\u001b[0m\u001b[0;34m\u001b[0m\u001b[0;34m\u001b[0m\u001b[0m\n\u001b[0m\u001b[1;32m    302\u001b[0m     \u001b[0mhf_raise_for_status\u001b[0m\u001b[0;34m(\u001b[0m\u001b[0mresponse\u001b[0m\u001b[0;34m)\u001b[0m\u001b[0;34m\u001b[0m\u001b[0;34m\u001b[0m\u001b[0m\n\u001b[1;32m    303\u001b[0m     \u001b[0;32mreturn\u001b[0m \u001b[0mresponse\u001b[0m\u001b[0;34m\u001b[0m\u001b[0;34m\u001b[0m\u001b[0m\n",
            "\u001b[0;32m/usr/local/lib/python3.11/dist-packages/requests/sessions.py\u001b[0m in \u001b[0;36mrequest\u001b[0;34m(self, method, url, params, data, headers, cookies, files, auth, timeout, allow_redirects, proxies, hooks, stream, verify, cert, json)\u001b[0m\n\u001b[1;32m    587\u001b[0m         }\n\u001b[1;32m    588\u001b[0m         \u001b[0msend_kwargs\u001b[0m\u001b[0;34m.\u001b[0m\u001b[0mupdate\u001b[0m\u001b[0;34m(\u001b[0m\u001b[0msettings\u001b[0m\u001b[0;34m)\u001b[0m\u001b[0;34m\u001b[0m\u001b[0;34m\u001b[0m\u001b[0m\n\u001b[0;32m--> 589\u001b[0;31m         \u001b[0mresp\u001b[0m \u001b[0;34m=\u001b[0m \u001b[0mself\u001b[0m\u001b[0;34m.\u001b[0m\u001b[0msend\u001b[0m\u001b[0;34m(\u001b[0m\u001b[0mprep\u001b[0m\u001b[0;34m,\u001b[0m \u001b[0;34m**\u001b[0m\u001b[0msend_kwargs\u001b[0m\u001b[0;34m)\u001b[0m\u001b[0;34m\u001b[0m\u001b[0;34m\u001b[0m\u001b[0m\n\u001b[0m\u001b[1;32m    590\u001b[0m \u001b[0;34m\u001b[0m\u001b[0m\n\u001b[1;32m    591\u001b[0m         \u001b[0;32mreturn\u001b[0m \u001b[0mresp\u001b[0m\u001b[0;34m\u001b[0m\u001b[0;34m\u001b[0m\u001b[0m\n",
            "\u001b[0;32m/usr/local/lib/python3.11/dist-packages/requests/sessions.py\u001b[0m in \u001b[0;36msend\u001b[0;34m(self, request, **kwargs)\u001b[0m\n\u001b[1;32m    701\u001b[0m \u001b[0;34m\u001b[0m\u001b[0m\n\u001b[1;32m    702\u001b[0m         \u001b[0;31m# Send the request\u001b[0m\u001b[0;34m\u001b[0m\u001b[0;34m\u001b[0m\u001b[0m\n\u001b[0;32m--> 703\u001b[0;31m         \u001b[0mr\u001b[0m \u001b[0;34m=\u001b[0m \u001b[0madapter\u001b[0m\u001b[0;34m.\u001b[0m\u001b[0msend\u001b[0m\u001b[0;34m(\u001b[0m\u001b[0mrequest\u001b[0m\u001b[0;34m,\u001b[0m \u001b[0;34m**\u001b[0m\u001b[0mkwargs\u001b[0m\u001b[0;34m)\u001b[0m\u001b[0;34m\u001b[0m\u001b[0;34m\u001b[0m\u001b[0m\n\u001b[0m\u001b[1;32m    704\u001b[0m \u001b[0;34m\u001b[0m\u001b[0m\n\u001b[1;32m    705\u001b[0m         \u001b[0;31m# Total elapsed time of the request (approximately)\u001b[0m\u001b[0;34m\u001b[0m\u001b[0;34m\u001b[0m\u001b[0m\n",
            "\u001b[0;32m/usr/local/lib/python3.11/dist-packages/huggingface_hub/utils/_http.py\u001b[0m in \u001b[0;36msend\u001b[0;34m(self, request, *args, **kwargs)\u001b[0m\n\u001b[1;32m     91\u001b[0m         \u001b[0;34m\"\"\"Catch any RequestException to append request id to the error message for debugging.\"\"\"\u001b[0m\u001b[0;34m\u001b[0m\u001b[0;34m\u001b[0m\u001b[0m\n\u001b[1;32m     92\u001b[0m         \u001b[0;32mtry\u001b[0m\u001b[0;34m:\u001b[0m\u001b[0;34m\u001b[0m\u001b[0;34m\u001b[0m\u001b[0m\n\u001b[0;32m---> 93\u001b[0;31m             \u001b[0;32mreturn\u001b[0m \u001b[0msuper\u001b[0m\u001b[0;34m(\u001b[0m\u001b[0;34m)\u001b[0m\u001b[0;34m.\u001b[0m\u001b[0msend\u001b[0m\u001b[0;34m(\u001b[0m\u001b[0mrequest\u001b[0m\u001b[0;34m,\u001b[0m \u001b[0;34m*\u001b[0m\u001b[0margs\u001b[0m\u001b[0;34m,\u001b[0m \u001b[0;34m**\u001b[0m\u001b[0mkwargs\u001b[0m\u001b[0;34m)\u001b[0m\u001b[0;34m\u001b[0m\u001b[0;34m\u001b[0m\u001b[0m\n\u001b[0m\u001b[1;32m     94\u001b[0m         \u001b[0;32mexcept\u001b[0m \u001b[0mrequests\u001b[0m\u001b[0;34m.\u001b[0m\u001b[0mRequestException\u001b[0m \u001b[0;32mas\u001b[0m \u001b[0me\u001b[0m\u001b[0;34m:\u001b[0m\u001b[0;34m\u001b[0m\u001b[0;34m\u001b[0m\u001b[0m\n\u001b[1;32m     95\u001b[0m             \u001b[0mrequest_id\u001b[0m \u001b[0;34m=\u001b[0m \u001b[0mrequest\u001b[0m\u001b[0;34m.\u001b[0m\u001b[0mheaders\u001b[0m\u001b[0;34m.\u001b[0m\u001b[0mget\u001b[0m\u001b[0;34m(\u001b[0m\u001b[0mX_AMZN_TRACE_ID\u001b[0m\u001b[0;34m)\u001b[0m\u001b[0;34m\u001b[0m\u001b[0;34m\u001b[0m\u001b[0m\n",
            "\u001b[0;32m/usr/local/lib/python3.11/dist-packages/requests/adapters.py\u001b[0m in \u001b[0;36msend\u001b[0;34m(self, request, stream, timeout, verify, cert, proxies)\u001b[0m\n\u001b[1;32m    665\u001b[0m \u001b[0;34m\u001b[0m\u001b[0m\n\u001b[1;32m    666\u001b[0m         \u001b[0;32mtry\u001b[0m\u001b[0;34m:\u001b[0m\u001b[0;34m\u001b[0m\u001b[0;34m\u001b[0m\u001b[0m\n\u001b[0;32m--> 667\u001b[0;31m             resp = conn.urlopen(\n\u001b[0m\u001b[1;32m    668\u001b[0m                 \u001b[0mmethod\u001b[0m\u001b[0;34m=\u001b[0m\u001b[0mrequest\u001b[0m\u001b[0;34m.\u001b[0m\u001b[0mmethod\u001b[0m\u001b[0;34m,\u001b[0m\u001b[0;34m\u001b[0m\u001b[0;34m\u001b[0m\u001b[0m\n\u001b[1;32m    669\u001b[0m                 \u001b[0murl\u001b[0m\u001b[0;34m=\u001b[0m\u001b[0murl\u001b[0m\u001b[0;34m,\u001b[0m\u001b[0;34m\u001b[0m\u001b[0;34m\u001b[0m\u001b[0m\n",
            "\u001b[0;32m/usr/local/lib/python3.11/dist-packages/urllib3/connectionpool.py\u001b[0m in \u001b[0;36murlopen\u001b[0;34m(self, method, url, body, headers, retries, redirect, assert_same_host, timeout, pool_timeout, release_conn, chunked, body_pos, preload_content, decode_content, **response_kw)\u001b[0m\n\u001b[1;32m    785\u001b[0m \u001b[0;34m\u001b[0m\u001b[0m\n\u001b[1;32m    786\u001b[0m             \u001b[0;31m# Make the request on the HTTPConnection object\u001b[0m\u001b[0;34m\u001b[0m\u001b[0;34m\u001b[0m\u001b[0m\n\u001b[0;32m--> 787\u001b[0;31m             response = self._make_request(\n\u001b[0m\u001b[1;32m    788\u001b[0m                 \u001b[0mconn\u001b[0m\u001b[0;34m,\u001b[0m\u001b[0;34m\u001b[0m\u001b[0;34m\u001b[0m\u001b[0m\n\u001b[1;32m    789\u001b[0m                 \u001b[0mmethod\u001b[0m\u001b[0;34m,\u001b[0m\u001b[0;34m\u001b[0m\u001b[0;34m\u001b[0m\u001b[0m\n",
            "\u001b[0;32m/usr/local/lib/python3.11/dist-packages/urllib3/connectionpool.py\u001b[0m in \u001b[0;36m_make_request\u001b[0;34m(self, conn, method, url, body, headers, retries, timeout, chunked, response_conn, preload_content, decode_content, enforce_content_length)\u001b[0m\n\u001b[1;32m    532\u001b[0m         \u001b[0;31m# Receive the response from the server\u001b[0m\u001b[0;34m\u001b[0m\u001b[0;34m\u001b[0m\u001b[0m\n\u001b[1;32m    533\u001b[0m         \u001b[0;32mtry\u001b[0m\u001b[0;34m:\u001b[0m\u001b[0;34m\u001b[0m\u001b[0;34m\u001b[0m\u001b[0m\n\u001b[0;32m--> 534\u001b[0;31m             \u001b[0mresponse\u001b[0m \u001b[0;34m=\u001b[0m \u001b[0mconn\u001b[0m\u001b[0;34m.\u001b[0m\u001b[0mgetresponse\u001b[0m\u001b[0;34m(\u001b[0m\u001b[0;34m)\u001b[0m\u001b[0;34m\u001b[0m\u001b[0;34m\u001b[0m\u001b[0m\n\u001b[0m\u001b[1;32m    535\u001b[0m         \u001b[0;32mexcept\u001b[0m \u001b[0;34m(\u001b[0m\u001b[0mBaseSSLError\u001b[0m\u001b[0;34m,\u001b[0m \u001b[0mOSError\u001b[0m\u001b[0;34m)\u001b[0m \u001b[0;32mas\u001b[0m \u001b[0me\u001b[0m\u001b[0;34m:\u001b[0m\u001b[0;34m\u001b[0m\u001b[0;34m\u001b[0m\u001b[0m\n\u001b[1;32m    536\u001b[0m             \u001b[0mself\u001b[0m\u001b[0;34m.\u001b[0m\u001b[0m_raise_timeout\u001b[0m\u001b[0;34m(\u001b[0m\u001b[0merr\u001b[0m\u001b[0;34m=\u001b[0m\u001b[0me\u001b[0m\u001b[0;34m,\u001b[0m \u001b[0murl\u001b[0m\u001b[0;34m=\u001b[0m\u001b[0murl\u001b[0m\u001b[0;34m,\u001b[0m \u001b[0mtimeout_value\u001b[0m\u001b[0;34m=\u001b[0m\u001b[0mread_timeout\u001b[0m\u001b[0;34m)\u001b[0m\u001b[0;34m\u001b[0m\u001b[0;34m\u001b[0m\u001b[0m\n",
            "\u001b[0;32m/usr/local/lib/python3.11/dist-packages/urllib3/connection.py\u001b[0m in \u001b[0;36mgetresponse\u001b[0;34m(self)\u001b[0m\n\u001b[1;32m    514\u001b[0m \u001b[0;34m\u001b[0m\u001b[0m\n\u001b[1;32m    515\u001b[0m         \u001b[0;31m# Get the response from http.client.HTTPConnection\u001b[0m\u001b[0;34m\u001b[0m\u001b[0;34m\u001b[0m\u001b[0m\n\u001b[0;32m--> 516\u001b[0;31m         \u001b[0mhttplib_response\u001b[0m \u001b[0;34m=\u001b[0m \u001b[0msuper\u001b[0m\u001b[0;34m(\u001b[0m\u001b[0;34m)\u001b[0m\u001b[0;34m.\u001b[0m\u001b[0mgetresponse\u001b[0m\u001b[0;34m(\u001b[0m\u001b[0;34m)\u001b[0m\u001b[0;34m\u001b[0m\u001b[0;34m\u001b[0m\u001b[0m\n\u001b[0m\u001b[1;32m    517\u001b[0m \u001b[0;34m\u001b[0m\u001b[0m\n\u001b[1;32m    518\u001b[0m         \u001b[0;32mtry\u001b[0m\u001b[0;34m:\u001b[0m\u001b[0;34m\u001b[0m\u001b[0;34m\u001b[0m\u001b[0m\n",
            "\u001b[0;32m/usr/lib/python3.11/http/client.py\u001b[0m in \u001b[0;36mgetresponse\u001b[0;34m(self)\u001b[0m\n\u001b[1;32m   1393\u001b[0m         \u001b[0;32mtry\u001b[0m\u001b[0;34m:\u001b[0m\u001b[0;34m\u001b[0m\u001b[0;34m\u001b[0m\u001b[0m\n\u001b[1;32m   1394\u001b[0m             \u001b[0;32mtry\u001b[0m\u001b[0;34m:\u001b[0m\u001b[0;34m\u001b[0m\u001b[0;34m\u001b[0m\u001b[0m\n\u001b[0;32m-> 1395\u001b[0;31m                 \u001b[0mresponse\u001b[0m\u001b[0;34m.\u001b[0m\u001b[0mbegin\u001b[0m\u001b[0;34m(\u001b[0m\u001b[0;34m)\u001b[0m\u001b[0;34m\u001b[0m\u001b[0;34m\u001b[0m\u001b[0m\n\u001b[0m\u001b[1;32m   1396\u001b[0m             \u001b[0;32mexcept\u001b[0m \u001b[0mConnectionError\u001b[0m\u001b[0;34m:\u001b[0m\u001b[0;34m\u001b[0m\u001b[0;34m\u001b[0m\u001b[0m\n\u001b[1;32m   1397\u001b[0m                 \u001b[0mself\u001b[0m\u001b[0;34m.\u001b[0m\u001b[0mclose\u001b[0m\u001b[0;34m(\u001b[0m\u001b[0;34m)\u001b[0m\u001b[0;34m\u001b[0m\u001b[0;34m\u001b[0m\u001b[0m\n",
            "\u001b[0;32m/usr/lib/python3.11/http/client.py\u001b[0m in \u001b[0;36mbegin\u001b[0;34m(self)\u001b[0m\n\u001b[1;32m    323\u001b[0m         \u001b[0;31m# read until we get a non-100 response\u001b[0m\u001b[0;34m\u001b[0m\u001b[0;34m\u001b[0m\u001b[0m\n\u001b[1;32m    324\u001b[0m         \u001b[0;32mwhile\u001b[0m \u001b[0;32mTrue\u001b[0m\u001b[0;34m:\u001b[0m\u001b[0;34m\u001b[0m\u001b[0;34m\u001b[0m\u001b[0m\n\u001b[0;32m--> 325\u001b[0;31m             \u001b[0mversion\u001b[0m\u001b[0;34m,\u001b[0m \u001b[0mstatus\u001b[0m\u001b[0;34m,\u001b[0m \u001b[0mreason\u001b[0m \u001b[0;34m=\u001b[0m \u001b[0mself\u001b[0m\u001b[0;34m.\u001b[0m\u001b[0m_read_status\u001b[0m\u001b[0;34m(\u001b[0m\u001b[0;34m)\u001b[0m\u001b[0;34m\u001b[0m\u001b[0;34m\u001b[0m\u001b[0m\n\u001b[0m\u001b[1;32m    326\u001b[0m             \u001b[0;32mif\u001b[0m \u001b[0mstatus\u001b[0m \u001b[0;34m!=\u001b[0m \u001b[0mCONTINUE\u001b[0m\u001b[0;34m:\u001b[0m\u001b[0;34m\u001b[0m\u001b[0;34m\u001b[0m\u001b[0m\n\u001b[1;32m    327\u001b[0m                 \u001b[0;32mbreak\u001b[0m\u001b[0;34m\u001b[0m\u001b[0;34m\u001b[0m\u001b[0m\n",
            "\u001b[0;32m/usr/lib/python3.11/http/client.py\u001b[0m in \u001b[0;36m_read_status\u001b[0;34m(self)\u001b[0m\n\u001b[1;32m    284\u001b[0m \u001b[0;34m\u001b[0m\u001b[0m\n\u001b[1;32m    285\u001b[0m     \u001b[0;32mdef\u001b[0m \u001b[0m_read_status\u001b[0m\u001b[0;34m(\u001b[0m\u001b[0mself\u001b[0m\u001b[0;34m)\u001b[0m\u001b[0;34m:\u001b[0m\u001b[0;34m\u001b[0m\u001b[0;34m\u001b[0m\u001b[0m\n\u001b[0;32m--> 286\u001b[0;31m         \u001b[0mline\u001b[0m \u001b[0;34m=\u001b[0m \u001b[0mstr\u001b[0m\u001b[0;34m(\u001b[0m\u001b[0mself\u001b[0m\u001b[0;34m.\u001b[0m\u001b[0mfp\u001b[0m\u001b[0;34m.\u001b[0m\u001b[0mreadline\u001b[0m\u001b[0;34m(\u001b[0m\u001b[0m_MAXLINE\u001b[0m \u001b[0;34m+\u001b[0m \u001b[0;36m1\u001b[0m\u001b[0;34m)\u001b[0m\u001b[0;34m,\u001b[0m \u001b[0;34m\"iso-8859-1\"\u001b[0m\u001b[0;34m)\u001b[0m\u001b[0;34m\u001b[0m\u001b[0;34m\u001b[0m\u001b[0m\n\u001b[0m\u001b[1;32m    287\u001b[0m         \u001b[0;32mif\u001b[0m \u001b[0mlen\u001b[0m\u001b[0;34m(\u001b[0m\u001b[0mline\u001b[0m\u001b[0;34m)\u001b[0m \u001b[0;34m>\u001b[0m \u001b[0m_MAXLINE\u001b[0m\u001b[0;34m:\u001b[0m\u001b[0;34m\u001b[0m\u001b[0;34m\u001b[0m\u001b[0m\n\u001b[1;32m    288\u001b[0m             \u001b[0;32mraise\u001b[0m \u001b[0mLineTooLong\u001b[0m\u001b[0;34m(\u001b[0m\u001b[0;34m\"status line\"\u001b[0m\u001b[0;34m)\u001b[0m\u001b[0;34m\u001b[0m\u001b[0;34m\u001b[0m\u001b[0m\n",
            "\u001b[0;32m/usr/lib/python3.11/socket.py\u001b[0m in \u001b[0;36mreadinto\u001b[0;34m(self, b)\u001b[0m\n\u001b[1;32m    716\u001b[0m         \u001b[0;32mwhile\u001b[0m \u001b[0;32mTrue\u001b[0m\u001b[0;34m:\u001b[0m\u001b[0;34m\u001b[0m\u001b[0;34m\u001b[0m\u001b[0m\n\u001b[1;32m    717\u001b[0m             \u001b[0;32mtry\u001b[0m\u001b[0;34m:\u001b[0m\u001b[0;34m\u001b[0m\u001b[0;34m\u001b[0m\u001b[0m\n\u001b[0;32m--> 718\u001b[0;31m                 \u001b[0;32mreturn\u001b[0m \u001b[0mself\u001b[0m\u001b[0;34m.\u001b[0m\u001b[0m_sock\u001b[0m\u001b[0;34m.\u001b[0m\u001b[0mrecv_into\u001b[0m\u001b[0;34m(\u001b[0m\u001b[0mb\u001b[0m\u001b[0;34m)\u001b[0m\u001b[0;34m\u001b[0m\u001b[0;34m\u001b[0m\u001b[0m\n\u001b[0m\u001b[1;32m    719\u001b[0m             \u001b[0;32mexcept\u001b[0m \u001b[0mtimeout\u001b[0m\u001b[0;34m:\u001b[0m\u001b[0;34m\u001b[0m\u001b[0;34m\u001b[0m\u001b[0m\n\u001b[1;32m    720\u001b[0m                 \u001b[0mself\u001b[0m\u001b[0;34m.\u001b[0m\u001b[0m_timeout_occurred\u001b[0m \u001b[0;34m=\u001b[0m \u001b[0;32mTrue\u001b[0m\u001b[0;34m\u001b[0m\u001b[0;34m\u001b[0m\u001b[0m\n",
            "\u001b[0;32m/usr/lib/python3.11/ssl.py\u001b[0m in \u001b[0;36mrecv_into\u001b[0;34m(self, buffer, nbytes, flags)\u001b[0m\n\u001b[1;32m   1312\u001b[0m                   \u001b[0;34m\"non-zero flags not allowed in calls to recv_into() on %s\"\u001b[0m \u001b[0;34m%\u001b[0m\u001b[0;34m\u001b[0m\u001b[0;34m\u001b[0m\u001b[0m\n\u001b[1;32m   1313\u001b[0m                   self.__class__)\n\u001b[0;32m-> 1314\u001b[0;31m             \u001b[0;32mreturn\u001b[0m \u001b[0mself\u001b[0m\u001b[0;34m.\u001b[0m\u001b[0mread\u001b[0m\u001b[0;34m(\u001b[0m\u001b[0mnbytes\u001b[0m\u001b[0;34m,\u001b[0m \u001b[0mbuffer\u001b[0m\u001b[0;34m)\u001b[0m\u001b[0;34m\u001b[0m\u001b[0;34m\u001b[0m\u001b[0m\n\u001b[0m\u001b[1;32m   1315\u001b[0m         \u001b[0;32melse\u001b[0m\u001b[0;34m:\u001b[0m\u001b[0;34m\u001b[0m\u001b[0;34m\u001b[0m\u001b[0m\n\u001b[1;32m   1316\u001b[0m             \u001b[0;32mreturn\u001b[0m \u001b[0msuper\u001b[0m\u001b[0;34m(\u001b[0m\u001b[0;34m)\u001b[0m\u001b[0;34m.\u001b[0m\u001b[0mrecv_into\u001b[0m\u001b[0;34m(\u001b[0m\u001b[0mbuffer\u001b[0m\u001b[0;34m,\u001b[0m \u001b[0mnbytes\u001b[0m\u001b[0;34m,\u001b[0m \u001b[0mflags\u001b[0m\u001b[0;34m)\u001b[0m\u001b[0;34m\u001b[0m\u001b[0;34m\u001b[0m\u001b[0m\n",
            "\u001b[0;32m/usr/lib/python3.11/ssl.py\u001b[0m in \u001b[0;36mread\u001b[0;34m(self, len, buffer)\u001b[0m\n\u001b[1;32m   1164\u001b[0m         \u001b[0;32mtry\u001b[0m\u001b[0;34m:\u001b[0m\u001b[0;34m\u001b[0m\u001b[0;34m\u001b[0m\u001b[0m\n\u001b[1;32m   1165\u001b[0m             \u001b[0;32mif\u001b[0m \u001b[0mbuffer\u001b[0m \u001b[0;32mis\u001b[0m \u001b[0;32mnot\u001b[0m \u001b[0;32mNone\u001b[0m\u001b[0;34m:\u001b[0m\u001b[0;34m\u001b[0m\u001b[0;34m\u001b[0m\u001b[0m\n\u001b[0;32m-> 1166\u001b[0;31m                 \u001b[0;32mreturn\u001b[0m \u001b[0mself\u001b[0m\u001b[0;34m.\u001b[0m\u001b[0m_sslobj\u001b[0m\u001b[0;34m.\u001b[0m\u001b[0mread\u001b[0m\u001b[0;34m(\u001b[0m\u001b[0mlen\u001b[0m\u001b[0;34m,\u001b[0m \u001b[0mbuffer\u001b[0m\u001b[0;34m)\u001b[0m\u001b[0;34m\u001b[0m\u001b[0;34m\u001b[0m\u001b[0m\n\u001b[0m\u001b[1;32m   1167\u001b[0m             \u001b[0;32melse\u001b[0m\u001b[0;34m:\u001b[0m\u001b[0;34m\u001b[0m\u001b[0;34m\u001b[0m\u001b[0m\n\u001b[1;32m   1168\u001b[0m                 \u001b[0;32mreturn\u001b[0m \u001b[0mself\u001b[0m\u001b[0;34m.\u001b[0m\u001b[0m_sslobj\u001b[0m\u001b[0;34m.\u001b[0m\u001b[0mread\u001b[0m\u001b[0;34m(\u001b[0m\u001b[0mlen\u001b[0m\u001b[0;34m)\u001b[0m\u001b[0;34m\u001b[0m\u001b[0;34m\u001b[0m\u001b[0m\n",
            "\u001b[0;31mKeyboardInterrupt\u001b[0m: "
          ]
        }
      ]
    },
    {
      "cell_type": "markdown",
      "source": [
        "##Analysis"
      ],
      "metadata": {
        "id": "ee4Gv-0Lazj2"
      }
    },
    {
      "cell_type": "markdown",
      "source": [
        "Calculate the average coherence score."
      ],
      "metadata": {
        "id": "6tSmUpGko4Jp"
      }
    },
    {
      "cell_type": "code",
      "source": [
        "sum = 0\n",
        "for d in coherence_scores:\n",
        "    sum += d['score']\n",
        "average_coherence = sum / len(coherence_scores)\n",
        "\n",
        "print([d['score'] for d in coherence_scores])\n",
        "# print(coherence_scores)\n",
        "print(f\"Average coherence score: {average_coherence}\")"
      ],
      "metadata": {
        "id": "l5VuULktxbPF",
        "colab": {
          "base_uri": "https://localhost:8080/",
          "height": 0
        },
        "outputId": "677dff32-7a40-460c-c1be-33ea3796ad69"
      },
      "execution_count": 17,
      "outputs": [
        {
          "output_type": "stream",
          "name": "stdout",
          "text": [
            "[tensor(0.3937), tensor(0.3659), tensor(0.2648), tensor(0.2872), tensor(0.2380), tensor(0.2837), tensor(0.3490), tensor(0.2019), tensor(0.3714), tensor(0.3838), tensor(0.2064), tensor(0.1612), tensor(0.1953), tensor(0.4129), tensor(0.3527), tensor(0.2602), tensor(0.4163), tensor(0.5411), tensor(0.3645), tensor(0.4708), tensor(0.6766), tensor(0.4816), tensor(0.5994), tensor(0.5267), tensor(0.5139), tensor(0.6181), tensor(0.6817), tensor(0.6718), tensor(0.6091), tensor(0.4430), tensor(0.5464), tensor(0.3308), tensor(0.4386), tensor(0.4359), tensor(0.0865), tensor(0.2425), tensor(0.6186), tensor(0.1811), tensor(0.4896), tensor(0.2457), tensor(0.5799), tensor(0.3971), tensor(0.2374), tensor(0.4981), tensor(0.1759), tensor(0.6335), tensor(0.2268), tensor(0.2499), tensor(0.1537), tensor(0.3039), tensor(0.0852), tensor(0.3316), tensor(0.0317), tensor(0.0391), tensor(0.6977), tensor(0.6977), tensor(0.1081), tensor(0.5123), tensor(0.6992), tensor(0.5016), tensor(0.3498), tensor(0.1269), tensor(0.1849), tensor(0.2631), tensor(0.4195), tensor(0.2522), tensor(0.2166), tensor(0.1153), tensor(0.4358), tensor(0.7087), tensor(0.4255), tensor(0.5476), tensor(0.7026), tensor(0.7769), tensor(0.5413), tensor(0.5515), tensor(0.5027), tensor(0.0297), tensor(0.5453), tensor(0.5239), tensor(0.7843), tensor(0.1280), tensor(-0.0049), tensor(0.1308), tensor(0.5275), tensor(0.3399), tensor(0.3306), tensor(0.3763), tensor(0.1307), tensor(0.2499), tensor(0.4868), tensor(0.4390), tensor(0.3657), tensor(0.2285), tensor(0.3076), tensor(0.3252), tensor(0.3634), tensor(0.4612), tensor(0.4703), tensor(0.0138), tensor(0.0689), tensor(0.1091), tensor(0.2118), tensor(0.2787), tensor(0.2600), tensor(0.0958), tensor(-0.0047), tensor(0.2993), tensor(0.0432), tensor(0.1849), tensor(0.3970), tensor(0.3391), tensor(0.2235), tensor(0.1324), tensor(0.3016), tensor(0.3516), tensor(0.0905), tensor(0.1716), tensor(0.3938), tensor(0.2397), tensor(0.2925), tensor(0.0899), tensor(0.5784), tensor(0.3848), tensor(0.5442), tensor(0.4566), tensor(0.5222), tensor(0.2799), tensor(0.6625), tensor(0.6807), tensor(0.6423), tensor(0.6133), tensor(0.6084), tensor(0.3791), tensor(0.7454), tensor(0.5025), tensor(0.4166), tensor(0.6031), tensor(0.3372), tensor(0.1512), tensor(0.5276), tensor(0.4713), tensor(0.3372), tensor(0.1902), tensor(-0.0598), tensor(0.6724), tensor(0.5916), tensor(0.7623), tensor(0.4100), tensor(0.4758), tensor(0.1335), tensor(0.1618), tensor(0.4212), tensor(0.3282), tensor(0.2066), tensor(0.1702), tensor(0.3997), tensor(0.2144), tensor(0.2784), tensor(0.3382), tensor(0.3590), tensor(0.2613), tensor(0.4028), tensor(0.5237), tensor(0.5790), tensor(0.5987), tensor(0.3239), tensor(0.4471), tensor(0.3418), tensor(0.3418), tensor(0.5014), tensor(0.2107), tensor(0.6789), tensor(0.3325), tensor(0.6682), tensor(0.6454), tensor(0.7092), tensor(0.3407), tensor(0.4413), tensor(0.6649), tensor(0.0726), tensor(0.2455), tensor(0.2871), tensor(0.4701), tensor(0.7865), tensor(0.4265), tensor(0.1053), tensor(0.4731), tensor(0.2086), tensor(0.2888), tensor(0.4161), tensor(0.4351), tensor(0.3184), tensor(0.5710), tensor(0.6204), tensor(0.2240), tensor(0.2655), tensor(0.3545), tensor(0.5981), tensor(0.5643), tensor(0.3856), tensor(0.2879), tensor(0.5975), tensor(0.6505), tensor(0.6454), tensor(0.5946), tensor(0.5595), tensor(0.1474), tensor(0.6257), tensor(0.3784), tensor(0.6563), tensor(0.2458), tensor(0.3662), tensor(0.3812), tensor(-0.0239), tensor(0.3956), tensor(0.5807), tensor(0.3237), tensor(0.3413), tensor(0.7557), tensor(0.1906), tensor(0.3331), tensor(0.3159), tensor(0.4034), tensor(0.5697), tensor(0.4251), tensor(0.2647), tensor(0.2444), tensor(0.2190), tensor(0.6067), tensor(0.4340), tensor(0.4181), tensor(0.2118), tensor(0.0950), tensor(0.4841), tensor(0.1088), tensor(0.3401), tensor(0.3467), tensor(0.3267), tensor(0.5957), tensor(0.5970), tensor(0.7083), tensor(0.6837), tensor(0.6909), tensor(0.8385), tensor(0.6291), tensor(0.3043), tensor(0.3935), tensor(0.1506), tensor(0.2077), tensor(0.6347), tensor(0.3010), tensor(0.4400), tensor(0.5374), tensor(0.2410), tensor(0.3478), tensor(0.5082), tensor(0.5652), tensor(0.5229), tensor(0.2679), tensor(0.3491), tensor(0.0483), tensor(0.2195), tensor(0.0663), tensor(-0.0398), tensor(0.6375), tensor(0.2338), tensor(0.5072), tensor(0.0479), tensor(0.2228), tensor(0.2982), tensor(0.1700), tensor(0.3376), tensor(0.4141), tensor(0.7513), tensor(0.5209), tensor(0.1767), tensor(0.2766), tensor(0.5077), tensor(0.3155), tensor(0.6442), tensor(0.4645), tensor(0.4050), tensor(0.7100), tensor(0.4860), tensor(0.3266), tensor(0.3501), tensor(0.4657), tensor(0.3568), tensor(0.3649), tensor(0.3978), tensor(0.1263), tensor(0.1133), tensor(-0.0243), tensor(0.1176), tensor(0.2848), tensor(0.1003), tensor(0.4086), tensor(0.2632), tensor(0.1856), tensor(0.3204), tensor(0.4647), tensor(0.3885), tensor(0.5315), tensor(0.3185), tensor(0.4253), tensor(0.3916), tensor(0.1404), tensor(0.0395), tensor(0.2962), tensor(0.5938), tensor(0.5946), tensor(0.3472), tensor(0.0370), tensor(0.6109), tensor(0.1009), tensor(0.2209), tensor(0.5440), tensor(0.3966), tensor(0.5537), tensor(0.4269), tensor(0.1665), tensor(0.3282), tensor(0.1629), tensor(0.4678), tensor(0.5677), tensor(0.6143), tensor(0.1699), tensor(0.1699), tensor(0.1699), tensor(0.5384), tensor(0.3886), tensor(0.5436), tensor(0.4195), tensor(0.5287), tensor(0.7255), tensor(0.1817), tensor(0.5441), tensor(0.3053), tensor(0.4687), tensor(0.6102), tensor(0.3302), tensor(0.2357), tensor(0.2180), tensor(0.5428), tensor(0.4183), tensor(0.0663), tensor(0.5294), tensor(0.3337), tensor(0.4729), tensor(0.2841), tensor(0.4289), tensor(0.1517), tensor(0.1708), tensor(0.4242), tensor(0.3462), tensor(0.6398), tensor(0.3398), tensor(0.5316), tensor(0.2655), tensor(0.7452), tensor(0.7617), tensor(0.2728), tensor(0.5873), tensor(0.2287), tensor(0.5612), tensor(0.2497), tensor(0.2770), tensor(0.1378), tensor(0.1797), tensor(0.1703), tensor(0.0212), tensor(0.0517), tensor(0.2964), tensor(0.6135), tensor(0.6019), tensor(0.4619), tensor(0.6955), tensor(0.4141), tensor(0.5737), tensor(0.4807), tensor(0.4650), tensor(0.4295), tensor(0.4431), tensor(0.4879), tensor(0.3311), tensor(0.5116), tensor(0.5678), tensor(0.1199), tensor(0.3407), tensor(0.3498), tensor(0.3997), tensor(0.3908), tensor(0.6039), tensor(0.2634), tensor(0.3151), tensor(0.2351), tensor(0.3584), tensor(0.3592), tensor(0.6195), tensor(0.1817), tensor(0.3233), tensor(0.1637), tensor(0.1781), tensor(0.1843), tensor(0.2924), tensor(0.2501), tensor(0.2124), tensor(0.0457), tensor(0.3988), tensor(0.5715), tensor(0.7048), tensor(0.4994), tensor(0.5265), tensor(0.3361), tensor(0.4808), tensor(0.1790), tensor(0.6842), tensor(0.6724), tensor(0.5151), tensor(0.3675), tensor(0.0475), tensor(0.1995), tensor(0.7157), tensor(0.8700), tensor(0.6501), tensor(0.7417), tensor(0.4875), tensor(0.6108), tensor(0.7018), tensor(0.5877), tensor(0.5719), tensor(0.1678), tensor(0.2661), tensor(0.3807), tensor(0.2883), tensor(0.3172), tensor(0.3365), tensor(0.5771), tensor(0.2659), tensor(0.2007), tensor(0.2878), tensor(0.1043), tensor(0.3555), tensor(0.2695), tensor(0.4201), tensor(0.4130), tensor(0.5254), tensor(0.4394), tensor(0.3697), tensor(0.5880), tensor(0.6189), tensor(0.5294), tensor(0.3578), tensor(0.5757), tensor(0.2365), tensor(0.2525), tensor(0.6046), tensor(0.3603), tensor(0.3436), tensor(0.4815), tensor(0.6704), tensor(0.3674), tensor(0.5817), tensor(0.6013), tensor(0.5093), tensor(0.5435), tensor(0.4263), tensor(0.3507), tensor(0.4519), tensor(0.5393), tensor(0.6228), tensor(0.6115), tensor(0.5592), tensor(0.2582), tensor(0.4978), tensor(0.5015), tensor(0.1949), tensor(0.1243), tensor(0.1647), tensor(0.7012), tensor(0.2201), tensor(0.4762), tensor(0.4448), tensor(0.2638), tensor(0.6212), tensor(0.0544), tensor(0.3015), tensor(0.4013), tensor(0.4539), tensor(0.4225), tensor(0.3950), tensor(0.1723), tensor(0.5219), tensor(0.2404), tensor(0.5680), tensor(0.1473), tensor(0.4282), tensor(0.1580), tensor(0.5706), tensor(0.4595), tensor(0.2886), tensor(0.2822), tensor(0.3317), tensor(0.1422), tensor(0.3439), tensor(0.2687), tensor(0.2658), tensor(0.3402), tensor(0.0704), tensor(0.1580), tensor(0.5456), tensor(0.0140), tensor(0.1875), tensor(0.3115), tensor(0.2951), tensor(0.3146), tensor(0.4918), tensor(0.3210), tensor(0.5727), tensor(0.1937), tensor(0.2995), tensor(0.3632), tensor(0.3170), tensor(0.1440), tensor(0.3457), tensor(0.6242), tensor(0.4102), tensor(0.5079), tensor(0.4939), tensor(0.0624), tensor(0.3382), tensor(0.4960), tensor(0.6584), tensor(0.6471), tensor(0.6274), tensor(0.0777), tensor(0.3847), tensor(0.2440), tensor(0.6553), tensor(0.3827), tensor(0.3005), tensor(0.4523), tensor(0.1340), tensor(0.2165), tensor(0.2402), tensor(0.3445), tensor(0.3830), tensor(0.4029), tensor(0.3957), tensor(0.3429), tensor(0.4118), tensor(0.1869), tensor(0.4090), tensor(0.5973), tensor(0.3306), tensor(0.4637), tensor(0.9003), tensor(0.5935), tensor(0.4947), tensor(0.5265), tensor(0.5043), tensor(0.6024), tensor(0.1710), tensor(0.4915), tensor(0.1960), tensor(0.2182), tensor(0.1473), tensor(0.0975), tensor(0.6602), tensor(0.5915), tensor(0.7208), tensor(0.5662), tensor(0.8484), tensor(0.8511), tensor(0.8238), tensor(0.4418), tensor(0.6615), tensor(0.5202), tensor(0.4580), tensor(0.2102), tensor(0.6940), tensor(0.8842), tensor(0.2302), tensor(0.2786), tensor(0.7670), tensor(0.1471), tensor(0.5857), tensor(0.1685), tensor(0.4349), tensor(0.7088), tensor(0.6662), tensor(0.6790), tensor(0.4432), tensor(0.2318), tensor(0.8140), tensor(0.6283), tensor(0.5966), tensor(0.1838), tensor(0.5848), tensor(0.6609), tensor(0.1990), tensor(0.2901), tensor(0.4921), tensor(0.3296), tensor(0.3860), tensor(0.4643), tensor(0.1234), tensor(0.2070), tensor(0.5532), tensor(0.2998), tensor(0.5527), tensor(0.3000), tensor(0.4249), tensor(0.5079), tensor(0.2587), tensor(0.4760), tensor(0.5594), tensor(0.1741), tensor(0.2915), tensor(0.4061), tensor(0.2289), tensor(0.2559), tensor(0.6758), tensor(0.3047), tensor(0.3183), tensor(0.6493), tensor(0.4520), tensor(0.1706), tensor(0.1275), tensor(0.1437), tensor(0.0677), tensor(0.3143), tensor(0.5584), tensor(0.4587), tensor(0.6408), tensor(0.2817), tensor(0.3789), tensor(0.4924), tensor(0.3886), tensor(0.2726), tensor(0.5262), tensor(0.0748), tensor(0.3031), tensor(0.1719), tensor(0.3082), tensor(0.2807), tensor(0.1323), tensor(0.2874), tensor(0.2549), tensor(0.3200), tensor(-0.0325), tensor(0.6141), tensor(0.2284), tensor(0.5542), tensor(0.1961), tensor(0.1670), tensor(0.3903), tensor(0.3917), tensor(0.3696), tensor(0.2088), tensor(0.1202), tensor(0.2551), tensor(0.3728), tensor(0.7216), tensor(0.0265), tensor(0.2169), tensor(0.1737), tensor(0.1076), tensor(0.2294), tensor(0.1194), tensor(0.6150), tensor(0.0821), tensor(0.1826), tensor(0.1617), tensor(0.1911), tensor(0.0869), tensor(0.1640), tensor(0.1932), tensor(0.5687), tensor(0.1861), tensor(0.1364), tensor(0.2290), tensor(0.2073), tensor(0.2669), tensor(0.0853), tensor(-0.0093), tensor(0.5849), tensor(0.2592), tensor(0.3250), tensor(0.2634), tensor(0.7019), tensor(0.4165), tensor(0.3141), tensor(0.5464), tensor(0.5501), tensor(0.1702), tensor(0.5772), tensor(0.3637), tensor(0.2997), tensor(0.2573), tensor(0.2683), tensor(0.3910), tensor(0.5516), tensor(0.2721), tensor(0.2713), tensor(0.3495), tensor(0.5279), tensor(0.4394), tensor(0.3599), tensor(0.2882), tensor(0.2498), tensor(0.4423), tensor(0.3557), tensor(0.5197), tensor(0.5362), tensor(0.4386), tensor(0.5038), tensor(0.1840), tensor(0.2361), tensor(0.3171), tensor(0.3324), tensor(0.2576), tensor(0.4466), tensor(0.2861), tensor(0.1781), tensor(0.5032), tensor(0.3332), tensor(0.3700), tensor(0.0919), tensor(0.0421), tensor(0.5472), tensor(0.2041), tensor(0.4685), tensor(0.4709), tensor(0.3073), tensor(0.0500), tensor(0.4297), tensor(0.1251), tensor(0.1603), tensor(0.3418), tensor(0.1378), tensor(0.4577), tensor(0.3855), tensor(0.3430), tensor(0.3816), tensor(0.1979), tensor(0.2126), tensor(0.2569), tensor(0.3159), tensor(0.2457), tensor(0.2895), tensor(0.3528), tensor(0.2619), tensor(0.2914), tensor(0.5993), tensor(0.6105), tensor(0.3120), tensor(0.4583), tensor(0.1270), tensor(0.5605), tensor(0.1708), tensor(0.2565), tensor(0.2146), tensor(0.2182), tensor(0.6853), tensor(0.0529), tensor(0.1161), tensor(0.3062), tensor(0.4252), tensor(0.7706), tensor(0.3378), tensor(0.2681), tensor(0.3424), tensor(0.5159), tensor(0.4700), tensor(0.4303), tensor(0.3422), tensor(0.5696), tensor(0.3145), tensor(0.4720), tensor(0.5801), tensor(0.3952), tensor(-0.0201), tensor(0.3140), tensor(0.6384), tensor(0.3702), tensor(0.3008), tensor(0.5718), tensor(0.6807), tensor(0.4073), tensor(0.7213), tensor(0.5635), tensor(0.3561), tensor(0.4334), tensor(0.4981), tensor(0.3707), tensor(0.5932), tensor(0.5716), tensor(0.6115), tensor(0.1553), tensor(0.5705), tensor(0.3704), tensor(0.1144), tensor(0.5514), tensor(0.3311), tensor(0.5070), tensor(0.5161), tensor(0.5436), tensor(0.4154), tensor(0.5793), tensor(0.5544), tensor(0.5121), tensor(0.6140), tensor(0.1867), tensor(0.2239), tensor(0.3668), tensor(0.0866), tensor(0.5379), tensor(0.3971), tensor(0.3069), tensor(0.4524), tensor(0.3375), tensor(0.2014), tensor(0.4994), tensor(0.3007), tensor(0.2160), tensor(0.2611), tensor(0.2789), tensor(0.2467), tensor(0.6714), tensor(0.5212), tensor(0.4797), tensor(0.1743), tensor(0.3152), tensor(0.2459), tensor(0.2941), tensor(0.6502), tensor(0.1540), tensor(0.5286), tensor(0.4275), tensor(0.2280), tensor(0.4716), tensor(0.3753), tensor(0.3271), tensor(0.3390), tensor(0.3950), tensor(0.3774), tensor(0.5115), tensor(0.2598), tensor(0.4707), tensor(0.4701), tensor(0.5401), tensor(0.4765), tensor(0.2396), tensor(0.4786), tensor(0.7612), tensor(0.6638), tensor(0.5925), tensor(0.3970), tensor(0.7302), tensor(0.5789), tensor(0.2986), tensor(0.6715), tensor(0.5082), tensor(0.3173), tensor(0.4644), tensor(0.4676), tensor(0.0886), tensor(0.2250), tensor(0.1075), tensor(0.2706), tensor(0.2205), tensor(0.2215), tensor(0.2919), tensor(0.2511), tensor(0.5620), tensor(0.0793), tensor(0.5402), tensor(0.3136), tensor(0.2067), tensor(0.6171), tensor(0.5114), tensor(0.1491), tensor(0.4767), tensor(0.5380), tensor(0.6826), tensor(0.6122), tensor(0.5591), tensor(0.3638), tensor(0.3202), tensor(0.6655), tensor(0.4346), tensor(0.1597), tensor(0.3973), tensor(0.5225), tensor(0.1891), tensor(0.5154), tensor(0.4714), tensor(0.6482), tensor(0.5218), tensor(0.5758), tensor(0.2074), tensor(0.6043), tensor(0.4891), tensor(0.0877), tensor(0.2456), tensor(0.5983), tensor(0.3753), tensor(0.3395), tensor(0.4208), tensor(0.5704), tensor(-0.0162), tensor(-0.0230), tensor(0.0999), tensor(0.1353), tensor(0.1692), tensor(0.0625), tensor(0.3696), tensor(0.1554), tensor(0.3604), tensor(0.3033), tensor(0.5496), tensor(0.6024), tensor(0.4501), tensor(0.4164), tensor(0.4678), tensor(0.4207), tensor(-0.0244), tensor(0.0986), tensor(0.5223), tensor(0.2843), tensor(0.1479), tensor(0.3349), tensor(0.6153), tensor(0.6264), tensor(0.4656), tensor(0.3561), tensor(0.3957), tensor(0.3251), tensor(0.6051), tensor(0.5919), tensor(0.5497), tensor(0.6485), tensor(0.6443), tensor(0.7556), tensor(0.7556), tensor(0.7556), tensor(0.4094), tensor(0.4077), tensor(0.5060), tensor(0.6663), tensor(0.1302), tensor(0.5019), tensor(0.1926), tensor(0.2912), tensor(0.3089), tensor(0.2271), tensor(0.2619), tensor(0.3284), tensor(0.1961), tensor(0.2173), tensor(0.3876), tensor(0.3371), tensor(0.0720), tensor(0.2052), tensor(0.2516), tensor(0.5472), tensor(0.4157), tensor(0.7698), tensor(0.5339), tensor(0.3982), tensor(0.5813), tensor(0.1421), tensor(0.2463), tensor(0.0774), tensor(0.1441), tensor(0.5115), tensor(0.4708), tensor(0.2144), tensor(0.2327), tensor(0.2660), tensor(0.7419), tensor(0.0164), tensor(0.1591), tensor(0.6262), tensor(0.3174), tensor(0.0430), tensor(0.7384), tensor(0.3028), tensor(0.1081), tensor(0.3561), tensor(0.6406), tensor(0.7087), tensor(0.6400), tensor(0.4458), tensor(0.6173), tensor(0.3896), tensor(0.8077), tensor(0.0673), tensor(0.4200), tensor(0.4757), tensor(0.5349), tensor(0.8221), tensor(0.8040), tensor(0.3330), tensor(0.1457), tensor(0.2636), tensor(0.5486), tensor(0.3606), tensor(0.1682), tensor(0.4621), tensor(0.5193), tensor(0.1375), tensor(0.5032), tensor(0.4220), tensor(0.4066), tensor(0.3127), tensor(0.3717), tensor(0.1173), tensor(0.3874), tensor(0.1323), tensor(0.2316), tensor(0.2693), tensor(0.5426), tensor(0.1561), tensor(0.3993), tensor(0.6092), tensor(0.1659), tensor(0.1822), tensor(0.3689), tensor(0.3281), tensor(0.2995), tensor(0.5767), tensor(0.1430), tensor(0.2170), tensor(0.6742), tensor(0.2555), tensor(0.6433), tensor(0.4949), tensor(0.3711), tensor(0.3754), tensor(0.3457), tensor(0.4322), tensor(0.2522), tensor(0.3049), tensor(0.5964), tensor(0.3752), tensor(0.6565), tensor(0.5041), tensor(0.7272), tensor(0.5675), tensor(0.7084), tensor(0.5208), tensor(0.3736), tensor(-0.0223), tensor(-0.0251), tensor(0.3396), tensor(0.7523), tensor(0.3526), tensor(0.1195), tensor(0.1029), tensor(0.2654), tensor(0.0033), tensor(0.1534), tensor(0.2335), tensor(0.5089), tensor(0.1693), tensor(0.3721), tensor(0.4774), tensor(0.0456), tensor(0.3834), tensor(0.1033), tensor(0.6936), tensor(0.1599), tensor(0.2722), tensor(0.2626), tensor(0.2157), tensor(0.3552), tensor(0.6487), tensor(0.3729), tensor(0.4267), tensor(0.5371), tensor(0.4207), tensor(0.1942), tensor(0.2299), tensor(0.1797), tensor(0.1969), tensor(0.1091), tensor(0.6864), tensor(0.2166), tensor(0.2184), tensor(0.3164), tensor(0.0846), tensor(0.2258), tensor(0.1543), tensor(0.7477), tensor(0.0970), tensor(0.4247), tensor(0.1843), tensor(0.4578), tensor(0.2460), tensor(0.5266), tensor(0.1740), tensor(0.2871), tensor(0.1405), tensor(0.1387), tensor(0.2820), tensor(0.2827), tensor(0.4270), tensor(0.1606), tensor(0.2809), tensor(0.2838), tensor(0.6877), tensor(0.1959), tensor(0.4818), tensor(0.2101), tensor(0.3266), tensor(0.7071), tensor(0.3104), tensor(0.5337), tensor(0.4576), tensor(0.2448), tensor(0.5036), tensor(0.2786), tensor(0.5691), tensor(0.4183), tensor(0.4529), tensor(0.3593), tensor(0.3033), tensor(0.3179), tensor(0.1162), tensor(0.3752), tensor(0.5140), tensor(0.3341), tensor(0.5512), tensor(0.2446), tensor(0.2872), tensor(0.3041), tensor(0.3510), tensor(0.1962), tensor(0.4130), tensor(0.6515), tensor(0.6341), tensor(0.5746), tensor(0.3749), tensor(0.2528), tensor(0.4141), tensor(0.4128), tensor(0.5069), tensor(0.3461), tensor(0.4085), tensor(0.0263), tensor(0.3886), tensor(0.3554), tensor(0.1257), tensor(0.5145), tensor(0.3032), tensor(0.5567), tensor(0.6634), tensor(0.1259), tensor(0.2057), tensor(0.1863), tensor(0.4897), tensor(0.2417), tensor(-0.0375), tensor(0.0672), tensor(0.5380), tensor(0.2053), tensor(0.1738), tensor(0.1956), tensor(0.1557), tensor(0.6178), tensor(0.4766), tensor(0.5879), tensor(0.6739), tensor(0.6803), tensor(0.3030), tensor(0.7609), tensor(0.4232), tensor(0.6065), tensor(0.3719), tensor(0.3352), tensor(0.2443), tensor(0.5559), tensor(0.2380), tensor(0.1925), tensor(0.2616), tensor(0.7261), tensor(0.2717), tensor(0.3106), tensor(0.2149), tensor(0.3916), tensor(0.5380), tensor(0.7504), tensor(0.1784), tensor(0.1857), tensor(0.4156), tensor(0.0789), tensor(0.4241), tensor(0.4493), tensor(0.6217), tensor(0.4001), tensor(0.5276), tensor(0.0129), tensor(0.4449), tensor(0.1352), tensor(0.6586), tensor(0.4329), tensor(0.2330), tensor(0.4704), tensor(0.6488), tensor(0.4659), tensor(0.3970), tensor(0.2048), tensor(0.3135), tensor(0.7177), tensor(0.2900), tensor(0.5514), tensor(0.4052), tensor(0.4779), tensor(0.3415), tensor(0.0991), tensor(0.2533), tensor(0.4128), tensor(0.5900), tensor(0.4752), tensor(0.1647), tensor(0.3598), tensor(-0.0189), tensor(0.2126), tensor(0.4391), tensor(0.1752), tensor(0.1720), tensor(0.4109), tensor(0.4482), tensor(0.5734), tensor(0.3392), tensor(0.3990), tensor(0.4641), tensor(0.2041), tensor(0.1719), tensor(0.2393), tensor(0.2860), tensor(0.2841), tensor(0.1217), tensor(0.1056), tensor(0.1361), tensor(0.2617), tensor(0.1052), tensor(0.4042), tensor(0.1507), tensor(0.4294), tensor(0.1980), tensor(0.3703), tensor(0.3214), tensor(0.2997), tensor(0.2468), tensor(0.5448), tensor(0.1004), tensor(0.2952), tensor(0.2162), tensor(0.4196), tensor(0.6203), tensor(0.7036), tensor(0.7479), tensor(0.7575), tensor(0.5847), tensor(0.7649), tensor(0.4220), tensor(0.6849), tensor(0.4379), tensor(0.4307), tensor(0.6539), tensor(0.6434), tensor(0.5333), tensor(0.0452), tensor(0.1542), tensor(0.2527), tensor(0.3033), tensor(0.2543), tensor(0.0839), tensor(0.4154), tensor(0.4164), tensor(0.5105), tensor(0.4064), tensor(0.2084), tensor(0.2954), tensor(0.4157), tensor(0.5649), tensor(0.2564), tensor(0.8351), tensor(0.3980), tensor(0.5615), tensor(0.4208), tensor(0.6362), tensor(0.7592), tensor(0.6539), tensor(0.7233), tensor(0.4841), tensor(0.4858), tensor(0.2749), tensor(0.5071), tensor(0.6313), tensor(0.1723), tensor(0.4630), tensor(0.7478), tensor(0.2372), tensor(0.3539), tensor(0.3544), tensor(0.3310), tensor(0.3696), tensor(0.1147), tensor(0.2246), tensor(0.3279), tensor(0.3434), tensor(0.2564), tensor(0.3609), tensor(0.4876), tensor(0.3833), tensor(0.5585), tensor(0.6201), tensor(0.2583), tensor(0.2347), tensor(0.3741), tensor(0.2692), tensor(0.4264), tensor(0.4973), tensor(0.1259), tensor(0.3664), tensor(0.4916), tensor(0.3589), tensor(0.4749), tensor(0.3846), tensor(0.4521), tensor(0.2606), tensor(0.1352), tensor(0.6170), tensor(0.3492), tensor(0.3259), tensor(0.3386), tensor(0.6738), tensor(0.4508), tensor(0.4006), tensor(0.1790), tensor(0.1842), tensor(0.2318), tensor(0.0730), tensor(0.4689), tensor(0.7465), tensor(0.6111), tensor(0.2241), tensor(0.6173), tensor(0.7934), tensor(0.6981), tensor(0.7328), tensor(0.3729), tensor(0.4676), tensor(0.0658), tensor(0.5849), tensor(0.2699), tensor(0.5189), tensor(0.1137), tensor(0.4485), tensor(0.3141), tensor(0.4193), tensor(0.2909), tensor(0.5118), tensor(0.2744), tensor(0.3568), tensor(0.5493), tensor(0.5008), tensor(0.2397), tensor(0.3356), tensor(0.4183), tensor(0.1549), tensor(0.3078), tensor(0.2563), tensor(0.3276), tensor(0.1614), tensor(0.5722), tensor(0.3574), tensor(0.4052), tensor(0.5083), tensor(0.7157), tensor(0.3351), tensor(0.5367), tensor(0.1960), tensor(0.4132), tensor(0.6750), tensor(0.5610), tensor(0.4284), tensor(0.3020), tensor(0.4961), tensor(0.1512), tensor(0.2752), tensor(0.3717), tensor(0.2570), tensor(0.7216), tensor(0.6752), tensor(0.6388), tensor(0.3260), tensor(0.6330), tensor(0.5878), tensor(0.6338), tensor(0.4847), tensor(0.6651), tensor(0.6695), tensor(0.4632), tensor(0.2524), tensor(0.0465), tensor(0.1216), tensor(0.1278), tensor(0.3920), tensor(0.2118), tensor(0.2558), tensor(0.4641), tensor(0.1833), tensor(0.4461), tensor(0.4926), tensor(0.2224), tensor(0.2162), tensor(0.0119), tensor(0.8387), tensor(0.3778), tensor(0.6307), tensor(0.3788), tensor(0.5881), tensor(0.1898), tensor(0.0554), tensor(0.0601), tensor(0.3836), tensor(0.4991), tensor(0.6376), tensor(0.2155), tensor(0.6059), tensor(0.3035), tensor(0.0920), tensor(0.5391), tensor(0.0615), tensor(0.2654), tensor(0.3270), tensor(0.4873), tensor(0.4104), tensor(0.4913), tensor(0.3303), tensor(0.3584), tensor(0.3511), tensor(0.5091), tensor(0.1657), tensor(0.1391), tensor(0.1080), tensor(0.1400), tensor(0.0583), tensor(0.3555), tensor(0.5266), tensor(0.3977), tensor(0.1880), tensor(0.1747), tensor(0.3228), tensor(0.5499), tensor(0.1564), tensor(0.4964), tensor(0.6792), tensor(0.1329), tensor(0.6099), tensor(0.0497), tensor(0.2646), tensor(0.5338), tensor(0.1728), tensor(0.0581), tensor(0.2519), tensor(0.4065), tensor(0.2619), tensor(0.4432), tensor(0.1021), tensor(0.2541), tensor(0.4112), tensor(0.6924), tensor(0.4667), tensor(0.2943), tensor(0.3662), tensor(0.1763), tensor(0.3550), tensor(0.0648), tensor(0.1918), tensor(0.0090), tensor(0.2099), tensor(0.0797), tensor(0.5657), tensor(0.4210), tensor(0.3201), tensor(0.3599), tensor(0.4732), tensor(0.2744), tensor(0.4534), tensor(0.5681), tensor(0.5698), tensor(0.5830), tensor(0.6476), tensor(0.3464), tensor(0.4509), tensor(0.4390), tensor(0.3209), tensor(0.3503), tensor(0.1694), tensor(0.3588), tensor(0.3884), tensor(0.6773), tensor(0.3658), tensor(0.5061), tensor(0.5077), tensor(0.6203), tensor(0.4752), tensor(0.4164), tensor(0.0936), tensor(0.3445), tensor(0.3686), tensor(0.4198), tensor(0.5056), tensor(0.6315), tensor(0.0880), tensor(0.1122), tensor(0.5581), tensor(0.0970), tensor(0.3128), tensor(0.0187), tensor(0.5056), tensor(0.3403), tensor(0.0883), tensor(0.3016), tensor(0.0429), tensor(0.0950), tensor(0.2763), tensor(0.3444), tensor(0.4905), tensor(0.3334), tensor(0.2582), tensor(0.0509), tensor(0.4140), tensor(0.2412), tensor(0.4670), tensor(0.4812), tensor(0.4945), tensor(0.3773), tensor(0.6834), tensor(0.4490), tensor(0.4922), tensor(0.3059), tensor(0.5719), tensor(0.4058), tensor(0.6921), tensor(0.2516), tensor(0.6191), tensor(0.2655), tensor(0.0098), tensor(0.2061), tensor(0.2298), tensor(0.6001), tensor(0.5365), tensor(0.5893), tensor(0.7280), tensor(0.2478), tensor(0.5840), tensor(0.6058), tensor(0.2522), tensor(0.2024), tensor(0.0944), tensor(0.4276), tensor(0.2679), tensor(0.2287), tensor(0.1145), tensor(0.2878), tensor(0.3133), tensor(0.4078), tensor(0.0877), tensor(0.3802), tensor(0.3300), tensor(0.3432), tensor(0.6514), tensor(0.5772), tensor(0.6898), tensor(0.5166), tensor(0.7821), tensor(0.6829), tensor(0.6840), tensor(0.5563), tensor(0.0801), tensor(0.7242), tensor(0.0397), tensor(0.2742), tensor(0.7305), tensor(0.6798), tensor(0.7022), tensor(0.8135), tensor(0.6336), tensor(0.6531), tensor(0.6085), tensor(0.5372), tensor(0.0617), tensor(0.1076), tensor(0.1846), tensor(0.4201), tensor(0.0514), tensor(0.2855), tensor(0.4006), tensor(0.4732), tensor(0.1042), tensor(0.6867), tensor(0.4718), tensor(0.4475), tensor(0.5541), tensor(0.4827), tensor(0.4816), tensor(0.5535), tensor(0.7120), tensor(0.3341), tensor(0.6997), tensor(0.2477), tensor(0.5594), tensor(0.4343), tensor(0.4178), tensor(0.5472), tensor(0.0546), tensor(0.5130), tensor(0.2528), tensor(0.2733), tensor(0.1171), tensor(0.2079), tensor(0.4702), tensor(0.1549), tensor(0.1463), tensor(0.1873), tensor(0.0399), tensor(0.4061), tensor(0.3864), tensor(-0.0529), tensor(0.2057), tensor(0.4582), tensor(0.1107), tensor(0.0719), tensor(0.0673), tensor(0.2048), tensor(0.2370), tensor(0.3709), tensor(0.4234), tensor(0.2820), tensor(0.1658), tensor(0.4581), tensor(0.3311), tensor(0.1858), tensor(0.4029), tensor(0.3372), tensor(0.3158), tensor(0.2311), tensor(0.3074), tensor(0.3441), tensor(0.1556), tensor(0.1613), tensor(0.6004), tensor(0.4883), tensor(0.1572), tensor(0.7680), tensor(0.7021), tensor(0.7561), tensor(0.7328), tensor(0.4080), tensor(0.3770), tensor(0.6705), tensor(0.6265), tensor(0.4134), tensor(0.7662), tensor(0.3131), tensor(0.0778), tensor(0.0704), tensor(0.0110), tensor(0.1697), tensor(0.0625), tensor(0.4374), tensor(0.5362), tensor(0.5817), tensor(0.6028), tensor(0.4047), tensor(0.0773), tensor(0.0773), tensor(0.1264), tensor(0.3782), tensor(0.5357), tensor(0.6949), tensor(0.2729), tensor(0.3760), tensor(0.6395), tensor(0.3199), tensor(0.1499), tensor(0.5234), tensor(0.0482), tensor(0.6115), tensor(0.6305), tensor(0.5502), tensor(0.3700), tensor(0.4376), tensor(0.6076), tensor(0.2384), tensor(0.5229), tensor(0.3352), tensor(0.4826), tensor(0.5649), tensor(0.3972), tensor(0.6196), tensor(0.3751), tensor(0.1832), tensor(0.3154), tensor(0.4845), tensor(0.8905), tensor(0.1589), tensor(0.6702), tensor(0.7090), tensor(0.4703), tensor(0.5151), tensor(0.6101), tensor(0.6056), tensor(0.2752), tensor(0.2287), tensor(0.3689), tensor(0.5783), tensor(0.6879), tensor(0.1867), tensor(0.6126), tensor(0.7544), tensor(0.6526), tensor(0.3732), tensor(0.6839), tensor(0.4326), tensor(0.1934), tensor(0.6716), tensor(0.1280), tensor(0.3710), tensor(0.5268), tensor(0.2725), tensor(0.5197), tensor(0.3554), tensor(0.4183), tensor(0.0548), tensor(0.2170), tensor(0.3050), tensor(0.7668), tensor(0.5320), tensor(0.1109), tensor(0.2444), tensor(0.3354), tensor(0.1835), tensor(0.2154), tensor(0.7615), tensor(0.1864), tensor(0.4643), tensor(0.5145), tensor(0.7226), tensor(0.1988), tensor(0.3713), tensor(0.0854), tensor(0.0592), tensor(0.3162), tensor(-0.0420), tensor(0.3149), tensor(0.1564), tensor(0.3154), tensor(0.2512), tensor(0.3847), tensor(0.3559), tensor(0.2097), tensor(0.1570), tensor(0.2161), tensor(0.2963), tensor(0.3685), tensor(0.2249), tensor(0.1212), tensor(0.3727), tensor(0.1125), tensor(0.4151), tensor(-0.0949), tensor(0.5217), tensor(0.1057), tensor(0.2650), tensor(0.2013), tensor(0.6215), tensor(0.3128), tensor(0.0012), tensor(0.0279), tensor(0.4393), tensor(0.2926), tensor(0.0079), tensor(0.1515), tensor(0.5101), tensor(0.7889), tensor(0.4254), tensor(0.3302), tensor(0.4150), tensor(0.4739), tensor(0.5615), tensor(0.3486), tensor(0.0913), tensor(0.2614), tensor(0.4359), tensor(0.1204), tensor(0.6136), tensor(0.6971), tensor(0.6456), tensor(-0.0036), tensor(0.3228), tensor(0.5225), tensor(0.3518), tensor(0.3256), tensor(0.3489), tensor(0.3451), tensor(0.4499), tensor(0.1539), tensor(0.2766), tensor(0.4099), tensor(0.3701), tensor(0.4328), tensor(0.3488), tensor(0.3381), tensor(0.5379), tensor(0.5916), tensor(0.6022), tensor(0.2095), tensor(0.6414), tensor(0.4812), tensor(0.1665), tensor(0.3133), tensor(0.2742), tensor(0.4647), tensor(0.2749), tensor(0.2275), tensor(0.4311), tensor(0.4967), tensor(0.2356), tensor(0.2805), tensor(0.4244), tensor(0.1951), tensor(0.1608), tensor(0.2839), tensor(0.2132), tensor(0.4894), tensor(0.4759), tensor(0.3762), tensor(0.3762), tensor(0.6364), tensor(0.1817), tensor(0.5127), tensor(0.0963), tensor(0.3711), tensor(0.2830), tensor(0.3544), tensor(0.3925), tensor(0.5483), tensor(0.6204), tensor(0.4515), tensor(0.2374), tensor(0.1402), tensor(0.5208), tensor(0.2763), tensor(0.3113), tensor(0.2448), tensor(0.3936), tensor(0.6397), tensor(0.0536), tensor(0.2653), tensor(0.1378), tensor(0.2051), tensor(0.2982), tensor(0.4025), tensor(0.5042), tensor(0.4786), tensor(0.4675), tensor(0.1632), tensor(0.2934), tensor(0.2859), tensor(0.3935), tensor(0.5595), tensor(0.5286), tensor(0.3702), tensor(0.3337), tensor(0.4589), tensor(0.3387), tensor(0.1815), tensor(0.4731), tensor(0.5945), tensor(0.4696), tensor(0.5634), tensor(0.5777), tensor(0.4682), tensor(0.5180), tensor(0.7321), tensor(0.4098), tensor(0.4833), tensor(0.4364), tensor(0.1333), tensor(0.5531), tensor(0.4293), tensor(0.1762), tensor(0.3177), tensor(0.5106), tensor(0.4072), tensor(0.4819), tensor(0.6090), tensor(0.2963), tensor(0.0242), tensor(0.2525), tensor(0.5615), tensor(0.6103), tensor(0.1621), tensor(0.1630), tensor(0.1087), tensor(0.3492), tensor(0.0247), tensor(0.0247), tensor(0.0238), tensor(0.3872), tensor(0.1266), tensor(0.3487), tensor(0.0483), tensor(0.1433), tensor(0.3078), tensor(0.3308), tensor(0.4091), tensor(0.4235), tensor(0.7941), tensor(0.2086), tensor(0.7393), tensor(0.4474), tensor(0.3961), tensor(0.0244), tensor(0.1939), tensor(0.6908), tensor(0.1687), tensor(0.7330), tensor(0.0322), tensor(0.1120), tensor(0.3213), tensor(0.2356), tensor(0.1902), tensor(0.3118), tensor(0.2338), tensor(0.1498), tensor(0.2485), tensor(0.2001), tensor(0.4257), tensor(0.2906), tensor(0.0685), tensor(0.1517), tensor(0.1517), tensor(0.2972), tensor(0.3588), tensor(0.5278), tensor(0.4056), tensor(0.3525), tensor(0.5028), tensor(0.1017), tensor(0.0908), tensor(0.0139), tensor(0.3124), tensor(0.1207), tensor(0.2085), tensor(0.4317), tensor(0.3722), tensor(0.3368), tensor(0.3190), tensor(0.4365), tensor(0.3923), tensor(0.3243), tensor(0.3400), tensor(0.5789), tensor(0.2566), tensor(0.2369), tensor(0.2966), tensor(0.3807), tensor(0.3170), tensor(0.3338), tensor(0.3290), tensor(0.6967), tensor(0.5163), tensor(0.5426), tensor(0.7588), tensor(0.5053), tensor(0.2263), tensor(0.3266), tensor(0.5445), tensor(0.4031), tensor(0.2126), tensor(0.4827), tensor(0.2764), tensor(0.3428), tensor(0.0569), tensor(0.2287), tensor(0.1939), tensor(0.3674), tensor(0.3366), tensor(0.5691), tensor(0.7469), tensor(0.6169), tensor(0.2456), tensor(0.0503), tensor(0.2052), tensor(0.1851), tensor(0.3185), tensor(0.3578), tensor(0.1701), tensor(0.3659), tensor(0.3592), tensor(0.2419), tensor(0.6487), tensor(0.2369), tensor(0.1052), tensor(0.0529), tensor(0.0672), tensor(0.0346), tensor(0.4718), tensor(0.2629), tensor(0.4733), tensor(0.3726), tensor(0.5290), tensor(0.3600), tensor(0.4789), tensor(0.0722), tensor(0.1650), tensor(0.3158), tensor(0.3564), tensor(0.1356), tensor(0.0774), tensor(0.3352), tensor(0.4272), tensor(0.1817), tensor(0.4356), tensor(0.5029), tensor(0.4622), tensor(0.7684), tensor(0.6292), tensor(0.5327), tensor(0.6474), tensor(0.4909), tensor(0.5337), tensor(0.5999), tensor(0.4291), tensor(0.4483), tensor(0.5663), tensor(0.5718), tensor(0.4413), tensor(0.4943), tensor(0.4805), tensor(0.5890), tensor(0.7656), tensor(0.2587), tensor(0.3410), tensor(0.9118), tensor(0.3411), tensor(0.5797), tensor(0.4087), tensor(0.3591), tensor(0.1720), tensor(0.6021), tensor(0.3100), tensor(0.4427), tensor(0.2099), tensor(0.1709), tensor(0.1134), tensor(0.1182), tensor(0.1606), tensor(0.1682), tensor(0.3613), tensor(0.8086), tensor(0.6458), tensor(0.3190), tensor(0.7166), tensor(0.5668), tensor(0.6077), tensor(0.5648), tensor(0.6802), tensor(0.4739), tensor(0.3927), tensor(0.3096), tensor(0.2708), tensor(0.3337), tensor(0.2033), tensor(0.2052), tensor(0.4728), tensor(0.7595), tensor(0.7141), tensor(0.8167), tensor(0.6008), tensor(0.3764), tensor(0.1627), tensor(0.4669), tensor(0.4533), tensor(0.2381), tensor(0.4057), tensor(0.4535), tensor(0.6694), tensor(0.4229), tensor(0.1666), tensor(0.1160), tensor(0.4826), tensor(0.5182), tensor(0.3284), tensor(0.3422), tensor(0.2489), tensor(0.2078), tensor(0.0671), tensor(0.4415), tensor(0.4058), tensor(0.5364), tensor(0.2633), tensor(0.2401), tensor(0.4906), tensor(0.6724), tensor(0.2295), tensor(0.6537), tensor(0.6851), tensor(0.5007), tensor(0.4802), tensor(0.6525), tensor(0.7265), tensor(0.5154), tensor(0.5996), tensor(0.4871), tensor(0.6107), tensor(0.6107), tensor(0.4292), tensor(0.3083), tensor(0.4182), tensor(0.3726), tensor(0.1774), tensor(0.2661), tensor(0.3089), tensor(0.0355), tensor(0.2225), tensor(0.4377), tensor(0.1187), tensor(0.1178), tensor(0.1932), tensor(0.3357), tensor(0.1105), tensor(0.2849), tensor(0.3128), tensor(0.6465), tensor(0.3822), tensor(0.0231), tensor(0.1952), tensor(0.1221), tensor(0.0364), tensor(0.2213), tensor(0.1115), tensor(0.2749), tensor(0.4517), tensor(0.3364), tensor(0.0978), tensor(0.4515), tensor(0.5382), tensor(0.4029), tensor(0.0895), tensor(0.1464), tensor(0.3679), tensor(0.3770), tensor(0.3137), tensor(0.1787), tensor(0.5472), tensor(0.3748), tensor(0.5022), tensor(0.4193), tensor(0.5057), tensor(0.0305), tensor(0.0563), tensor(0.1745), tensor(0.2617), tensor(0.0379), tensor(0.2887), tensor(0.1861), tensor(0.2060), tensor(0.1278), tensor(0.1699), tensor(0.2912), tensor(0.2860), tensor(0.3709), tensor(0.4747), tensor(0.5890), tensor(0.6072), tensor(0.6072), tensor(0.5151), tensor(0.3185), tensor(0.4333), tensor(0.5358), tensor(0.2635), tensor(0.1381), tensor(0.3530), tensor(0.5122), tensor(0.7030), tensor(0.4271), tensor(0.5771), tensor(0.6979), tensor(0.2384), tensor(0.5119), tensor(0.2277), tensor(0.4196), tensor(0.5887), tensor(0.4631), tensor(0.5108), tensor(0.1695), tensor(0.1801), tensor(0.1886), tensor(0.2846), tensor(0.2833), tensor(0.2730), tensor(0.1112), tensor(0.2476), tensor(0.3859), tensor(0.1965), tensor(0.2624), tensor(0.2519), tensor(0.1899), tensor(0.4752), tensor(0.3531), tensor(0.6665), tensor(0.4834), tensor(0.5591), tensor(0.1696), tensor(0.5069), tensor(0.5236), tensor(0.1500), tensor(0.0987), tensor(0.2309), tensor(0.0609), tensor(0.3353), tensor(0.4028), tensor(0.3399), tensor(0.0832), tensor(0.2772), tensor(0.3818), tensor(0.1482), tensor(0.3946), tensor(0.1639), tensor(0.0046), tensor(0.2326), tensor(0.3014), tensor(0.1628), tensor(0.3259), tensor(0.2023), tensor(0.4315), tensor(0.4013), tensor(0.5720), tensor(0.5318), tensor(0.3626), tensor(0.2375), tensor(0.3770), tensor(0.3198), tensor(0.2616), tensor(0.3086), tensor(0.6016), tensor(0.1388), tensor(0.2338), tensor(0.6969), tensor(0.6929), tensor(0.8242), tensor(0.6961), tensor(0.5941), tensor(0.7088), tensor(0.5793), tensor(0.4092), tensor(0.6216), tensor(0.4403), tensor(0.5968), tensor(0.4197), tensor(0.3053), tensor(0.6230), tensor(0.3223), tensor(0.5477), tensor(0.7458), tensor(0.3902), tensor(0.4100), tensor(0.0742), tensor(0.4329), tensor(0.0768), tensor(0.3755), tensor(0.3534), tensor(0.1937), tensor(0.2538), tensor(0.2830), tensor(0.6069), tensor(0.4345), tensor(0.4219), tensor(0.6643), tensor(0.1347), tensor(0.6243), tensor(0.2611), tensor(0.3215), tensor(0.6184), tensor(0.3976), tensor(0.2970), tensor(0.5522), tensor(0.4740), tensor(-0.0002), tensor(0.0516), tensor(-0.0554), tensor(0.0516), tensor(0.0226), tensor(0.0297), tensor(0.3428), tensor(0.1734), tensor(0.2281), tensor(0.4229), tensor(0.3927), tensor(0.3463), tensor(0.3429), tensor(0.1626), tensor(0.1967), tensor(0.3790), tensor(0.4314), tensor(0.7735), tensor(0.5290), tensor(0.0508), tensor(0.1265), tensor(0.3776), tensor(0.2536), tensor(0.6086), tensor(0.5075), tensor(0.5778), tensor(0.2930), tensor(0.1791), tensor(0.2665), tensor(0.4594), tensor(0.5640), tensor(0.5857), tensor(0.5562), tensor(0.5533), tensor(0.6470), tensor(0.2491), tensor(0.4041), tensor(0.3491), tensor(0.1145), tensor(0.5246), tensor(0.6323), tensor(0.5906), tensor(0.4833), tensor(0.6180), tensor(0.5649), tensor(0.5388), tensor(0.3449), tensor(0.5307), tensor(0.6925), tensor(0.4584), tensor(0.4739), tensor(0.5633), tensor(0.1814), tensor(0.2976), tensor(0.2746), tensor(0.3704), tensor(0.4320), tensor(0.4849), tensor(0.4657), tensor(0.6126), tensor(0.6310), tensor(0.2778), tensor(0.4148), tensor(0.6069), tensor(0.7992), tensor(0.0453), tensor(0.7469), tensor(0.4879), tensor(0.6435), tensor(0.3503), tensor(0.2409), tensor(0.5860), tensor(0.2281), tensor(0.2597), tensor(0.0840), tensor(0.1747), tensor(0.3702), tensor(0.2519), tensor(0.3405), tensor(0.5404), tensor(0.7396), tensor(0.4460), tensor(0.5156), tensor(0.5443), tensor(0.7028), tensor(0.8648), tensor(0.8692), tensor(0.1043), tensor(0.1563), tensor(0.4795), tensor(0.7072), tensor(0.2853), tensor(0.2910), tensor(0.3407), tensor(0.3086), tensor(0.4983), tensor(0.3882), tensor(0.4264), tensor(0.2975), tensor(0.3638), tensor(0.5148), tensor(0.4081), tensor(0.4279), tensor(0.3292), tensor(0.3696), tensor(0.5468), tensor(0.2524), tensor(0.1890), tensor(0.5255), tensor(0.0952), tensor(0.6509), tensor(0.2512), tensor(0.6046), tensor(0.6151), tensor(0.4718), tensor(0.5453), tensor(0.5857), tensor(0.6008), tensor(0.6848), tensor(0.3191), tensor(0.3246), tensor(0.7752), tensor(0.8587), tensor(0.2447), tensor(0.4381), tensor(0.7230), tensor(0.3590), tensor(0.1270), tensor(0.4801), tensor(0.3719), tensor(0.5962), tensor(0.5962), tensor(0.8318), tensor(0.7903), tensor(0.4710), tensor(0.6634), tensor(0.2878), tensor(0.4497), tensor(0.5789), tensor(0.7046), tensor(0.6603), tensor(0.6327), tensor(0.8812), tensor(0.6378), tensor(0.6904), tensor(0.3335), tensor(0.4629), tensor(0.1992), tensor(0.4382), tensor(0.1808), tensor(0.5933), tensor(0.2014), tensor(0.5345), tensor(0.3885), tensor(0.6602), tensor(0.5862), tensor(0.4906), tensor(0.6312), tensor(0.5816), tensor(0.6862), tensor(0.5149), tensor(0.5214), tensor(0.5640), tensor(0.4415), tensor(0.3071), tensor(0.2069), tensor(0.3912), tensor(0.5903), tensor(0.6842), tensor(0.4311), tensor(0.4128), tensor(0.6825), tensor(0.3702), tensor(0.3991), tensor(0.5483), tensor(0.2022), tensor(0.5719), tensor(0.5022), tensor(0.2644), tensor(0.3754), tensor(0.5931), tensor(0.3997), tensor(0.4861), tensor(0.4833), tensor(0.3203), tensor(0.4527), tensor(0.7294), tensor(0.0948), tensor(0.0178), tensor(0.3208), tensor(0.5553), tensor(0.3710), tensor(0.1163), tensor(0.2398), tensor(0.5463), tensor(0.4325), tensor(0.1781), tensor(0.6785), tensor(0.1804), tensor(0.2869), tensor(0.4575), tensor(0.2553), tensor(0.1175), tensor(0.4335), tensor(0.2896), tensor(0.3798), tensor(0.4544), tensor(0.8566), tensor(0.5950), tensor(0.1028), tensor(0.2885), tensor(0.1235), tensor(0.1625), tensor(0.3344), tensor(0.5340), tensor(0.3930), tensor(0.7156), tensor(0.1404), tensor(0.2570), tensor(0.3030), tensor(0.1967), tensor(0.2040), tensor(0.5665), tensor(0.4777), tensor(0.3731), tensor(0.2548), tensor(0.3451), tensor(0.2797), tensor(0.1859), tensor(0.3858), tensor(0.2777), tensor(0.0037), tensor(0.2537), tensor(0.3597), tensor(0.4101), tensor(0.4965), tensor(0.3099), tensor(0.1281), tensor(0.2596), tensor(0.0855), tensor(0.1392), tensor(0.2064), tensor(0.3344), tensor(0.5488), tensor(0.3738), tensor(0.1781), tensor(0.3533), tensor(0.1522), tensor(0.4904), tensor(0.3796), tensor(0.5094), tensor(0.5706), tensor(0.3424), tensor(0.6923), tensor(0.2699), tensor(0.1354), tensor(0.7402), tensor(0.3290), tensor(0.1075), tensor(0.3842), tensor(0.1963), tensor(0.4395), tensor(0.3204), tensor(0.1137), tensor(0.3963), tensor(0.2529), tensor(0.3057), tensor(0.2953), tensor(0.3548), tensor(0.4119), tensor(0.4690), tensor(0.4459), tensor(0.6307), tensor(0.2809), tensor(0.1803), tensor(0.6004), tensor(0.2431), tensor(0.3260), tensor(0.3700), tensor(0.3457), tensor(0.1423), tensor(0.3922), tensor(0.2662), tensor(0.3128), tensor(0.6554), tensor(0.5189), tensor(0.4005), tensor(0.2115), tensor(0.1635), tensor(0.0817), tensor(0.5289), tensor(0.5791), tensor(0.3212), tensor(0.4488), tensor(0.2954), tensor(0.2213), tensor(0.5064), tensor(0.3202), tensor(0.3203), tensor(0.4943), tensor(0.3149), tensor(0.4227), tensor(0.7562), tensor(0.2808), tensor(0.6244), tensor(0.4550), tensor(0.5763), tensor(0.1861), tensor(0.6739), tensor(0.3551), tensor(0.5354), tensor(0.5777), tensor(0.4526), tensor(0.1918), tensor(0.2655), tensor(0.2508), tensor(0.3948), tensor(0.3190), tensor(0.1197), tensor(0.4510), tensor(0.0451), tensor(0.4685), tensor(0.1672), tensor(0.3960), tensor(0.1820), tensor(0.3636), tensor(0.4292), tensor(0.1248), tensor(0.0980), tensor(0.6481), tensor(0.6336), tensor(0.3982), tensor(0.4999), tensor(0.6265), tensor(0.6194), tensor(0.5906), tensor(0.2166), tensor(0.5761), tensor(0.1810), tensor(0.5614), tensor(0.5219), tensor(-0.0146), tensor(0.3496), tensor(0.3008), tensor(0.1661), tensor(0.2920), tensor(0.1627), tensor(0.5088), tensor(0.4435), tensor(0.5246), tensor(0.3072), tensor(0.2813), tensor(0.2796), tensor(0.2608), tensor(0.0403), tensor(0.7361), tensor(0.4389), tensor(0.3935), tensor(0.4098), tensor(0.4856), tensor(0.4578), tensor(0.5512), tensor(0.3865), tensor(0.5031), tensor(0.4028), tensor(0.4693), tensor(0.4514), tensor(0.5549), tensor(0.3273), tensor(0.4519), tensor(0.2068), tensor(0.0666), tensor(0.1362), tensor(0.3360), tensor(0.1491), tensor(0.1557), tensor(0.2270), tensor(0.1570), tensor(0.2939), tensor(0.2853), tensor(0.0730), tensor(0.3149), tensor(0.4101), tensor(0.2644), tensor(0.1044), tensor(0.8976), tensor(0.5995), tensor(0.1935), tensor(0.2445), tensor(0.3461), tensor(0.1896), tensor(0.2089), tensor(0.5140), tensor(0.4368), tensor(0.5608), tensor(0.2003), tensor(0.5484), tensor(0.3992), tensor(0.5492), tensor(0.6945), tensor(0.7633), tensor(0.7580), tensor(0.4933), tensor(0.5992), tensor(0.6857), tensor(0.5809), tensor(0.1328), tensor(0.2009), tensor(0.2041), tensor(0.2001), tensor(0.3394), tensor(0.2988), tensor(0.4919), tensor(0.3480), tensor(0.3408), tensor(0.1081), tensor(0.4765), tensor(0.1898), tensor(0.0513), tensor(0.3830), tensor(0.6686), tensor(0.6057), tensor(0.6868), tensor(0.3956), tensor(0.4169), tensor(0.5799), tensor(0.6221), tensor(0.4699), tensor(0.6312), tensor(0.4853), tensor(0.5953), tensor(0.7490), tensor(0.3691), tensor(0.1290), tensor(0.5093), tensor(0.0756), tensor(0.6367), tensor(0.3252), tensor(0.1834), tensor(0.2158), tensor(0.4282), tensor(0.6308), tensor(0.1403), tensor(0.6130), tensor(0.3161), tensor(0.2609), tensor(0.1732), tensor(0.3045), tensor(0.3589), tensor(0.4827), tensor(0.3221), tensor(0.1996), tensor(0.1996), tensor(0.3572), tensor(0.3649), tensor(0.4716), tensor(0.2824), tensor(0.3749), tensor(0.4786), tensor(0.5506), tensor(0.3140), tensor(0.1568), tensor(0.6080), tensor(0.4321), tensor(0.6284), tensor(0.4259), tensor(0.2662), tensor(0.4322), tensor(0.5510), tensor(0.5898), tensor(0.2686), tensor(0.3248), tensor(0.3469), tensor(0.0990), tensor(0.6657), tensor(0.6415), tensor(0.1543), tensor(0.2004), tensor(0.0020), tensor(0.4131), tensor(0.5691), tensor(0.3782), tensor(0.4534), tensor(0.0321), tensor(0.5915), tensor(0.0688), tensor(0.6132), tensor(0.4108), tensor(0.2579), tensor(0.2556), tensor(0.4621), tensor(0.6452), tensor(0.4585), tensor(0.1915), tensor(0.1425), tensor(0.2560), tensor(0.5768), tensor(0.5744), tensor(0.4183), tensor(0.4823), tensor(0.2120), tensor(0.6217), tensor(0.2013), tensor(0.4892), tensor(0.2621), tensor(0.4041), tensor(0.1117), tensor(0.6851), tensor(0.2709), tensor(0.6226), tensor(0.6574), tensor(0.1827), tensor(0.4219), tensor(0.4289), tensor(0.5515), tensor(0.3746), tensor(0.1644), tensor(0.4582), tensor(0.4231), tensor(0.2325), tensor(0.6183), tensor(0.3999), tensor(0.1047), tensor(0.2000), tensor(0.6004), tensor(0.1749), tensor(0.0280), tensor(0.2813), tensor(0.3487), tensor(0.0790), tensor(0.2369), tensor(0.2220), tensor(0.2822), tensor(0.4227), tensor(0.7297), tensor(0.1111), tensor(0.2611), tensor(0.0982), tensor(0.1038), tensor(0.0967), tensor(0.2377), tensor(0.7536), tensor(0.2685), tensor(0.3424), tensor(0.6956), tensor(0.3614), tensor(0.6823), tensor(0.6913), tensor(0.6222), tensor(0.5337), tensor(0.4044), tensor(0.3177), tensor(0.2061), tensor(0.2101), tensor(0.2497), tensor(0.2500), tensor(0.4153), tensor(0.5349), tensor(0.4478), tensor(0.2221), tensor(0.3243), tensor(0.3891), tensor(0.1869), tensor(0.3761), tensor(0.3189), tensor(0.4009), tensor(0.2903), tensor(0.2963), tensor(0.2709), tensor(0.1599), tensor(0.1834), tensor(0.3846), tensor(0.3705), tensor(0.4395), tensor(0.4666), tensor(0.1867), tensor(0.3702), tensor(0.3045), tensor(0.3081), tensor(-0.0193), tensor(0.3425), tensor(0.3607), tensor(0.5580), tensor(0.1463), tensor(-0.0182), tensor(0.1092), tensor(0.1072), tensor(0.6673), tensor(0.0605), tensor(0.2860), tensor(0.3156), tensor(0.5536), tensor(0.4521), tensor(0.3687), tensor(0.3362), tensor(0.6081), tensor(0.2378), tensor(0.4155), tensor(0.2720), tensor(0.1513), tensor(0.4997), tensor(0.3659), tensor(0.4512), tensor(0.4167), tensor(0.2714), tensor(0.0890), tensor(0.4361), tensor(0.6309), tensor(0.1987), tensor(0.4183), tensor(0.5757), tensor(0.5434), tensor(0.4383), tensor(0.4875), tensor(0.6078), tensor(0.6432), tensor(0.1510), tensor(0.1590), tensor(0.3494), tensor(0.4866), tensor(0.3404), tensor(0.4559), tensor(0.5801), tensor(0.5011), tensor(0.5167), tensor(0.6249), tensor(0.3004), tensor(0.5403), tensor(0.3489), tensor(0.4101), tensor(0.6380), tensor(0.3544), tensor(0.4299), tensor(0.3123), tensor(0.6697), tensor(0.3319), tensor(0.5051), tensor(0.6442), tensor(0.7474), tensor(0.4422), tensor(0.7898), tensor(0.4259), tensor(0.3762), tensor(0.1900), tensor(0.1572), tensor(0.5375), tensor(0.3483), tensor(0.5333), tensor(0.6265), tensor(0.4509), tensor(0.6657), tensor(0.4599), tensor(0.7356), tensor(0.5301), tensor(0.7962), tensor(0.7846), tensor(0.8042), tensor(0.7028), tensor(0.8395), tensor(0.5843), tensor(0.8122), tensor(0.6697), tensor(0.1781), tensor(0.6980), tensor(0.2106), tensor(0.6536), tensor(0.5497), tensor(0.4746), tensor(0.5374), tensor(0.2589), tensor(0.2431), tensor(0.1044), tensor(0.3469), tensor(0.5011), tensor(0.3465), tensor(0.3215), tensor(0.2388), tensor(0.2921), tensor(0.5330), tensor(0.2846), tensor(0.2356), tensor(0.7504), tensor(0.6138), tensor(0.7087), tensor(0.4591), tensor(0.5851), tensor(0.5105), tensor(0.3675), tensor(0.5733), tensor(0.1476), tensor(0.0039), tensor(0.4201), tensor(0.5415), tensor(0.5139), tensor(0.6164), tensor(0.7090), tensor(0.1751), tensor(0.7008), tensor(0.3989), tensor(0.3143), tensor(0.5656), tensor(0.6253), tensor(0.3628), tensor(0.4122), tensor(0.3452), tensor(0.3192), tensor(0.5213), tensor(0.2302), tensor(0.3480), tensor(0.2146), tensor(0.6548), tensor(0.1953), tensor(0.3296), tensor(0.5477), tensor(0.3093), tensor(0.2246), tensor(0.0740), tensor(0.6444), tensor(0.3899), tensor(0.0922), tensor(0.7550), tensor(0.8635), tensor(0.2483), tensor(0.4295), tensor(0.1168), tensor(0.3464), tensor(0.4282), tensor(0.0783), tensor(0.2638), tensor(0.1227), tensor(0.1567), tensor(0.1066), tensor(0.4551), tensor(0.2945), tensor(0.5110), tensor(0.5849), tensor(0.2533), tensor(0.6428), tensor(0.6050), tensor(0.6505), tensor(0.5880), tensor(0.3462), tensor(0.5601), tensor(0.2522), tensor(0.2607), tensor(0.2607), tensor(0.2607), tensor(0.0370), tensor(0.4191), tensor(0.1630), tensor(0.5592), tensor(0.5968), tensor(0.5315), tensor(0.8571), tensor(0.5912), tensor(0.7107), tensor(0.7375), tensor(0.3168), tensor(0.6846), tensor(0.2952), tensor(0.3985), tensor(0.4177), tensor(0.5646), tensor(0.1964), tensor(0.6899), tensor(0.6797), tensor(0.2327), tensor(0.7129), tensor(0.7313), tensor(0.4150), tensor(0.7257), tensor(0.7506), tensor(0.6378), tensor(0.4702), tensor(0.2334), tensor(0.6758), tensor(0.5295), tensor(0.6504), tensor(0.2592), tensor(0.6119), tensor(0.6098), tensor(0.2359), tensor(0.5281), tensor(0.1551), tensor(0.1757), tensor(0.2722), tensor(0.2618), tensor(0.5324), tensor(0.7805), tensor(0.8675), tensor(0.3819), tensor(0.4368), tensor(0.5530), tensor(0.4922), tensor(0.3981), tensor(0.4577), tensor(0.2398), tensor(0.4496), tensor(0.3536), tensor(0.4918), tensor(0.2930), tensor(0.2060), tensor(0.5049), tensor(0.4459), tensor(0.6843), tensor(0.2912), tensor(0.2702), tensor(0.5181), tensor(0.0419), tensor(0.5136), tensor(0.2494), tensor(0.3001), tensor(0.1223), tensor(0.4683), tensor(0.4835), tensor(0.3595), tensor(0.2311), tensor(0.6979), tensor(0.3011), tensor(0.3229), tensor(0.3429), tensor(0.5894), tensor(0.2211), tensor(0.2846), tensor(0.3049), tensor(0.3087), tensor(0.1886), tensor(0.1886), tensor(0.1589), tensor(0.3362), tensor(0.4484), tensor(0.4326), tensor(0.6108), tensor(0.4784), tensor(0.1919), tensor(0.5189), tensor(0.0587), tensor(0.4913), tensor(0.1302), tensor(0.6061), tensor(0.4267), tensor(0.2251), tensor(0.2624), tensor(0.4185), tensor(0.1833), tensor(0.4442), tensor(0.4526), tensor(0.3445), tensor(0.0703), tensor(0.3232), tensor(0.3302), tensor(0.4651), tensor(0.0706), tensor(0.5795), tensor(0.5552), tensor(0.2806), tensor(0.5694), tensor(0.5812), tensor(0.1883), tensor(0.7096), tensor(0.6851), tensor(0.6684), tensor(0.2791), tensor(0.4338), tensor(0.6161), tensor(0.6371), tensor(0.4322), tensor(0.4899), tensor(0.3971), tensor(0.4090), tensor(0.4917), tensor(0.3599), tensor(0.2651), tensor(0.1917), tensor(0.3549), tensor(0.5307), tensor(0.2805), tensor(0.1709), tensor(-0.0031), tensor(0.2919), tensor(0.0975), tensor(0.1144), tensor(0.2607), tensor(0.3146), tensor(0.4830), tensor(0.6765), tensor(0.7504), tensor(0.4806), tensor(0.1689), tensor(0.3796), tensor(0.1127), tensor(0.1754), tensor(0.3783), tensor(0.2872), tensor(0.3404), tensor(0.3997), tensor(0.4950), tensor(0.1876), tensor(0.4479), tensor(0.2720), tensor(0.4530), tensor(0.2021), tensor(0.0887), tensor(0.2126), tensor(0.1624), tensor(0.2692), tensor(0.3110), tensor(0.4639), tensor(0.1973), tensor(0.1153), tensor(0.4724), tensor(0.5550), tensor(0.6885), tensor(0.5486), tensor(0.4193), tensor(0.5545), tensor(0.3816), tensor(0.1422), tensor(0.2211), tensor(0.1641), tensor(0.2639), tensor(0.5294), tensor(0.4079), tensor(0.1778), tensor(0.2641), tensor(0.5085), tensor(0.1109), tensor(0.3321), tensor(0.3960), tensor(0.4611), tensor(0.0979), tensor(0.1011), tensor(0.3387), tensor(0.4884), tensor(0.4226), tensor(0.2783), tensor(0.5843), tensor(0.1592), tensor(0.3441), tensor(0.4354), tensor(0.2355), tensor(0.2739), tensor(0.3736), tensor(0.6454), tensor(0.4734), tensor(0.5137), tensor(0.3090), tensor(0.1156), tensor(0.1610), tensor(0.4660), tensor(0.2566), tensor(0.4454), tensor(0.5752), tensor(0.3791), tensor(0.4435), tensor(0.3168), tensor(0.3560), tensor(0.3306), tensor(0.5013), tensor(0.2257), tensor(0.2787), tensor(0.5513), tensor(0.1736), tensor(0.3593), tensor(0.1944), tensor(0.4236), tensor(0.5278), tensor(0.2559), tensor(0.1255), tensor(0.5183), tensor(0.3898), tensor(0.0606), tensor(0.4504), tensor(0.4111), tensor(0.5141), tensor(0.5228), tensor(0.5191), tensor(0.2834), tensor(0.3668), tensor(0.2145), tensor(0.3271), tensor(0.5825), tensor(0.3622), tensor(0.6136), tensor(0.6597), tensor(0.3844), tensor(0.4607), tensor(0.3737), tensor(0.5087), tensor(0.4827), tensor(0.5611), tensor(0.6085), tensor(0.3827), tensor(0.4621), tensor(0.2501), tensor(0.5356), tensor(0.4708), tensor(0.5551), tensor(0.1717), tensor(0.1322), tensor(0.2245), tensor(0.5662), tensor(0.0901), tensor(0.3691), tensor(0.3984), tensor(0.5459), tensor(0.2332), tensor(0.5672), tensor(0.2404), tensor(0.2683), tensor(0.6332), tensor(0.1098), tensor(0.5815), tensor(0.7551), tensor(0.1064), tensor(0.2561), tensor(0.4293), tensor(0.2094), tensor(0.3559), tensor(0.0643), tensor(0.1782), tensor(0.4280), tensor(0.0593), tensor(0.2929), tensor(0.1046), tensor(0.2640), tensor(0.6767), tensor(0.2336), tensor(0.5562), tensor(0.4060), tensor(0.4204), tensor(0.5392), tensor(0.5740), tensor(0.4090), tensor(0.2955), tensor(0.3131), tensor(0.1365), tensor(0.2608), tensor(0.3199), tensor(0.5431), tensor(0.8470), tensor(0.3206), tensor(0.1058), tensor(0.6637), tensor(0.4745), tensor(0.1001), tensor(0.7363), tensor(0.5218), tensor(0.3382), tensor(0.0133), tensor(0.7171), tensor(0.7867), tensor(0.5599), tensor(0.5891), tensor(0.5993), tensor(0.3834), tensor(0.1206), tensor(0.2979), tensor(0.2968), tensor(0.6895), tensor(0.7645), tensor(0.3480), tensor(0.3120), tensor(0.5793), tensor(0.3827), tensor(0.5826), tensor(0.6021), tensor(0.6800), tensor(0.6185), tensor(0.5773), tensor(0.7240), tensor(0.2288), tensor(0.6890), tensor(0.6627), tensor(0.5108), tensor(0.6643), tensor(0.6655), tensor(0.4938), tensor(0.2427), tensor(0.2796), tensor(0.3468), tensor(0.3757), tensor(0.1767), tensor(0.0291), tensor(0.3161), tensor(0.0825), tensor(0.4977), tensor(0.2377), tensor(0.3016), tensor(0.1562), tensor(0.3084), tensor(0.1877), tensor(0.3750), tensor(0.4401), tensor(0.4334), tensor(0.5389), tensor(0.4066), tensor(0.1349), tensor(0.2669), tensor(0.3379), tensor(0.3634), tensor(0.6999), tensor(0.5289), tensor(0.1407), tensor(0.1537), tensor(0.3861), tensor(0.4701), tensor(0.5290), tensor(0.2062), tensor(0.2216), tensor(0.0948), tensor(0.1863), tensor(0.3906), tensor(0.4837), tensor(0.4534), tensor(0.1474), tensor(0.3749), tensor(0.1737), tensor(0.1813), tensor(0.2390), tensor(0.4127), tensor(0.5826), tensor(0.4640), tensor(0.0883), tensor(0.6404), tensor(0.4433), tensor(0.5230), tensor(0.6015), tensor(0.4265), tensor(0.2192), tensor(0.3321), tensor(0.1017), tensor(0.2723), tensor(0.1051), tensor(0.0550), tensor(0.1843), tensor(0.1237), tensor(0.5687), tensor(0.6386), tensor(0.2022), tensor(0.1712), tensor(0.5999), tensor(0.3231), tensor(0.4442), tensor(0.1718), tensor(0.1804), tensor(0.2463), tensor(0.1539), tensor(0.1367), tensor(0.2321), tensor(0.4633), tensor(0.3302), tensor(0.3368), tensor(0.2527), tensor(0.5894), tensor(0.3162), tensor(0.3123), tensor(0.4985), tensor(0.5138), tensor(0.5577), tensor(0.7110), tensor(0.3151), tensor(0.2679), tensor(0.4222), tensor(0.5271), tensor(0.5298), tensor(0.4351), tensor(0.2907), tensor(0.3384), tensor(0.2090), tensor(0.5651), tensor(0.5002), tensor(0.5305), tensor(0.3478), tensor(0.6309), tensor(0.4582), tensor(0.4205), tensor(0.4407), tensor(0.1520), tensor(0.4286), tensor(0.4401), tensor(0.4471), tensor(0.1326), tensor(0.3785), tensor(0.2094), tensor(0.1935), tensor(0.4537), tensor(0.6939), tensor(0.6932), tensor(0.7821), tensor(0.1613), tensor(0.7710), tensor(0.0411), tensor(0.2281), tensor(0.0644), tensor(0.1105), tensor(0.3962), tensor(0.6253), tensor(0.2882), tensor(0.4431), tensor(0.0816), tensor(0.4058), tensor(0.5966), tensor(0.4703), tensor(0.2045), tensor(0.5804), tensor(0.2178), tensor(0.3919), tensor(0.2301), tensor(0.4212), tensor(0.4729), tensor(0.4704), tensor(0.4291), tensor(0.3242), tensor(0.3929), tensor(0.2954), tensor(0.5308), tensor(0.2691), tensor(0.5119), tensor(0.7273), tensor(0.6216), tensor(0.3596), tensor(0.3920), tensor(0.5011), tensor(0.2553), tensor(0.1852), tensor(0.4244), tensor(0.2305), tensor(0.1307), tensor(0.5043), tensor(0.3242), tensor(0.3043), tensor(0.3189), tensor(0.2498), tensor(0.4115), tensor(0.2372), tensor(0.2620), tensor(0.3007), tensor(0.4991), tensor(0.5212), tensor(0.2407), tensor(0.2421), tensor(0.3775), tensor(0.3238), tensor(0.0614), tensor(0.2768), tensor(0.3030), tensor(0.5400), tensor(0.3972), tensor(0.4476), tensor(0.5165), tensor(0.1800), tensor(0.3560), tensor(0.3664), tensor(0.4886), tensor(0.2164), tensor(0.1397), tensor(0.4398), tensor(0.2283), tensor(0.2877), tensor(0.3160), tensor(0.2728), tensor(0.1001), tensor(0.2958), tensor(0.5707), tensor(0.1800), tensor(0.1745), tensor(0.3473), tensor(0.2818), tensor(0.3488), tensor(0.2706), tensor(0.3845), tensor(0.1807), tensor(0.4230), tensor(0.1222), tensor(0.3656), tensor(0.6254), tensor(0.1604), tensor(0.6628), tensor(0.6548), tensor(0.6811), tensor(0.7082), tensor(0.5956), tensor(0.4017), tensor(0.4184), tensor(0.2668), tensor(0.5075), tensor(0.3571), tensor(0.3204), tensor(0.4322), tensor(0.2019), tensor(0.1241), tensor(0.2325), tensor(0.0929), tensor(0.1218), tensor(0.4053), tensor(0.5855), tensor(0.6521), tensor(0.4822), tensor(0.4420), tensor(0.2124), tensor(0.2780), tensor(0.5099), tensor(0.1084), tensor(0.4697), tensor(0.5455), tensor(0.3702), tensor(0.5139), tensor(0.7371), tensor(0.2622), tensor(0.5287), tensor(0.2805), tensor(0.3358), tensor(0.1432), tensor(0.2444), tensor(0.4028), tensor(0.4963), tensor(0.1698), tensor(0.4757), tensor(0.4284), tensor(0.5919), tensor(0.3129), tensor(0.6408), tensor(0.3868), tensor(0.3759), tensor(0.5987), tensor(0.6341), tensor(0.1986), tensor(0.2082), tensor(0.3732), tensor(0.0210), tensor(0.6448), tensor(0.7508), tensor(0.0982), tensor(0.3546), tensor(0.1010), tensor(0.5725), tensor(0.4536), tensor(0.1195), tensor(0.3334), tensor(0.2429), tensor(0.2552), tensor(0.4782), tensor(0.2153), tensor(0.5691), tensor(0.2474), tensor(0.1899), tensor(0.3756), tensor(0.2079), tensor(0.0566), tensor(-0.0892), tensor(0.2326), tensor(0.8039), tensor(0.0360), tensor(0.7852), tensor(0.8621), tensor(0.8341), tensor(0.7082), tensor(0.8228), tensor(0.3408), tensor(0.6301), tensor(0.3102), tensor(0.1639), tensor(0.2875), tensor(0.3305), tensor(0.3727), tensor(0.4735), tensor(0.4073), tensor(0.5684), tensor(0.1670), tensor(0.7517), tensor(0.4602), tensor(0.5352), tensor(0.4885), tensor(0.2497), tensor(0.2769), tensor(0.5155), tensor(0.1174), tensor(0.3047), tensor(0.4330), tensor(0.5268), tensor(0.5035), tensor(0.6326), tensor(0.8519), tensor(0.7718), tensor(0.1860), tensor(0.2436), tensor(0.4648), tensor(0.4593), tensor(0.7327), tensor(0.2910), tensor(0.3508), tensor(0.5631), tensor(0.3972), tensor(0.5281), tensor(0.5717), tensor(0.2822), tensor(0.5046), tensor(0.4677), tensor(0.4201), tensor(0.6552), tensor(0.3784), tensor(0.3368), tensor(0.2590), tensor(0.5123), tensor(0.7326), tensor(0.6892), tensor(0.3892), tensor(0.5542), tensor(0.6770), tensor(0.3931), tensor(0.4565), tensor(0.4356), tensor(0.3853), tensor(0.4135), tensor(0.4728), tensor(0.3208), tensor(0.4985), tensor(0.5276), tensor(0.4765), tensor(0.4622), tensor(0.6760), tensor(0.1456), tensor(0.7067), tensor(0.5632), tensor(0.6179), tensor(0.7054), tensor(0.7630), tensor(0.7630), tensor(0.7630), tensor(0.7043), tensor(0.6100), tensor(0.6081), tensor(0.6408), tensor(0.4257), tensor(0.3087), tensor(0.1369), tensor(0.5534), tensor(0.6792), tensor(0.5472), tensor(0.6541), tensor(0.4367), tensor(0.5757), tensor(0.5618), tensor(0.6226), tensor(0.6516), tensor(0.2278), tensor(0.2746), tensor(0.2787), tensor(0.3586), tensor(0.4622), tensor(0.2653), tensor(0.2678), tensor(0.2971), tensor(0.1001), tensor(0.2323), tensor(0.1683), tensor(0.7017), tensor(0.5877), tensor(0.3548), tensor(0.4531), tensor(0.3256), tensor(0.2364), tensor(0.2283), tensor(0.1646), tensor(0.2386), tensor(0.2291), tensor(0.3877), tensor(0.0883), tensor(0.8886), tensor(0.5236), tensor(0.6041), tensor(0.6033), tensor(0.2714), tensor(0.4599), tensor(0.2778), tensor(0.4053), tensor(0.3993), tensor(0.2705), tensor(0.0447), tensor(0.2077), tensor(0.6877), tensor(0.6654), tensor(0.2822), tensor(0.2246), tensor(0.2536), tensor(0.6060), tensor(0.3344), tensor(0.5765), tensor(0.4495), tensor(0.5293), tensor(0.2741), tensor(0.1854), tensor(0.5750), tensor(0.4226), tensor(0.1305), tensor(0.1856), tensor(0.1237), tensor(0.3139), tensor(0.0912), tensor(0.1505), tensor(0.4369), tensor(0.3772), tensor(0.5661), tensor(0.0849), tensor(0.2455), tensor(0.6464), tensor(0.3211), tensor(0.5965), tensor(0.7006), tensor(0.6391), tensor(0.5538), tensor(0.7093), tensor(0.7039), tensor(0.6893), tensor(0.7774), tensor(0.5577), tensor(0.7832), tensor(0.1042), tensor(0.2148), tensor(0.3817), tensor(0.7703), tensor(0.6045), tensor(0.3804), tensor(0.6082), tensor(0.7048), tensor(0.1347), tensor(0.3296), tensor(0.4854), tensor(0.5033), tensor(0.0896), tensor(0.5696), tensor(0.1923), tensor(0.2387), tensor(0.1144), tensor(0.1934), tensor(0.2279), tensor(0.1827), tensor(0.1990), tensor(0.2730), tensor(0.6577), tensor(0.6213), tensor(0.0411), tensor(0.3643), tensor(0.5284), tensor(0.7066), tensor(0.5209), tensor(0.7009), tensor(0.4901), tensor(0.7489), tensor(0.6827), tensor(0.7451), tensor(0.8431), tensor(0.7781), tensor(0.7643), tensor(0.6059), tensor(0.8084), tensor(0.6512), tensor(0.9136), tensor(0.9371), tensor(0.4742), tensor(0.4247), tensor(0.2554), tensor(0.5997), tensor(0.5161), tensor(0.3825), tensor(0.4880), tensor(0.2446), tensor(0.3771), tensor(0.4115), tensor(0.0843), tensor(0.2051), tensor(0.1776), tensor(0.0452), tensor(-0.0216), tensor(0.0138), tensor(0.4926), tensor(0.1396), tensor(0.0125), tensor(0.2183), tensor(0.1556), tensor(0.5944), tensor(0.3394), tensor(0.2282), tensor(0.0512), tensor(0.1246), tensor(0.1132), tensor(0.1042), tensor(0.6250), tensor(0.2360), tensor(0.0189), tensor(0.2514), tensor(0.3085), tensor(0.3836), tensor(0.3267), tensor(0.1835), tensor(0.3274), tensor(0.3118), tensor(0.5615), tensor(0.5934), tensor(0.5567), tensor(0.4709), tensor(0.4902), tensor(0.1308), tensor(0.1564), tensor(0.6217), tensor(0.3327), tensor(0.5910), tensor(0.2611), tensor(0.6903), tensor(0.4539), tensor(0.2155), tensor(0.7147), tensor(0.3015), tensor(0.3551), tensor(0.4136), tensor(0.6190), tensor(0.8180), tensor(0.8404), tensor(0.6365), tensor(0.3535), tensor(0.7248), tensor(0.2991), tensor(0.2091), tensor(0.2333), tensor(0.5507), tensor(0.2963), tensor(0.0608), tensor(0.6150), tensor(0.5254), tensor(0.4818), tensor(0.6521), tensor(0.1699), tensor(-0.0522), tensor(-0.0051), tensor(0.6980), tensor(0.2386), tensor(0.5023), tensor(0.2429), tensor(0.1810), tensor(0.2725), tensor(0.3935), tensor(0.3547), tensor(0.3650), tensor(0.2664), tensor(0.2151), tensor(0.3190), tensor(0.1602), tensor(0.1122), tensor(0.0925), tensor(0.1648), tensor(0.4544), tensor(0.3516), tensor(0.1809), tensor(0.6478), tensor(0.2388), tensor(0.5884), tensor(0.4939), tensor(0.2386), tensor(0.3802), tensor(0.2998), tensor(0.2483), tensor(0.4322), tensor(-0.1061), tensor(0.2956), tensor(0.1506), tensor(-0.0545), tensor(0.6404), tensor(0.1825), tensor(0.2460), tensor(0.3432), tensor(0.4493), tensor(0.0962), tensor(0.0562), tensor(0.4304), tensor(0.1899), tensor(0.0827), tensor(0.5030), tensor(0.3175), tensor(0.2885), tensor(0.2020), tensor(0.3508), tensor(0.6163), tensor(0.4012), tensor(0.2345), tensor(0.4468), tensor(0.3179), tensor(0.3477), tensor(0.4489), tensor(0.9136), tensor(0.5862), tensor(0.3860), tensor(0.5878), tensor(0.5411), tensor(0.5010), tensor(0.8712), tensor(0.6145), tensor(0.7377), tensor(0.3378), tensor(0.9136), tensor(0.9136), tensor(0.2781), tensor(0.3118), tensor(0.4524), tensor(0.4541), tensor(0.0854), tensor(0.0201), tensor(0.3007), tensor(0.2034), tensor(0.2040), tensor(0.6035), tensor(0.1399), tensor(0.3422), tensor(0.1084), tensor(0.3853), tensor(0.6980), tensor(0.0999), tensor(0.1735), tensor(0.3716), tensor(0.1086), tensor(0.1481), tensor(0.0833), tensor(0.1641), tensor(0.1863), tensor(0.2442), tensor(0.2797), tensor(0.0062), tensor(0.4019), tensor(0.3532), tensor(0.2941), tensor(0.7815), tensor(0.3216), tensor(0.2914), tensor(0.6509), tensor(0.2339), tensor(0.5469), tensor(0.1726), tensor(0.1963), tensor(0.2216), tensor(0.3845), tensor(0.6905), tensor(0.4952), tensor(0.5584), tensor(0.7259), tensor(0.2949), tensor(0.1729), tensor(0.5683), tensor(0.4325), tensor(0.5323), tensor(0.6916), tensor(0.0538), tensor(0.1409), tensor(0.3936), tensor(0.2565), tensor(0.5047), tensor(0.3869), tensor(0.3374), tensor(0.2534), tensor(0.5533), tensor(-0.1221), tensor(0.1639), tensor(0.3472), tensor(0.5179), tensor(0.4648), tensor(0.7281), tensor(0.7471), tensor(0.1782), tensor(0.6645), tensor(0.8118), tensor(0.7168), tensor(0.2873), tensor(0.6705), tensor(0.6318), tensor(0.2018), tensor(0.5940), tensor(0.5225), tensor(0.8312), tensor(0.4672), tensor(0.3286), tensor(0.2962), tensor(0.3959), tensor(0.3959), tensor(0.1016), tensor(0.5931), tensor(0.6665), tensor(0.7115), tensor(0.5989), tensor(0.7010), tensor(0.7010), tensor(0.7010), tensor(0.5618), tensor(0.7949), tensor(0.3144), tensor(0.3562), tensor(0.1451), tensor(0.1700), tensor(0.1609), tensor(0.4357), tensor(0.1450), tensor(0.3334), tensor(0.5189), tensor(0.5922), tensor(0.4854), tensor(0.1401), tensor(0.4746), tensor(0.2149), tensor(0.3777), tensor(0.2108), tensor(0.2341), tensor(0.4052), tensor(0.3014), tensor(0.0205), tensor(0.5953), tensor(0.1137), tensor(0.6355), tensor(0.2124), tensor(0.2075), tensor(0.2646), tensor(0.1074), tensor(0.1737), tensor(0.4902), tensor(0.3049), tensor(0.1763), tensor(0.1230), tensor(0.4000), tensor(0.3373), tensor(0.3447), tensor(0.6617), tensor(0.0356), tensor(0.5658), tensor(0.7029), tensor(0.3099), tensor(0.2510), tensor(0.3131), tensor(0.3778), tensor(0.4741), tensor(0.2319), tensor(0.2746), tensor(0.3393), tensor(0.3842), tensor(0.2247), tensor(0.6072), tensor(0.2901), tensor(0.4380), tensor(0.3727), tensor(0.3930), tensor(0.0848), tensor(0.5465), tensor(0.0428), tensor(0.5045), tensor(0.5861), tensor(0.6891), tensor(-0.0678), tensor(0.3255), tensor(0.5568), tensor(0.2283), tensor(0.2896), tensor(0.4479), tensor(0.5726), tensor(0.5917), tensor(0.4708), tensor(0.4129), tensor(0.4040), tensor(0.0549), tensor(0.1583), tensor(0.5883), tensor(0.5276), tensor(0.5313), tensor(0.5293), tensor(0.3654), tensor(0.1055), tensor(0.4798), tensor(0.1978), tensor(0.3415), tensor(0.2019), tensor(0.3855), tensor(0.4180), tensor(0.1952), tensor(0.3691), tensor(0.0336), tensor(0.0992), tensor(0.2809), tensor(0.0950), tensor(0.5396), tensor(0.2101), tensor(0.7328), tensor(0.8882), tensor(0.5785), tensor(0.5333), tensor(0.1996), tensor(0.0709), tensor(0.1099), tensor(0.2015), tensor(0.6605), tensor(0.2516), tensor(0.4245), tensor(0.2875), tensor(0.4503), tensor(0.3259), tensor(0.2152), tensor(0.5432), tensor(0.4086), tensor(0.2921), tensor(0.9136), tensor(0.4552), tensor(0.1979), tensor(0.3163), tensor(0.3556), tensor(0.2822), tensor(0.5489), tensor(0.5468), tensor(0.5289), tensor(0.2588), tensor(0.4389), tensor(0.3550), tensor(0.1365), tensor(0.3814), tensor(0.1207), tensor(0.3284), tensor(0.4064), tensor(0.0814), tensor(0.3716), tensor(0.3125), tensor(0.2596), tensor(0.1012), tensor(0.4896), tensor(0.3622), tensor(0.1476), tensor(0.1142), tensor(0.0398), tensor(0.1267), tensor(0.2719), tensor(0.1804), tensor(0.4487), tensor(0.4778), tensor(0.4332), tensor(0.4132), tensor(0.3268), tensor(0.4242), tensor(0.1857), tensor(0.1280), tensor(0.2085), tensor(0.3438), tensor(0.2961), tensor(0.5275), tensor(0.0625), tensor(0.3704), tensor(0.0547), tensor(0.1071), tensor(0.5161), tensor(0.2122), tensor(0.4698), tensor(-0.0231), tensor(0.1934), tensor(0.5401), tensor(0.3870), tensor(0.2717), tensor(0.2880), tensor(0.2630), tensor(0.5396), tensor(0.6862), tensor(0.3317), tensor(0.2896), tensor(0.3317), tensor(0.2162), tensor(0.4991), tensor(0.5738), tensor(0.7072), tensor(0.2303), tensor(0.2642), tensor(0.0701), tensor(0.2642), tensor(0.2770), tensor(0.2254), tensor(0.3483), tensor(0.2632), tensor(0.2650), tensor(0.0904), tensor(0.0511), tensor(0.1279), tensor(0.2522), tensor(0.4513), tensor(0.6851), tensor(0.4963), tensor(0.3658), tensor(0.5441), tensor(0.7835), tensor(0.7633), tensor(0.5277), tensor(0.3505), tensor(0.5581), tensor(0.5933), tensor(0.5077), tensor(0.3602), tensor(0.2949), tensor(0.0815), tensor(0.1042), tensor(0.1586), tensor(0.5755), tensor(0.3640), tensor(0.3276), tensor(0.1668), tensor(0.2805), tensor(0.3105), tensor(0.3163), tensor(0.5180), tensor(0.0383), tensor(0.2189), tensor(0.0329), tensor(0.5167), tensor(0.0605), tensor(0.1286), tensor(0.1303), tensor(0.5665), tensor(0.3243), tensor(0.0023), tensor(0.2522), tensor(0.2425), tensor(0.5614), tensor(0.4852), tensor(0.5315), tensor(0.1849), tensor(0.7781), tensor(0.1956), tensor(0.2943), tensor(0.7726), tensor(0.2526), tensor(0.2468), tensor(0.2980), tensor(0.2354), tensor(0.3733), tensor(0.7327), tensor(0.7884), tensor(0.7957), tensor(0.2079), tensor(0.1005), tensor(0.4133), tensor(0.7505), tensor(0.4743), tensor(0.7159), tensor(0.2647), tensor(0.6565), tensor(0.8285), tensor(0.1052), tensor(-0.0409), tensor(0.3367), tensor(0.6376), tensor(0.4749), tensor(0.5773), tensor(0.6548), tensor(0.5346), tensor(0.7067), tensor(0.5366), tensor(0.5669), tensor(0.3562), tensor(0.3008), tensor(0.0445), tensor(0.6099), tensor(0.4176), tensor(0.1414), tensor(0.0396), tensor(0.0906), tensor(0.3518), tensor(0.4185), tensor(0.4496), tensor(0.2156), tensor(0.3547), tensor(0.4059), tensor(0.5086), tensor(0.4486), tensor(0.2102), tensor(0.3800), tensor(0.3463), tensor(0.2815), tensor(0.3070), tensor(0.3121), tensor(0.0717), tensor(0.5512), tensor(0.6481), tensor(0.5925), tensor(0.7422), tensor(0.5560), tensor(0.5274), tensor(0.3435), tensor(0.1038), tensor(0.6443), tensor(0.2289), tensor(0.0673), tensor(0.1410), tensor(0.2206), tensor(0.1130), tensor(0.2142), tensor(0.2404), tensor(0.3126), tensor(0.6445), tensor(0.4180), tensor(0.1201), tensor(0.7588), tensor(0.2284), tensor(0.2676), tensor(0.0596), tensor(0.3290), tensor(0.6510), tensor(0.0191), tensor(0.2913), tensor(0.2700), tensor(0.3327), tensor(0.2346), tensor(0.3478), tensor(0.0974), tensor(0.2184), tensor(0.1946), tensor(0.0922), tensor(0.2184), tensor(0.1915), tensor(0.1810), tensor(0.1051), tensor(0.1328), tensor(0.1328), tensor(0.1502), tensor(0.1593), tensor(0.6753), tensor(-0.1290), tensor(0.3032), tensor(0.2992), tensor(0.2827), tensor(0.4209), tensor(0.5750), tensor(0.3110), tensor(0.3345), tensor(0.4451), tensor(0.4071), tensor(0.3152), tensor(0.5005), tensor(0.3778), tensor(0.5688), tensor(0.5528), tensor(0.3266), tensor(0.3838), tensor(0.4278), tensor(0.5555), tensor(0.1545), tensor(0.3009), tensor(0.5844), tensor(0.3008), tensor(0.4296), tensor(0.2219), tensor(0.5206), tensor(0.5671), tensor(0.2387), tensor(0.4758), tensor(0.4670), tensor(0.3386), tensor(0.3072), tensor(0.3679), tensor(0.5160), tensor(0.6762), tensor(0.2154), tensor(0.4878), tensor(0.5726), tensor(0.2883), tensor(0.4163), tensor(0.1655), tensor(0.1602), tensor(0.4436), tensor(0.2865), tensor(0.1629), tensor(0.2561), tensor(0.5837), tensor(0.2238), tensor(0.4744), tensor(0.6130), tensor(0.3330), tensor(0.6083), tensor(0.3054), tensor(0.6190), tensor(0.2371), tensor(0.5758), tensor(0.2877), tensor(0.4309), tensor(0.1389), tensor(0.2947), tensor(0.7589), tensor(0.5816), tensor(0.6674), tensor(0.6481), tensor(0.6052), tensor(0.6372), tensor(0.6402), tensor(0.5161), tensor(0.2480), tensor(0.2978), tensor(0.5527), tensor(0.3161), tensor(0.6136), tensor(0.3278), tensor(0.4042), tensor(0.3175), tensor(0.7031), tensor(0.5952), tensor(0.4554), tensor(0.5887), tensor(0.5205), tensor(0.5324), tensor(0.3877), tensor(0.4453), tensor(0.6198), tensor(0.6099), tensor(0.1250), tensor(0.2018), tensor(0.3886), tensor(0.4296), tensor(0.0029), tensor(0.1296), tensor(0.4448), tensor(0.2591), tensor(0.2253), tensor(0.2577), tensor(0.3825), tensor(0.3748), tensor(0.2112), tensor(0.5438), tensor(0.3633), tensor(0.4186), tensor(0.4324), tensor(0.4797), tensor(0.5513), tensor(0.1899), tensor(0.1419), tensor(0.0851), tensor(0.2212), tensor(0.4825), tensor(0.0182), tensor(0.1545), tensor(0.4265), tensor(0.2993), tensor(0.0675), tensor(0.4062), tensor(0.1211), tensor(0.0243), tensor(0.2853), tensor(0.0391), tensor(0.4058), tensor(0.1417), tensor(0.3352), tensor(0.5868), tensor(0.0526), tensor(0.2165), tensor(0.2050), tensor(0.1875), tensor(0.3110), tensor(0.0492), tensor(0.0335), tensor(0.2718), tensor(0.7257), tensor(0.2310), tensor(0.4951), tensor(0.5540), tensor(0.1876), tensor(0.2196), tensor(0.3194), tensor(0.3084), tensor(0.3094), tensor(0.6997), tensor(0.6541), tensor(0.3848), tensor(0.3559), tensor(0.1760), tensor(0.4302), tensor(0.1305), tensor(0.5200), tensor(0.4113), tensor(0.3703), tensor(0.2026), tensor(0.3094), tensor(0.1526), tensor(0.3922), tensor(0.6480), tensor(0.3266), tensor(0.2412), tensor(0.1861), tensor(0.4023), tensor(0.4387), tensor(0.2903), tensor(0.1432), tensor(0.8410), tensor(0.7189), tensor(0.2878), tensor(0.5137), tensor(0.3616), tensor(0.2780), tensor(0.0763), tensor(0.2087), tensor(0.5773), tensor(0.3200), tensor(0.3156), tensor(0.5045), tensor(0.5681), tensor(0.6705), tensor(0.1821), tensor(0.0349), tensor(0.2396), tensor(0.4431), tensor(0.1951), tensor(0.3374), tensor(0.3975), tensor(0.2438), tensor(0.4685), tensor(0.3585), tensor(0.1602), tensor(0.3705), tensor(0.2840), tensor(0.5583), tensor(0.6070), tensor(0.1935), tensor(0.1780), tensor(0.3038), tensor(0.6842), tensor(0.5867), tensor(0.6693), tensor(0.6650), tensor(0.3567), tensor(-0.0952), tensor(-0.0645), tensor(0.2941), tensor(0.0989), tensor(0.0438), tensor(0.8222), tensor(0.4515), tensor(0.5684), tensor(0.3874), tensor(0.6582), tensor(0.8362), tensor(0.8438), tensor(0.2606), tensor(0.2813), tensor(0.0682), tensor(0.2786), tensor(0.3304), tensor(0.6452), tensor(0.0150), tensor(0.4435), tensor(0.4030), tensor(0.5496), tensor(0.4743), tensor(-0.0017), tensor(0.3661), tensor(0.3281), tensor(0.7085), tensor(0.2494), tensor(0.2330), tensor(0.1897), tensor(0.3699), tensor(0.5253), tensor(0.3480), tensor(0.0483), tensor(0.0592), tensor(0.0419), tensor(0.4503), tensor(0.6508), tensor(0.5160), tensor(0.4610), tensor(0.7513), tensor(0.2522), tensor(0.6885), tensor(0.5369), tensor(0.5345), tensor(0.5327), tensor(0.1255), tensor(0.0717), tensor(0.0914), tensor(0.4761), tensor(0.3246), tensor(0.2597), tensor(0.3806), tensor(0.0923), tensor(0.1089), tensor(0.1775), tensor(0.0947), tensor(0.0566), tensor(0.1568), tensor(0.1342), tensor(0.2779), tensor(0.4306), tensor(0.0554), tensor(0.2898), tensor(0.6338), tensor(0.2447), tensor(0.5456), tensor(0.1747), tensor(0.0311), tensor(0.2264), tensor(0.1920), tensor(0.3775), tensor(0.3891), tensor(0.2145), tensor(0.0561), tensor(0.7495), tensor(0.4159), tensor(0.4341), tensor(0.3491), tensor(0.6116), tensor(0.4096), tensor(0.3343), tensor(0.1024), tensor(0.2391), tensor(0.5293), tensor(0.1812), tensor(0.2051), tensor(0.4877), tensor(0.3847), tensor(0.2970), tensor(0.4986), tensor(0.3593), tensor(0.1629), tensor(0.4420), tensor(0.2432), tensor(0.2493), tensor(0.4611), tensor(0.4798), tensor(0.5755), tensor(0.3693), tensor(0.4609), tensor(0.1921), tensor(0.2337), tensor(0.1435), tensor(0.4582), tensor(0.1168), tensor(0.4599), tensor(0.6409), tensor(0.4271), tensor(0.5039), tensor(0.3611), tensor(-0.0286), tensor(0.2632), tensor(-0.0485), tensor(0.4781), tensor(0.4330), tensor(0.0280), tensor(0.2996), tensor(0.6167), tensor(0.1896), tensor(0.9136), tensor(0.1348), tensor(0.6867), tensor(0.9239), tensor(0.6011), tensor(0.7240), tensor(0.3225), tensor(0.6080), tensor(0.4296), tensor(0.5362), tensor(0.3990), tensor(0.2519), tensor(0.0681), tensor(0.6224), tensor(0.3027), tensor(0.5002), tensor(0.6102), tensor(0.4614), tensor(0.3198), tensor(0.4336), tensor(0.5334), tensor(0.6069), tensor(0.4051), tensor(0.3531), tensor(0.4856), tensor(0.3030), tensor(0.3760), tensor(0.2549), tensor(0.3637), tensor(0.2120), tensor(0.1554), tensor(0.1465), tensor(0.4496), tensor(0.1026), tensor(0.4170), tensor(0.1576), tensor(0.4893), tensor(0.6219), tensor(0.1481), tensor(0.4673), tensor(0.2244), tensor(0.1897), tensor(0.3529), tensor(0.1772), tensor(0.5174), tensor(0.2679), tensor(0.2932), tensor(0.2212), tensor(0.4753), tensor(0.3231), tensor(0.6391), tensor(0.7003), tensor(0.4886), tensor(0.4305), tensor(0.3757), tensor(0.2991), tensor(0.4671), tensor(0.2213), tensor(0.5043), tensor(0.4245), tensor(0.1569), tensor(0.1540), tensor(0.3198), tensor(0.3487), tensor(0.5275), tensor(0.3907), tensor(0.3247), tensor(0.3280), tensor(0.2955), tensor(0.4385), tensor(0.1606), tensor(0.2957), tensor(0.1876), tensor(0.2141), tensor(0.3497), tensor(0.3520), tensor(0.1693), tensor(0.4327), tensor(0.3185), tensor(0.4363), tensor(0.3350), tensor(0.3846), tensor(0.1951), tensor(0.5925), tensor(0.4101), tensor(0.0237), tensor(0.2483), tensor(0.3179), tensor(0.3391), tensor(0.2553), tensor(0.1797), tensor(0.2598), tensor(0.4485), tensor(0.2986), tensor(0.0289), tensor(0.0564), tensor(0.0514), tensor(0.0755), tensor(0.2096), tensor(0.4284), tensor(0.3389), tensor(0.2558), tensor(0.0702), tensor(0.2696), tensor(0.6349), tensor(0.0361), tensor(0.0432), tensor(0.5269), tensor(0.0275), tensor(0.6932), tensor(0.1253), tensor(0.3168), tensor(0.0918), tensor(0.3781), tensor(0.1765), tensor(0.7081), tensor(0.2876), tensor(0.4931), tensor(0.4456), tensor(0.5338), tensor(0.2539), tensor(0.6424), tensor(0.3884), tensor(0.3622), tensor(0.6829), tensor(0.6559), tensor(0.4194), tensor(0.4990), tensor(0.7922), tensor(0.3283), tensor(0.3086), tensor(0.5363), tensor(0.6586), tensor(0.2841), tensor(0.5129), tensor(0.4415), tensor(0.7389), tensor(0.4767), tensor(0.8009), tensor(0.4373), tensor(0.2087), tensor(0.2669), tensor(0.2165), tensor(0.3993), tensor(0.3233), tensor(0.2623), tensor(0.5785), tensor(0.8147), tensor(0.5352), tensor(0.1770), tensor(0.5655), tensor(0.0798), tensor(0.7503), tensor(0.1349), tensor(0.4637), tensor(0.3603), tensor(0.6475), tensor(0.1464), tensor(0.3918), tensor(0.4422), tensor(0.2926), tensor(0.0587), tensor(0.3128), tensor(0.3805), tensor(0.2150), tensor(0.0891), tensor(0.4200), tensor(0.0860), tensor(0.4121), tensor(0.3175), tensor(0.2952), tensor(0.3980), tensor(0.2769), tensor(0.4003), tensor(0.3147), tensor(0.7281), tensor(0.2972), tensor(0.6352), tensor(0.1917), tensor(0.2207), tensor(0.5463), tensor(0.2743), tensor(0.1613), tensor(0.1213), tensor(0.1814), tensor(0.2407), tensor(0.0185), tensor(0.2664), tensor(0.2455), tensor(0.2635), tensor(0.2695), tensor(0.1276), tensor(0.1887), tensor(0.1695), tensor(0.1919), tensor(0.2284), tensor(0.0784), tensor(0.3584), tensor(0.1113), tensor(0.3200), tensor(0.3059), tensor(0.6700), tensor(0.3146), tensor(0.3882), tensor(0.4299), tensor(0.4253), tensor(0.5506), tensor(0.4230), tensor(0.2783), tensor(0.2985), tensor(0.3012), tensor(0.1281), tensor(0.5056), tensor(0.4403), tensor(0.0117), tensor(0.1318), tensor(0.2254), tensor(0.2489), tensor(0.9136), tensor(0.9488), tensor(0.2206), tensor(0.6486), tensor(0.6198), tensor(0.6548), tensor(0.5061), tensor(0.4571), tensor(0.5877), tensor(0.4300), tensor(0.4616), tensor(0.3268), tensor(0.4947), tensor(0.4034), tensor(0.4034), tensor(0.4034), tensor(0.3583), tensor(0.4034), tensor(0.1720), tensor(0.3937), tensor(0.6396), tensor(0.6358), tensor(0.5851), tensor(0.2359), tensor(0.3695), tensor(0.6838), tensor(0.2533), tensor(0.1542), tensor(0.0854), tensor(0.2707), tensor(0.2341), tensor(0.3013), tensor(0.3358), tensor(0.3539), tensor(0.1402), tensor(0.1716), tensor(0.1329), tensor(0.1578), tensor(0.2572), tensor(0.4519), tensor(0.4497), tensor(0.4199), tensor(0.1190), tensor(0.2594), tensor(0.5158), tensor(0.4454), tensor(0.2177), tensor(0.3725), tensor(0.1460), tensor(0.1968), tensor(0.4022), tensor(0.3196), tensor(0.3913), tensor(0.6305), tensor(0.1738), tensor(0.5739), tensor(0.1374), tensor(0.2480), tensor(0.4667), tensor(0.2623), tensor(0.6633), tensor(0.5579), tensor(0.4195), tensor(0.1093), tensor(0.3102), tensor(0.2630), tensor(0.6115), tensor(0.1442), tensor(0.1830), tensor(0.5757), tensor(0.0579), tensor(0.3774), tensor(0.4177), tensor(0.2462), tensor(0.2212), tensor(0.4144), tensor(0.2314), tensor(0.4762), tensor(0.5271), tensor(0.5753), tensor(0.5639), tensor(0.4001), tensor(0.3884), tensor(0.2771), tensor(0.4458), tensor(0.3245), tensor(0.1325), tensor(0.6686), tensor(0.5887), tensor(0.4193), tensor(0.2913), tensor(0.4828), tensor(0.1282), tensor(0.2339), tensor(0.1569), tensor(0.5223), tensor(0.2485), tensor(0.4610), tensor(0.6128), tensor(0.1265), tensor(0.5415), tensor(0.1855), tensor(0.0667), tensor(0.3040), tensor(0.6962), tensor(0.2305), tensor(0.4713)]\n",
            "Average coherence score: 0.3786083161830902\n"
          ]
        }
      ]
    },
    {
      "cell_type": "markdown",
      "source": [
        "Calcuate the average coherence scores for accepted suggestions and for rejected suggestions."
      ],
      "metadata": {
        "id": "RajfuK1WaWBH"
      }
    },
    {
      "cell_type": "code",
      "source": [
        "accepted_sum = 0\n",
        "accepted_count = 0\n",
        "rejected_sum = 0\n",
        "rejected_count = 0\n",
        "\n",
        "for d in coherence_scores:\n",
        "    if d['acceptance'] == 'accepted':\n",
        "        accepted_sum += d['score']\n",
        "        accepted_count += 1\n",
        "    else:\n",
        "        rejected_sum += d['score']\n",
        "        rejected_count += 1\n",
        "\n",
        "average_accepted_coherence = accepted_sum / accepted_count\n",
        "average_rejected_coherence = rejected_sum / rejected_count\n",
        "\n",
        "print(f\"Average coherence score for accepted suggestions: {average_accepted_coherence}\")\n",
        "print(f\"Average coherence score for rejected suggestions: {average_rejected_coherence}\")"
      ],
      "metadata": {
        "id": "GNIVfjutZkuH",
        "colab": {
          "base_uri": "https://localhost:8080/",
          "height": 0
        },
        "outputId": "11c1c14f-616b-4aa7-ea13-63cdc34a3bb3"
      },
      "execution_count": 19,
      "outputs": [
        {
          "output_type": "stream",
          "name": "stdout",
          "text": [
            "Average coherence score for accepted suggestions: 0.38358813524246216\n",
            "Average coherence score for rejected suggestions: 0.36347082257270813\n"
          ]
        }
      ]
    }
  ]
}