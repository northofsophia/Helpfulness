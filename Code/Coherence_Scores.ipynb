{
  "nbformat": 4,
  "nbformat_minor": 0,
  "metadata": {
    "colab": {
      "provenance": [],
      "collapsed_sections": [
        "ZiTqFOcq9R0I",
        "r_5pnU7Sx_2d"
      ],
      "gpuType": "T4"
    },
    "kernelspec": {
      "name": "python3",
      "display_name": "Python 3"
    },
    "language_info": {
      "name": "python"
    },
    "accelerator": "GPU"
  },
  "cells": [
    {
      "cell_type": "markdown",
      "source": [
        "# Getting started with CoAuthor\n",
        "\n",
        "**Goal: Download and read the CoAuthor dataset**\n",
        "\n",
        "Steps\n",
        "1. Download CoAuthor\n",
        "2. Read writing sessions\n",
        "3. Examine events"
      ],
      "metadata": {
        "id": "0jtXvigD7-eo"
      }
    },
    {
      "cell_type": "markdown",
      "source": [
        "## 1. Download CoAuthor"
      ],
      "metadata": {
        "id": "8pSmRqHN7x17"
      }
    },
    {
      "cell_type": "code",
      "execution_count": 1,
      "metadata": {
        "colab": {
          "base_uri": "https://localhost:8080/"
        },
        "id": "m2h26ije5zUn",
        "outputId": "aed43cb7-3580-4839-d853-b3b763753817"
      },
      "outputs": [
        {
          "output_type": "stream",
          "name": "stdout",
          "text": [
            "--2025-02-25 21:08:20--  https://cs.stanford.edu/~minalee/zip/chi2022-coauthor-v1.0.zip\n",
            "Resolving cs.stanford.edu (cs.stanford.edu)... 171.64.64.64\n",
            "Connecting to cs.stanford.edu (cs.stanford.edu)|171.64.64.64|:443... connected.\n",
            "HTTP request sent, awaiting response... 200 OK\n",
            "Length: 49956179 (48M) [application/zip]\n",
            "Saving to: ‘chi2022-coauthor-v1.0.zip’\n",
            "\n",
            "chi2022-coauthor-v1 100%[===================>]  47.64M  49.6MB/s    in 1.0s    \n",
            "\n",
            "2025-02-25 21:08:21 (49.6 MB/s) - ‘chi2022-coauthor-v1.0.zip’ saved [49956179/49956179]\n",
            "\n"
          ]
        }
      ],
      "source": [
        "!wget https://cs.stanford.edu/~minalee/zip/chi2022-coauthor-v1.0.zip\n",
        "!unzip -q chi2022-coauthor-v1.0.zip\n",
        "!rm chi2022-coauthor-v1.0.zip"
      ]
    },
    {
      "cell_type": "code",
      "source": [
        "import os\n",
        "\n",
        "dataset_dir = './coauthor-v1.0'\n",
        "paths = [\n",
        "    os.path.join(dataset_dir, path)\n",
        "    for path in os.listdir(dataset_dir)\n",
        "    if path.endswith('jsonl')\n",
        "]\n",
        "\n",
        "print(f'Successfully downloaded {len(paths)} writing sessions in CoAuthor!')"
      ],
      "metadata": {
        "colab": {
          "base_uri": "https://localhost:8080/"
        },
        "id": "iVR7YkzF6U3u",
        "outputId": "12cd8cd1-6c5a-42bb-9973-cfaaf3c5a38a"
      },
      "execution_count": 2,
      "outputs": [
        {
          "output_type": "stream",
          "name": "stdout",
          "text": [
            "Successfully downloaded 1447 writing sessions in CoAuthor!\n"
          ]
        }
      ]
    },
    {
      "cell_type": "markdown",
      "source": [
        "## 2. Read writing sessions\n",
        "\n",
        "Each writing session is saved as a `.jsonl` file in CoAuthor.\n",
        "It is a very convenient format to store events occured in the writing session: each line is a JSON object, representing an *event*, and there are many lines in the file, representing *a sequence of events*.\n",
        "\n",
        "Let's read one of the files and see what it looks like!\n",
        "\n",
        "> `.jsonl` is the JSON Lines text format. It is convenient for storing structured data that may be processed one record at a time. For more information, please refer to https://jsonlines.org/."
      ],
      "metadata": {
        "id": "1CfOvo7F8-WL"
      }
    },
    {
      "cell_type": "code",
      "source": [
        "import json\n",
        "\n",
        "def read_writing_session(path):\n",
        "    events = []\n",
        "    with open(path, 'r') as f:\n",
        "        for event in f:\n",
        "            events.append(json.loads(event))\n",
        "    print(f'Successfully read {len(events)} events in a writing session from {path}')\n",
        "    return events"
      ],
      "metadata": {
        "id": "VGRDy9u07CHR"
      },
      "execution_count": 3,
      "outputs": []
    },
    {
      "cell_type": "code",
      "source": [
        "events = read_writing_session(paths[2])"
      ],
      "metadata": {
        "colab": {
          "base_uri": "https://localhost:8080/"
        },
        "id": "zzOzptPNC7oC",
        "outputId": "fda2aa77-8bb3-4f91-8609-667420b16620"
      },
      "execution_count": 4,
      "outputs": [
        {
          "output_type": "stream",
          "name": "stdout",
          "text": [
            "Successfully read 1657 events in a writing session from ./coauthor-v1.0/ba74a6b6e52d42318d8ab8ab67651632.jsonl\n"
          ]
        }
      ]
    },
    {
      "cell_type": "markdown",
      "source": [
        "## 3. Examine events"
      ],
      "metadata": {
        "id": "NkqfI0hEEa2c"
      }
    },
    {
      "cell_type": "markdown",
      "source": [
        "Whenever writers insert or delete text, move a cursor forward or backward, get suggestions from the system by pressing the tab key, or accept or dismiss suggestions, it is recorded as an event.\n",
        "\n",
        "> Here is a list of all possible events in CoAuthor:\n",
        "* `system-initialize`\n",
        "* `text-insert`\n",
        "* `text-delete`\n",
        "* `cursor-forward`\n",
        "* `cursor-backward`\n",
        "* `cursor-select`\n",
        "* `suggestion-get`\n",
        "* `suggestion-open`\n",
        "* `suggestion-up`\n",
        "* `suggestion-down`\n",
        "* `suggestion-select`\n",
        "* `suggestion-close`\n",
        "\n",
        "For more details, please check out our paper (Table 1): https://arxiv.org/pdf/2201.06796.pdf"
      ],
      "metadata": {
        "id": "oSEEy_bAGSD6"
      }
    },
    {
      "cell_type": "code",
      "source": [
        "event_names = [event['eventName'] for event in events]\n",
        "event_names[:15]"
      ],
      "metadata": {
        "colab": {
          "base_uri": "https://localhost:8080/"
        },
        "id": "Pb16mGhXDXCS",
        "outputId": "ac57a048-3f77-4bec-8647-81920e22dfbd"
      },
      "execution_count": 5,
      "outputs": [
        {
          "output_type": "execute_result",
          "data": {
            "text/plain": [
              "['system-initialize',\n",
              " 'cursor-backward',\n",
              " 'cursor-forward',\n",
              " 'text-insert',\n",
              " 'suggestion-get',\n",
              " 'suggestion-open',\n",
              " 'suggestion-hover',\n",
              " 'suggestion-hover',\n",
              " 'suggestion-hover',\n",
              " 'suggestion-select',\n",
              " 'suggestion-close',\n",
              " 'text-insert',\n",
              " 'text-insert',\n",
              " 'text-insert',\n",
              " 'text-insert']"
            ]
          },
          "metadata": {},
          "execution_count": 5
        }
      ]
    },
    {
      "cell_type": "markdown",
      "source": [
        "Let's look at each *event* more closely now!\n",
        "\n",
        "In the beginning of a writing session, you will see something like this for a system-initialize event:"
      ],
      "metadata": {
        "id": "Gno1mjQiEvbG"
      }
    },
    {
      "cell_type": "code",
      "source": [
        "events[106]"
      ],
      "metadata": {
        "colab": {
          "base_uri": "https://localhost:8080/"
        },
        "id": "DLxZJr4S7CJ9",
        "outputId": "798d272a-b9cd-4ef2-b7d4-9a1cbb8bfc9e"
      },
      "execution_count": 6,
      "outputs": [
        {
          "output_type": "execute_result",
          "data": {
            "text/plain": [
              "{'eventName': 'text-insert',\n",
              " 'eventSource': 'user',\n",
              " 'eventTimestamp': 1630054490150,\n",
              " 'textDelta': {'ops': [{'retain': 499}, {'insert': 't'}]},\n",
              " 'cursorRange': '',\n",
              " 'currentDoc': '',\n",
              " 'currentCursor': 500,\n",
              " 'currentSuggestions': [],\n",
              " 'currentSuggestionIndex': 2,\n",
              " 'currentHoverIndex': 2,\n",
              " 'currentN': '5',\n",
              " 'currentMaxToken': '30',\n",
              " 'currentTemperature': '0.9',\n",
              " 'currentTopP': '1',\n",
              " 'currentPresencePenalty': '0',\n",
              " 'currentFrequencyPenalty': '0.5',\n",
              " 'eventNum': 106}"
            ]
          },
          "metadata": {},
          "execution_count": 6
        }
      ]
    },
    {
      "cell_type": "markdown",
      "source": [
        "Concretely, an *event* is a tuple of event name, timestamp, and snapshot of the current editor.\n",
        "This is designed to preserve every detail about interactions at a keystroke-level, so it is quite detailed as you can see!\n",
        "\n",
        "> **Event and its metadata**\n",
        "* `eventName`: event name (e.g. `system-initialize`)\n",
        "* `eventSource`: event source (e.g. `user` or `api`)\n",
        "* `textDelta`: text that has been changed compared to the previous event (if no change, empty)\n",
        "* `cursorRange`: cursor location or selection that has been changed compared to the previous event (if no change, empty)\n",
        "\n",
        "> **Timestamp**\n",
        "* `eventTimestamp`: timestamp of the event\n",
        "* `eventNum`: index of the event\n",
        "\n",
        "> **Snapshot of the current editor**\n",
        "* Editor\n",
        "  * `currentDoc`: a writing prompt to start with (otherwise, empty)\n",
        "  * `currentCursor`: cursor location\n",
        "  * `currentSuggestions`: most recent suggestions that are stored and can be reopened\n",
        "* Decoding parameters\n",
        "  * `currentN`: the number of suggestions to generate per query (e.g. 5)\n",
        "  * `currentMaxToken`: the maximum number of tokens to generate per suggestion\n",
        "  * `currentTemperature`: sampling temperature to use for generation; higher values means the model will take more risks\n",
        "  * `currentTopP`: nucleus sampling; the model considers the results of the tokens with top_p probability mass\n",
        "  * `currentPresencePenalty`: positive values penalize new tokens based on whether they appear in the text so far, increasing the model's likelihood to talk about new topics\n",
        "  * `currentFrequencyPenalty`: positive values penalize new tokens based on their existing frequency in the text so far, decreasing the model's likelihood to repeat the same line verbatim\n",
        "\n",
        "\n",
        "For more details on decoding parameters, please refer to https://beta.openai.com/docs/api-reference/completions."
      ],
      "metadata": {
        "id": "OOHs8_akEl9t"
      }
    },
    {
      "cell_type": "markdown",
      "source": [
        "###Helper Functions"
      ],
      "metadata": {
        "id": "zck0WiV9HRhk"
      }
    },
    {
      "cell_type": "markdown",
      "source": [
        "Reconstruct the current document."
      ],
      "metadata": {
        "id": "8WFLFWfRoozw"
      }
    },
    {
      "cell_type": "code",
      "source": [
        "def reconstruct_current_doc(events):\n",
        "    current_doc = events[0]['currentDoc']  # Initialize with the prompt\n",
        "    i = 1\n",
        "\n",
        "    for event in events[1:]:  # Skip the first event (system-initialize)\n",
        "        if event['eventName'] == 'text-insert' or event['eventName'] == 'text-delete':\n",
        "            cursor_position = event['textDelta'].get('ops')[0].get('retain', '')\n",
        "\n",
        "            if any('delete' in d for d in event['textDelta'].get('ops')):\n",
        "                nums = [d.get('delete') for d in event['textDelta'].get('ops') if 'delete' in d]\n",
        "                num_to_delete = 0\n",
        "                for i in nums:\n",
        "                    num_to_delete = num_to_delete + i\n",
        "                current_doc = current_doc[:cursor_position] + current_doc[cursor_position+num_to_delete:] # Delete the text from the document\n",
        "\n",
        "            if any('insert' in d for d in event['textDelta'].get('ops')):\n",
        "                text_to_insert = [d.get('insert') for d in event['textDelta'].get('ops') if 'insert' in d][0] # Extract the text to insert from textDelta\n",
        "                retain_lst = [d.get('retain') for d in event['textDelta'].get('ops') if 'retain' in d]\n",
        "                if len(retain_lst) > 1:\n",
        "                    position_adj = 1\n",
        "                else:\n",
        "                    position_adj = 0\n",
        "                current_doc = current_doc[:cursor_position+position_adj] + text_to_insert + current_doc[cursor_position+position_adj:] # Insert the text at the cursor position\n",
        "    return current_doc"
      ],
      "metadata": {
        "id": "OztaYPdyHX9z"
      },
      "execution_count": 7,
      "outputs": []
    },
    {
      "cell_type": "code",
      "source": [
        "# Reconstruct the currentDoc\n",
        "current_doc = reconstruct_current_doc(events)\n",
        "\n",
        "# Print the final document\n",
        "print(\"Final Document:\")\n",
        "print(current_doc)"
      ],
      "metadata": {
        "colab": {
          "base_uri": "https://localhost:8080/"
        },
        "id": "jKSdI2F8Hm44",
        "outputId": "210b23d2-c2cf-49e5-ff8a-34390b4a9203"
      },
      "execution_count": 8,
      "outputs": [
        {
          "output_type": "stream",
          "name": "stdout",
          "text": [
            "Final Document:\n",
            "What Are the Most Important Things Students Should Learn in School?\n",
            "\n",
            "In your opinion, what are the most important things students should learn in school? What is the most important thing you have learned in school? How has this knowledge affected your life? How do you think it will help your success in the future?\n",
            "\n",
            "---\n",
            "\n",
            "In my opinion, the most important things students should learn in school are how to get along with others, and how to be successful on the job. Few people go on to pursue a job that requires a highly specific degree. Most people just finish high school and get a job. Because of that they really need to learn social skills first. School forces you to be around people you may not like. You are put into classes with people you may not know. The more you learn how to get along with others the better off you will be. That skill comes in handy when it's time to work. You again will be surrounded by people you may not like and you'll need social skills to navigate the situation. \n",
            "\n",
            "Second there's the job market. School will show you what things you are interested in and good at. You may learn that you are good at math so you feel comfortable getting an office job where you do paperwork. On the other hand you may learn that you are better at working with people and serving them or being directly around them, such as in a doctor's office. These things you learn in school show you what you'll be good at.\n",
            "\n",
            "Obviously students need to learn the basic skills to get through life like learning English and basic math skills. From there though it really comes down to just finding out your social skills and the things you enjoy doing. School helps you with those things, it really opens your eyes to many choices so that you can choose the career that fits you and the one you will want to stick with. Since most of us will not get a college degree it is important to realistically view school for what it is. It's a chance to just learn about ourselves and use that to guide us through our work life as an adult.\n",
            "\n"
          ]
        }
      ]
    },
    {
      "cell_type": "markdown",
      "source": [
        "Extract the last three sentences from the document."
      ],
      "metadata": {
        "id": "OT3aKCCPotrw"
      }
    },
    {
      "cell_type": "code",
      "source": [
        "import re\n",
        "\n",
        "def get_last_sentences(paragraph):\n",
        "    \"\"\"\n",
        "    Extracts the last sentence from a paragraph.\n",
        "\n",
        "    Args:\n",
        "        paragraph: The input paragraph as a string.\n",
        "\n",
        "    Returns:\n",
        "        The last sentence of the paragraph, or None if no sentence is found.\n",
        "    \"\"\"\n",
        "    if not paragraph:\n",
        "        return None\n",
        "\n",
        "    sentences = re.split(r'(?<!\\w\\.\\w)(?<![A-Z][a-z]\\.)(?<=\\.|\\?|!)\\s', paragraph)\n",
        "\n",
        "    sentences = [s.strip() for s in sentences if s.strip()]\n",
        "    last_three = sentences[-3:]\n",
        "    return \" \".join(last_three)\n",
        "\n",
        "# Example usage\n",
        "text = \"This is the first sentence. Here is the second sentence.\\n\\nAnd this is the last sentence! But what about this one?\"\n",
        "last_sentence = get_last_sentences(text)\n",
        "print(last_sentence)\n",
        "\n",
        "text_2 = \"This is a paragraph without multiple sentences.\"\n",
        "last_sentence_2 = get_last_sentences(text_2)\n",
        "print(last_sentence_2)\n",
        "\n",
        "text_3 = \"\"\n",
        "last_sentence_3 = get_last_sentences(text_3)\n",
        "print(last_sentence_3)"
      ],
      "metadata": {
        "colab": {
          "base_uri": "https://localhost:8080/"
        },
        "id": "fJDgHQ5Q2XLy",
        "outputId": "0e4adcd8-dfd4-4e21-9f60-6c57ed7a627c"
      },
      "execution_count": 9,
      "outputs": [
        {
          "output_type": "stream",
          "name": "stdout",
          "text": [
            "Here is the second sentence. And this is the last sentence! But what about this one?\n",
            "This is a paragraph without multiple sentences.\n",
            "None\n"
          ]
        }
      ]
    },
    {
      "cell_type": "markdown",
      "source": [
        "###Compute Coherence Score\n",
        "\n",
        "Use a pre-trained language model like BERT to generate embeddings for the AI suggestion and the context."
      ],
      "metadata": {
        "id": "hmlrjlU5wmd9"
      }
    },
    {
      "cell_type": "code",
      "source": [
        "from sentence_transformers import SentenceTransformer, util\n",
        "\n",
        "def compute_coherence(suggestion, context):\n",
        "    model = SentenceTransformer('all-MiniLM-L6-v2')\n",
        "\n",
        "    embeddings = model.encode([suggestion, context])\n",
        "\n",
        "    similarity = util.cos_sim(embeddings[0], embeddings[1])[0][0]\n",
        "\n",
        "    return similarity"
      ],
      "metadata": {
        "id": "oksvPGdUkqg4"
      },
      "execution_count": 10,
      "outputs": []
    },
    {
      "cell_type": "code",
      "source": [
        "coherence_scores = []\n",
        "for session_path in paths[:10]:\n",
        "    events = read_writing_session(session_path)\n",
        "    event_num = 0\n",
        "\n",
        "    for event in events:\n",
        "        if event['eventName'] == 'suggestion-open':\n",
        "            if event['currentSuggestions']:  # Ensure there is at least one suggestion\n",
        "                suggestion = event['currentSuggestions'][0].get('original')  # Use the first suggestion\n",
        "                context = get_last_sentences(reconstruct_current_doc(events[:event_num]))  # Use the current document as context\n",
        "\n",
        "                for suggestion in event['currentSuggestions']:\n",
        "                    # suggestion = suggestion.get('original')\n",
        "                    coherence_score = compute_coherence(suggestion, context)\n",
        "                    coherence_dict = {\"suggestion\": suggestion, \"context\": context, \"score\": coherence_score}\n",
        "                    coherence_scores.append(coherence_dict)\n",
        "                    # print(suggestion)\n",
        "                    # print(context)\n",
        "                    # print(coherence_score)\n",
        "                    # print(\"-----------------------------------------------------\")\n",
        "            else:\n",
        "                print(f\"Skipping event with empty suggestions: {event}\")\n",
        "        event_num = event_num + 1"
      ],
      "metadata": {
        "colab": {
          "base_uri": "https://localhost:8080/"
        },
        "id": "uvfnf_nzw4Yl",
        "outputId": "1b93a3f8-8ae0-43ad-d1b5-ffd4e3d45f3c"
      },
      "execution_count": null,
      "outputs": [
        {
          "output_type": "stream",
          "name": "stdout",
          "text": [
            "Successfully read 2301 events in a writing session from ./coauthor-v1.0/87b45d27c2424504a98f49a29509480f.jsonl\n"
          ]
        },
        {
          "output_type": "stream",
          "name": "stderr",
          "text": [
            "/usr/local/lib/python3.11/dist-packages/huggingface_hub/utils/_auth.py:94: UserWarning: \n",
            "The secret `HF_TOKEN` does not exist in your Colab secrets.\n",
            "To authenticate with the Hugging Face Hub, create a token in your settings tab (https://huggingface.co/settings/tokens), set it as secret in your Google Colab and restart your session.\n",
            "You will be able to reuse this secret in all of your notebooks.\n",
            "Please note that authentication is recommended but still optional to access public models or datasets.\n",
            "  warnings.warn(\n"
          ]
        }
      ]
    },
    {
      "cell_type": "markdown",
      "source": [
        "Calculate the average coherence score."
      ],
      "metadata": {
        "id": "6tSmUpGko4Jp"
      }
    },
    {
      "cell_type": "code",
      "source": [
        "sum = 0\n",
        "for d in coherence_scores:\n",
        "    sum += d['score']\n",
        "average_coherence = sum / len(coherence_scores)\n",
        "\n",
        "print([d['score'] for d in coherence_scores])\n",
        "# print(coherence_scores)\n",
        "print(f\"Average coherence score: {average_coherence}\")"
      ],
      "metadata": {
        "id": "l5VuULktxbPF"
      },
      "execution_count": null,
      "outputs": []
    },
    {
      "cell_type": "code",
      "source": [
        "# Example usage\n",
        "suggestion = \"A dog stood on the table\"\n",
        "context = \"The cat sat on the mat\"\n",
        "coherence_score = compute_coherence(suggestion, context)\n",
        "print(f\"Coherence score: {coherence_score}\")"
      ],
      "metadata": {
        "id": "fHmYvxZfjzUi"
      },
      "execution_count": null,
      "outputs": []
    },
    {
      "cell_type": "markdown",
      "source": [
        "###Coherence Score take 2"
      ],
      "metadata": {
        "id": "ZiTqFOcq9R0I"
      }
    },
    {
      "cell_type": "code",
      "source": [
        "!pip install bert-score\n",
        "!pip install \"git+https://github.com/AIPHES/DiscoScore.git\"\n",
        "\n",
        "from bert_score import score as bert_score\n",
        "from disco_score import DiscoScorer"
      ],
      "metadata": {
        "id": "JeBpcTjV9U6q"
      },
      "execution_count": null,
      "outputs": []
    },
    {
      "cell_type": "code",
      "source": [
        "import nltk\n",
        "nltk.download('punkt_tab')\n",
        "\n",
        "def compute_bertscore(suggestion, context):\n",
        "    \"\"\"\n",
        "    Compute BERTScore between a suggestion text and a context text.\n",
        "    \"\"\"\n",
        "    P, R, F1 = bert_score([suggestion], [context], lang=\"en\")\n",
        "    return F1.item()  # Return the F1 score (harmonic mean of precision and recall)\n",
        "\n",
        "def compute_discoscore(suggestion, context):\n",
        "    \"\"\"\n",
        "    Compute DiscoScore for a given text.\n",
        "    \"\"\"\n",
        "    scorer = DiscoScorer()\n",
        "    return scorer.DS_Focus_NN(suggestion, context)"
      ],
      "metadata": {
        "id": "ijFpTYiYHr56"
      },
      "execution_count": null,
      "outputs": []
    },
    {
      "cell_type": "code",
      "source": [
        "coherence_scores = []\n",
        "for session_path in paths[:10]:  # Process the first 10 sessions\n",
        "    events = read_writing_session(session_path)\n",
        "    event_num = 0\n",
        "    for event in events:\n",
        "        if event['eventName'] == 'suggestion-open':\n",
        "            # Check if currentSuggestions is not empty\n",
        "            if event['currentSuggestions']:  # Ensure there is at least one suggestion\n",
        "                context = get_last_sentences(reconstruct_current_doc(events[:event_num]))  # Use the current document as context\n",
        "                # Iterate through all suggestions\n",
        "                for suggestion in event['currentSuggestions']:\n",
        "                    suggestion_text = suggestion.get('original')  # Extract the suggestion text\n",
        "\n",
        "                    # Compute BERTScore\n",
        "                    bertscore = compute_bertscore(suggestion_text, context)\n",
        "\n",
        "                    # Compute DiscoScore\n",
        "                    # combined_text = context + \" \" + suggestion_text  # Combine context and suggestion for DiscoScore\n",
        "                    discoscore = compute_discoscore(suggestion_text, context)\n",
        "\n",
        "                    # Store results\n",
        "                    coherence_dict = {\n",
        "                        \"suggestion\": suggestion_text,\n",
        "                        \"context\": context,\n",
        "                        \"bertscore\": bertscore,\n",
        "                        \"discoscore\": discoscore\n",
        "                    }\n",
        "                    coherence_scores.append(coherence_dict)\n",
        "\n",
        "                    # Print results\n",
        "                    print(\"Suggestion:\", suggestion_text)\n",
        "                    print(\"Context:\", context)\n",
        "                    print(\"BERTScore:\", bertscore)\n",
        "                    print(\"DiscoScore:\", discoscore)\n",
        "                    print(\"-----------------------------------------------------\")\n",
        "            else:\n",
        "                print(f\"Skipping event with empty suggestions: {event}\")\n",
        "        event_num = event_num + 1"
      ],
      "metadata": {
        "id": "yOUP-PSzH4Oc"
      },
      "execution_count": null,
      "outputs": []
    },
    {
      "cell_type": "markdown",
      "source": [
        "###DEBUGGING"
      ],
      "metadata": {
        "id": "r_5pnU7Sx_2d"
      }
    },
    {
      "cell_type": "code",
      "source": [
        "suggestion_get_count = 0\n",
        "for session_path in paths:\n",
        "    events = read_writing_session(session_path)\n",
        "    for event in events:\n",
        "        if event['eventName'] == 'suggestion-get':\n",
        "            suggestion_get_count += 1\n",
        "print(f\"Total 'suggestion-get' events: {suggestion_get_count}\")"
      ],
      "metadata": {
        "id": "zxhCDMLIx5gO"
      },
      "execution_count": null,
      "outputs": []
    },
    {
      "cell_type": "code",
      "source": [
        "valid_suggestions_count = 0\n",
        "for session_path in paths:\n",
        "    events = read_writing_session(session_path)\n",
        "    for event in events:\n",
        "        if event['eventName'] == 'suggestion-get':\n",
        "            if event['currentSuggestions']:\n",
        "                valid_suggestions_count += 1\n",
        "print(f\"Total valid suggestions: {valid_suggestions_count}\")"
      ],
      "metadata": {
        "id": "rz2_cSoFyQ3z"
      },
      "execution_count": null,
      "outputs": []
    },
    {
      "cell_type": "code",
      "source": [
        "for session_path in paths[:1]:  # Inspect only the first session for brevity\n",
        "    events = read_writing_session(session_path)\n",
        "    for event in events[:10]:  # Inspect only the first 10 events\n",
        "        if event['eventName'] == 'suggestion-get':\n",
        "            print(event)"
      ],
      "metadata": {
        "id": "53zcYjTwyiWe"
      },
      "execution_count": null,
      "outputs": []
    },
    {
      "cell_type": "code",
      "source": [
        "for session_path in paths[:1]:  # Inspect only the first session for brevity\n",
        "    events = read_writing_session(session_path)\n",
        "    for event in events[:10]:  # Inspect only the first 10 events\n",
        "        if event['eventName'] == 'suggestion-get':\n",
        "            print(\"Decoding Parameters:\")\n",
        "            print(f\"currentMaxToken: {event['currentMaxToken']}\")\n",
        "            print(f\"currentTemperature: {event['currentTemperature']}\")\n",
        "            print(f\"currentTopP: {event['currentTopP']}\")\n",
        "            print(f\"currentPresencePenalty: {event['currentPresencePenalty']}\")\n",
        "            print(f\"currentFrequencyPenalty: {event['currentFrequencyPenalty']}\")\n",
        "            print(\"Context (currentDoc):\")\n",
        "            print(event['currentDoc'])\n",
        "            print(\"-\" * 50)"
      ],
      "metadata": {
        "id": "oiNS2ddq8kE2"
      },
      "execution_count": null,
      "outputs": []
    },
    {
      "cell_type": "code",
      "source": [
        "coherence_scores = []\n",
        "for session_path in paths:\n",
        "    events = read_writing_session(session_path)\n",
        "    for event in events:\n",
        "        if event['eventName'] == 'suggestion-get':\n",
        "            # Skip events with empty or very short context\n",
        "            if event['currentDoc'] and len(event['currentDoc'].split()) > 5:  # At least 5 words\n",
        "                if event['currentSuggestions']:\n",
        "                    suggestion = event['currentSuggestions'][0]\n",
        "                    context = event['currentDoc']\n",
        "                    coherence_score = compute_coherence(suggestion, context)\n",
        "                    coherence_scores.append(coherence_score)\n",
        "                else:\n",
        "                    print(f\"Skipping event with empty suggestions: {event}\")\n",
        "            else:\n",
        "                print(f\"Skipping event with empty or short context: {event}\")"
      ],
      "metadata": {
        "id": "Ck2QTk_Q8s9q"
      },
      "execution_count": null,
      "outputs": []
    }
  ]
}